{
  "cells": [
    {
      "cell_type": "markdown",
      "metadata": {
        "id": "eork02bh4hrR"
      },
      "source": [
        "# Setup Environment in Google Colab\n",
        "Configure Google Colab environment, check for GPU availability, and mount Google Drive for storage."
      ]
    },
    {
      "cell_type": "code",
      "execution_count": null,
      "metadata": {
        "id": "64Jsd5Iq4hrT"
      },
      "outputs": [],
      "source": [
        "# Check if GPU is available\n",
        "import torch\n",
        "if torch.cuda.is_available():\n",
        "    device = torch.device('cuda')\n",
        "    print('GPU is available')\n",
        "else:\n",
        "    device = torch.device('cpu')\n",
        "    print('GPU is not available, using CPU')\n",
        "\n",
        "# Mount Google Drive\n",
        "from google.colab import drive\n",
        "drive.mount('/content/drive')\n",
        "\n",
        "# Change directory to the project folder in Google Drive\n",
        "import os\n",
        "project_path = '/content/drive/MyDrive/YOLOv8-Clothing-Classification'\n",
        "if not os.path.exists(project_path):\n",
        "    os.makedirs(project_path)\n",
        "os.chdir(project_path)\n",
        "print(f'Changed working directory to {project_path}')"
      ]
    },
    {
      "cell_type": "markdown",
      "metadata": {
        "id": "PlG_tmrp4hrU"
      },
      "source": [
        "# Install YOLOv8\n",
        "Install the Ultralytics YOLOv8 package and other required dependencies."
      ]
    },
    {
      "cell_type": "code",
      "execution_count": null,
      "metadata": {
        "colab": {
          "base_uri": "https://localhost:8080/"
        },
        "id": "E0fcEoLa4hrU",
        "outputId": "f5d1e698-cb25-41d3-88ed-56b8152f6d26"
      },
      "outputs": [],
      "source": [
        "# Install YOLOv8\n",
        "!pip install ultralytics\n",
        "\n",
        "# Verify the installation\n",
        "!yolo checks"
      ]
    },
    {
      "cell_type": "markdown",
      "metadata": {
        "id": "UCHJkunG4hrU"
      },
      "source": [
        "# Prepare Clothing Dataset\n",
        "Download deepFashion 2 dataset\n"
      ]
    },
    {
      "cell_type": "code",
      "execution_count": null,
      "metadata": {
        "id": "ZdoJDIKe4hrU"
      },
      "outputs": [],
      "source": [
        "# Download and prepare the iMaterialist Fashion 2019 dataset for classification and segmentation\n",
        "import gdown\n",
        "import zipfile\n",
        "\n",
        "# Download the dataset from Google Drive\n",
        "%pip install gdown -q\n",
        "\n",
        "# Define dataset directory\n",
        "data_dir = os.path.join(project_path, 'data')\n",
        "\n",
        "# Create data directory if it doesn't exist\n",
        "if not os.path.exists(data_dir):\n",
        "    os.makedirs(data_dir)\n",
        "    print(f\"Created directory: {data_dir}\")\n",
        "\n",
        "# Download the dataset from Google Drive\n",
        "url = \"http://drive.google.com/drive/folders/125F48fsMBz2EF0Cpqk6aaHet5VH399Ok\"\n",
        "output = os.path.join(data_dir, 'clothing_dataset.zip')\n",
        "\n",
        "print(\"Downloading dataset from Google Drive...\")\n",
        "try:\n",
        "    # Use gdown to download the folder\n",
        "    gdown.download_folder(url, output=data_dir, quiet=False)\n",
        "    print(\"Download completed successfully!\")\n",
        "except Exception as e:\n",
        "    print(f\"Error downloading or extracting dataset: {e}\")\n",
        "\n",
        "# Verify the download\n",
        "print(\"\\nContents of data directory:\")\n",
        "!ls -la {data_dir}"
      ]
    },
    {
      "cell_type": "markdown",
      "metadata": {
        "id": "dpR6rTQA7HGL"
      },
      "source": [
        "Turn deepfasion2 data to yolo format\n",
        "convert_deepfashion2_to_yolo(input_dir,images_dir, output_dir)"
      ]
    },
    {
      "cell_type": "code",
      "execution_count": null,
      "metadata": {},
      "outputs": [
        {
          "name": "stdout",
          "output_type": "stream",
          "text": [
            "Conversion completed. YOLO format annotations saved to datasets/yolo/train/labels\n",
            "Conversion completed. YOLO format annotations saved to datasets/yolo/val/labels\n"
          ]
        }
      ],
      "source": [
        "#for testing purpose\n",
        "!python deepfashion2_to_yolo.py datasets/coco/train_subset/annos datasets/coco/train_subset/images datasets/yolo/train/labels\n",
        "!python deepfashion2_to_yolo.py datasets/coco/val_subset/annos datasets/coco/val_subset/images datasets/yolo/val/labels"
      ]
    },
    {
      "cell_type": "code",
      "execution_count": 13,
      "metadata": {
        "colab": {
          "base_uri": "https://localhost:8080/"
        },
        "id": "ZCdYn0X6-WDT",
        "outputId": "0c43edeb-d869-4c48-fb70-1fb1b0accfdb"
      },
      "outputs": [
        {
          "name": "stdout",
          "output_type": "stream",
          "text": [
            "Copied the first 10,000 images from train/train/image to datasets/train_subset/images.\n"
          ]
        }
      ],
      "source": [
        "%%bash\n",
        "\n",
        "# Define source and destination directories\n",
        "source_dir=\"train/train/image\"\n",
        "destination_dir=\"datasets/train_subset/images\"\n",
        "\n",
        "# Create the destination directory if it doesn't exist\n",
        "mkdir -p \"$destination_dir\"\n",
        "\n",
        "# Find the first 10,000 images and copy them to the destination directory\n",
        "find \"$source_dir\" -type f -name \"*.jpg\"| sort | head -n 10000 | xargs -I {} cp {} \"$destination_dir\"\n",
        "\n",
        "echo \"Copied the first 10,000 images from $source_dir to $destination_dir.\""
      ]
    },
    {
      "cell_type": "code",
      "execution_count": 14,
      "metadata": {},
      "outputs": [
        {
          "name": "stdout",
          "output_type": "stream",
          "text": [
            "Copied the first 10,000 annos from train/train/annos to datasets/train_subset/annos.\n"
          ]
        }
      ],
      "source": [
        "%%bash\n",
        "\n",
        "# Define source and destination directories\n",
        "source_dir=\"train/train/annos\"\n",
        "destination_dir=\"datasets/train_subset/annos\"\n",
        "\n",
        "# Create the destination directory if it doesn't exist\n",
        "mkdir -p \"$destination_dir\"\n",
        "\n",
        "# Find the first 10,000 images and copy them to the destination directory\n",
        "find \"$source_dir\" -type f -name \"*.json\"| sort | head -n 10000 | xargs -I {} cp {} \"$destination_dir\"\n",
        "\n",
        "echo \"Copied the first 10,000 annos from $source_dir to $destination_dir.\""
      ]
    },
    {
      "cell_type": "code",
      "execution_count": 15,
      "metadata": {},
      "outputs": [
        {
          "name": "stdout",
          "output_type": "stream",
          "text": [
            "Copied the first 10,000 images from validation/validation/image to datasets/val_subset/images.\n"
          ]
        }
      ],
      "source": [
        "%%bash\n",
        "\n",
        "# Define source and destination directories\n",
        "source_dir=\"validation/validation/image\"\n",
        "destination_dir=\"datasets/val_subset/images\"\n",
        "\n",
        "# Create the destination directory if it doesn't exist\n",
        "mkdir -p \"$destination_dir\"\n",
        "\n",
        "# Find the first 10,000 images and copy them to the destination directory\n",
        "find \"$source_dir\" -type f -name \"*.jpg\"| sort | head -n 10000 | xargs -I {} cp {} \"$destination_dir\"\n",
        "\n",
        "echo \"Copied the first 10,000 images from $source_dir to $destination_dir.\""
      ]
    },
    {
      "cell_type": "code",
      "execution_count": 16,
      "metadata": {},
      "outputs": [
        {
          "name": "stdout",
          "output_type": "stream",
          "text": [
            "Copied the first 10,000 annos from validation/validation/annos to datasets/val_subset/annos.\n"
          ]
        }
      ],
      "source": [
        "%%bash\n",
        "\n",
        "# Define source and destination directories\n",
        "source_dir=\"validation/validation/annos\"\n",
        "destination_dir=\"datasets/val_subset/annos\"\n",
        "\n",
        "# Create the destination directory if it doesn't exist\n",
        "mkdir -p \"$destination_dir\"\n",
        "\n",
        "# Find the first 10,000 images and copy them to the destination directory\n",
        "find \"$source_dir\" -type f -name \"*.json\"| sort | head -n 10000 | xargs -I {} cp {} \"$destination_dir\"\n",
        "\n",
        "echo \"Copied the first 10,000 annos from $source_dir to $destination_dir.\""
      ]
    },
    {
      "cell_type": "code",
      "execution_count": 19,
      "metadata": {},
      "outputs": [
        {
          "name": "stdout",
          "output_type": "stream",
          "text": [
            "Conversion completed. YOLO format annotations saved to datasets/train_subset/labels\n",
            "Conversion completed. YOLO format annotations saved to datasets/val_subset/labels\n"
          ]
        }
      ],
      "source": [
        "#convert the subset to yolo format\n",
        "!python deepfashion2_to_yolo.py datasets/train_subset/annos datasets/train_subset/images datasets/train_subset/labels\n",
        "!python deepfashion2_to_yolo.py datasets/val_subset/annos datasets/val_subset/images datasets/val_subset/labels"
      ]
    },
    {
      "cell_type": "markdown",
      "metadata": {
        "id": "O01oJTrQ4hrW"
      },
      "source": [
        "# Train the Segmentation Model\n",
        "Train YOLOv8 segmentation model to identify clothing items and create masks for background removal."
      ]
    },
    {
      "cell_type": "code",
      "execution_count": 20,
      "metadata": {
        "colab": {
          "base_uri": "https://localhost:8080/",
          "height": 1000
        },
        "id": "A6uSWrkM4hrW",
        "outputId": "68ae2f84-61a9-4db9-e06c-6c5bb45f8349"
      },
      "outputs": [
        {
          "name": "stdout",
          "output_type": "stream",
          "text": [
            "GPU is not available, using CPU\n",
            "New https://pypi.org/project/ultralytics/8.3.105 available  Update with 'pip install -U ultralytics'\n",
            "Ultralytics 8.3.101  Python-3.11.1 torch-2.6.0+cpu CPU (13th Gen Intel Core(TM) i5-13600K)\n",
            "\u001b[34m\u001b[1mengine\\trainer: \u001b[0mtask=segment, mode=train, model=yolov8n-seg.pt, data=yoloCOCO.yaml, epochs=50, time=None, patience=100, batch=16, imgsz=640, save=True, save_period=-1, cache=False, device=None, workers=8, project=None, name=train2, exist_ok=False, pretrained=True, optimizer=auto, verbose=True, seed=0, deterministic=True, single_cls=False, rect=False, cos_lr=False, close_mosaic=10, resume=False, amp=True, fraction=1.0, profile=False, freeze=None, multi_scale=False, overlap_mask=True, mask_ratio=4, dropout=0.0, val=True, split=val, save_json=False, save_hybrid=False, conf=None, iou=0.7, max_det=300, half=False, dnn=False, plots=True, source=None, vid_stride=1, stream_buffer=False, visualize=False, augment=False, agnostic_nms=False, classes=None, retina_masks=False, embed=None, show=False, save_frames=False, save_txt=False, save_conf=False, save_crop=False, show_labels=True, show_conf=True, show_boxes=True, line_width=None, format=torchscript, keras=False, optimize=False, int8=False, dynamic=False, simplify=True, opset=None, workspace=None, nms=False, lr0=0.01, lrf=0.01, momentum=0.937, weight_decay=0.0005, warmup_epochs=3.0, warmup_momentum=0.8, warmup_bias_lr=0.1, box=7.5, cls=0.5, dfl=1.5, pose=12.0, kobj=1.0, nbs=64, hsv_h=0.015, hsv_s=0.7, hsv_v=0.4, degrees=0.0, translate=0.1, scale=0.5, shear=0.0, perspective=0.0, flipud=0.0, fliplr=0.5, bgr=0.0, mosaic=1.0, mixup=0.0, copy_paste=0.0, copy_paste_mode=flip, auto_augment=randaugment, erasing=0.4, crop_fraction=1.0, cfg=None, tracker=botsort.yaml, save_dir=runs\\segment\\train2\n",
            "Overriding model.yaml nc=80 with nc=13\n",
            "\n",
            "                   from  n    params  module                                       arguments                     \n",
            "  0                  -1  1       464  ultralytics.nn.modules.conv.Conv             [3, 16, 3, 2]                 \n",
            "  1                  -1  1      4672  ultralytics.nn.modules.conv.Conv             [16, 32, 3, 2]                \n",
            "  2                  -1  1      7360  ultralytics.nn.modules.block.C2f             [32, 32, 1, True]             \n",
            "  3                  -1  1     18560  ultralytics.nn.modules.conv.Conv             [32, 64, 3, 2]                \n",
            "  4                  -1  2     49664  ultralytics.nn.modules.block.C2f             [64, 64, 2, True]             \n",
            "  5                  -1  1     73984  ultralytics.nn.modules.conv.Conv             [64, 128, 3, 2]               \n",
            "  6                  -1  2    197632  ultralytics.nn.modules.block.C2f             [128, 128, 2, True]           \n",
            "  7                  -1  1    295424  ultralytics.nn.modules.conv.Conv             [128, 256, 3, 2]              \n",
            "  8                  -1  1    460288  ultralytics.nn.modules.block.C2f             [256, 256, 1, True]           \n",
            "  9                  -1  1    164608  ultralytics.nn.modules.block.SPPF            [256, 256, 5]                 \n",
            " 10                  -1  1         0  torch.nn.modules.upsampling.Upsample         [None, 2, 'nearest']          \n",
            " 11             [-1, 6]  1         0  ultralytics.nn.modules.conv.Concat           [1]                           \n",
            " 12                  -1  1    148224  ultralytics.nn.modules.block.C2f             [384, 128, 1]                 \n",
            " 13                  -1  1         0  torch.nn.modules.upsampling.Upsample         [None, 2, 'nearest']          \n",
            " 14             [-1, 4]  1         0  ultralytics.nn.modules.conv.Concat           [1]                           \n",
            " 15                  -1  1     37248  ultralytics.nn.modules.block.C2f             [192, 64, 1]                  \n",
            " 16                  -1  1     36992  ultralytics.nn.modules.conv.Conv             [64, 64, 3, 2]                \n",
            " 17            [-1, 12]  1         0  ultralytics.nn.modules.conv.Concat           [1]                           \n",
            " 18                  -1  1    123648  ultralytics.nn.modules.block.C2f             [192, 128, 1]                 \n",
            " 19                  -1  1    147712  ultralytics.nn.modules.conv.Conv             [128, 128, 3, 2]              \n",
            " 20             [-1, 9]  1         0  ultralytics.nn.modules.conv.Concat           [1]                           \n",
            " 21                  -1  1    493056  ultralytics.nn.modules.block.C2f             [384, 256, 1]                 \n",
            " 22        [15, 18, 21]  1   1006615  ultralytics.nn.modules.head.Segment          [13, 32, 64, [64, 128, 256]]  \n",
            "YOLOv8n-seg summary: 151 layers, 3,266,151 parameters, 3,266,135 gradients, 12.1 GFLOPs\n",
            "\n",
            "Transferred 381/417 items from pretrained weights\n",
            "Freezing layer 'model.22.dfl.conv.weight'\n"
          ]
        },
        {
          "name": "stderr",
          "output_type": "stream",
          "text": [
            "\u001b[34m\u001b[1mtrain: \u001b[0mScanning C:\\Users\\Ben Wu\\Desktop\\Yolo Training\\datasets\\train_subset\\labels... 10000 images, 0 backgrounds, 56 corrupt: 100%|██████████| 10000/10000 [00:03<00:00, 3096.55it/s]"
          ]
        },
        {
          "name": "stdout",
          "output_type": "stream",
          "text": [
            "\u001b[34m\u001b[1mtrain: \u001b[0mWARNING  C:\\Users\\Ben Wu\\Desktop\\Yolo Training\\datasets\\train_subset\\images\\000013.jpg: 1 duplicate labels removed\n",
            "\u001b[34m\u001b[1mtrain: \u001b[0mWARNING  C:\\Users\\Ben Wu\\Desktop\\Yolo Training\\datasets\\train_subset\\images\\000014.jpg: 1 duplicate labels removed\n",
            "\u001b[34m\u001b[1mtrain: \u001b[0mWARNING  C:\\Users\\Ben Wu\\Desktop\\Yolo Training\\datasets\\train_subset\\images\\000114.jpg: 1 duplicate labels removed\n",
            "\u001b[34m\u001b[1mtrain: \u001b[0mWARNING  C:\\Users\\Ben Wu\\Desktop\\Yolo Training\\datasets\\train_subset\\images\\000115.jpg: 2 duplicate labels removed\n",
            "\u001b[34m\u001b[1mtrain: \u001b[0mWARNING  C:\\Users\\Ben Wu\\Desktop\\Yolo Training\\datasets\\train_subset\\images\\000117.jpg: 1 duplicate labels removed\n",
            "\u001b[34m\u001b[1mtrain: \u001b[0mWARNING  C:\\Users\\Ben Wu\\Desktop\\Yolo Training\\datasets\\train_subset\\images\\000122.jpg: 1 duplicate labels removed\n",
            "\u001b[34m\u001b[1mtrain: \u001b[0mWARNING  C:\\Users\\Ben Wu\\Desktop\\Yolo Training\\datasets\\train_subset\\images\\000129.jpg: ignoring corrupt image/label: non-normalized or out of bounds coordinates [1.001069]\n",
            "\u001b[34m\u001b[1mtrain: \u001b[0mWARNING  C:\\Users\\Ben Wu\\Desktop\\Yolo Training\\datasets\\train_subset\\images\\000225.jpg: ignoring corrupt image/label: non-normalized or out of bounds coordinates [1.000363]\n",
            "\u001b[34m\u001b[1mtrain: \u001b[0mWARNING  C:\\Users\\Ben Wu\\Desktop\\Yolo Training\\datasets\\train_subset\\images\\000237.jpg: ignoring corrupt image/label: non-normalized or out of bounds coordinates [1.002137]\n",
            "\u001b[34m\u001b[1mtrain: \u001b[0mWARNING  C:\\Users\\Ben Wu\\Desktop\\Yolo Training\\datasets\\train_subset\\images\\000238.jpg: ignoring corrupt image/label: non-normalized or out of bounds coordinates [1.0010691]\n",
            "\u001b[34m\u001b[1mtrain: \u001b[0mWARNING  C:\\Users\\Ben Wu\\Desktop\\Yolo Training\\datasets\\train_subset\\images\\000250.jpg: ignoring corrupt image/label: non-normalized or out of bounds coordinates [1.0007049]\n",
            "\u001b[34m\u001b[1mtrain: \u001b[0mWARNING  C:\\Users\\Ben Wu\\Desktop\\Yolo Training\\datasets\\train_subset\\images\\000253.jpg: 1 duplicate labels removed\n",
            "\u001b[34m\u001b[1mtrain: \u001b[0mWARNING  C:\\Users\\Ben Wu\\Desktop\\Yolo Training\\datasets\\train_subset\\images\\000305.jpg: ignoring corrupt image/label: non-normalized or out of bounds coordinates [1.000512]\n",
            "\u001b[34m\u001b[1mtrain: \u001b[0mWARNING  C:\\Users\\Ben Wu\\Desktop\\Yolo Training\\datasets\\train_subset\\images\\000474.jpg: 1 duplicate labels removed\n",
            "\u001b[34m\u001b[1mtrain: \u001b[0mWARNING  C:\\Users\\Ben Wu\\Desktop\\Yolo Training\\datasets\\train_subset\\images\\000611.jpg: 1 duplicate labels removed\n",
            "\u001b[34m\u001b[1mtrain: \u001b[0mWARNING  C:\\Users\\Ben Wu\\Desktop\\Yolo Training\\datasets\\train_subset\\images\\000687.jpg: 1 duplicate labels removed\n",
            "\u001b[34m\u001b[1mtrain: \u001b[0mWARNING  C:\\Users\\Ben Wu\\Desktop\\Yolo Training\\datasets\\train_subset\\images\\000689.jpg: 1 duplicate labels removed\n",
            "\u001b[34m\u001b[1mtrain: \u001b[0mWARNING  C:\\Users\\Ben Wu\\Desktop\\Yolo Training\\datasets\\train_subset\\images\\000694.jpg: 1 duplicate labels removed\n",
            "\u001b[34m\u001b[1mtrain: \u001b[0mWARNING  C:\\Users\\Ben Wu\\Desktop\\Yolo Training\\datasets\\train_subset\\images\\000699.jpg: 1 duplicate labels removed\n",
            "\u001b[34m\u001b[1mtrain: \u001b[0mWARNING  C:\\Users\\Ben Wu\\Desktop\\Yolo Training\\datasets\\train_subset\\images\\000727.jpg: ignoring corrupt image/label: non-normalized or out of bounds coordinates [1.000107]\n",
            "\u001b[34m\u001b[1mtrain: \u001b[0mWARNING  C:\\Users\\Ben Wu\\Desktop\\Yolo Training\\datasets\\train_subset\\images\\000728.jpg: ignoring corrupt image/label: non-normalized or out of bounds coordinates [1.000304]\n",
            "\u001b[34m\u001b[1mtrain: \u001b[0mWARNING  C:\\Users\\Ben Wu\\Desktop\\Yolo Training\\datasets\\train_subset\\images\\000744.jpg: 1 duplicate labels removed\n",
            "\u001b[34m\u001b[1mtrain: \u001b[0mWARNING  C:\\Users\\Ben Wu\\Desktop\\Yolo Training\\datasets\\train_subset\\images\\000939.jpg: 1 duplicate labels removed\n",
            "\u001b[34m\u001b[1mtrain: \u001b[0mWARNING  C:\\Users\\Ben Wu\\Desktop\\Yolo Training\\datasets\\train_subset\\images\\000941.jpg: 1 duplicate labels removed\n",
            "\u001b[34m\u001b[1mtrain: \u001b[0mWARNING  C:\\Users\\Ben Wu\\Desktop\\Yolo Training\\datasets\\train_subset\\images\\000973.jpg: ignoring corrupt image/label: non-normalized or out of bounds coordinates [1.000855]\n",
            "\u001b[34m\u001b[1mtrain: \u001b[0mWARNING  C:\\Users\\Ben Wu\\Desktop\\Yolo Training\\datasets\\train_subset\\images\\001142.jpg: 1 duplicate labels removed\n",
            "\u001b[34m\u001b[1mtrain: \u001b[0mWARNING  C:\\Users\\Ben Wu\\Desktop\\Yolo Training\\datasets\\train_subset\\images\\001149.jpg: 2 duplicate labels removed\n",
            "\u001b[34m\u001b[1mtrain: \u001b[0mWARNING  C:\\Users\\Ben Wu\\Desktop\\Yolo Training\\datasets\\train_subset\\images\\001151.jpg: 2 duplicate labels removed\n",
            "\u001b[34m\u001b[1mtrain: \u001b[0mWARNING  C:\\Users\\Ben Wu\\Desktop\\Yolo Training\\datasets\\train_subset\\images\\001152.jpg: 2 duplicate labels removed\n",
            "\u001b[34m\u001b[1mtrain: \u001b[0mWARNING  C:\\Users\\Ben Wu\\Desktop\\Yolo Training\\datasets\\train_subset\\images\\001153.jpg: 2 duplicate labels removed\n",
            "\u001b[34m\u001b[1mtrain: \u001b[0mWARNING  C:\\Users\\Ben Wu\\Desktop\\Yolo Training\\datasets\\train_subset\\images\\001155.jpg: 2 duplicate labels removed\n",
            "\u001b[34m\u001b[1mtrain: \u001b[0mWARNING  C:\\Users\\Ben Wu\\Desktop\\Yolo Training\\datasets\\train_subset\\images\\001272.jpg: 1 duplicate labels removed\n",
            "\u001b[34m\u001b[1mtrain: \u001b[0mWARNING  C:\\Users\\Ben Wu\\Desktop\\Yolo Training\\datasets\\train_subset\\images\\001350.jpg: ignoring corrupt image/label: non-normalized or out of bounds coordinates [1.002137]\n",
            "\u001b[34m\u001b[1mtrain: \u001b[0mWARNING  C:\\Users\\Ben Wu\\Desktop\\Yolo Training\\datasets\\train_subset\\images\\001391.jpg: 1 duplicate labels removed\n",
            "\u001b[34m\u001b[1mtrain: \u001b[0mWARNING  C:\\Users\\Ben Wu\\Desktop\\Yolo Training\\datasets\\train_subset\\images\\001403.jpg: 1 duplicate labels removed\n",
            "\u001b[34m\u001b[1mtrain: \u001b[0mWARNING  C:\\Users\\Ben Wu\\Desktop\\Yolo Training\\datasets\\train_subset\\images\\001422.jpg: 1 duplicate labels removed\n",
            "\u001b[34m\u001b[1mtrain: \u001b[0mWARNING  C:\\Users\\Ben Wu\\Desktop\\Yolo Training\\datasets\\train_subset\\images\\001449.jpg: 1 duplicate labels removed\n",
            "\u001b[34m\u001b[1mtrain: \u001b[0mWARNING  C:\\Users\\Ben Wu\\Desktop\\Yolo Training\\datasets\\train_subset\\images\\001469.jpg: ignoring corrupt image/label: non-normalized or out of bounds coordinates [1.00047]\n",
            "\u001b[34m\u001b[1mtrain: \u001b[0mWARNING  C:\\Users\\Ben Wu\\Desktop\\Yolo Training\\datasets\\train_subset\\images\\001560.jpg: ignoring corrupt image/label: non-normalized or out of bounds coordinates [1.002137]\n",
            "\u001b[34m\u001b[1mtrain: \u001b[0mWARNING  C:\\Users\\Ben Wu\\Desktop\\Yolo Training\\datasets\\train_subset\\images\\001611.jpg: 1 duplicate labels removed\n",
            "\u001b[34m\u001b[1mtrain: \u001b[0mWARNING  C:\\Users\\Ben Wu\\Desktop\\Yolo Training\\datasets\\train_subset\\images\\001622.jpg: ignoring corrupt image/label: non-normalized or out of bounds coordinates [1.002059]\n",
            "\u001b[34m\u001b[1mtrain: \u001b[0mWARNING  C:\\Users\\Ben Wu\\Desktop\\Yolo Training\\datasets\\train_subset\\images\\001652.jpg: 1 duplicate labels removed\n",
            "\u001b[34m\u001b[1mtrain: \u001b[0mWARNING  C:\\Users\\Ben Wu\\Desktop\\Yolo Training\\datasets\\train_subset\\images\\001660.jpg: 2 duplicate labels removed\n",
            "\u001b[34m\u001b[1mtrain: \u001b[0mWARNING  C:\\Users\\Ben Wu\\Desktop\\Yolo Training\\datasets\\train_subset\\images\\001662.jpg: 1 duplicate labels removed\n",
            "\u001b[34m\u001b[1mtrain: \u001b[0mWARNING  C:\\Users\\Ben Wu\\Desktop\\Yolo Training\\datasets\\train_subset\\images\\001663.jpg: 1 duplicate labels removed\n",
            "\u001b[34m\u001b[1mtrain: \u001b[0mWARNING  C:\\Users\\Ben Wu\\Desktop\\Yolo Training\\datasets\\train_subset\\images\\001668.jpg: 2 duplicate labels removed\n",
            "\u001b[34m\u001b[1mtrain: \u001b[0mWARNING  C:\\Users\\Ben Wu\\Desktop\\Yolo Training\\datasets\\train_subset\\images\\001705.jpg: ignoring corrupt image/label: non-normalized or out of bounds coordinates [1.000834]\n",
            "\u001b[34m\u001b[1mtrain: \u001b[0mWARNING  C:\\Users\\Ben Wu\\Desktop\\Yolo Training\\datasets\\train_subset\\images\\001718.jpg: ignoring corrupt image/label: non-normalized or out of bounds coordinates [1.0002561]\n",
            "\u001b[34m\u001b[1mtrain: \u001b[0mWARNING  C:\\Users\\Ben Wu\\Desktop\\Yolo Training\\datasets\\train_subset\\images\\001751.jpg: 1 duplicate labels removed\n",
            "\u001b[34m\u001b[1mtrain: \u001b[0mWARNING  C:\\Users\\Ben Wu\\Desktop\\Yolo Training\\datasets\\train_subset\\images\\001754.jpg: 1 duplicate labels removed\n",
            "\u001b[34m\u001b[1mtrain: \u001b[0mWARNING  C:\\Users\\Ben Wu\\Desktop\\Yolo Training\\datasets\\train_subset\\images\\001755.jpg: 2 duplicate labels removed\n",
            "\u001b[34m\u001b[1mtrain: \u001b[0mWARNING  C:\\Users\\Ben Wu\\Desktop\\Yolo Training\\datasets\\train_subset\\images\\001801.jpg: 1 duplicate labels removed\n",
            "\u001b[34m\u001b[1mtrain: \u001b[0mWARNING  C:\\Users\\Ben Wu\\Desktop\\Yolo Training\\datasets\\train_subset\\images\\001974.jpg: ignoring corrupt image/label: non-normalized or out of bounds coordinates [1.001453]\n",
            "\u001b[34m\u001b[1mtrain: \u001b[0mWARNING  C:\\Users\\Ben Wu\\Desktop\\Yolo Training\\datasets\\train_subset\\images\\001994.jpg: 2 duplicate labels removed\n",
            "\u001b[34m\u001b[1mtrain: \u001b[0mWARNING  C:\\Users\\Ben Wu\\Desktop\\Yolo Training\\datasets\\train_subset\\images\\001995.jpg: 2 duplicate labels removed\n",
            "\u001b[34m\u001b[1mtrain: \u001b[0mWARNING  C:\\Users\\Ben Wu\\Desktop\\Yolo Training\\datasets\\train_subset\\images\\001996.jpg: 2 duplicate labels removed\n",
            "\u001b[34m\u001b[1mtrain: \u001b[0mWARNING  C:\\Users\\Ben Wu\\Desktop\\Yolo Training\\datasets\\train_subset\\images\\001997.jpg: 1 duplicate labels removed\n",
            "\u001b[34m\u001b[1mtrain: \u001b[0mWARNING  C:\\Users\\Ben Wu\\Desktop\\Yolo Training\\datasets\\train_subset\\images\\001998.jpg: 1 duplicate labels removed\n",
            "\u001b[34m\u001b[1mtrain: \u001b[0mWARNING  C:\\Users\\Ben Wu\\Desktop\\Yolo Training\\datasets\\train_subset\\images\\002066.jpg: ignoring corrupt image/label: non-normalized or out of bounds coordinates [1.000114]\n",
            "\u001b[34m\u001b[1mtrain: \u001b[0mWARNING  C:\\Users\\Ben Wu\\Desktop\\Yolo Training\\datasets\\train_subset\\images\\002076.jpg: 1 duplicate labels removed\n",
            "\u001b[34m\u001b[1mtrain: \u001b[0mWARNING  C:\\Users\\Ben Wu\\Desktop\\Yolo Training\\datasets\\train_subset\\images\\002077.jpg: 1 duplicate labels removed\n",
            "\u001b[34m\u001b[1mtrain: \u001b[0mWARNING  C:\\Users\\Ben Wu\\Desktop\\Yolo Training\\datasets\\train_subset\\images\\002102.jpg: 1 duplicate labels removed\n",
            "\u001b[34m\u001b[1mtrain: \u001b[0mWARNING  C:\\Users\\Ben Wu\\Desktop\\Yolo Training\\datasets\\train_subset\\images\\002148.jpg: ignoring corrupt image/label: non-normalized or out of bounds coordinates [1.001047]\n",
            "\u001b[34m\u001b[1mtrain: \u001b[0mWARNING  C:\\Users\\Ben Wu\\Desktop\\Yolo Training\\datasets\\train_subset\\images\\002153.jpg: 2 duplicate labels removed\n",
            "\u001b[34m\u001b[1mtrain: \u001b[0mWARNING  C:\\Users\\Ben Wu\\Desktop\\Yolo Training\\datasets\\train_subset\\images\\002260.jpg: 1 duplicate labels removed\n",
            "\u001b[34m\u001b[1mtrain: \u001b[0mWARNING  C:\\Users\\Ben Wu\\Desktop\\Yolo Training\\datasets\\train_subset\\images\\002279.jpg: ignoring corrupt image/label: non-normalized or out of bounds coordinates [1.000129]\n",
            "\u001b[34m\u001b[1mtrain: \u001b[0mWARNING  C:\\Users\\Ben Wu\\Desktop\\Yolo Training\\datasets\\train_subset\\images\\002322.jpg: 1 duplicate labels removed\n",
            "\u001b[34m\u001b[1mtrain: \u001b[0mWARNING  C:\\Users\\Ben Wu\\Desktop\\Yolo Training\\datasets\\train_subset\\images\\002384.jpg: ignoring corrupt image/label: non-normalized or out of bounds coordinates [1.00297]\n",
            "\u001b[34m\u001b[1mtrain: \u001b[0mWARNING  C:\\Users\\Ben Wu\\Desktop\\Yolo Training\\datasets\\train_subset\\images\\002386.jpg: ignoring corrupt image/label: non-normalized or out of bounds coordinates [1.002842]\n",
            "\u001b[34m\u001b[1mtrain: \u001b[0mWARNING  C:\\Users\\Ben Wu\\Desktop\\Yolo Training\\datasets\\train_subset\\images\\002524.jpg: ignoring corrupt image/label: non-normalized or out of bounds coordinates [1.001368]\n",
            "\u001b[34m\u001b[1mtrain: \u001b[0mWARNING  C:\\Users\\Ben Wu\\Desktop\\Yolo Training\\datasets\\train_subset\\images\\002601.jpg: 2 duplicate labels removed\n",
            "\u001b[34m\u001b[1mtrain: \u001b[0mWARNING  C:\\Users\\Ben Wu\\Desktop\\Yolo Training\\datasets\\train_subset\\images\\002603.jpg: 1 duplicate labels removed\n",
            "\u001b[34m\u001b[1mtrain: \u001b[0mWARNING  C:\\Users\\Ben Wu\\Desktop\\Yolo Training\\datasets\\train_subset\\images\\002629.jpg: ignoring corrupt image/label: non-normalized or out of bounds coordinates [1.000578]\n",
            "\u001b[34m\u001b[1mtrain: \u001b[0mWARNING  C:\\Users\\Ben Wu\\Desktop\\Yolo Training\\datasets\\train_subset\\images\\002857.jpg: 2 duplicate labels removed\n",
            "\u001b[34m\u001b[1mtrain: \u001b[0mWARNING  C:\\Users\\Ben Wu\\Desktop\\Yolo Training\\datasets\\train_subset\\images\\002860.jpg: 2 duplicate labels removed\n",
            "\u001b[34m\u001b[1mtrain: \u001b[0mWARNING  C:\\Users\\Ben Wu\\Desktop\\Yolo Training\\datasets\\train_subset\\images\\002930.jpg: 2 duplicate labels removed\n",
            "\u001b[34m\u001b[1mtrain: \u001b[0mWARNING  C:\\Users\\Ben Wu\\Desktop\\Yolo Training\\datasets\\train_subset\\images\\002967.jpg: 1 duplicate labels removed\n",
            "\u001b[34m\u001b[1mtrain: \u001b[0mWARNING  C:\\Users\\Ben Wu\\Desktop\\Yolo Training\\datasets\\train_subset\\images\\002991.jpg: 1 duplicate labels removed\n",
            "\u001b[34m\u001b[1mtrain: \u001b[0mWARNING  C:\\Users\\Ben Wu\\Desktop\\Yolo Training\\datasets\\train_subset\\images\\003174.jpg: 1 duplicate labels removed\n",
            "\u001b[34m\u001b[1mtrain: \u001b[0mWARNING  C:\\Users\\Ben Wu\\Desktop\\Yolo Training\\datasets\\train_subset\\images\\003177.jpg: 1 duplicate labels removed\n",
            "\u001b[34m\u001b[1mtrain: \u001b[0mWARNING  C:\\Users\\Ben Wu\\Desktop\\Yolo Training\\datasets\\train_subset\\images\\003188.jpg: 1 duplicate labels removed\n",
            "\u001b[34m\u001b[1mtrain: \u001b[0mWARNING  C:\\Users\\Ben Wu\\Desktop\\Yolo Training\\datasets\\train_subset\\images\\003197.jpg: 2 duplicate labels removed\n",
            "\u001b[34m\u001b[1mtrain: \u001b[0mWARNING  C:\\Users\\Ben Wu\\Desktop\\Yolo Training\\datasets\\train_subset\\images\\003198.jpg: 1 duplicate labels removed\n",
            "\u001b[34m\u001b[1mtrain: \u001b[0mWARNING  C:\\Users\\Ben Wu\\Desktop\\Yolo Training\\datasets\\train_subset\\images\\003226.jpg: 1 duplicate labels removed\n",
            "\u001b[34m\u001b[1mtrain: \u001b[0mWARNING  C:\\Users\\Ben Wu\\Desktop\\Yolo Training\\datasets\\train_subset\\images\\003272.jpg: 1 duplicate labels removed\n",
            "\u001b[34m\u001b[1mtrain: \u001b[0mWARNING  C:\\Users\\Ben Wu\\Desktop\\Yolo Training\\datasets\\train_subset\\images\\003377.jpg: 1 duplicate labels removed\n",
            "\u001b[34m\u001b[1mtrain: \u001b[0mWARNING  C:\\Users\\Ben Wu\\Desktop\\Yolo Training\\datasets\\train_subset\\images\\003399.jpg: 2 duplicate labels removed\n",
            "\u001b[34m\u001b[1mtrain: \u001b[0mWARNING  C:\\Users\\Ben Wu\\Desktop\\Yolo Training\\datasets\\train_subset\\images\\003430.jpg: 1 duplicate labels removed\n",
            "\u001b[34m\u001b[1mtrain: \u001b[0mWARNING  C:\\Users\\Ben Wu\\Desktop\\Yolo Training\\datasets\\train_subset\\images\\003443.jpg: 2 duplicate labels removed\n",
            "\u001b[34m\u001b[1mtrain: \u001b[0mWARNING  C:\\Users\\Ben Wu\\Desktop\\Yolo Training\\datasets\\train_subset\\images\\003649.jpg: ignoring corrupt image/label: non-normalized or out of bounds coordinates [1.000406 1.001538]\n",
            "\u001b[34m\u001b[1mtrain: \u001b[0mWARNING  C:\\Users\\Ben Wu\\Desktop\\Yolo Training\\datasets\\train_subset\\images\\003686.jpg: 1 duplicate labels removed\n",
            "\u001b[34m\u001b[1mtrain: \u001b[0mWARNING  C:\\Users\\Ben Wu\\Desktop\\Yolo Training\\datasets\\train_subset\\images\\003749.jpg: 2 duplicate labels removed\n",
            "\u001b[34m\u001b[1mtrain: \u001b[0mWARNING  C:\\Users\\Ben Wu\\Desktop\\Yolo Training\\datasets\\train_subset\\images\\003900.jpg: 2 duplicate labels removed\n",
            "\u001b[34m\u001b[1mtrain: \u001b[0mWARNING  C:\\Users\\Ben Wu\\Desktop\\Yolo Training\\datasets\\train_subset\\images\\003909.jpg: 1 duplicate labels removed\n",
            "\u001b[34m\u001b[1mtrain: \u001b[0mWARNING  C:\\Users\\Ben Wu\\Desktop\\Yolo Training\\datasets\\train_subset\\images\\003924.jpg: 1 duplicate labels removed\n",
            "\u001b[34m\u001b[1mtrain: \u001b[0mWARNING  C:\\Users\\Ben Wu\\Desktop\\Yolo Training\\datasets\\train_subset\\images\\003937.jpg: 1 duplicate labels removed\n",
            "\u001b[34m\u001b[1mtrain: \u001b[0mWARNING  C:\\Users\\Ben Wu\\Desktop\\Yolo Training\\datasets\\train_subset\\images\\004117.jpg: 1 duplicate labels removed\n",
            "\u001b[34m\u001b[1mtrain: \u001b[0mWARNING  C:\\Users\\Ben Wu\\Desktop\\Yolo Training\\datasets\\train_subset\\images\\004125.jpg: 2 duplicate labels removed\n",
            "\u001b[34m\u001b[1mtrain: \u001b[0mWARNING  C:\\Users\\Ben Wu\\Desktop\\Yolo Training\\datasets\\train_subset\\images\\004126.jpg: 1 duplicate labels removed\n",
            "\u001b[34m\u001b[1mtrain: \u001b[0mWARNING  C:\\Users\\Ben Wu\\Desktop\\Yolo Training\\datasets\\train_subset\\images\\004130.jpg: ignoring corrupt image/label: non-normalized or out of bounds coordinates [1.000299]\n",
            "\u001b[34m\u001b[1mtrain: \u001b[0mWARNING  C:\\Users\\Ben Wu\\Desktop\\Yolo Training\\datasets\\train_subset\\images\\004227.jpg: 1 duplicate labels removed\n",
            "\u001b[34m\u001b[1mtrain: \u001b[0mWARNING  C:\\Users\\Ben Wu\\Desktop\\Yolo Training\\datasets\\train_subset\\images\\004231.jpg: 1 duplicate labels removed\n",
            "\u001b[34m\u001b[1mtrain: \u001b[0mWARNING  C:\\Users\\Ben Wu\\Desktop\\Yolo Training\\datasets\\train_subset\\images\\004232.jpg: 1 duplicate labels removed\n",
            "\u001b[34m\u001b[1mtrain: \u001b[0mWARNING  C:\\Users\\Ben Wu\\Desktop\\Yolo Training\\datasets\\train_subset\\images\\004362.jpg: ignoring corrupt image/label: non-normalized or out of bounds coordinates [1.001559]\n",
            "\u001b[34m\u001b[1mtrain: \u001b[0mWARNING  C:\\Users\\Ben Wu\\Desktop\\Yolo Training\\datasets\\train_subset\\images\\004376.jpg: ignoring corrupt image/label: non-normalized or out of bounds coordinates [1.000278]\n",
            "\u001b[34m\u001b[1mtrain: \u001b[0mWARNING  C:\\Users\\Ben Wu\\Desktop\\Yolo Training\\datasets\\train_subset\\images\\004523.jpg: 1 duplicate labels removed\n",
            "\u001b[34m\u001b[1mtrain: \u001b[0mWARNING  C:\\Users\\Ben Wu\\Desktop\\Yolo Training\\datasets\\train_subset\\images\\004645.jpg: ignoring corrupt image/label: non-normalized or out of bounds coordinates [1.000214]\n",
            "\u001b[34m\u001b[1mtrain: \u001b[0mWARNING  C:\\Users\\Ben Wu\\Desktop\\Yolo Training\\datasets\\train_subset\\images\\004666.jpg: 1 duplicate labels removed\n",
            "\u001b[34m\u001b[1mtrain: \u001b[0mWARNING  C:\\Users\\Ben Wu\\Desktop\\Yolo Training\\datasets\\train_subset\\images\\004694.jpg: ignoring corrupt image/label: non-normalized or out of bounds coordinates [1.002137]\n",
            "\u001b[34m\u001b[1mtrain: \u001b[0mWARNING  C:\\Users\\Ben Wu\\Desktop\\Yolo Training\\datasets\\train_subset\\images\\004712.jpg: ignoring corrupt image/label: non-normalized or out of bounds coordinates [1.002906]\n",
            "\u001b[34m\u001b[1mtrain: \u001b[0mWARNING  C:\\Users\\Ben Wu\\Desktop\\Yolo Training\\datasets\\train_subset\\images\\004732.jpg: 1 duplicate labels removed\n",
            "\u001b[34m\u001b[1mtrain: \u001b[0mWARNING  C:\\Users\\Ben Wu\\Desktop\\Yolo Training\\datasets\\train_subset\\images\\004736.jpg: ignoring corrupt image/label: non-normalized or out of bounds coordinates [1.000625]\n",
            "\u001b[34m\u001b[1mtrain: \u001b[0mWARNING  C:\\Users\\Ben Wu\\Desktop\\Yolo Training\\datasets\\train_subset\\images\\004786.jpg: ignoring corrupt image/label: non-normalized or out of bounds coordinates [1.000769 1.000107]\n",
            "\u001b[34m\u001b[1mtrain: \u001b[0mWARNING  C:\\Users\\Ben Wu\\Desktop\\Yolo Training\\datasets\\train_subset\\images\\004809.jpg: 1 duplicate labels removed\n",
            "\u001b[34m\u001b[1mtrain: \u001b[0mWARNING  C:\\Users\\Ben Wu\\Desktop\\Yolo Training\\datasets\\train_subset\\images\\004830.jpg: ignoring corrupt image/label: non-normalized or out of bounds coordinates [1.000556 1.000235]\n",
            "\u001b[34m\u001b[1mtrain: \u001b[0mWARNING  C:\\Users\\Ben Wu\\Desktop\\Yolo Training\\datasets\\train_subset\\images\\004890.jpg: 1 duplicate labels removed\n",
            "\u001b[34m\u001b[1mtrain: \u001b[0mWARNING  C:\\Users\\Ben Wu\\Desktop\\Yolo Training\\datasets\\train_subset\\images\\004893.jpg: 1 duplicate labels removed\n",
            "\u001b[34m\u001b[1mtrain: \u001b[0mWARNING  C:\\Users\\Ben Wu\\Desktop\\Yolo Training\\datasets\\train_subset\\images\\004933.jpg: 1 duplicate labels removed\n",
            "\u001b[34m\u001b[1mtrain: \u001b[0mWARNING  C:\\Users\\Ben Wu\\Desktop\\Yolo Training\\datasets\\train_subset\\images\\005067.jpg: ignoring corrupt image/label: non-normalized or out of bounds coordinates [1.000619 1.001367]\n",
            "\u001b[34m\u001b[1mtrain: \u001b[0mWARNING  C:\\Users\\Ben Wu\\Desktop\\Yolo Training\\datasets\\train_subset\\images\\005079.jpg: 1 duplicate labels removed\n",
            "\u001b[34m\u001b[1mtrain: \u001b[0mWARNING  C:\\Users\\Ben Wu\\Desktop\\Yolo Training\\datasets\\train_subset\\images\\005236.jpg: ignoring corrupt image/label: non-normalized or out of bounds coordinates [1.0006629]\n",
            "\u001b[34m\u001b[1mtrain: \u001b[0mWARNING  C:\\Users\\Ben Wu\\Desktop\\Yolo Training\\datasets\\train_subset\\images\\005251.jpg: 1 duplicate labels removed\n",
            "\u001b[34m\u001b[1mtrain: \u001b[0mWARNING  C:\\Users\\Ben Wu\\Desktop\\Yolo Training\\datasets\\train_subset\\images\\005253.jpg: 1 duplicate labels removed\n",
            "\u001b[34m\u001b[1mtrain: \u001b[0mWARNING  C:\\Users\\Ben Wu\\Desktop\\Yolo Training\\datasets\\train_subset\\images\\005255.jpg: 1 duplicate labels removed\n",
            "\u001b[34m\u001b[1mtrain: \u001b[0mWARNING  C:\\Users\\Ben Wu\\Desktop\\Yolo Training\\datasets\\train_subset\\images\\005256.jpg: 1 duplicate labels removed\n",
            "\u001b[34m\u001b[1mtrain: \u001b[0mWARNING  C:\\Users\\Ben Wu\\Desktop\\Yolo Training\\datasets\\train_subset\\images\\005261.jpg: 1 duplicate labels removed\n",
            "\u001b[34m\u001b[1mtrain: \u001b[0mWARNING  C:\\Users\\Ben Wu\\Desktop\\Yolo Training\\datasets\\train_subset\\images\\005342.jpg: 1 duplicate labels removed\n",
            "\u001b[34m\u001b[1mtrain: \u001b[0mWARNING  C:\\Users\\Ben Wu\\Desktop\\Yolo Training\\datasets\\train_subset\\images\\005622.jpg: 1 duplicate labels removed\n",
            "\u001b[34m\u001b[1mtrain: \u001b[0mWARNING  C:\\Users\\Ben Wu\\Desktop\\Yolo Training\\datasets\\train_subset\\images\\005665.jpg: 1 duplicate labels removed\n",
            "\u001b[34m\u001b[1mtrain: \u001b[0mWARNING  C:\\Users\\Ben Wu\\Desktop\\Yolo Training\\datasets\\train_subset\\images\\005676.jpg: 1 duplicate labels removed\n",
            "\u001b[34m\u001b[1mtrain: \u001b[0mWARNING  C:\\Users\\Ben Wu\\Desktop\\Yolo Training\\datasets\\train_subset\\images\\005835.jpg: 1 duplicate labels removed\n",
            "\u001b[34m\u001b[1mtrain: \u001b[0mWARNING  C:\\Users\\Ben Wu\\Desktop\\Yolo Training\\datasets\\train_subset\\images\\005985.jpg: ignoring corrupt image/label: non-normalized or out of bounds coordinates [1.001026]\n",
            "\u001b[34m\u001b[1mtrain: \u001b[0mWARNING  C:\\Users\\Ben Wu\\Desktop\\Yolo Training\\datasets\\train_subset\\images\\006005.jpg: 1 duplicate labels removed\n",
            "\u001b[34m\u001b[1mtrain: \u001b[0mWARNING  C:\\Users\\Ben Wu\\Desktop\\Yolo Training\\datasets\\train_subset\\images\\006014.jpg: 1 duplicate labels removed\n",
            "\u001b[34m\u001b[1mtrain: \u001b[0mWARNING  C:\\Users\\Ben Wu\\Desktop\\Yolo Training\\datasets\\train_subset\\images\\006015.jpg: 1 duplicate labels removed\n",
            "\u001b[34m\u001b[1mtrain: \u001b[0mWARNING  C:\\Users\\Ben Wu\\Desktop\\Yolo Training\\datasets\\train_subset\\images\\006102.jpg: 1 duplicate labels removed\n",
            "\u001b[34m\u001b[1mtrain: \u001b[0mWARNING  C:\\Users\\Ben Wu\\Desktop\\Yolo Training\\datasets\\train_subset\\images\\006103.jpg: 1 duplicate labels removed\n",
            "\u001b[34m\u001b[1mtrain: \u001b[0mWARNING  C:\\Users\\Ben Wu\\Desktop\\Yolo Training\\datasets\\train_subset\\images\\006127.jpg: 1 duplicate labels removed\n",
            "\u001b[34m\u001b[1mtrain: \u001b[0mWARNING  C:\\Users\\Ben Wu\\Desktop\\Yolo Training\\datasets\\train_subset\\images\\006147.jpg: 2 duplicate labels removed\n",
            "\u001b[34m\u001b[1mtrain: \u001b[0mWARNING  C:\\Users\\Ben Wu\\Desktop\\Yolo Training\\datasets\\train_subset\\images\\006148.jpg: 1 duplicate labels removed\n",
            "\u001b[34m\u001b[1mtrain: \u001b[0mWARNING  C:\\Users\\Ben Wu\\Desktop\\Yolo Training\\datasets\\train_subset\\images\\006149.jpg: 2 duplicate labels removed\n",
            "\u001b[34m\u001b[1mtrain: \u001b[0mWARNING  C:\\Users\\Ben Wu\\Desktop\\Yolo Training\\datasets\\train_subset\\images\\006150.jpg: 2 duplicate labels removed\n",
            "\u001b[34m\u001b[1mtrain: \u001b[0mWARNING  C:\\Users\\Ben Wu\\Desktop\\Yolo Training\\datasets\\train_subset\\images\\006152.jpg: 1 duplicate labels removed\n",
            "\u001b[34m\u001b[1mtrain: \u001b[0mWARNING  C:\\Users\\Ben Wu\\Desktop\\Yolo Training\\datasets\\train_subset\\images\\006219.jpg: ignoring corrupt image/label: non-normalized or out of bounds coordinates [1.005467]\n",
            "\u001b[34m\u001b[1mtrain: \u001b[0mWARNING  C:\\Users\\Ben Wu\\Desktop\\Yolo Training\\datasets\\train_subset\\images\\006597.jpg: ignoring corrupt image/label: non-normalized or out of bounds coordinates [1.001197]\n",
            "\u001b[34m\u001b[1mtrain: \u001b[0mWARNING  C:\\Users\\Ben Wu\\Desktop\\Yolo Training\\datasets\\train_subset\\images\\006674.jpg: ignoring corrupt image/label: non-normalized or out of bounds coordinates [1.000107]\n",
            "\u001b[34m\u001b[1mtrain: \u001b[0mWARNING  C:\\Users\\Ben Wu\\Desktop\\Yolo Training\\datasets\\train_subset\\images\\006678.jpg: ignoring corrupt image/label: non-normalized or out of bounds coordinates [1.0003849]\n",
            "\u001b[34m\u001b[1mtrain: \u001b[0mWARNING  C:\\Users\\Ben Wu\\Desktop\\Yolo Training\\datasets\\train_subset\\images\\006716.jpg: 2 duplicate labels removed\n",
            "\u001b[34m\u001b[1mtrain: \u001b[0mWARNING  C:\\Users\\Ben Wu\\Desktop\\Yolo Training\\datasets\\train_subset\\images\\006719.jpg: ignoring corrupt image/label: non-normalized or out of bounds coordinates [1.002458]\n",
            "\u001b[34m\u001b[1mtrain: \u001b[0mWARNING  C:\\Users\\Ben Wu\\Desktop\\Yolo Training\\datasets\\train_subset\\images\\006733.jpg: 1 duplicate labels removed\n",
            "\u001b[34m\u001b[1mtrain: \u001b[0mWARNING  C:\\Users\\Ben Wu\\Desktop\\Yolo Training\\datasets\\train_subset\\images\\006967.jpg: 1 duplicate labels removed\n",
            "\u001b[34m\u001b[1mtrain: \u001b[0mWARNING  C:\\Users\\Ben Wu\\Desktop\\Yolo Training\\datasets\\train_subset\\images\\006973.jpg: ignoring corrupt image/label: non-normalized or out of bounds coordinates [1.0004491]\n",
            "\u001b[34m\u001b[1mtrain: \u001b[0mWARNING  C:\\Users\\Ben Wu\\Desktop\\Yolo Training\\datasets\\train_subset\\images\\007089.jpg: ignoring corrupt image/label: non-normalized or out of bounds coordinates [1.00078]\n",
            "\u001b[34m\u001b[1mtrain: \u001b[0mWARNING  C:\\Users\\Ben Wu\\Desktop\\Yolo Training\\datasets\\train_subset\\images\\007126.jpg: ignoring corrupt image/label: non-normalized or out of bounds coordinates [1.000192]\n",
            "\u001b[34m\u001b[1mtrain: \u001b[0mWARNING  C:\\Users\\Ben Wu\\Desktop\\Yolo Training\\datasets\\train_subset\\images\\007127.jpg: ignoring corrupt image/label: non-normalized or out of bounds coordinates [1.000662]\n",
            "\u001b[34m\u001b[1mtrain: \u001b[0mWARNING  C:\\Users\\Ben Wu\\Desktop\\Yolo Training\\datasets\\train_subset\\images\\007138.jpg: ignoring corrupt image/label: non-normalized or out of bounds coordinates [1.000214]\n",
            "\u001b[34m\u001b[1mtrain: \u001b[0mWARNING  C:\\Users\\Ben Wu\\Desktop\\Yolo Training\\datasets\\train_subset\\images\\007181.jpg: ignoring corrupt image/label: non-normalized or out of bounds coordinates [1.000726 1.000353]\n",
            "\u001b[34m\u001b[1mtrain: \u001b[0mWARNING  C:\\Users\\Ben Wu\\Desktop\\Yolo Training\\datasets\\train_subset\\images\\007185.jpg: ignoring corrupt image/label: non-normalized or out of bounds coordinates [1.0026929]\n",
            "\u001b[34m\u001b[1mtrain: \u001b[0mWARNING  C:\\Users\\Ben Wu\\Desktop\\Yolo Training\\datasets\\train_subset\\images\\007205.jpg: ignoring corrupt image/label: non-normalized or out of bounds coordinates [1.001074]\n",
            "\u001b[34m\u001b[1mtrain: \u001b[0mWARNING  C:\\Users\\Ben Wu\\Desktop\\Yolo Training\\datasets\\train_subset\\images\\007294.jpg: ignoring corrupt image/label: non-normalized or out of bounds coordinates [1.0003409]\n",
            "\u001b[34m\u001b[1mtrain: \u001b[0mWARNING  C:\\Users\\Ben Wu\\Desktop\\Yolo Training\\datasets\\train_subset\\images\\007317.jpg: ignoring corrupt image/label: non-normalized or out of bounds coordinates [1.001482]\n",
            "\u001b[34m\u001b[1mtrain: \u001b[0mWARNING  C:\\Users\\Ben Wu\\Desktop\\Yolo Training\\datasets\\train_subset\\images\\007343.jpg: 1 duplicate labels removed\n",
            "\u001b[34m\u001b[1mtrain: \u001b[0mWARNING  C:\\Users\\Ben Wu\\Desktop\\Yolo Training\\datasets\\train_subset\\images\\007453.jpg: 2 duplicate labels removed\n",
            "\u001b[34m\u001b[1mtrain: \u001b[0mWARNING  C:\\Users\\Ben Wu\\Desktop\\Yolo Training\\datasets\\train_subset\\images\\007557.jpg: 1 duplicate labels removed\n",
            "\u001b[34m\u001b[1mtrain: \u001b[0mWARNING  C:\\Users\\Ben Wu\\Desktop\\Yolo Training\\datasets\\train_subset\\images\\007558.jpg: 2 duplicate labels removed\n",
            "\u001b[34m\u001b[1mtrain: \u001b[0mWARNING  C:\\Users\\Ben Wu\\Desktop\\Yolo Training\\datasets\\train_subset\\images\\007559.jpg: 1 duplicate labels removed\n",
            "\u001b[34m\u001b[1mtrain: \u001b[0mWARNING  C:\\Users\\Ben Wu\\Desktop\\Yolo Training\\datasets\\train_subset\\images\\007560.jpg: 1 duplicate labels removed\n",
            "\u001b[34m\u001b[1mtrain: \u001b[0mWARNING  C:\\Users\\Ben Wu\\Desktop\\Yolo Training\\datasets\\train_subset\\images\\007561.jpg: 1 duplicate labels removed\n",
            "\u001b[34m\u001b[1mtrain: \u001b[0mWARNING  C:\\Users\\Ben Wu\\Desktop\\Yolo Training\\datasets\\train_subset\\images\\007562.jpg: 1 duplicate labels removed\n",
            "\u001b[34m\u001b[1mtrain: \u001b[0mWARNING  C:\\Users\\Ben Wu\\Desktop\\Yolo Training\\datasets\\train_subset\\images\\007563.jpg: 1 duplicate labels removed\n",
            "\u001b[34m\u001b[1mtrain: \u001b[0mWARNING  C:\\Users\\Ben Wu\\Desktop\\Yolo Training\\datasets\\train_subset\\images\\007567.jpg: 1 duplicate labels removed\n",
            "\u001b[34m\u001b[1mtrain: \u001b[0mWARNING  C:\\Users\\Ben Wu\\Desktop\\Yolo Training\\datasets\\train_subset\\images\\007568.jpg: 1 duplicate labels removed\n",
            "\u001b[34m\u001b[1mtrain: \u001b[0mWARNING  C:\\Users\\Ben Wu\\Desktop\\Yolo Training\\datasets\\train_subset\\images\\007569.jpg: 2 duplicate labels removed\n",
            "\u001b[34m\u001b[1mtrain: \u001b[0mWARNING  C:\\Users\\Ben Wu\\Desktop\\Yolo Training\\datasets\\train_subset\\images\\007570.jpg: 1 duplicate labels removed\n",
            "\u001b[34m\u001b[1mtrain: \u001b[0mWARNING  C:\\Users\\Ben Wu\\Desktop\\Yolo Training\\datasets\\train_subset\\images\\007572.jpg: 1 duplicate labels removed\n",
            "\u001b[34m\u001b[1mtrain: \u001b[0mWARNING  C:\\Users\\Ben Wu\\Desktop\\Yolo Training\\datasets\\train_subset\\images\\007573.jpg: 1 duplicate labels removed\n",
            "\u001b[34m\u001b[1mtrain: \u001b[0mWARNING  C:\\Users\\Ben Wu\\Desktop\\Yolo Training\\datasets\\train_subset\\images\\007574.jpg: 1 duplicate labels removed\n",
            "\u001b[34m\u001b[1mtrain: \u001b[0mWARNING  C:\\Users\\Ben Wu\\Desktop\\Yolo Training\\datasets\\train_subset\\images\\007576.jpg: 2 duplicate labels removed\n",
            "\u001b[34m\u001b[1mtrain: \u001b[0mWARNING  C:\\Users\\Ben Wu\\Desktop\\Yolo Training\\datasets\\train_subset\\images\\007577.jpg: 1 duplicate labels removed\n",
            "\u001b[34m\u001b[1mtrain: \u001b[0mWARNING  C:\\Users\\Ben Wu\\Desktop\\Yolo Training\\datasets\\train_subset\\images\\007578.jpg: 2 duplicate labels removed\n",
            "\u001b[34m\u001b[1mtrain: \u001b[0mWARNING  C:\\Users\\Ben Wu\\Desktop\\Yolo Training\\datasets\\train_subset\\images\\007579.jpg: 1 duplicate labels removed\n",
            "\u001b[34m\u001b[1mtrain: \u001b[0mWARNING  C:\\Users\\Ben Wu\\Desktop\\Yolo Training\\datasets\\train_subset\\images\\007580.jpg: ignoring corrupt image/label: non-normalized or out of bounds coordinates [1.001603]\n",
            "\u001b[34m\u001b[1mtrain: \u001b[0mWARNING  C:\\Users\\Ben Wu\\Desktop\\Yolo Training\\datasets\\train_subset\\images\\007589.jpg: 1 duplicate labels removed\n",
            "\u001b[34m\u001b[1mtrain: \u001b[0mWARNING  C:\\Users\\Ben Wu\\Desktop\\Yolo Training\\datasets\\train_subset\\images\\007592.jpg: 1 duplicate labels removed\n",
            "\u001b[34m\u001b[1mtrain: \u001b[0mWARNING  C:\\Users\\Ben Wu\\Desktop\\Yolo Training\\datasets\\train_subset\\images\\007595.jpg: 1 duplicate labels removed\n",
            "\u001b[34m\u001b[1mtrain: \u001b[0mWARNING  C:\\Users\\Ben Wu\\Desktop\\Yolo Training\\datasets\\train_subset\\images\\007597.jpg: 1 duplicate labels removed\n",
            "\u001b[34m\u001b[1mtrain: \u001b[0mWARNING  C:\\Users\\Ben Wu\\Desktop\\Yolo Training\\datasets\\train_subset\\images\\007658.jpg: 1 duplicate labels removed\n",
            "\u001b[34m\u001b[1mtrain: \u001b[0mWARNING  C:\\Users\\Ben Wu\\Desktop\\Yolo Training\\datasets\\train_subset\\images\\007660.jpg: 1 duplicate labels removed\n",
            "\u001b[34m\u001b[1mtrain: \u001b[0mWARNING  C:\\Users\\Ben Wu\\Desktop\\Yolo Training\\datasets\\train_subset\\images\\007737.jpg: 1 duplicate labels removed\n",
            "\u001b[34m\u001b[1mtrain: \u001b[0mWARNING  C:\\Users\\Ben Wu\\Desktop\\Yolo Training\\datasets\\train_subset\\images\\007823.jpg: 1 duplicate labels removed\n",
            "\u001b[34m\u001b[1mtrain: \u001b[0mWARNING  C:\\Users\\Ben Wu\\Desktop\\Yolo Training\\datasets\\train_subset\\images\\007843.jpg: 1 duplicate labels removed\n",
            "\u001b[34m\u001b[1mtrain: \u001b[0mWARNING  C:\\Users\\Ben Wu\\Desktop\\Yolo Training\\datasets\\train_subset\\images\\008000.jpg: 2 duplicate labels removed\n",
            "\u001b[34m\u001b[1mtrain: \u001b[0mWARNING  C:\\Users\\Ben Wu\\Desktop\\Yolo Training\\datasets\\train_subset\\images\\008002.jpg: 1 duplicate labels removed\n",
            "\u001b[34m\u001b[1mtrain: \u001b[0mWARNING  C:\\Users\\Ben Wu\\Desktop\\Yolo Training\\datasets\\train_subset\\images\\008005.jpg: 1 duplicate labels removed\n",
            "\u001b[34m\u001b[1mtrain: \u001b[0mWARNING  C:\\Users\\Ben Wu\\Desktop\\Yolo Training\\datasets\\train_subset\\images\\008125.jpg: 2 duplicate labels removed\n",
            "\u001b[34m\u001b[1mtrain: \u001b[0mWARNING  C:\\Users\\Ben Wu\\Desktop\\Yolo Training\\datasets\\train_subset\\images\\008175.jpg: 1 duplicate labels removed\n",
            "\u001b[34m\u001b[1mtrain: \u001b[0mWARNING  C:\\Users\\Ben Wu\\Desktop\\Yolo Training\\datasets\\train_subset\\images\\008178.jpg: 1 duplicate labels removed\n",
            "\u001b[34m\u001b[1mtrain: \u001b[0mWARNING  C:\\Users\\Ben Wu\\Desktop\\Yolo Training\\datasets\\train_subset\\images\\008194.jpg: 1 duplicate labels removed\n",
            "\u001b[34m\u001b[1mtrain: \u001b[0mWARNING  C:\\Users\\Ben Wu\\Desktop\\Yolo Training\\datasets\\train_subset\\images\\008240.jpg: 1 duplicate labels removed\n",
            "\u001b[34m\u001b[1mtrain: \u001b[0mWARNING  C:\\Users\\Ben Wu\\Desktop\\Yolo Training\\datasets\\train_subset\\images\\008262.jpg: 1 duplicate labels removed\n",
            "\u001b[34m\u001b[1mtrain: \u001b[0mWARNING  C:\\Users\\Ben Wu\\Desktop\\Yolo Training\\datasets\\train_subset\\images\\008432.jpg: 1 duplicate labels removed\n",
            "\u001b[34m\u001b[1mtrain: \u001b[0mWARNING  C:\\Users\\Ben Wu\\Desktop\\Yolo Training\\datasets\\train_subset\\images\\008791.jpg: 1 duplicate labels removed\n",
            "\u001b[34m\u001b[1mtrain: \u001b[0mWARNING  C:\\Users\\Ben Wu\\Desktop\\Yolo Training\\datasets\\train_subset\\images\\008793.jpg: 1 duplicate labels removed\n",
            "\u001b[34m\u001b[1mtrain: \u001b[0mWARNING  C:\\Users\\Ben Wu\\Desktop\\Yolo Training\\datasets\\train_subset\\images\\008804.jpg: ignoring corrupt image/label: non-normalized or out of bounds coordinates [1.000919]\n",
            "\u001b[34m\u001b[1mtrain: \u001b[0mWARNING  C:\\Users\\Ben Wu\\Desktop\\Yolo Training\\datasets\\train_subset\\images\\009071.jpg: ignoring corrupt image/label: non-normalized or out of bounds coordinates [1.00203]\n",
            "\u001b[34m\u001b[1mtrain: \u001b[0mWARNING  C:\\Users\\Ben Wu\\Desktop\\Yolo Training\\datasets\\train_subset\\images\\009081.jpg: ignoring corrupt image/label: non-normalized or out of bounds coordinates [1.00245]\n",
            "\u001b[34m\u001b[1mtrain: \u001b[0mWARNING  C:\\Users\\Ben Wu\\Desktop\\Yolo Training\\datasets\\train_subset\\images\\009111.jpg: 1 duplicate labels removed\n",
            "\u001b[34m\u001b[1mtrain: \u001b[0mWARNING  C:\\Users\\Ben Wu\\Desktop\\Yolo Training\\datasets\\train_subset\\images\\009131.jpg: ignoring corrupt image/label: non-normalized or out of bounds coordinates [1.00141]\n",
            "\u001b[34m\u001b[1mtrain: \u001b[0mWARNING  C:\\Users\\Ben Wu\\Desktop\\Yolo Training\\datasets\\train_subset\\images\\009252.jpg: 1 duplicate labels removed\n",
            "\u001b[34m\u001b[1mtrain: \u001b[0mWARNING  C:\\Users\\Ben Wu\\Desktop\\Yolo Training\\datasets\\train_subset\\images\\009382.jpg: 1 duplicate labels removed\n",
            "\u001b[34m\u001b[1mtrain: \u001b[0mWARNING  C:\\Users\\Ben Wu\\Desktop\\Yolo Training\\datasets\\train_subset\\images\\009441.jpg: 2 duplicate labels removed\n",
            "\u001b[34m\u001b[1mtrain: \u001b[0mWARNING  C:\\Users\\Ben Wu\\Desktop\\Yolo Training\\datasets\\train_subset\\images\\009446.jpg: 1 duplicate labels removed\n",
            "\u001b[34m\u001b[1mtrain: \u001b[0mWARNING  C:\\Users\\Ben Wu\\Desktop\\Yolo Training\\datasets\\train_subset\\images\\009471.jpg: 1 duplicate labels removed\n",
            "\u001b[34m\u001b[1mtrain: \u001b[0mWARNING  C:\\Users\\Ben Wu\\Desktop\\Yolo Training\\datasets\\train_subset\\images\\009548.jpg: 1 duplicate labels removed\n",
            "\u001b[34m\u001b[1mtrain: \u001b[0mWARNING  C:\\Users\\Ben Wu\\Desktop\\Yolo Training\\datasets\\train_subset\\images\\009640.jpg: 1 duplicate labels removed\n",
            "\u001b[34m\u001b[1mtrain: \u001b[0mWARNING  C:\\Users\\Ben Wu\\Desktop\\Yolo Training\\datasets\\train_subset\\images\\009646.jpg: 1 duplicate labels removed\n",
            "\u001b[34m\u001b[1mtrain: \u001b[0mWARNING  C:\\Users\\Ben Wu\\Desktop\\Yolo Training\\datasets\\train_subset\\images\\009665.jpg: 1 duplicate labels removed\n",
            "\u001b[34m\u001b[1mtrain: \u001b[0mWARNING  C:\\Users\\Ben Wu\\Desktop\\Yolo Training\\datasets\\train_subset\\images\\009830.jpg: 1 duplicate labels removed\n",
            "\u001b[34m\u001b[1mtrain: \u001b[0mWARNING  C:\\Users\\Ben Wu\\Desktop\\Yolo Training\\datasets\\train_subset\\images\\009837.jpg: 1 duplicate labels removed\n",
            "\u001b[34m\u001b[1mtrain: \u001b[0mWARNING  C:\\Users\\Ben Wu\\Desktop\\Yolo Training\\datasets\\train_subset\\images\\009881.jpg: 1 duplicate labels removed\n",
            "\u001b[34m\u001b[1mtrain: \u001b[0mWARNING  C:\\Users\\Ben Wu\\Desktop\\Yolo Training\\datasets\\train_subset\\images\\009891.jpg: 2 duplicate labels removed\n",
            "\u001b[34m\u001b[1mtrain: \u001b[0mWARNING  C:\\Users\\Ben Wu\\Desktop\\Yolo Training\\datasets\\train_subset\\images\\009895.jpg: 1 duplicate labels removed\n"
          ]
        },
        {
          "name": "stderr",
          "output_type": "stream",
          "text": [
            "\n"
          ]
        },
        {
          "name": "stdout",
          "output_type": "stream",
          "text": [
            "\u001b[34m\u001b[1mtrain: \u001b[0mNew cache created: C:\\Users\\Ben Wu\\Desktop\\Yolo Training\\datasets\\train_subset\\labels.cache\n"
          ]
        },
        {
          "name": "stderr",
          "output_type": "stream",
          "text": [
            "\u001b[34m\u001b[1mval: \u001b[0mScanning C:\\Users\\Ben Wu\\Desktop\\Yolo Training\\datasets\\val_subset\\labels... 10000 images, 0 backgrounds, 0 corrupt: 100%|██████████| 10000/10000 [00:03<00:00, 3099.09it/s]"
          ]
        },
        {
          "name": "stdout",
          "output_type": "stream",
          "text": [
            "\u001b[34m\u001b[1mval: \u001b[0mWARNING  C:\\Users\\Ben Wu\\Desktop\\Yolo Training\\datasets\\val_subset\\images\\000643.jpg: 1 duplicate labels removed\n",
            "\u001b[34m\u001b[1mval: \u001b[0mWARNING  C:\\Users\\Ben Wu\\Desktop\\Yolo Training\\datasets\\val_subset\\images\\007413.jpg: 1 duplicate labels removed\n"
          ]
        },
        {
          "name": "stderr",
          "output_type": "stream",
          "text": [
            "\n"
          ]
        },
        {
          "name": "stdout",
          "output_type": "stream",
          "text": [
            "\u001b[34m\u001b[1mval: \u001b[0mNew cache created: C:\\Users\\Ben Wu\\Desktop\\Yolo Training\\datasets\\val_subset\\labels.cache\n",
            "Plotting labels to runs\\segment\\train2\\labels.jpg... \n",
            "\u001b[34m\u001b[1moptimizer:\u001b[0m 'optimizer=auto' found, ignoring 'lr0=0.01' and 'momentum=0.937' and determining best 'optimizer', 'lr0' and 'momentum' automatically... \n",
            "\u001b[34m\u001b[1moptimizer:\u001b[0m AdamW(lr=0.000588, momentum=0.9) with parameter groups 66 weight(decay=0.0), 77 weight(decay=0.0005), 76 bias(decay=0.0)\n",
            "Image sizes 640 train, 640 val\n",
            "Using 0 dataloader workers\n",
            "Logging results to \u001b[1mruns\\segment\\train2\u001b[0m\n",
            "Starting training for 50 epochs...\n",
            "\n",
            "      Epoch    GPU_mem   box_loss   seg_loss   cls_loss   dfl_loss  Instances       Size\n"
          ]
        },
        {
          "name": "stderr",
          "output_type": "stream",
          "text": [
            "       1/50         0G      1.472      4.716      4.095      1.607        127        640:  17%|█▋        | 106/622 [04:20<21:09,  2.46s/it]\n"
          ]
        },
        {
          "ename": "KeyboardInterrupt",
          "evalue": "",
          "output_type": "error",
          "traceback": [
            "\u001b[31m---------------------------------------------------------------------------\u001b[39m",
            "\u001b[31mKeyboardInterrupt\u001b[39m                         Traceback (most recent call last)",
            "\u001b[36mCell\u001b[39m\u001b[36m \u001b[39m\u001b[32mIn[20]\u001b[39m\u001b[32m, line 20\u001b[39m\n\u001b[32m     17\u001b[39m model_segmentation = YOLO(\u001b[33m'\u001b[39m\u001b[33myolov8n-seg.pt\u001b[39m\u001b[33m'\u001b[39m)  \u001b[38;5;66;03m# Use a pre-trained YOLOv8 model for segmentation\u001b[39;00m\n\u001b[32m     19\u001b[39m \u001b[38;5;66;03m# Configure the model for training\u001b[39;00m\n\u001b[32m---> \u001b[39m\u001b[32m20\u001b[39m \u001b[43mmodel_segmentation\u001b[49m\u001b[43m.\u001b[49m\u001b[43mtrain\u001b[49m\u001b[43m(\u001b[49m\u001b[43mdata\u001b[49m\u001b[43m=\u001b[49m\u001b[33;43m'\u001b[39;49m\u001b[33;43myoloCOCO.yaml\u001b[39;49m\u001b[33;43m'\u001b[39;49m\u001b[43m,\u001b[49m\u001b[43m \u001b[49m\u001b[43mepochs\u001b[49m\u001b[43m=\u001b[49m\u001b[32;43m50\u001b[39;49m\u001b[43m,\u001b[49m\u001b[43m \u001b[49m\u001b[43mimgsz\u001b[49m\u001b[43m=\u001b[49m\u001b[32;43m640\u001b[39;49m\u001b[43m)\u001b[49m\n\u001b[32m     22\u001b[39m \u001b[38;5;28mprint\u001b[39m(\u001b[33m'\u001b[39m\u001b[33mYOLOv8 segmentation model training completed.\u001b[39m\u001b[33m'\u001b[39m)\n",
            "\u001b[36mFile \u001b[39m\u001b[32mc:\\Users\\Ben Wu\\AppData\\Local\\Programs\\Python\\Python311\\Lib\\site-packages\\ultralytics\\engine\\model.py:791\u001b[39m, in \u001b[36mModel.train\u001b[39m\u001b[34m(self, trainer, **kwargs)\u001b[39m\n\u001b[32m    788\u001b[39m     \u001b[38;5;28mself\u001b[39m.model = \u001b[38;5;28mself\u001b[39m.trainer.model\n\u001b[32m    790\u001b[39m \u001b[38;5;28mself\u001b[39m.trainer.hub_session = \u001b[38;5;28mself\u001b[39m.session  \u001b[38;5;66;03m# attach optional HUB session\u001b[39;00m\n\u001b[32m--> \u001b[39m\u001b[32m791\u001b[39m \u001b[38;5;28;43mself\u001b[39;49m\u001b[43m.\u001b[49m\u001b[43mtrainer\u001b[49m\u001b[43m.\u001b[49m\u001b[43mtrain\u001b[49m\u001b[43m(\u001b[49m\u001b[43m)\u001b[49m\n\u001b[32m    792\u001b[39m \u001b[38;5;66;03m# Update model and cfg after training\u001b[39;00m\n\u001b[32m    793\u001b[39m \u001b[38;5;28;01mif\u001b[39;00m RANK \u001b[38;5;129;01min\u001b[39;00m {-\u001b[32m1\u001b[39m, \u001b[32m0\u001b[39m}:\n",
            "\u001b[36mFile \u001b[39m\u001b[32mc:\\Users\\Ben Wu\\AppData\\Local\\Programs\\Python\\Python311\\Lib\\site-packages\\ultralytics\\engine\\trainer.py:211\u001b[39m, in \u001b[36mBaseTrainer.train\u001b[39m\u001b[34m(self)\u001b[39m\n\u001b[32m    208\u001b[39m         ddp_cleanup(\u001b[38;5;28mself\u001b[39m, \u001b[38;5;28mstr\u001b[39m(file))\n\u001b[32m    210\u001b[39m \u001b[38;5;28;01melse\u001b[39;00m:\n\u001b[32m--> \u001b[39m\u001b[32m211\u001b[39m     \u001b[38;5;28;43mself\u001b[39;49m\u001b[43m.\u001b[49m\u001b[43m_do_train\u001b[49m\u001b[43m(\u001b[49m\u001b[43mworld_size\u001b[49m\u001b[43m)\u001b[49m\n",
            "\u001b[36mFile \u001b[39m\u001b[32mc:\\Users\\Ben Wu\\AppData\\Local\\Programs\\Python\\Python311\\Lib\\site-packages\\ultralytics\\engine\\trainer.py:385\u001b[39m, in \u001b[36mBaseTrainer._do_train\u001b[39m\u001b[34m(self, world_size)\u001b[39m\n\u001b[32m    383\u001b[39m \u001b[38;5;28;01mwith\u001b[39;00m autocast(\u001b[38;5;28mself\u001b[39m.amp):\n\u001b[32m    384\u001b[39m     batch = \u001b[38;5;28mself\u001b[39m.preprocess_batch(batch)\n\u001b[32m--> \u001b[39m\u001b[32m385\u001b[39m     loss, \u001b[38;5;28mself\u001b[39m.loss_items = \u001b[38;5;28;43mself\u001b[39;49m\u001b[43m.\u001b[49m\u001b[43mmodel\u001b[49m\u001b[43m(\u001b[49m\u001b[43mbatch\u001b[49m\u001b[43m)\u001b[49m\n\u001b[32m    386\u001b[39m     \u001b[38;5;28mself\u001b[39m.loss = loss.sum()\n\u001b[32m    387\u001b[39m     \u001b[38;5;28;01mif\u001b[39;00m RANK != -\u001b[32m1\u001b[39m:\n",
            "\u001b[36mFile \u001b[39m\u001b[32mc:\\Users\\Ben Wu\\AppData\\Local\\Programs\\Python\\Python311\\Lib\\site-packages\\torch\\nn\\modules\\module.py:1739\u001b[39m, in \u001b[36mModule._wrapped_call_impl\u001b[39m\u001b[34m(self, *args, **kwargs)\u001b[39m\n\u001b[32m   1737\u001b[39m     \u001b[38;5;28;01mreturn\u001b[39;00m \u001b[38;5;28mself\u001b[39m._compiled_call_impl(*args, **kwargs)  \u001b[38;5;66;03m# type: ignore[misc]\u001b[39;00m\n\u001b[32m   1738\u001b[39m \u001b[38;5;28;01melse\u001b[39;00m:\n\u001b[32m-> \u001b[39m\u001b[32m1739\u001b[39m     \u001b[38;5;28;01mreturn\u001b[39;00m \u001b[38;5;28;43mself\u001b[39;49m\u001b[43m.\u001b[49m\u001b[43m_call_impl\u001b[49m\u001b[43m(\u001b[49m\u001b[43m*\u001b[49m\u001b[43margs\u001b[49m\u001b[43m,\u001b[49m\u001b[43m \u001b[49m\u001b[43m*\u001b[49m\u001b[43m*\u001b[49m\u001b[43mkwargs\u001b[49m\u001b[43m)\u001b[49m\n",
            "\u001b[36mFile \u001b[39m\u001b[32mc:\\Users\\Ben Wu\\AppData\\Local\\Programs\\Python\\Python311\\Lib\\site-packages\\torch\\nn\\modules\\module.py:1750\u001b[39m, in \u001b[36mModule._call_impl\u001b[39m\u001b[34m(self, *args, **kwargs)\u001b[39m\n\u001b[32m   1745\u001b[39m \u001b[38;5;66;03m# If we don't have any hooks, we want to skip the rest of the logic in\u001b[39;00m\n\u001b[32m   1746\u001b[39m \u001b[38;5;66;03m# this function, and just call forward.\u001b[39;00m\n\u001b[32m   1747\u001b[39m \u001b[38;5;28;01mif\u001b[39;00m \u001b[38;5;129;01mnot\u001b[39;00m (\u001b[38;5;28mself\u001b[39m._backward_hooks \u001b[38;5;129;01mor\u001b[39;00m \u001b[38;5;28mself\u001b[39m._backward_pre_hooks \u001b[38;5;129;01mor\u001b[39;00m \u001b[38;5;28mself\u001b[39m._forward_hooks \u001b[38;5;129;01mor\u001b[39;00m \u001b[38;5;28mself\u001b[39m._forward_pre_hooks\n\u001b[32m   1748\u001b[39m         \u001b[38;5;129;01mor\u001b[39;00m _global_backward_pre_hooks \u001b[38;5;129;01mor\u001b[39;00m _global_backward_hooks\n\u001b[32m   1749\u001b[39m         \u001b[38;5;129;01mor\u001b[39;00m _global_forward_hooks \u001b[38;5;129;01mor\u001b[39;00m _global_forward_pre_hooks):\n\u001b[32m-> \u001b[39m\u001b[32m1750\u001b[39m     \u001b[38;5;28;01mreturn\u001b[39;00m \u001b[43mforward_call\u001b[49m\u001b[43m(\u001b[49m\u001b[43m*\u001b[49m\u001b[43margs\u001b[49m\u001b[43m,\u001b[49m\u001b[43m \u001b[49m\u001b[43m*\u001b[49m\u001b[43m*\u001b[49m\u001b[43mkwargs\u001b[49m\u001b[43m)\u001b[49m\n\u001b[32m   1752\u001b[39m result = \u001b[38;5;28;01mNone\u001b[39;00m\n\u001b[32m   1753\u001b[39m called_always_called_hooks = \u001b[38;5;28mset\u001b[39m()\n",
            "\u001b[36mFile \u001b[39m\u001b[32mc:\\Users\\Ben Wu\\AppData\\Local\\Programs\\Python\\Python311\\Lib\\site-packages\\ultralytics\\nn\\tasks.py:119\u001b[39m, in \u001b[36mBaseModel.forward\u001b[39m\u001b[34m(self, x, *args, **kwargs)\u001b[39m\n\u001b[32m    105\u001b[39m \u001b[38;5;250m\u001b[39m\u001b[33;03m\"\"\"\u001b[39;00m\n\u001b[32m    106\u001b[39m \u001b[33;03mPerform forward pass of the model for either training or inference.\u001b[39;00m\n\u001b[32m    107\u001b[39m \n\u001b[32m   (...)\u001b[39m\u001b[32m    116\u001b[39m \u001b[33;03m    (torch.Tensor): Loss if x is a dict (training), or network predictions (inference).\u001b[39;00m\n\u001b[32m    117\u001b[39m \u001b[33;03m\"\"\"\u001b[39;00m\n\u001b[32m    118\u001b[39m \u001b[38;5;28;01mif\u001b[39;00m \u001b[38;5;28misinstance\u001b[39m(x, \u001b[38;5;28mdict\u001b[39m):  \u001b[38;5;66;03m# for cases of training and validating while training.\u001b[39;00m\n\u001b[32m--> \u001b[39m\u001b[32m119\u001b[39m     \u001b[38;5;28;01mreturn\u001b[39;00m \u001b[38;5;28;43mself\u001b[39;49m\u001b[43m.\u001b[49m\u001b[43mloss\u001b[49m\u001b[43m(\u001b[49m\u001b[43mx\u001b[49m\u001b[43m,\u001b[49m\u001b[43m \u001b[49m\u001b[43m*\u001b[49m\u001b[43margs\u001b[49m\u001b[43m,\u001b[49m\u001b[43m \u001b[49m\u001b[43m*\u001b[49m\u001b[43m*\u001b[49m\u001b[43mkwargs\u001b[49m\u001b[43m)\u001b[49m\n\u001b[32m    120\u001b[39m \u001b[38;5;28;01mreturn\u001b[39;00m \u001b[38;5;28mself\u001b[39m.predict(x, *args, **kwargs)\n",
            "\u001b[36mFile \u001b[39m\u001b[32mc:\\Users\\Ben Wu\\AppData\\Local\\Programs\\Python\\Python311\\Lib\\site-packages\\ultralytics\\nn\\tasks.py:298\u001b[39m, in \u001b[36mBaseModel.loss\u001b[39m\u001b[34m(self, batch, preds)\u001b[39m\n\u001b[32m    295\u001b[39m \u001b[38;5;28;01mif\u001b[39;00m \u001b[38;5;28mgetattr\u001b[39m(\u001b[38;5;28mself\u001b[39m, \u001b[33m\"\u001b[39m\u001b[33mcriterion\u001b[39m\u001b[33m\"\u001b[39m, \u001b[38;5;28;01mNone\u001b[39;00m) \u001b[38;5;129;01mis\u001b[39;00m \u001b[38;5;28;01mNone\u001b[39;00m:\n\u001b[32m    296\u001b[39m     \u001b[38;5;28mself\u001b[39m.criterion = \u001b[38;5;28mself\u001b[39m.init_criterion()\n\u001b[32m--> \u001b[39m\u001b[32m298\u001b[39m preds = \u001b[38;5;28;43mself\u001b[39;49m\u001b[43m.\u001b[49m\u001b[43mforward\u001b[49m\u001b[43m(\u001b[49m\u001b[43mbatch\u001b[49m\u001b[43m[\u001b[49m\u001b[33;43m\"\u001b[39;49m\u001b[33;43mimg\u001b[39;49m\u001b[33;43m\"\u001b[39;49m\u001b[43m]\u001b[49m\u001b[43m)\u001b[49m \u001b[38;5;28;01mif\u001b[39;00m preds \u001b[38;5;129;01mis\u001b[39;00m \u001b[38;5;28;01mNone\u001b[39;00m \u001b[38;5;28;01melse\u001b[39;00m preds\n\u001b[32m    299\u001b[39m \u001b[38;5;28;01mreturn\u001b[39;00m \u001b[38;5;28mself\u001b[39m.criterion(preds, batch)\n",
            "\u001b[36mFile \u001b[39m\u001b[32mc:\\Users\\Ben Wu\\AppData\\Local\\Programs\\Python\\Python311\\Lib\\site-packages\\ultralytics\\nn\\tasks.py:120\u001b[39m, in \u001b[36mBaseModel.forward\u001b[39m\u001b[34m(self, x, *args, **kwargs)\u001b[39m\n\u001b[32m    118\u001b[39m \u001b[38;5;28;01mif\u001b[39;00m \u001b[38;5;28misinstance\u001b[39m(x, \u001b[38;5;28mdict\u001b[39m):  \u001b[38;5;66;03m# for cases of training and validating while training.\u001b[39;00m\n\u001b[32m    119\u001b[39m     \u001b[38;5;28;01mreturn\u001b[39;00m \u001b[38;5;28mself\u001b[39m.loss(x, *args, **kwargs)\n\u001b[32m--> \u001b[39m\u001b[32m120\u001b[39m \u001b[38;5;28;01mreturn\u001b[39;00m \u001b[38;5;28;43mself\u001b[39;49m\u001b[43m.\u001b[49m\u001b[43mpredict\u001b[49m\u001b[43m(\u001b[49m\u001b[43mx\u001b[49m\u001b[43m,\u001b[49m\u001b[43m \u001b[49m\u001b[43m*\u001b[49m\u001b[43margs\u001b[49m\u001b[43m,\u001b[49m\u001b[43m \u001b[49m\u001b[43m*\u001b[49m\u001b[43m*\u001b[49m\u001b[43mkwargs\u001b[49m\u001b[43m)\u001b[49m\n",
            "\u001b[36mFile \u001b[39m\u001b[32mc:\\Users\\Ben Wu\\AppData\\Local\\Programs\\Python\\Python311\\Lib\\site-packages\\ultralytics\\nn\\tasks.py:138\u001b[39m, in \u001b[36mBaseModel.predict\u001b[39m\u001b[34m(self, x, profile, visualize, augment, embed)\u001b[39m\n\u001b[32m    136\u001b[39m \u001b[38;5;28;01mif\u001b[39;00m augment:\n\u001b[32m    137\u001b[39m     \u001b[38;5;28;01mreturn\u001b[39;00m \u001b[38;5;28mself\u001b[39m._predict_augment(x)\n\u001b[32m--> \u001b[39m\u001b[32m138\u001b[39m \u001b[38;5;28;01mreturn\u001b[39;00m \u001b[38;5;28;43mself\u001b[39;49m\u001b[43m.\u001b[49m\u001b[43m_predict_once\u001b[49m\u001b[43m(\u001b[49m\u001b[43mx\u001b[49m\u001b[43m,\u001b[49m\u001b[43m \u001b[49m\u001b[43mprofile\u001b[49m\u001b[43m,\u001b[49m\u001b[43m \u001b[49m\u001b[43mvisualize\u001b[49m\u001b[43m,\u001b[49m\u001b[43m \u001b[49m\u001b[43membed\u001b[49m\u001b[43m)\u001b[49m\n",
            "\u001b[36mFile \u001b[39m\u001b[32mc:\\Users\\Ben Wu\\AppData\\Local\\Programs\\Python\\Python311\\Lib\\site-packages\\ultralytics\\nn\\tasks.py:159\u001b[39m, in \u001b[36mBaseModel._predict_once\u001b[39m\u001b[34m(self, x, profile, visualize, embed)\u001b[39m\n\u001b[32m    157\u001b[39m \u001b[38;5;28;01mif\u001b[39;00m profile:\n\u001b[32m    158\u001b[39m     \u001b[38;5;28mself\u001b[39m._profile_one_layer(m, x, dt)\n\u001b[32m--> \u001b[39m\u001b[32m159\u001b[39m x = \u001b[43mm\u001b[49m\u001b[43m(\u001b[49m\u001b[43mx\u001b[49m\u001b[43m)\u001b[49m  \u001b[38;5;66;03m# run\u001b[39;00m\n\u001b[32m    160\u001b[39m y.append(x \u001b[38;5;28;01mif\u001b[39;00m m.i \u001b[38;5;129;01min\u001b[39;00m \u001b[38;5;28mself\u001b[39m.save \u001b[38;5;28;01melse\u001b[39;00m \u001b[38;5;28;01mNone\u001b[39;00m)  \u001b[38;5;66;03m# save output\u001b[39;00m\n\u001b[32m    161\u001b[39m \u001b[38;5;28;01mif\u001b[39;00m visualize:\n",
            "\u001b[36mFile \u001b[39m\u001b[32mc:\\Users\\Ben Wu\\AppData\\Local\\Programs\\Python\\Python311\\Lib\\site-packages\\torch\\nn\\modules\\module.py:1739\u001b[39m, in \u001b[36mModule._wrapped_call_impl\u001b[39m\u001b[34m(self, *args, **kwargs)\u001b[39m\n\u001b[32m   1737\u001b[39m     \u001b[38;5;28;01mreturn\u001b[39;00m \u001b[38;5;28mself\u001b[39m._compiled_call_impl(*args, **kwargs)  \u001b[38;5;66;03m# type: ignore[misc]\u001b[39;00m\n\u001b[32m   1738\u001b[39m \u001b[38;5;28;01melse\u001b[39;00m:\n\u001b[32m-> \u001b[39m\u001b[32m1739\u001b[39m     \u001b[38;5;28;01mreturn\u001b[39;00m \u001b[38;5;28;43mself\u001b[39;49m\u001b[43m.\u001b[49m\u001b[43m_call_impl\u001b[49m\u001b[43m(\u001b[49m\u001b[43m*\u001b[49m\u001b[43margs\u001b[49m\u001b[43m,\u001b[49m\u001b[43m \u001b[49m\u001b[43m*\u001b[49m\u001b[43m*\u001b[49m\u001b[43mkwargs\u001b[49m\u001b[43m)\u001b[49m\n",
            "\u001b[36mFile \u001b[39m\u001b[32mc:\\Users\\Ben Wu\\AppData\\Local\\Programs\\Python\\Python311\\Lib\\site-packages\\torch\\nn\\modules\\module.py:1750\u001b[39m, in \u001b[36mModule._call_impl\u001b[39m\u001b[34m(self, *args, **kwargs)\u001b[39m\n\u001b[32m   1745\u001b[39m \u001b[38;5;66;03m# If we don't have any hooks, we want to skip the rest of the logic in\u001b[39;00m\n\u001b[32m   1746\u001b[39m \u001b[38;5;66;03m# this function, and just call forward.\u001b[39;00m\n\u001b[32m   1747\u001b[39m \u001b[38;5;28;01mif\u001b[39;00m \u001b[38;5;129;01mnot\u001b[39;00m (\u001b[38;5;28mself\u001b[39m._backward_hooks \u001b[38;5;129;01mor\u001b[39;00m \u001b[38;5;28mself\u001b[39m._backward_pre_hooks \u001b[38;5;129;01mor\u001b[39;00m \u001b[38;5;28mself\u001b[39m._forward_hooks \u001b[38;5;129;01mor\u001b[39;00m \u001b[38;5;28mself\u001b[39m._forward_pre_hooks\n\u001b[32m   1748\u001b[39m         \u001b[38;5;129;01mor\u001b[39;00m _global_backward_pre_hooks \u001b[38;5;129;01mor\u001b[39;00m _global_backward_hooks\n\u001b[32m   1749\u001b[39m         \u001b[38;5;129;01mor\u001b[39;00m _global_forward_hooks \u001b[38;5;129;01mor\u001b[39;00m _global_forward_pre_hooks):\n\u001b[32m-> \u001b[39m\u001b[32m1750\u001b[39m     \u001b[38;5;28;01mreturn\u001b[39;00m \u001b[43mforward_call\u001b[49m\u001b[43m(\u001b[49m\u001b[43m*\u001b[49m\u001b[43margs\u001b[49m\u001b[43m,\u001b[49m\u001b[43m \u001b[49m\u001b[43m*\u001b[49m\u001b[43m*\u001b[49m\u001b[43mkwargs\u001b[49m\u001b[43m)\u001b[49m\n\u001b[32m   1752\u001b[39m result = \u001b[38;5;28;01mNone\u001b[39;00m\n\u001b[32m   1753\u001b[39m called_always_called_hooks = \u001b[38;5;28mset\u001b[39m()\n",
            "\u001b[36mFile \u001b[39m\u001b[32mc:\\Users\\Ben Wu\\AppData\\Local\\Programs\\Python\\Python311\\Lib\\site-packages\\ultralytics\\nn\\modules\\head.py:204\u001b[39m, in \u001b[36mSegment.forward\u001b[39m\u001b[34m(self, x)\u001b[39m\n\u001b[32m    201\u001b[39m p = \u001b[38;5;28mself\u001b[39m.proto(x[\u001b[32m0\u001b[39m])  \u001b[38;5;66;03m# mask protos\u001b[39;00m\n\u001b[32m    202\u001b[39m bs = p.shape[\u001b[32m0\u001b[39m]  \u001b[38;5;66;03m# batch size\u001b[39;00m\n\u001b[32m--> \u001b[39m\u001b[32m204\u001b[39m mc = torch.cat(\u001b[43m[\u001b[49m\u001b[38;5;28;43mself\u001b[39;49m\u001b[43m.\u001b[49m\u001b[43mcv4\u001b[49m\u001b[43m[\u001b[49m\u001b[43mi\u001b[49m\u001b[43m]\u001b[49m\u001b[43m(\u001b[49m\u001b[43mx\u001b[49m\u001b[43m[\u001b[49m\u001b[43mi\u001b[49m\u001b[43m]\u001b[49m\u001b[43m)\u001b[49m\u001b[43m.\u001b[49m\u001b[43mview\u001b[49m\u001b[43m(\u001b[49m\u001b[43mbs\u001b[49m\u001b[43m,\u001b[49m\u001b[43m \u001b[49m\u001b[38;5;28;43mself\u001b[39;49m\u001b[43m.\u001b[49m\u001b[43mnm\u001b[49m\u001b[43m,\u001b[49m\u001b[43m \u001b[49m\u001b[43m-\u001b[49m\u001b[32;43m1\u001b[39;49m\u001b[43m)\u001b[49m\u001b[43m \u001b[49m\u001b[38;5;28;43;01mfor\u001b[39;49;00m\u001b[43m \u001b[49m\u001b[43mi\u001b[49m\u001b[43m \u001b[49m\u001b[38;5;129;43;01min\u001b[39;49;00m\u001b[43m \u001b[49m\u001b[38;5;28;43mrange\u001b[39;49m\u001b[43m(\u001b[49m\u001b[38;5;28;43mself\u001b[39;49m\u001b[43m.\u001b[49m\u001b[43mnl\u001b[49m\u001b[43m)\u001b[49m\u001b[43m]\u001b[49m, \u001b[32m2\u001b[39m)  \u001b[38;5;66;03m# mask coefficients\u001b[39;00m\n\u001b[32m    205\u001b[39m x = Detect.forward(\u001b[38;5;28mself\u001b[39m, x)\n\u001b[32m    206\u001b[39m \u001b[38;5;28;01mif\u001b[39;00m \u001b[38;5;28mself\u001b[39m.training:\n",
            "\u001b[36mFile \u001b[39m\u001b[32mc:\\Users\\Ben Wu\\AppData\\Local\\Programs\\Python\\Python311\\Lib\\site-packages\\ultralytics\\nn\\modules\\head.py:204\u001b[39m, in \u001b[36m<listcomp>\u001b[39m\u001b[34m(.0)\u001b[39m\n\u001b[32m    201\u001b[39m p = \u001b[38;5;28mself\u001b[39m.proto(x[\u001b[32m0\u001b[39m])  \u001b[38;5;66;03m# mask protos\u001b[39;00m\n\u001b[32m    202\u001b[39m bs = p.shape[\u001b[32m0\u001b[39m]  \u001b[38;5;66;03m# batch size\u001b[39;00m\n\u001b[32m--> \u001b[39m\u001b[32m204\u001b[39m mc = torch.cat([\u001b[38;5;28;43mself\u001b[39;49m\u001b[43m.\u001b[49m\u001b[43mcv4\u001b[49m\u001b[43m[\u001b[49m\u001b[43mi\u001b[49m\u001b[43m]\u001b[49m\u001b[43m(\u001b[49m\u001b[43mx\u001b[49m\u001b[43m[\u001b[49m\u001b[43mi\u001b[49m\u001b[43m]\u001b[49m\u001b[43m)\u001b[49m.view(bs, \u001b[38;5;28mself\u001b[39m.nm, -\u001b[32m1\u001b[39m) \u001b[38;5;28;01mfor\u001b[39;00m i \u001b[38;5;129;01min\u001b[39;00m \u001b[38;5;28mrange\u001b[39m(\u001b[38;5;28mself\u001b[39m.nl)], \u001b[32m2\u001b[39m)  \u001b[38;5;66;03m# mask coefficients\u001b[39;00m\n\u001b[32m    205\u001b[39m x = Detect.forward(\u001b[38;5;28mself\u001b[39m, x)\n\u001b[32m    206\u001b[39m \u001b[38;5;28;01mif\u001b[39;00m \u001b[38;5;28mself\u001b[39m.training:\n",
            "\u001b[36mFile \u001b[39m\u001b[32mc:\\Users\\Ben Wu\\AppData\\Local\\Programs\\Python\\Python311\\Lib\\site-packages\\torch\\nn\\modules\\module.py:1739\u001b[39m, in \u001b[36mModule._wrapped_call_impl\u001b[39m\u001b[34m(self, *args, **kwargs)\u001b[39m\n\u001b[32m   1737\u001b[39m     \u001b[38;5;28;01mreturn\u001b[39;00m \u001b[38;5;28mself\u001b[39m._compiled_call_impl(*args, **kwargs)  \u001b[38;5;66;03m# type: ignore[misc]\u001b[39;00m\n\u001b[32m   1738\u001b[39m \u001b[38;5;28;01melse\u001b[39;00m:\n\u001b[32m-> \u001b[39m\u001b[32m1739\u001b[39m     \u001b[38;5;28;01mreturn\u001b[39;00m \u001b[38;5;28;43mself\u001b[39;49m\u001b[43m.\u001b[49m\u001b[43m_call_impl\u001b[49m\u001b[43m(\u001b[49m\u001b[43m*\u001b[49m\u001b[43margs\u001b[49m\u001b[43m,\u001b[49m\u001b[43m \u001b[49m\u001b[43m*\u001b[49m\u001b[43m*\u001b[49m\u001b[43mkwargs\u001b[49m\u001b[43m)\u001b[49m\n",
            "\u001b[36mFile \u001b[39m\u001b[32mc:\\Users\\Ben Wu\\AppData\\Local\\Programs\\Python\\Python311\\Lib\\site-packages\\torch\\nn\\modules\\module.py:1750\u001b[39m, in \u001b[36mModule._call_impl\u001b[39m\u001b[34m(self, *args, **kwargs)\u001b[39m\n\u001b[32m   1745\u001b[39m \u001b[38;5;66;03m# If we don't have any hooks, we want to skip the rest of the logic in\u001b[39;00m\n\u001b[32m   1746\u001b[39m \u001b[38;5;66;03m# this function, and just call forward.\u001b[39;00m\n\u001b[32m   1747\u001b[39m \u001b[38;5;28;01mif\u001b[39;00m \u001b[38;5;129;01mnot\u001b[39;00m (\u001b[38;5;28mself\u001b[39m._backward_hooks \u001b[38;5;129;01mor\u001b[39;00m \u001b[38;5;28mself\u001b[39m._backward_pre_hooks \u001b[38;5;129;01mor\u001b[39;00m \u001b[38;5;28mself\u001b[39m._forward_hooks \u001b[38;5;129;01mor\u001b[39;00m \u001b[38;5;28mself\u001b[39m._forward_pre_hooks\n\u001b[32m   1748\u001b[39m         \u001b[38;5;129;01mor\u001b[39;00m _global_backward_pre_hooks \u001b[38;5;129;01mor\u001b[39;00m _global_backward_hooks\n\u001b[32m   1749\u001b[39m         \u001b[38;5;129;01mor\u001b[39;00m _global_forward_hooks \u001b[38;5;129;01mor\u001b[39;00m _global_forward_pre_hooks):\n\u001b[32m-> \u001b[39m\u001b[32m1750\u001b[39m     \u001b[38;5;28;01mreturn\u001b[39;00m \u001b[43mforward_call\u001b[49m\u001b[43m(\u001b[49m\u001b[43m*\u001b[49m\u001b[43margs\u001b[49m\u001b[43m,\u001b[49m\u001b[43m \u001b[49m\u001b[43m*\u001b[49m\u001b[43m*\u001b[49m\u001b[43mkwargs\u001b[49m\u001b[43m)\u001b[49m\n\u001b[32m   1752\u001b[39m result = \u001b[38;5;28;01mNone\u001b[39;00m\n\u001b[32m   1753\u001b[39m called_always_called_hooks = \u001b[38;5;28mset\u001b[39m()\n",
            "\u001b[36mFile \u001b[39m\u001b[32mc:\\Users\\Ben Wu\\AppData\\Local\\Programs\\Python\\Python311\\Lib\\site-packages\\torch\\nn\\modules\\container.py:250\u001b[39m, in \u001b[36mSequential.forward\u001b[39m\u001b[34m(self, input)\u001b[39m\n\u001b[32m    248\u001b[39m \u001b[38;5;28;01mdef\u001b[39;00m\u001b[38;5;250m \u001b[39m\u001b[34mforward\u001b[39m(\u001b[38;5;28mself\u001b[39m, \u001b[38;5;28minput\u001b[39m):\n\u001b[32m    249\u001b[39m     \u001b[38;5;28;01mfor\u001b[39;00m module \u001b[38;5;129;01min\u001b[39;00m \u001b[38;5;28mself\u001b[39m:\n\u001b[32m--> \u001b[39m\u001b[32m250\u001b[39m         \u001b[38;5;28minput\u001b[39m = \u001b[43mmodule\u001b[49m\u001b[43m(\u001b[49m\u001b[38;5;28;43minput\u001b[39;49m\u001b[43m)\u001b[49m\n\u001b[32m    251\u001b[39m     \u001b[38;5;28;01mreturn\u001b[39;00m \u001b[38;5;28minput\u001b[39m\n",
            "\u001b[36mFile \u001b[39m\u001b[32mc:\\Users\\Ben Wu\\AppData\\Local\\Programs\\Python\\Python311\\Lib\\site-packages\\torch\\nn\\modules\\module.py:1739\u001b[39m, in \u001b[36mModule._wrapped_call_impl\u001b[39m\u001b[34m(self, *args, **kwargs)\u001b[39m\n\u001b[32m   1737\u001b[39m     \u001b[38;5;28;01mreturn\u001b[39;00m \u001b[38;5;28mself\u001b[39m._compiled_call_impl(*args, **kwargs)  \u001b[38;5;66;03m# type: ignore[misc]\u001b[39;00m\n\u001b[32m   1738\u001b[39m \u001b[38;5;28;01melse\u001b[39;00m:\n\u001b[32m-> \u001b[39m\u001b[32m1739\u001b[39m     \u001b[38;5;28;01mreturn\u001b[39;00m \u001b[38;5;28;43mself\u001b[39;49m\u001b[43m.\u001b[49m\u001b[43m_call_impl\u001b[49m\u001b[43m(\u001b[49m\u001b[43m*\u001b[49m\u001b[43margs\u001b[49m\u001b[43m,\u001b[49m\u001b[43m \u001b[49m\u001b[43m*\u001b[49m\u001b[43m*\u001b[49m\u001b[43mkwargs\u001b[49m\u001b[43m)\u001b[49m\n",
            "\u001b[36mFile \u001b[39m\u001b[32mc:\\Users\\Ben Wu\\AppData\\Local\\Programs\\Python\\Python311\\Lib\\site-packages\\torch\\nn\\modules\\module.py:1750\u001b[39m, in \u001b[36mModule._call_impl\u001b[39m\u001b[34m(self, *args, **kwargs)\u001b[39m\n\u001b[32m   1745\u001b[39m \u001b[38;5;66;03m# If we don't have any hooks, we want to skip the rest of the logic in\u001b[39;00m\n\u001b[32m   1746\u001b[39m \u001b[38;5;66;03m# this function, and just call forward.\u001b[39;00m\n\u001b[32m   1747\u001b[39m \u001b[38;5;28;01mif\u001b[39;00m \u001b[38;5;129;01mnot\u001b[39;00m (\u001b[38;5;28mself\u001b[39m._backward_hooks \u001b[38;5;129;01mor\u001b[39;00m \u001b[38;5;28mself\u001b[39m._backward_pre_hooks \u001b[38;5;129;01mor\u001b[39;00m \u001b[38;5;28mself\u001b[39m._forward_hooks \u001b[38;5;129;01mor\u001b[39;00m \u001b[38;5;28mself\u001b[39m._forward_pre_hooks\n\u001b[32m   1748\u001b[39m         \u001b[38;5;129;01mor\u001b[39;00m _global_backward_pre_hooks \u001b[38;5;129;01mor\u001b[39;00m _global_backward_hooks\n\u001b[32m   1749\u001b[39m         \u001b[38;5;129;01mor\u001b[39;00m _global_forward_hooks \u001b[38;5;129;01mor\u001b[39;00m _global_forward_pre_hooks):\n\u001b[32m-> \u001b[39m\u001b[32m1750\u001b[39m     \u001b[38;5;28;01mreturn\u001b[39;00m \u001b[43mforward_call\u001b[49m\u001b[43m(\u001b[49m\u001b[43m*\u001b[49m\u001b[43margs\u001b[49m\u001b[43m,\u001b[49m\u001b[43m \u001b[49m\u001b[43m*\u001b[49m\u001b[43m*\u001b[49m\u001b[43mkwargs\u001b[49m\u001b[43m)\u001b[49m\n\u001b[32m   1752\u001b[39m result = \u001b[38;5;28;01mNone\u001b[39;00m\n\u001b[32m   1753\u001b[39m called_always_called_hooks = \u001b[38;5;28mset\u001b[39m()\n",
            "\u001b[36mFile \u001b[39m\u001b[32mc:\\Users\\Ben Wu\\AppData\\Local\\Programs\\Python\\Python311\\Lib\\site-packages\\ultralytics\\nn\\modules\\conv.py:79\u001b[39m, in \u001b[36mConv.forward\u001b[39m\u001b[34m(self, x)\u001b[39m\n\u001b[32m     69\u001b[39m \u001b[38;5;28;01mdef\u001b[39;00m\u001b[38;5;250m \u001b[39m\u001b[34mforward\u001b[39m(\u001b[38;5;28mself\u001b[39m, x):\n\u001b[32m     70\u001b[39m \u001b[38;5;250m    \u001b[39m\u001b[33;03m\"\"\"\u001b[39;00m\n\u001b[32m     71\u001b[39m \u001b[33;03m    Apply convolution, batch normalization and activation to input tensor.\u001b[39;00m\n\u001b[32m     72\u001b[39m \n\u001b[32m   (...)\u001b[39m\u001b[32m     77\u001b[39m \u001b[33;03m        (torch.Tensor): Output tensor.\u001b[39;00m\n\u001b[32m     78\u001b[39m \u001b[33;03m    \"\"\"\u001b[39;00m\n\u001b[32m---> \u001b[39m\u001b[32m79\u001b[39m     \u001b[38;5;28;01mreturn\u001b[39;00m \u001b[38;5;28mself\u001b[39m.act(\u001b[38;5;28mself\u001b[39m.bn(\u001b[38;5;28;43mself\u001b[39;49m\u001b[43m.\u001b[49m\u001b[43mconv\u001b[49m\u001b[43m(\u001b[49m\u001b[43mx\u001b[49m\u001b[43m)\u001b[49m))\n",
            "\u001b[36mFile \u001b[39m\u001b[32mc:\\Users\\Ben Wu\\AppData\\Local\\Programs\\Python\\Python311\\Lib\\site-packages\\torch\\nn\\modules\\module.py:1739\u001b[39m, in \u001b[36mModule._wrapped_call_impl\u001b[39m\u001b[34m(self, *args, **kwargs)\u001b[39m\n\u001b[32m   1737\u001b[39m     \u001b[38;5;28;01mreturn\u001b[39;00m \u001b[38;5;28mself\u001b[39m._compiled_call_impl(*args, **kwargs)  \u001b[38;5;66;03m# type: ignore[misc]\u001b[39;00m\n\u001b[32m   1738\u001b[39m \u001b[38;5;28;01melse\u001b[39;00m:\n\u001b[32m-> \u001b[39m\u001b[32m1739\u001b[39m     \u001b[38;5;28;01mreturn\u001b[39;00m \u001b[38;5;28;43mself\u001b[39;49m\u001b[43m.\u001b[49m\u001b[43m_call_impl\u001b[49m\u001b[43m(\u001b[49m\u001b[43m*\u001b[49m\u001b[43margs\u001b[49m\u001b[43m,\u001b[49m\u001b[43m \u001b[49m\u001b[43m*\u001b[49m\u001b[43m*\u001b[49m\u001b[43mkwargs\u001b[49m\u001b[43m)\u001b[49m\n",
            "\u001b[36mFile \u001b[39m\u001b[32mc:\\Users\\Ben Wu\\AppData\\Local\\Programs\\Python\\Python311\\Lib\\site-packages\\torch\\nn\\modules\\module.py:1750\u001b[39m, in \u001b[36mModule._call_impl\u001b[39m\u001b[34m(self, *args, **kwargs)\u001b[39m\n\u001b[32m   1745\u001b[39m \u001b[38;5;66;03m# If we don't have any hooks, we want to skip the rest of the logic in\u001b[39;00m\n\u001b[32m   1746\u001b[39m \u001b[38;5;66;03m# this function, and just call forward.\u001b[39;00m\n\u001b[32m   1747\u001b[39m \u001b[38;5;28;01mif\u001b[39;00m \u001b[38;5;129;01mnot\u001b[39;00m (\u001b[38;5;28mself\u001b[39m._backward_hooks \u001b[38;5;129;01mor\u001b[39;00m \u001b[38;5;28mself\u001b[39m._backward_pre_hooks \u001b[38;5;129;01mor\u001b[39;00m \u001b[38;5;28mself\u001b[39m._forward_hooks \u001b[38;5;129;01mor\u001b[39;00m \u001b[38;5;28mself\u001b[39m._forward_pre_hooks\n\u001b[32m   1748\u001b[39m         \u001b[38;5;129;01mor\u001b[39;00m _global_backward_pre_hooks \u001b[38;5;129;01mor\u001b[39;00m _global_backward_hooks\n\u001b[32m   1749\u001b[39m         \u001b[38;5;129;01mor\u001b[39;00m _global_forward_hooks \u001b[38;5;129;01mor\u001b[39;00m _global_forward_pre_hooks):\n\u001b[32m-> \u001b[39m\u001b[32m1750\u001b[39m     \u001b[38;5;28;01mreturn\u001b[39;00m \u001b[43mforward_call\u001b[49m\u001b[43m(\u001b[49m\u001b[43m*\u001b[49m\u001b[43margs\u001b[49m\u001b[43m,\u001b[49m\u001b[43m \u001b[49m\u001b[43m*\u001b[49m\u001b[43m*\u001b[49m\u001b[43mkwargs\u001b[49m\u001b[43m)\u001b[49m\n\u001b[32m   1752\u001b[39m result = \u001b[38;5;28;01mNone\u001b[39;00m\n\u001b[32m   1753\u001b[39m called_always_called_hooks = \u001b[38;5;28mset\u001b[39m()\n",
            "\u001b[36mFile \u001b[39m\u001b[32mc:\\Users\\Ben Wu\\AppData\\Local\\Programs\\Python\\Python311\\Lib\\site-packages\\torch\\nn\\modules\\conv.py:554\u001b[39m, in \u001b[36mConv2d.forward\u001b[39m\u001b[34m(self, input)\u001b[39m\n\u001b[32m    553\u001b[39m \u001b[38;5;28;01mdef\u001b[39;00m\u001b[38;5;250m \u001b[39m\u001b[34mforward\u001b[39m(\u001b[38;5;28mself\u001b[39m, \u001b[38;5;28minput\u001b[39m: Tensor) -> Tensor:\n\u001b[32m--> \u001b[39m\u001b[32m554\u001b[39m     \u001b[38;5;28;01mreturn\u001b[39;00m \u001b[38;5;28;43mself\u001b[39;49m\u001b[43m.\u001b[49m\u001b[43m_conv_forward\u001b[49m\u001b[43m(\u001b[49m\u001b[38;5;28;43minput\u001b[39;49m\u001b[43m,\u001b[49m\u001b[43m \u001b[49m\u001b[38;5;28;43mself\u001b[39;49m\u001b[43m.\u001b[49m\u001b[43mweight\u001b[49m\u001b[43m,\u001b[49m\u001b[43m \u001b[49m\u001b[38;5;28;43mself\u001b[39;49m\u001b[43m.\u001b[49m\u001b[43mbias\u001b[49m\u001b[43m)\u001b[49m\n",
            "\u001b[36mFile \u001b[39m\u001b[32mc:\\Users\\Ben Wu\\AppData\\Local\\Programs\\Python\\Python311\\Lib\\site-packages\\torch\\nn\\modules\\conv.py:549\u001b[39m, in \u001b[36mConv2d._conv_forward\u001b[39m\u001b[34m(self, input, weight, bias)\u001b[39m\n\u001b[32m    537\u001b[39m \u001b[38;5;28;01mif\u001b[39;00m \u001b[38;5;28mself\u001b[39m.padding_mode != \u001b[33m\"\u001b[39m\u001b[33mzeros\u001b[39m\u001b[33m\"\u001b[39m:\n\u001b[32m    538\u001b[39m     \u001b[38;5;28;01mreturn\u001b[39;00m F.conv2d(\n\u001b[32m    539\u001b[39m         F.pad(\n\u001b[32m    540\u001b[39m             \u001b[38;5;28minput\u001b[39m, \u001b[38;5;28mself\u001b[39m._reversed_padding_repeated_twice, mode=\u001b[38;5;28mself\u001b[39m.padding_mode\n\u001b[32m   (...)\u001b[39m\u001b[32m    547\u001b[39m         \u001b[38;5;28mself\u001b[39m.groups,\n\u001b[32m    548\u001b[39m     )\n\u001b[32m--> \u001b[39m\u001b[32m549\u001b[39m \u001b[38;5;28;01mreturn\u001b[39;00m \u001b[43mF\u001b[49m\u001b[43m.\u001b[49m\u001b[43mconv2d\u001b[49m\u001b[43m(\u001b[49m\n\u001b[32m    550\u001b[39m \u001b[43m    \u001b[49m\u001b[38;5;28;43minput\u001b[39;49m\u001b[43m,\u001b[49m\u001b[43m \u001b[49m\u001b[43mweight\u001b[49m\u001b[43m,\u001b[49m\u001b[43m \u001b[49m\u001b[43mbias\u001b[49m\u001b[43m,\u001b[49m\u001b[43m \u001b[49m\u001b[38;5;28;43mself\u001b[39;49m\u001b[43m.\u001b[49m\u001b[43mstride\u001b[49m\u001b[43m,\u001b[49m\u001b[43m \u001b[49m\u001b[38;5;28;43mself\u001b[39;49m\u001b[43m.\u001b[49m\u001b[43mpadding\u001b[49m\u001b[43m,\u001b[49m\u001b[43m \u001b[49m\u001b[38;5;28;43mself\u001b[39;49m\u001b[43m.\u001b[49m\u001b[43mdilation\u001b[49m\u001b[43m,\u001b[49m\u001b[43m \u001b[49m\u001b[38;5;28;43mself\u001b[39;49m\u001b[43m.\u001b[49m\u001b[43mgroups\u001b[49m\n\u001b[32m    551\u001b[39m \u001b[43m\u001b[49m\u001b[43m)\u001b[49m\n",
            "\u001b[31mKeyboardInterrupt\u001b[39m: "
          ]
        }
      ],
      "source": [
        "# Train the Segmentation Model\n",
        "\n",
        "# Import necessary libraries\n",
        "import torch\n",
        "from ultralytics import YOLO\n",
        "\n",
        "# Check if GPU is available\n",
        "if torch.cuda.is_available():\n",
        "    device = torch.device('cuda')\n",
        "    print('GPU is available')\n",
        "else:\n",
        "    device = torch.device('cpu')\n",
        "    print('GPU is not available, using CPU')\n",
        "\n",
        "\n",
        "# Initialize the YOLOv8 model for segmentation\n",
        "model_segmentation = YOLO('yolov8n-seg.pt')  # Use a pre-trained YOLOv8 model for segmentation\n",
        "\n",
        "# Configure the model for training\n",
        "model_segmentation.train(data='yoloCOCO.yaml', epochs=50, imgsz=640)\n",
        "\n",
        "print('YOLOv8 segmentation model training completed.')"
      ]
    },
    {
      "cell_type": "code",
      "execution_count": null,
      "metadata": {},
      "outputs": [],
      "source": []
    },
    {
      "cell_type": "markdown",
      "metadata": {
        "id": "KCEmv8E94hrW"
      },
      "source": [
        "# Evaluate Model Performance\n",
        "Evaluate both models using metrics like precision, recall, mAP, and visualization tools."
      ]
    },
    {
      "cell_type": "code",
      "execution_count": null,
      "metadata": {
        "id": "VOknr6hh4hrW"
      },
      "outputs": [],
      "source": [
        "# Evaluate Model Performance\n",
        "\n",
        "# Import necessary libraries\n",
        "import matplotlib.pyplot as plt\n",
        "from sklearn.metrics import precision_score, recall_score, f1_score, confusion_matrix, ConfusionMatrixDisplay\n",
        "import numpy as np\n",
        "\n",
        "# Function to evaluate classification model\n",
        "def evaluate_classification_model(model, data_loader):\n",
        "    model.eval()\n",
        "    all_preds = []\n",
        "    all_labels = []\n",
        "    with torch.no_grad():\n",
        "        for images, labels in data_loader:\n",
        "            images, labels = images.to(device), labels.to(device)\n",
        "            outputs = model(images)\n",
        "            _, preds = torch.max(outputs, 1)\n",
        "            all_preds.extend(preds.cpu().numpy())\n",
        "            all_labels.extend(labels.cpu().numpy())\n",
        "\n",
        "    precision = precision_score(all_labels, all_preds, average='weighted')\n",
        "    recall = recall_score(all_labels, all_preds, average='weighted')\n",
        "    f1 = f1_score(all_labels, all_preds, average='weighted')\n",
        "    cm = confusion_matrix(all_labels, all_preds)\n",
        "\n",
        "    print(f'Precision: {precision:.4f}')\n",
        "    print(f'Recall: {recall:.4f}')\n",
        "    print(f'F1 Score: {f1:.4f}')\n",
        "\n",
        "    disp = ConfusionMatrixDisplay(confusion_matrix=cm, display_labels=model.names)\n",
        "    disp.plot(cmap=plt.cm.Blues)\n",
        "    plt.show()\n",
        "\n",
        "# Function to evaluate segmentation model\n",
        "def evaluate_segmentation_model(model, data_loader):\n",
        "    model.eval()\n",
        "    all_preds = []\n",
        "    all_labels = []\n",
        "    with torch.no_grad():\n",
        "        for images, labels in data_loader:\n",
        "            images, labels = images.to(device), labels.to(device)\n",
        "            outputs = model(images)\n",
        "            preds = torch.argmax(outputs, dim=1)\n",
        "            all_preds.extend(preds.cpu().numpy().flatten())\n",
        "            all_labels.extend(labels.cpu().numpy().flatten())\n",
        "\n",
        "    precision = precision_score(all_labels, all_preds, average='weighted')\n",
        "    recall = recall_score(all_labels, all_preds, average='weighted')\n",
        "    f1 = f1_score(all_labels, all_preds, average='weighted')\n",
        "    cm = confusion_matrix(all_labels, all_preds)\n",
        "\n",
        "    print(f'Precision: {precision:.4f}')\n",
        "    print(f'Recall: {recall:.4f}')\n",
        "    print(f'F1 Score: {f1:.4f}')\n",
        "\n",
        "    disp = ConfusionMatrixDisplay(confusion_matrix=cm, display_labels=model.names)\n",
        "    disp.plot(cmap=plt.cm.Blues)\n",
        "    plt.show()\n",
        "\n",
        "# Assuming data loaders for validation data are available as val_loader_classification and val_loader_segmentation\n",
        "# Evaluate the classification model\n",
        "evaluate_classification_model(model_classification, val_loader_classification)\n",
        "\n",
        "# Evaluate the segmentation model\n",
        "evaluate_segmentation_model(model_segmentation, val_loader_segmentation)"
      ]
    },
    {
      "cell_type": "markdown",
      "metadata": {
        "id": "_UMa-4PN4hrW"
      },
      "source": [
        "# Perform Background Removal\n",
        "Implement a pipeline to use the trained segmentation model to remove backgrounds from clothing images."
      ]
    },
    {
      "cell_type": "code",
      "execution_count": null,
      "metadata": {
        "id": "2W-f0b_x4hrX"
      },
      "outputs": [],
      "source": [
        "# Perform Background Removal\n",
        "\n",
        "# Import necessary libraries\n",
        "import cv2\n",
        "import numpy as np\n",
        "from matplotlib import pyplot as plt\n",
        "\n",
        "# Function to remove background using the segmentation model\n",
        "def remove_background(image_path, model):\n",
        "    # Load the image\n",
        "    image = cv2.imread(image_path)\n",
        "    image_rgb = cv2.cvtColor(image, cv2.COLOR_BGR2RGB)\n",
        "\n",
        "    # Preprocess the image for the model\n",
        "    input_image = cv2.resize(image_rgb, (640, 640))\n",
        "    input_image = input_image / 255.0\n",
        "    input_image = np.transpose(input_image, (2, 0, 1))\n",
        "    input_image = np.expand_dims(input_image, axis=0)\n",
        "    input_image = torch.tensor(input_image, dtype=torch.float32).to(device)\n",
        "\n",
        "    # Get the segmentation mask from the model\n",
        "    with torch.no_grad():\n",
        "        output = model(input_image)[0]\n",
        "    mask = torch.argmax(output, dim=1).cpu().numpy()[0]\n",
        "\n",
        "    # Resize the mask to the original image size\n",
        "    mask = cv2.resize(mask, (image.shape[1], image.shape[0]), interpolation=cv2.INTER_NEAREST)\n",
        "\n",
        "    # Create a binary mask\n",
        "    binary_mask = (mask > 0).astype(np.uint8)\n",
        "\n",
        "    # Apply the mask to the image\n",
        "    result = cv2.bitwise_and(image_rgb, image_rgb, mask=binary_mask)\n",
        "\n",
        "    return result\n",
        "\n",
        "# Example usage\n",
        "image_path = 'path_to_your_image.jpg'  # Replace with the path to your image\n",
        "result = remove_background(image_path, model_segmentation)\n",
        "\n",
        "# Display the original image and the result\n",
        "plt.figure(figsize=(10, 5))\n",
        "plt.subplot(1, 2, 1)\n",
        "plt.title('Original Image')\n",
        "plt.imshow(cv2.cvtColor(cv2.imread(image_path), cv2.COLOR_BGR2RGB))\n",
        "plt.axis('off')\n",
        "\n",
        "plt.subplot(1, 2, 2)\n",
        "plt.title('Background Removed')\n",
        "plt.imshow(result)\n",
        "plt.axis('off')\n",
        "\n",
        "plt.show()"
      ]
    },
    {
      "cell_type": "markdown",
      "metadata": {
        "id": "ZDpu9mhO4hrX"
      },
      "source": [
        "# Export and Save the Models\n",
        "Export the trained models in appropriate formats (ONNX, TorchScript, etc.) and save them to Google Drive for future use."
      ]
    },
    {
      "cell_type": "code",
      "execution_count": null,
      "metadata": {
        "id": "jwV0G6x14hrX"
      },
      "outputs": [],
      "source": [
        "# Export and Save the Models\n",
        "\n",
        "# Export the trained classification model to ONNX format\n",
        "classification_onnx_path = os.path.join(project_path, 'yolov8_classification.onnx')\n",
        "model_classification.export(format='onnx', path=classification_onnx_path)\n",
        "print(f'Classification model exported to {classification_onnx_path}')\n",
        "\n",
        "# Export the trained segmentation model to ONNX format\n",
        "segmentation_onnx_path = os.path.join(project_path, 'yolov8_segmentation.onnx')\n",
        "model_segmentation.export(format='onnx', path=segmentation_onnx_path)\n",
        "print(f'Segmentation model exported to {segmentation_onnx_path}')\n",
        "\n",
        "# Save the trained classification model to TorchScript format\n",
        "classification_torchscript_path = os.path.join(project_path, 'yolov8_classification.pt')\n",
        "model_classification.save(path=classification_torchscript_path)\n",
        "print(f'Classification model saved to {classification_torchscript_path}')\n",
        "\n",
        "# Save the trained segmentation model to TorchScript format\n",
        "segmentation_torchscript_path = os.path.join(project_path, 'yolov8_segmentation.pt')\n",
        "model_segmentation.save(path=segmentation_torchscript_path)\n",
        "print(f'Segmentation model saved to {segmentation_torchscript_path}')\n",
        "\n",
        "# Save models to Google Drive\n",
        "drive_classification_onnx_path = '/content/drive/MyDrive/YOLOv8-Clothing-Classification/yolov8_classification.onnx'\n",
        "drive_segmentation_onnx_path = '/content/drive/MyDrive/YOLOv8-Clothing-Classification/yolov8_segmentation.onnx'\n",
        "drive_classification_torchscript_path = '/content/drive/MyDrive/YOLOv8-Clothing-Classification/yolov8_classification.pt'\n",
        "drive_segmentation_torchscript_path = '/content/drive/MyDrive/YOLOv8-Clothing-Classification/yolov8_segmentation.pt'\n",
        "\n",
        "shutil.copy(classification_onnx_path, drive_classification_onnx_path)\n",
        "shutil.copy(segmentation_onnx_path, drive_segmentation_onnx_path)\n",
        "shutil.copy(classification_torchscript_path, drive_classification_torchscript_path)\n",
        "shutil.copy(segmentation_torchscript_path, drive_segmentation_torchscript_path)\n",
        "\n",
        "print('Models saved to Google Drive.')"
      ]
    }
  ],
  "metadata": {
    "accelerator": "GPU",
    "colab": {
      "gpuType": "T4",
      "provenance": []
    },
    "kernelspec": {
      "display_name": "Python 3",
      "name": "python3"
    },
    "language_info": {
      "codemirror_mode": {
        "name": "ipython",
        "version": 3
      },
      "file_extension": ".py",
      "mimetype": "text/x-python",
      "name": "python",
      "nbconvert_exporter": "python",
      "pygments_lexer": "ipython3",
      "version": "3.11.1"
    }
  },
  "nbformat": 4,
  "nbformat_minor": 0
}
