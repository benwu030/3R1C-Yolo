{
  "cells": [
    {
      "cell_type": "markdown",
      "metadata": {
        "id": "eork02bh4hrR"
      },
      "source": [
        "# Setup Environment in Google Colab\n",
        "Configure Google Colab environment, check for GPU availability, and mount Google Drive for storage."
      ]
    },
    {
      "cell_type": "code",
      "execution_count": 1,
      "metadata": {
        "id": "64Jsd5Iq4hrT",
        "colab": {
          "base_uri": "https://localhost:8080/"
        },
        "outputId": "70bc48ec-6276-43fa-ee35-573866412141"
      },
      "outputs": [
        {
          "output_type": "stream",
          "name": "stdout",
          "text": [
            "GPU is not available, using CPU\n",
            "Mounted at /content/drive\n",
            "Changed working directory to /content/drive/MyDrive/3R1CSeg-MultiPolygon\n"
          ]
        }
      ],
      "source": [
        "# Check if GPU is available\n",
        "import torch\n",
        "if torch.cuda.is_available():\n",
        "    device = torch.device('cuda')\n",
        "    print('GPU is available')\n",
        "else:\n",
        "    device = torch.device('cpu')\n",
        "    print('GPU is not available, using CPU')\n",
        "\n",
        "# Mount Google Drive\n",
        "from google.colab import drive\n",
        "drive.mount('/content/drive')\n",
        "\n",
        "# Change directory to the project folder in Google Drive\n",
        "import os\n",
        "project_path = '/content/drive/MyDrive/3R1CSeg-MultiPolygon'\n",
        "if not os.path.exists(project_path):\n",
        "    os.makedirs(project_path)\n",
        "os.chdir(project_path)\n",
        "print(f'Changed working directory to {project_path}')"
      ]
    },
    {
      "cell_type": "markdown",
      "metadata": {
        "id": "PlG_tmrp4hrU"
      },
      "source": [
        "# Install YOLOv8\n",
        "Install the Ultralytics YOLOv8 package and other required dependencies."
      ]
    },
    {
      "cell_type": "code",
      "execution_count": null,
      "metadata": {
        "colab": {
          "base_uri": "https://localhost:8080/"
        },
        "id": "E0fcEoLa4hrU",
        "outputId": "587984db-a41e-4db6-9b35-86b499b8f90e"
      },
      "outputs": [
        {
          "output_type": "stream",
          "name": "stdout",
          "text": [
            "Collecting ultralytics\n",
            "  Downloading ultralytics-8.3.105-py3-none-any.whl.metadata (37 kB)\n",
            "Requirement already satisfied: numpy<=2.1.1,>=1.23.0 in /usr/local/lib/python3.11/dist-packages (from ultralytics) (2.0.2)\n",
            "Requirement already satisfied: matplotlib>=3.3.0 in /usr/local/lib/python3.11/dist-packages (from ultralytics) (3.10.0)\n",
            "Requirement already satisfied: opencv-python>=4.6.0 in /usr/local/lib/python3.11/dist-packages (from ultralytics) (4.11.0.86)\n",
            "Requirement already satisfied: pillow>=7.1.2 in /usr/local/lib/python3.11/dist-packages (from ultralytics) (11.1.0)\n",
            "Requirement already satisfied: pyyaml>=5.3.1 in /usr/local/lib/python3.11/dist-packages (from ultralytics) (6.0.2)\n",
            "Requirement already satisfied: requests>=2.23.0 in /usr/local/lib/python3.11/dist-packages (from ultralytics) (2.32.3)\n",
            "Requirement already satisfied: scipy>=1.4.1 in /usr/local/lib/python3.11/dist-packages (from ultralytics) (1.14.1)\n",
            "Requirement already satisfied: torch>=1.8.0 in /usr/local/lib/python3.11/dist-packages (from ultralytics) (2.6.0+cu124)\n",
            "Requirement already satisfied: torchvision>=0.9.0 in /usr/local/lib/python3.11/dist-packages (from ultralytics) (0.21.0+cu124)\n",
            "Requirement already satisfied: tqdm>=4.64.0 in /usr/local/lib/python3.11/dist-packages (from ultralytics) (4.67.1)\n",
            "Requirement already satisfied: psutil in /usr/local/lib/python3.11/dist-packages (from ultralytics) (5.9.5)\n",
            "Requirement already satisfied: py-cpuinfo in /usr/local/lib/python3.11/dist-packages (from ultralytics) (9.0.0)\n",
            "Requirement already satisfied: pandas>=1.1.4 in /usr/local/lib/python3.11/dist-packages (from ultralytics) (2.2.2)\n",
            "Requirement already satisfied: seaborn>=0.11.0 in /usr/local/lib/python3.11/dist-packages (from ultralytics) (0.13.2)\n",
            "Collecting ultralytics-thop>=2.0.0 (from ultralytics)\n",
            "  Downloading ultralytics_thop-2.0.14-py3-none-any.whl.metadata (9.4 kB)\n",
            "Requirement already satisfied: contourpy>=1.0.1 in /usr/local/lib/python3.11/dist-packages (from matplotlib>=3.3.0->ultralytics) (1.3.1)\n",
            "Requirement already satisfied: cycler>=0.10 in /usr/local/lib/python3.11/dist-packages (from matplotlib>=3.3.0->ultralytics) (0.12.1)\n",
            "Requirement already satisfied: fonttools>=4.22.0 in /usr/local/lib/python3.11/dist-packages (from matplotlib>=3.3.0->ultralytics) (4.57.0)\n",
            "Requirement already satisfied: kiwisolver>=1.3.1 in /usr/local/lib/python3.11/dist-packages (from matplotlib>=3.3.0->ultralytics) (1.4.8)\n",
            "Requirement already satisfied: packaging>=20.0 in /usr/local/lib/python3.11/dist-packages (from matplotlib>=3.3.0->ultralytics) (24.2)\n",
            "Requirement already satisfied: pyparsing>=2.3.1 in /usr/local/lib/python3.11/dist-packages (from matplotlib>=3.3.0->ultralytics) (3.2.3)\n",
            "Requirement already satisfied: python-dateutil>=2.7 in /usr/local/lib/python3.11/dist-packages (from matplotlib>=3.3.0->ultralytics) (2.8.2)\n",
            "Requirement already satisfied: pytz>=2020.1 in /usr/local/lib/python3.11/dist-packages (from pandas>=1.1.4->ultralytics) (2025.2)\n",
            "Requirement already satisfied: tzdata>=2022.7 in /usr/local/lib/python3.11/dist-packages (from pandas>=1.1.4->ultralytics) (2025.2)\n",
            "Requirement already satisfied: charset-normalizer<4,>=2 in /usr/local/lib/python3.11/dist-packages (from requests>=2.23.0->ultralytics) (3.4.1)\n",
            "Requirement already satisfied: idna<4,>=2.5 in /usr/local/lib/python3.11/dist-packages (from requests>=2.23.0->ultralytics) (3.10)\n",
            "Requirement already satisfied: urllib3<3,>=1.21.1 in /usr/local/lib/python3.11/dist-packages (from requests>=2.23.0->ultralytics) (2.3.0)\n",
            "Requirement already satisfied: certifi>=2017.4.17 in /usr/local/lib/python3.11/dist-packages (from requests>=2.23.0->ultralytics) (2025.1.31)\n",
            "Requirement already satisfied: filelock in /usr/local/lib/python3.11/dist-packages (from torch>=1.8.0->ultralytics) (3.18.0)\n",
            "Requirement already satisfied: typing-extensions>=4.10.0 in /usr/local/lib/python3.11/dist-packages (from torch>=1.8.0->ultralytics) (4.13.1)\n",
            "Requirement already satisfied: networkx in /usr/local/lib/python3.11/dist-packages (from torch>=1.8.0->ultralytics) (3.4.2)\n",
            "Requirement already satisfied: jinja2 in /usr/local/lib/python3.11/dist-packages (from torch>=1.8.0->ultralytics) (3.1.6)\n",
            "Requirement already satisfied: fsspec in /usr/local/lib/python3.11/dist-packages (from torch>=1.8.0->ultralytics) (2025.3.2)\n",
            "Collecting nvidia-cuda-nvrtc-cu12==12.4.127 (from torch>=1.8.0->ultralytics)\n",
            "  Downloading nvidia_cuda_nvrtc_cu12-12.4.127-py3-none-manylinux2014_x86_64.whl.metadata (1.5 kB)\n",
            "Collecting nvidia-cuda-runtime-cu12==12.4.127 (from torch>=1.8.0->ultralytics)\n",
            "  Downloading nvidia_cuda_runtime_cu12-12.4.127-py3-none-manylinux2014_x86_64.whl.metadata (1.5 kB)\n",
            "Collecting nvidia-cuda-cupti-cu12==12.4.127 (from torch>=1.8.0->ultralytics)\n",
            "  Downloading nvidia_cuda_cupti_cu12-12.4.127-py3-none-manylinux2014_x86_64.whl.metadata (1.6 kB)\n",
            "Collecting nvidia-cudnn-cu12==9.1.0.70 (from torch>=1.8.0->ultralytics)\n",
            "  Downloading nvidia_cudnn_cu12-9.1.0.70-py3-none-manylinux2014_x86_64.whl.metadata (1.6 kB)\n",
            "Collecting nvidia-cublas-cu12==12.4.5.8 (from torch>=1.8.0->ultralytics)\n",
            "  Downloading nvidia_cublas_cu12-12.4.5.8-py3-none-manylinux2014_x86_64.whl.metadata (1.5 kB)\n",
            "Collecting nvidia-cufft-cu12==11.2.1.3 (from torch>=1.8.0->ultralytics)\n",
            "  Downloading nvidia_cufft_cu12-11.2.1.3-py3-none-manylinux2014_x86_64.whl.metadata (1.5 kB)\n",
            "Collecting nvidia-curand-cu12==10.3.5.147 (from torch>=1.8.0->ultralytics)\n",
            "  Downloading nvidia_curand_cu12-10.3.5.147-py3-none-manylinux2014_x86_64.whl.metadata (1.5 kB)\n",
            "Collecting nvidia-cusolver-cu12==11.6.1.9 (from torch>=1.8.0->ultralytics)\n",
            "  Downloading nvidia_cusolver_cu12-11.6.1.9-py3-none-manylinux2014_x86_64.whl.metadata (1.6 kB)\n",
            "Collecting nvidia-cusparse-cu12==12.3.1.170 (from torch>=1.8.0->ultralytics)\n",
            "  Downloading nvidia_cusparse_cu12-12.3.1.170-py3-none-manylinux2014_x86_64.whl.metadata (1.6 kB)\n",
            "Requirement already satisfied: nvidia-cusparselt-cu12==0.6.2 in /usr/local/lib/python3.11/dist-packages (from torch>=1.8.0->ultralytics) (0.6.2)\n",
            "Requirement already satisfied: nvidia-nccl-cu12==2.21.5 in /usr/local/lib/python3.11/dist-packages (from torch>=1.8.0->ultralytics) (2.21.5)\n",
            "Requirement already satisfied: nvidia-nvtx-cu12==12.4.127 in /usr/local/lib/python3.11/dist-packages (from torch>=1.8.0->ultralytics) (12.4.127)\n",
            "Collecting nvidia-nvjitlink-cu12==12.4.127 (from torch>=1.8.0->ultralytics)\n",
            "  Downloading nvidia_nvjitlink_cu12-12.4.127-py3-none-manylinux2014_x86_64.whl.metadata (1.5 kB)\n",
            "Requirement already satisfied: triton==3.2.0 in /usr/local/lib/python3.11/dist-packages (from torch>=1.8.0->ultralytics) (3.2.0)\n",
            "Requirement already satisfied: sympy==1.13.1 in /usr/local/lib/python3.11/dist-packages (from torch>=1.8.0->ultralytics) (1.13.1)\n",
            "Requirement already satisfied: mpmath<1.4,>=1.1.0 in /usr/local/lib/python3.11/dist-packages (from sympy==1.13.1->torch>=1.8.0->ultralytics) (1.3.0)\n",
            "Requirement already satisfied: six>=1.5 in /usr/local/lib/python3.11/dist-packages (from python-dateutil>=2.7->matplotlib>=3.3.0->ultralytics) (1.17.0)\n",
            "Requirement already satisfied: MarkupSafe>=2.0 in /usr/local/lib/python3.11/dist-packages (from jinja2->torch>=1.8.0->ultralytics) (3.0.2)\n",
            "Downloading ultralytics-8.3.105-py3-none-any.whl (994 kB)\n",
            "\u001b[2K   \u001b[90m━━━━━━━━━━━━━━━━━━━━━━━━━━━━━━━━━━━━━━━━\u001b[0m \u001b[32m994.0/994.0 kB\u001b[0m \u001b[31m19.2 MB/s\u001b[0m eta \u001b[36m0:00:00\u001b[0m\n",
            "\u001b[?25hDownloading nvidia_cublas_cu12-12.4.5.8-py3-none-manylinux2014_x86_64.whl (363.4 MB)\n",
            "\u001b[2K   \u001b[90m━━━━━━━━━━━━━━━━━━━━━━━━━━━━━━━━━━━━━━━━\u001b[0m \u001b[32m363.4/363.4 MB\u001b[0m \u001b[31m2.8 MB/s\u001b[0m eta \u001b[36m0:00:00\u001b[0m\n",
            "\u001b[?25hDownloading nvidia_cuda_cupti_cu12-12.4.127-py3-none-manylinux2014_x86_64.whl (13.8 MB)\n",
            "\u001b[2K   \u001b[90m━━━━━━━━━━━━━━━━━━━━━━━━━━━━━━━━━━━━━━━━\u001b[0m \u001b[32m13.8/13.8 MB\u001b[0m \u001b[31m92.3 MB/s\u001b[0m eta \u001b[36m0:00:00\u001b[0m\n",
            "\u001b[?25hDownloading nvidia_cuda_nvrtc_cu12-12.4.127-py3-none-manylinux2014_x86_64.whl (24.6 MB)\n",
            "\u001b[2K   \u001b[90m━━━━━━━━━━━━━━━━━━━━━━━━━━━━━━━━━━━━━━━━\u001b[0m \u001b[32m24.6/24.6 MB\u001b[0m \u001b[31m92.1 MB/s\u001b[0m eta \u001b[36m0:00:00\u001b[0m\n",
            "\u001b[?25hDownloading nvidia_cuda_runtime_cu12-12.4.127-py3-none-manylinux2014_x86_64.whl (883 kB)\n",
            "\u001b[2K   \u001b[90m━━━━━━━━━━━━━━━━━━━━━━━━━━━━━━━━━━━━━━━━\u001b[0m \u001b[32m883.7/883.7 kB\u001b[0m \u001b[31m54.9 MB/s\u001b[0m eta \u001b[36m0:00:00\u001b[0m\n",
            "\u001b[?25hDownloading nvidia_cudnn_cu12-9.1.0.70-py3-none-manylinux2014_x86_64.whl (664.8 MB)\n",
            "\u001b[2K   \u001b[90m━━━━━━━━━━━━━━━━━━━━━━━━━━━━━━━━━━━━━━━━\u001b[0m \u001b[32m664.8/664.8 MB\u001b[0m \u001b[31m1.8 MB/s\u001b[0m eta \u001b[36m0:00:00\u001b[0m\n",
            "\u001b[?25hDownloading nvidia_cufft_cu12-11.2.1.3-py3-none-manylinux2014_x86_64.whl (211.5 MB)\n",
            "\u001b[2K   \u001b[90m━━━━━━━━━━━━━━━━━━━━━━━━━━━━━━━━━━━━━━━━\u001b[0m \u001b[32m211.5/211.5 MB\u001b[0m \u001b[31m6.5 MB/s\u001b[0m eta \u001b[36m0:00:00\u001b[0m\n",
            "\u001b[?25hDownloading nvidia_curand_cu12-10.3.5.147-py3-none-manylinux2014_x86_64.whl (56.3 MB)\n",
            "\u001b[2K   \u001b[90m━━━━━━━━━━━━━━━━━━━━━━━━━━━━━━━━━━━━━━━━\u001b[0m \u001b[32m56.3/56.3 MB\u001b[0m \u001b[31m39.7 MB/s\u001b[0m eta \u001b[36m0:00:00\u001b[0m\n",
            "\u001b[?25hDownloading nvidia_cusolver_cu12-11.6.1.9-py3-none-manylinux2014_x86_64.whl (127.9 MB)\n",
            "\u001b[2K   \u001b[90m━━━━━━━━━━━━━━━━━━━━━━━━━━━━━━━━━━━━━━━━\u001b[0m \u001b[32m127.9/127.9 MB\u001b[0m \u001b[31m19.0 MB/s\u001b[0m eta \u001b[36m0:00:00\u001b[0m\n",
            "\u001b[?25hDownloading nvidia_cusparse_cu12-12.3.1.170-py3-none-manylinux2014_x86_64.whl (207.5 MB)\n",
            "\u001b[2K   \u001b[90m━━━━━━━━━━━━━━━━━━━━━━━━━━━━━━━━━━━━━━━━\u001b[0m \u001b[32m207.5/207.5 MB\u001b[0m \u001b[31m5.9 MB/s\u001b[0m eta \u001b[36m0:00:00\u001b[0m\n",
            "\u001b[?25hDownloading nvidia_nvjitlink_cu12-12.4.127-py3-none-manylinux2014_x86_64.whl (21.1 MB)\n",
            "\u001b[2K   \u001b[90m━━━━━━━━━━━━━━━━━━━━━━━━━━━━━━━━━━━━━━━━\u001b[0m \u001b[32m21.1/21.1 MB\u001b[0m \u001b[31m89.7 MB/s\u001b[0m eta \u001b[36m0:00:00\u001b[0m\n",
            "\u001b[?25hDownloading ultralytics_thop-2.0.14-py3-none-any.whl (26 kB)\n",
            "Installing collected packages: nvidia-nvjitlink-cu12, nvidia-curand-cu12, nvidia-cufft-cu12, nvidia-cuda-runtime-cu12, nvidia-cuda-nvrtc-cu12, nvidia-cuda-cupti-cu12, nvidia-cublas-cu12, nvidia-cusparse-cu12, nvidia-cudnn-cu12, nvidia-cusolver-cu12, ultralytics-thop, ultralytics\n",
            "  Attempting uninstall: nvidia-nvjitlink-cu12\n",
            "    Found existing installation: nvidia-nvjitlink-cu12 12.5.82\n",
            "    Uninstalling nvidia-nvjitlink-cu12-12.5.82:\n",
            "      Successfully uninstalled nvidia-nvjitlink-cu12-12.5.82\n",
            "  Attempting uninstall: nvidia-curand-cu12\n",
            "    Found existing installation: nvidia-curand-cu12 10.3.6.82\n",
            "    Uninstalling nvidia-curand-cu12-10.3.6.82:\n",
            "      Successfully uninstalled nvidia-curand-cu12-10.3.6.82\n",
            "  Attempting uninstall: nvidia-cufft-cu12\n",
            "    Found existing installation: nvidia-cufft-cu12 11.2.3.61\n",
            "    Uninstalling nvidia-cufft-cu12-11.2.3.61:\n",
            "      Successfully uninstalled nvidia-cufft-cu12-11.2.3.61\n",
            "  Attempting uninstall: nvidia-cuda-runtime-cu12\n",
            "    Found existing installation: nvidia-cuda-runtime-cu12 12.5.82\n",
            "    Uninstalling nvidia-cuda-runtime-cu12-12.5.82:\n",
            "      Successfully uninstalled nvidia-cuda-runtime-cu12-12.5.82\n",
            "  Attempting uninstall: nvidia-cuda-nvrtc-cu12\n",
            "    Found existing installation: nvidia-cuda-nvrtc-cu12 12.5.82\n",
            "    Uninstalling nvidia-cuda-nvrtc-cu12-12.5.82:\n",
            "      Successfully uninstalled nvidia-cuda-nvrtc-cu12-12.5.82\n",
            "  Attempting uninstall: nvidia-cuda-cupti-cu12\n",
            "    Found existing installation: nvidia-cuda-cupti-cu12 12.5.82\n",
            "    Uninstalling nvidia-cuda-cupti-cu12-12.5.82:\n",
            "      Successfully uninstalled nvidia-cuda-cupti-cu12-12.5.82\n",
            "  Attempting uninstall: nvidia-cublas-cu12\n",
            "    Found existing installation: nvidia-cublas-cu12 12.5.3.2\n",
            "    Uninstalling nvidia-cublas-cu12-12.5.3.2:\n",
            "      Successfully uninstalled nvidia-cublas-cu12-12.5.3.2\n",
            "  Attempting uninstall: nvidia-cusparse-cu12\n",
            "    Found existing installation: nvidia-cusparse-cu12 12.5.1.3\n",
            "    Uninstalling nvidia-cusparse-cu12-12.5.1.3:\n",
            "      Successfully uninstalled nvidia-cusparse-cu12-12.5.1.3\n",
            "  Attempting uninstall: nvidia-cudnn-cu12\n",
            "    Found existing installation: nvidia-cudnn-cu12 9.3.0.75\n",
            "    Uninstalling nvidia-cudnn-cu12-9.3.0.75:\n",
            "      Successfully uninstalled nvidia-cudnn-cu12-9.3.0.75\n",
            "  Attempting uninstall: nvidia-cusolver-cu12\n",
            "    Found existing installation: nvidia-cusolver-cu12 11.6.3.83\n",
            "    Uninstalling nvidia-cusolver-cu12-11.6.3.83:\n",
            "      Successfully uninstalled nvidia-cusolver-cu12-11.6.3.83\n",
            "Successfully installed nvidia-cublas-cu12-12.4.5.8 nvidia-cuda-cupti-cu12-12.4.127 nvidia-cuda-nvrtc-cu12-12.4.127 nvidia-cuda-runtime-cu12-12.4.127 nvidia-cudnn-cu12-9.1.0.70 nvidia-cufft-cu12-11.2.1.3 nvidia-curand-cu12-10.3.5.147 nvidia-cusolver-cu12-11.6.1.9 nvidia-cusparse-cu12-12.3.1.170 nvidia-nvjitlink-cu12-12.4.127 ultralytics-8.3.105 ultralytics-thop-2.0.14\n",
            "Creating new Ultralytics Settings v0.0.6 file ✅ \n",
            "View Ultralytics Settings with 'yolo settings' or at '/root/.config/Ultralytics/settings.json'\n",
            "Update Settings with 'yolo settings key=value', i.e. 'yolo settings runs_dir=path/to/dir'. For help see https://docs.ultralytics.com/quickstart/#ultralytics-settings.\n",
            "Ultralytics 8.3.105 🚀 Python-3.11.11 torch-2.6.0+cu124 CUDA:0 (NVIDIA A100-SXM4-40GB, 40507MiB)\n",
            "Setup complete ✅ (12 CPUs, 83.5 GB RAM, 41.4/235.7 GB disk)\n",
            "\n",
            "OS                  Linux-6.1.85+-x86_64-with-glibc2.35\n",
            "Environment         Colab\n",
            "Python              3.11.11\n",
            "Install             pip\n",
            "Path                /usr/local/lib/python3.11/dist-packages/ultralytics\n",
            "RAM                 83.48 GB\n",
            "Disk                41.4/235.7 GB\n",
            "CPU                 Intel Xeon 2.20GHz\n",
            "CPU count           12\n",
            "GPU                 NVIDIA A100-SXM4-40GB, 40507MiB\n",
            "GPU count           1\n",
            "CUDA                12.4\n",
            "\n",
            "numpy               ✅ 2.0.2<=2.1.1,>=1.23.0\n",
            "matplotlib          ✅ 3.10.0>=3.3.0\n",
            "opencv-python       ✅ 4.11.0.86>=4.6.0\n",
            "pillow              ✅ 11.1.0>=7.1.2\n",
            "pyyaml              ✅ 6.0.2>=5.3.1\n",
            "requests            ✅ 2.32.3>=2.23.0\n",
            "scipy               ✅ 1.14.1>=1.4.1\n",
            "torch               ✅ 2.6.0+cu124>=1.8.0\n",
            "torch               ✅ 2.6.0+cu124!=2.4.0,>=1.8.0; sys_platform == \"win32\"\n",
            "torchvision         ✅ 0.21.0+cu124>=0.9.0\n",
            "tqdm                ✅ 4.67.1>=4.64.0\n",
            "psutil              ✅ 5.9.5\n",
            "py-cpuinfo          ✅ 9.0.0\n",
            "pandas              ✅ 2.2.2>=1.1.4\n",
            "seaborn             ✅ 0.13.2>=0.11.0\n",
            "ultralytics-thop    ✅ 2.0.14>=2.0.0\n"
          ]
        }
      ],
      "source": [
        "# Install YOLOv8\n",
        "!pip install ultralytics\n",
        "\n",
        "# Verify the installation\n",
        "!yolo checks"
      ]
    },
    {
      "cell_type": "markdown",
      "metadata": {
        "id": "UCHJkunG4hrU"
      },
      "source": [
        "# Prepare Clothing Dataset\n",
        "Download deepFashion 2 dataset from https://github.com/switchablenorms/DeepFashion2.\n",
        "\n",
        "Using filter_data.py,I have uploaded a subset of the dataset which consist of 13k for training and 3250 images for validation (80% training, 20% validation).\n",
        "\n",
        "### Training DataSet\n",
        "\n",
        "\n",
        "\n",
        "Category 1: 1000 samples\n",
        "\n",
        "Category 2: 1000 samples\n",
        "\n",
        "Category 3: 362 samples\n",
        "\n",
        "Category 4: 1000 samples\n",
        "\n",
        "Category 5: 1000 samples\n",
        "\n",
        "\n",
        "Category 6: 1000 samples\n",
        "\n",
        "Category 7: 1000 samples\n",
        "\n",
        "Category 8: 1000 samples\n",
        "\n",
        "Category 9: 1000 samples\n",
        "\n",
        "Category 10: 1000 samples\n",
        "\n",
        "Category 11: 1000 samples\n",
        "\n",
        "Category 12: 1000 samples\n",
        "\n",
        "Category 13: 1000 samples\n",
        "\n",
        "###  Validation Set:\n",
        "\n",
        "Category 1: 250 samples\n",
        "\n",
        "Category 2: 250 samples\n",
        "\n",
        "Category 3: 100 samples\n",
        "\n",
        "Category 4: 250 samples\n",
        "\n",
        "Category 5: 250 samples\n",
        "\n",
        "Category 6: 206 samples\n",
        "\n",
        "Category 7: 250 samples\n",
        "\n",
        "Category 8: 250 samples\n",
        "\n",
        "Category 9: 250 samples\n",
        "\n",
        "Category 10: 250 samples\n",
        "\n",
        "Category 11: 250 samples\n",
        "\n",
        "Category 12: 250 samples\n",
        "\n",
        "Category 13: 250 samples\n",
        "\n",
        "This is the data distribution of deepfasion2\n",
        "\n",
        "![statistics_all.jpg](data:image/jpeg;base64,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)\n",
        "\n",
        "Also I have uploaded a utility tool (deepfashion2_to_yolo.py) to my github for coverting the format to yolo segmentation format.\n"
      ]
    },
    {
      "cell_type": "markdown",
      "metadata": {
        "id": "dpR6rTQA7HGL"
      },
      "source": [
        "Turn deepfasion2 data to yolo format\n",
        "convert_deepfashion2_to_yolo(input_dir,images_dir, output_dir)"
      ]
    },
    {
      "cell_type": "code",
      "execution_count": null,
      "metadata": {
        "id": "U38FSAGrlfUr",
        "outputId": "e45d59c4-a614-4ac6-fda5-8229e193030a"
      },
      "outputs": [
        {
          "name": "stdout",
          "output_type": "stream",
          "text": [
            "Conversion completed. YOLO format annotations saved to datasets/yolo/train/labels\n",
            "Conversion completed. YOLO format annotations saved to datasets/yolo/val/labels\n"
          ]
        }
      ],
      "source": [
        "#for testing purpose\n",
        "!python deepfashion2_to_yolo.py datasets/coco/train_subset/annos datasets/coco/train_subset/images datasets/yolo/train/labels\n",
        "!python deepfashion2_to_yolo.py datasets/coco/val_subset/annos datasets/coco/val_subset/images datasets/yolo/val/labels"
      ]
    },
    {
      "cell_type": "code",
      "execution_count": null,
      "metadata": {
        "colab": {
          "base_uri": "https://localhost:8080/"
        },
        "id": "ZCdYn0X6-WDT",
        "outputId": "0c43edeb-d869-4c48-fb70-1fb1b0accfdb"
      },
      "outputs": [
        {
          "name": "stdout",
          "output_type": "stream",
          "text": [
            "Copied the first 10,000 images from train/train/image to datasets/train_subset/images.\n"
          ]
        }
      ],
      "source": [
        "%%bash\n",
        "\n",
        "# Define source and destination directories\n",
        "source_dir=\"train/train/image\"\n",
        "destination_dir=\"datasets/train_subset/images\"\n",
        "\n",
        "# Create the destination directory if it doesn't exist\n",
        "mkdir -p \"$destination_dir\"\n",
        "\n",
        "# Find the first 10,000 images and copy them to the destination directory\n",
        "find \"$source_dir\" -type f -name \"*.jpg\"| sort | head -n 10000 | xargs -I {} cp {} \"$destination_dir\"\n",
        "\n",
        "echo \"Copied the first 10,000 images from $source_dir to $destination_dir.\""
      ]
    },
    {
      "cell_type": "code",
      "execution_count": null,
      "metadata": {
        "id": "BcaP9lgmlfUs",
        "outputId": "9bdd0b43-822a-460f-f55e-10a5d613e411"
      },
      "outputs": [
        {
          "name": "stdout",
          "output_type": "stream",
          "text": [
            "Copied the first 10,000 annos from train/train/annos to datasets/train_subset/annos.\n"
          ]
        }
      ],
      "source": [
        "%%bash\n",
        "\n",
        "# Define source and destination directories\n",
        "source_dir=\"train/train/annos\"\n",
        "destination_dir=\"datasets/train_subset/annos\"\n",
        "\n",
        "# Create the destination directory if it doesn't exist\n",
        "mkdir -p \"$destination_dir\"\n",
        "\n",
        "# Find the first 10,000 images and copy them to the destination directory\n",
        "find \"$source_dir\" -type f -name \"*.json\"| sort | head -n 10000 | xargs -I {} cp {} \"$destination_dir\"\n",
        "\n",
        "echo \"Copied the first 10,000 annos from $source_dir to $destination_dir.\""
      ]
    },
    {
      "cell_type": "code",
      "execution_count": null,
      "metadata": {
        "id": "ud9l3VALlfUs",
        "outputId": "31fa9dd4-c5f7-4b94-a788-168b1e1d545e"
      },
      "outputs": [
        {
          "name": "stdout",
          "output_type": "stream",
          "text": [
            "Copied the first 10,000 images from validation/validation/image to datasets/val_subset/images.\n"
          ]
        }
      ],
      "source": [
        "%%bash\n",
        "\n",
        "# Define source and destination directories\n",
        "source_dir=\"validation/validation/image\"\n",
        "destination_dir=\"datasets/val_subset/images\"\n",
        "\n",
        "# Create the destination directory if it doesn't exist\n",
        "mkdir -p \"$destination_dir\"\n",
        "\n",
        "# Find the first 10,000 images and copy them to the destination directory\n",
        "find \"$source_dir\" -type f -name \"*.jpg\"| sort | head -n 10000 | xargs -I {} cp {} \"$destination_dir\"\n",
        "\n",
        "echo \"Copied the first 10,000 images from $source_dir to $destination_dir.\""
      ]
    },
    {
      "cell_type": "code",
      "execution_count": null,
      "metadata": {
        "id": "Y2sOOYQ3lfUs",
        "outputId": "1eb68af4-900d-4ba7-cbee-e62e3ea0f4b5"
      },
      "outputs": [
        {
          "name": "stdout",
          "output_type": "stream",
          "text": [
            "Copied the first 10,000 annos from validation/validation/annos to datasets/val_subset/annos.\n"
          ]
        }
      ],
      "source": [
        "%%bash\n",
        "\n",
        "# Define source and destination directories\n",
        "source_dir=\"validation/validation/annos\"\n",
        "destination_dir=\"datasets/val_subset/annos\"\n",
        "\n",
        "# Create the destination directory if it doesn't exist\n",
        "mkdir -p \"$destination_dir\"\n",
        "\n",
        "# Find the first 10,000 images and copy them to the destination directory\n",
        "find \"$source_dir\" -type f -name \"*.json\"| sort | head -n 10000 | xargs -I {} cp {} \"$destination_dir\"\n",
        "\n",
        "echo \"Copied the first 10,000 annos from $source_dir to $destination_dir.\""
      ]
    },
    {
      "cell_type": "code",
      "execution_count": null,
      "metadata": {
        "id": "l26E4O3JlfUs",
        "outputId": "8e7e20f3-00a5-4775-b270-2575330e685e"
      },
      "outputs": [
        {
          "name": "stdout",
          "output_type": "stream",
          "text": [
            "Conversion completed. YOLO format annotations saved to datasets/train_subset/labels\n",
            "Conversion completed. YOLO format annotations saved to datasets/val_subset/labels\n"
          ]
        }
      ],
      "source": [
        "#convert the subset to yolo format\n",
        "!python deepfashion2_to_yolo.py datasets/train_subset/annos datasets/train_subset/images datasets/train_subset/labels\n",
        "!python deepfashion2_to_yolo.py datasets/val_subset/annos datasets/val_subset/images datasets/val_subset/labels"
      ]
    },
    {
      "cell_type": "markdown",
      "metadata": {
        "id": "O01oJTrQ4hrW"
      },
      "source": [
        "# Train the Segmentation Model\n",
        "Train YOLOv8 segmentation model to identify clothing items and create masks for background removal."
      ]
    },
    {
      "cell_type": "code",
      "execution_count": null,
      "metadata": {
        "colab": {
          "base_uri": "https://localhost:8080/"
        },
        "id": "A6uSWrkM4hrW",
        "outputId": "904b246b-0827-4247-9f6f-4de24f6a82ff"
      },
      "outputs": [
        {
          "output_type": "stream",
          "name": "stdout",
          "text": [
            "GPU is available\n",
            "Ultralytics 8.3.105 🚀 Python-3.11.11 torch-2.6.0+cu124 CUDA:0 (NVIDIA A100-SXM4-40GB, 40507MiB)\n",
            "\u001b[34m\u001b[1mengine/trainer: \u001b[0mtask=segment, mode=train, model=yolo11s-seg.pt, data=yoloSeg.yaml, epochs=100, time=None, patience=100, batch=0.7, imgsz=640, save=True, save_period=-1, cache=False, device=None, workers=8, project=None, name=train123, exist_ok=False, pretrained=True, optimizer=AdamW, verbose=True, seed=0, deterministic=True, single_cls=False, rect=False, cos_lr=False, close_mosaic=10, resume=False, amp=True, fraction=1.0, profile=False, freeze=None, multi_scale=False, overlap_mask=True, mask_ratio=4, dropout=0.0, val=True, split=val, save_json=False, conf=None, iou=0.7, max_det=300, half=False, dnn=False, plots=True, source=None, vid_stride=1, stream_buffer=False, visualize=False, augment=False, agnostic_nms=False, classes=None, retina_masks=False, embed=None, show=False, save_frames=False, save_txt=False, save_conf=False, save_crop=False, show_labels=True, show_conf=True, show_boxes=True, line_width=None, format=torchscript, keras=False, optimize=False, int8=False, dynamic=False, simplify=True, opset=None, workspace=None, nms=False, lr0=0.01, lrf=0.01, momentum=0.937, weight_decay=0.0005, warmup_epochs=3.0, warmup_momentum=0.8, warmup_bias_lr=0.1, box=7.5, cls=0.5, dfl=1.5, pose=12.0, kobj=1.0, nbs=64, hsv_h=0.015, hsv_s=0.7, hsv_v=0.4, degrees=0.0, translate=0.1, scale=0.5, shear=0.0, perspective=0.0, flipud=0.0, fliplr=0.5, bgr=0.0, mosaic=1.0, mixup=0.0, copy_paste=0.0, copy_paste_mode=flip, auto_augment=randaugment, erasing=0.4, crop_fraction=1.0, cfg=None, tracker=botsort.yaml, save_dir=runs/segment/train123\n",
            "Overriding model.yaml nc=80 with nc=13\n",
            "\n",
            "                   from  n    params  module                                       arguments                     \n",
            "  0                  -1  1       928  ultralytics.nn.modules.conv.Conv             [3, 32, 3, 2]                 \n",
            "  1                  -1  1     18560  ultralytics.nn.modules.conv.Conv             [32, 64, 3, 2]                \n",
            "  2                  -1  1     26080  ultralytics.nn.modules.block.C3k2            [64, 128, 1, False, 0.25]     \n",
            "  3                  -1  1    147712  ultralytics.nn.modules.conv.Conv             [128, 128, 3, 2]              \n",
            "  4                  -1  1    103360  ultralytics.nn.modules.block.C3k2            [128, 256, 1, False, 0.25]    \n",
            "  5                  -1  1    590336  ultralytics.nn.modules.conv.Conv             [256, 256, 3, 2]              \n",
            "  6                  -1  1    346112  ultralytics.nn.modules.block.C3k2            [256, 256, 1, True]           \n",
            "  7                  -1  1   1180672  ultralytics.nn.modules.conv.Conv             [256, 512, 3, 2]              \n",
            "  8                  -1  1   1380352  ultralytics.nn.modules.block.C3k2            [512, 512, 1, True]           \n",
            "  9                  -1  1    656896  ultralytics.nn.modules.block.SPPF            [512, 512, 5]                 \n",
            " 10                  -1  1    990976  ultralytics.nn.modules.block.C2PSA           [512, 512, 1]                 \n",
            " 11                  -1  1         0  torch.nn.modules.upsampling.Upsample         [None, 2, 'nearest']          \n",
            " 12             [-1, 6]  1         0  ultralytics.nn.modules.conv.Concat           [1]                           \n",
            " 13                  -1  1    443776  ultralytics.nn.modules.block.C3k2            [768, 256, 1, False]          \n",
            " 14                  -1  1         0  torch.nn.modules.upsampling.Upsample         [None, 2, 'nearest']          \n",
            " 15             [-1, 4]  1         0  ultralytics.nn.modules.conv.Concat           [1]                           \n",
            " 16                  -1  1    127680  ultralytics.nn.modules.block.C3k2            [512, 128, 1, False]          \n",
            " 17                  -1  1    147712  ultralytics.nn.modules.conv.Conv             [128, 128, 3, 2]              \n",
            " 18            [-1, 13]  1         0  ultralytics.nn.modules.conv.Concat           [1]                           \n",
            " 19                  -1  1    345472  ultralytics.nn.modules.block.C3k2            [384, 256, 1, False]          \n",
            " 20                  -1  1    590336  ultralytics.nn.modules.conv.Conv             [256, 256, 3, 2]              \n",
            " 21            [-1, 10]  1         0  ultralytics.nn.modules.conv.Concat           [1]                           \n",
            " 22                  -1  1   1511424  ultralytics.nn.modules.block.C3k2            [768, 512, 1, True]           \n",
            " 23        [16, 19, 22]  1   1478935  ultralytics.nn.modules.head.Segment          [13, 32, 128, [128, 256, 512]]\n",
            "YOLO11s-seg summary: 203 layers, 10,087,319 parameters, 10,087,303 gradients, 35.6 GFLOPs\n",
            "\n",
            "Transferred 555/561 items from pretrained weights\n",
            "\u001b[34m\u001b[1mTensorBoard: \u001b[0mStart with 'tensorboard --logdir runs/segment/train123', view at http://localhost:6006/\n",
            "Freezing layer 'model.23.dfl.conv.weight'\n",
            "\u001b[34m\u001b[1mAMP: \u001b[0mrunning Automatic Mixed Precision (AMP) checks...\n",
            "\u001b[34m\u001b[1mAMP: \u001b[0mchecks passed ✅\n"
          ]
        },
        {
          "output_type": "stream",
          "name": "stderr",
          "text": [
            "\u001b[34m\u001b[1mtrain: \u001b[0mScanning /content/drive/MyDrive/3R1CSegmentation/datasets/train_subset/labels.cache... 10000 images, 0 backgrounds, 56 corrupt: 100%|██████████| 10000/10000 [00:00<?, ?it/s]"
          ]
        },
        {
          "output_type": "stream",
          "name": "stdout",
          "text": [
            "\u001b[34m\u001b[1mtrain: \u001b[0mWARNING ⚠️ /content/drive/MyDrive/3R1CSegmentation/datasets/train_subset/images/000013.jpg: 1 duplicate labels removed\n",
            "\u001b[34m\u001b[1mtrain: \u001b[0mWARNING ⚠️ /content/drive/MyDrive/3R1CSegmentation/datasets/train_subset/images/000014.jpg: 1 duplicate labels removed\n",
            "\u001b[34m\u001b[1mtrain: \u001b[0mWARNING ⚠️ /content/drive/MyDrive/3R1CSegmentation/datasets/train_subset/images/000114.jpg: 1 duplicate labels removed\n",
            "\u001b[34m\u001b[1mtrain: \u001b[0mWARNING ⚠️ /content/drive/MyDrive/3R1CSegmentation/datasets/train_subset/images/000115.jpg: 2 duplicate labels removed\n",
            "\u001b[34m\u001b[1mtrain: \u001b[0mWARNING ⚠️ /content/drive/MyDrive/3R1CSegmentation/datasets/train_subset/images/000117.jpg: 1 duplicate labels removed\n",
            "\u001b[34m\u001b[1mtrain: \u001b[0mWARNING ⚠️ /content/drive/MyDrive/3R1CSegmentation/datasets/train_subset/images/000122.jpg: 1 duplicate labels removed\n",
            "\u001b[34m\u001b[1mtrain: \u001b[0mWARNING ⚠️ /content/drive/MyDrive/3R1CSegmentation/datasets/train_subset/images/000129.jpg: ignoring corrupt image/label: non-normalized or out of bounds coordinates [     1.0011]\n",
            "\u001b[34m\u001b[1mtrain: \u001b[0mWARNING ⚠️ /content/drive/MyDrive/3R1CSegmentation/datasets/train_subset/images/000225.jpg: ignoring corrupt image/label: non-normalized or out of bounds coordinates [     1.0004]\n",
            "\u001b[34m\u001b[1mtrain: \u001b[0mWARNING ⚠️ /content/drive/MyDrive/3R1CSegmentation/datasets/train_subset/images/000237.jpg: ignoring corrupt image/label: non-normalized or out of bounds coordinates [     1.0021]\n",
            "\u001b[34m\u001b[1mtrain: \u001b[0mWARNING ⚠️ /content/drive/MyDrive/3R1CSegmentation/datasets/train_subset/images/000238.jpg: ignoring corrupt image/label: non-normalized or out of bounds coordinates [     1.0011]\n",
            "\u001b[34m\u001b[1mtrain: \u001b[0mWARNING ⚠️ /content/drive/MyDrive/3R1CSegmentation/datasets/train_subset/images/000250.jpg: ignoring corrupt image/label: non-normalized or out of bounds coordinates [     1.0007]\n",
            "\u001b[34m\u001b[1mtrain: \u001b[0mWARNING ⚠️ /content/drive/MyDrive/3R1CSegmentation/datasets/train_subset/images/000253.jpg: 1 duplicate labels removed\n",
            "\u001b[34m\u001b[1mtrain: \u001b[0mWARNING ⚠️ /content/drive/MyDrive/3R1CSegmentation/datasets/train_subset/images/000305.jpg: ignoring corrupt image/label: non-normalized or out of bounds coordinates [     1.0005]\n",
            "\u001b[34m\u001b[1mtrain: \u001b[0mWARNING ⚠️ /content/drive/MyDrive/3R1CSegmentation/datasets/train_subset/images/000474.jpg: 1 duplicate labels removed\n",
            "\u001b[34m\u001b[1mtrain: \u001b[0mWARNING ⚠️ /content/drive/MyDrive/3R1CSegmentation/datasets/train_subset/images/000611.jpg: 1 duplicate labels removed\n",
            "\u001b[34m\u001b[1mtrain: \u001b[0mWARNING ⚠️ /content/drive/MyDrive/3R1CSegmentation/datasets/train_subset/images/000687.jpg: 1 duplicate labels removed\n",
            "\u001b[34m\u001b[1mtrain: \u001b[0mWARNING ⚠️ /content/drive/MyDrive/3R1CSegmentation/datasets/train_subset/images/000689.jpg: 1 duplicate labels removed\n",
            "\u001b[34m\u001b[1mtrain: \u001b[0mWARNING ⚠️ /content/drive/MyDrive/3R1CSegmentation/datasets/train_subset/images/000694.jpg: 1 duplicate labels removed\n",
            "\u001b[34m\u001b[1mtrain: \u001b[0mWARNING ⚠️ /content/drive/MyDrive/3R1CSegmentation/datasets/train_subset/images/000699.jpg: 1 duplicate labels removed\n",
            "\u001b[34m\u001b[1mtrain: \u001b[0mWARNING ⚠️ /content/drive/MyDrive/3R1CSegmentation/datasets/train_subset/images/000727.jpg: ignoring corrupt image/label: non-normalized or out of bounds coordinates [     1.0001]\n",
            "\u001b[34m\u001b[1mtrain: \u001b[0mWARNING ⚠️ /content/drive/MyDrive/3R1CSegmentation/datasets/train_subset/images/000728.jpg: ignoring corrupt image/label: non-normalized or out of bounds coordinates [     1.0003]\n",
            "\u001b[34m\u001b[1mtrain: \u001b[0mWARNING ⚠️ /content/drive/MyDrive/3R1CSegmentation/datasets/train_subset/images/000744.jpg: 1 duplicate labels removed\n",
            "\u001b[34m\u001b[1mtrain: \u001b[0mWARNING ⚠️ /content/drive/MyDrive/3R1CSegmentation/datasets/train_subset/images/000939.jpg: 1 duplicate labels removed\n",
            "\u001b[34m\u001b[1mtrain: \u001b[0mWARNING ⚠️ /content/drive/MyDrive/3R1CSegmentation/datasets/train_subset/images/000941.jpg: 1 duplicate labels removed\n",
            "\u001b[34m\u001b[1mtrain: \u001b[0mWARNING ⚠️ /content/drive/MyDrive/3R1CSegmentation/datasets/train_subset/images/000973.jpg: ignoring corrupt image/label: non-normalized or out of bounds coordinates [     1.0009]\n",
            "\u001b[34m\u001b[1mtrain: \u001b[0mWARNING ⚠️ /content/drive/MyDrive/3R1CSegmentation/datasets/train_subset/images/001142.jpg: 1 duplicate labels removed\n",
            "\u001b[34m\u001b[1mtrain: \u001b[0mWARNING ⚠️ /content/drive/MyDrive/3R1CSegmentation/datasets/train_subset/images/001149.jpg: 2 duplicate labels removed\n",
            "\u001b[34m\u001b[1mtrain: \u001b[0mWARNING ⚠️ /content/drive/MyDrive/3R1CSegmentation/datasets/train_subset/images/001151.jpg: 2 duplicate labels removed\n",
            "\u001b[34m\u001b[1mtrain: \u001b[0mWARNING ⚠️ /content/drive/MyDrive/3R1CSegmentation/datasets/train_subset/images/001152.jpg: 2 duplicate labels removed\n",
            "\u001b[34m\u001b[1mtrain: \u001b[0mWARNING ⚠️ /content/drive/MyDrive/3R1CSegmentation/datasets/train_subset/images/001153.jpg: 2 duplicate labels removed\n",
            "\u001b[34m\u001b[1mtrain: \u001b[0mWARNING ⚠️ /content/drive/MyDrive/3R1CSegmentation/datasets/train_subset/images/001155.jpg: 2 duplicate labels removed\n",
            "\u001b[34m\u001b[1mtrain: \u001b[0mWARNING ⚠️ /content/drive/MyDrive/3R1CSegmentation/datasets/train_subset/images/001272.jpg: 1 duplicate labels removed\n",
            "\u001b[34m\u001b[1mtrain: \u001b[0mWARNING ⚠️ /content/drive/MyDrive/3R1CSegmentation/datasets/train_subset/images/001350.jpg: ignoring corrupt image/label: non-normalized or out of bounds coordinates [     1.0021]\n",
            "\u001b[34m\u001b[1mtrain: \u001b[0mWARNING ⚠️ /content/drive/MyDrive/3R1CSegmentation/datasets/train_subset/images/001391.jpg: 1 duplicate labels removed\n",
            "\u001b[34m\u001b[1mtrain: \u001b[0mWARNING ⚠️ /content/drive/MyDrive/3R1CSegmentation/datasets/train_subset/images/001403.jpg: 1 duplicate labels removed\n",
            "\u001b[34m\u001b[1mtrain: \u001b[0mWARNING ⚠️ /content/drive/MyDrive/3R1CSegmentation/datasets/train_subset/images/001422.jpg: 1 duplicate labels removed\n",
            "\u001b[34m\u001b[1mtrain: \u001b[0mWARNING ⚠️ /content/drive/MyDrive/3R1CSegmentation/datasets/train_subset/images/001449.jpg: 1 duplicate labels removed\n",
            "\u001b[34m\u001b[1mtrain: \u001b[0mWARNING ⚠️ /content/drive/MyDrive/3R1CSegmentation/datasets/train_subset/images/001469.jpg: ignoring corrupt image/label: non-normalized or out of bounds coordinates [     1.0005]\n",
            "\u001b[34m\u001b[1mtrain: \u001b[0mWARNING ⚠️ /content/drive/MyDrive/3R1CSegmentation/datasets/train_subset/images/001560.jpg: ignoring corrupt image/label: non-normalized or out of bounds coordinates [     1.0021]\n",
            "\u001b[34m\u001b[1mtrain: \u001b[0mWARNING ⚠️ /content/drive/MyDrive/3R1CSegmentation/datasets/train_subset/images/001611.jpg: 1 duplicate labels removed\n",
            "\u001b[34m\u001b[1mtrain: \u001b[0mWARNING ⚠️ /content/drive/MyDrive/3R1CSegmentation/datasets/train_subset/images/001622.jpg: ignoring corrupt image/label: non-normalized or out of bounds coordinates [     1.0021]\n",
            "\u001b[34m\u001b[1mtrain: \u001b[0mWARNING ⚠️ /content/drive/MyDrive/3R1CSegmentation/datasets/train_subset/images/001652.jpg: 1 duplicate labels removed\n",
            "\u001b[34m\u001b[1mtrain: \u001b[0mWARNING ⚠️ /content/drive/MyDrive/3R1CSegmentation/datasets/train_subset/images/001660.jpg: 2 duplicate labels removed\n",
            "\u001b[34m\u001b[1mtrain: \u001b[0mWARNING ⚠️ /content/drive/MyDrive/3R1CSegmentation/datasets/train_subset/images/001662.jpg: 1 duplicate labels removed\n",
            "\u001b[34m\u001b[1mtrain: \u001b[0mWARNING ⚠️ /content/drive/MyDrive/3R1CSegmentation/datasets/train_subset/images/001663.jpg: 1 duplicate labels removed\n",
            "\u001b[34m\u001b[1mtrain: \u001b[0mWARNING ⚠️ /content/drive/MyDrive/3R1CSegmentation/datasets/train_subset/images/001668.jpg: 2 duplicate labels removed\n",
            "\u001b[34m\u001b[1mtrain: \u001b[0mWARNING ⚠️ /content/drive/MyDrive/3R1CSegmentation/datasets/train_subset/images/001705.jpg: ignoring corrupt image/label: non-normalized or out of bounds coordinates [     1.0008]\n",
            "\u001b[34m\u001b[1mtrain: \u001b[0mWARNING ⚠️ /content/drive/MyDrive/3R1CSegmentation/datasets/train_subset/images/001718.jpg: ignoring corrupt image/label: non-normalized or out of bounds coordinates [     1.0003]\n",
            "\u001b[34m\u001b[1mtrain: \u001b[0mWARNING ⚠️ /content/drive/MyDrive/3R1CSegmentation/datasets/train_subset/images/001751.jpg: 1 duplicate labels removed\n",
            "\u001b[34m\u001b[1mtrain: \u001b[0mWARNING ⚠️ /content/drive/MyDrive/3R1CSegmentation/datasets/train_subset/images/001754.jpg: 1 duplicate labels removed\n",
            "\u001b[34m\u001b[1mtrain: \u001b[0mWARNING ⚠️ /content/drive/MyDrive/3R1CSegmentation/datasets/train_subset/images/001755.jpg: 2 duplicate labels removed\n",
            "\u001b[34m\u001b[1mtrain: \u001b[0mWARNING ⚠️ /content/drive/MyDrive/3R1CSegmentation/datasets/train_subset/images/001801.jpg: 1 duplicate labels removed\n",
            "\u001b[34m\u001b[1mtrain: \u001b[0mWARNING ⚠️ /content/drive/MyDrive/3R1CSegmentation/datasets/train_subset/images/001974.jpg: ignoring corrupt image/label: non-normalized or out of bounds coordinates [     1.0015]\n",
            "\u001b[34m\u001b[1mtrain: \u001b[0mWARNING ⚠️ /content/drive/MyDrive/3R1CSegmentation/datasets/train_subset/images/001994.jpg: 2 duplicate labels removed\n",
            "\u001b[34m\u001b[1mtrain: \u001b[0mWARNING ⚠️ /content/drive/MyDrive/3R1CSegmentation/datasets/train_subset/images/001995.jpg: 2 duplicate labels removed\n",
            "\u001b[34m\u001b[1mtrain: \u001b[0mWARNING ⚠️ /content/drive/MyDrive/3R1CSegmentation/datasets/train_subset/images/001996.jpg: 2 duplicate labels removed\n",
            "\u001b[34m\u001b[1mtrain: \u001b[0mWARNING ⚠️ /content/drive/MyDrive/3R1CSegmentation/datasets/train_subset/images/001997.jpg: 1 duplicate labels removed\n",
            "\u001b[34m\u001b[1mtrain: \u001b[0mWARNING ⚠️ /content/drive/MyDrive/3R1CSegmentation/datasets/train_subset/images/001998.jpg: 1 duplicate labels removed\n",
            "\u001b[34m\u001b[1mtrain: \u001b[0mWARNING ⚠️ /content/drive/MyDrive/3R1CSegmentation/datasets/train_subset/images/002066.jpg: ignoring corrupt image/label: non-normalized or out of bounds coordinates [     1.0001]\n",
            "\u001b[34m\u001b[1mtrain: \u001b[0mWARNING ⚠️ /content/drive/MyDrive/3R1CSegmentation/datasets/train_subset/images/002076.jpg: 1 duplicate labels removed\n",
            "\u001b[34m\u001b[1mtrain: \u001b[0mWARNING ⚠️ /content/drive/MyDrive/3R1CSegmentation/datasets/train_subset/images/002077.jpg: 1 duplicate labels removed\n",
            "\u001b[34m\u001b[1mtrain: \u001b[0mWARNING ⚠️ /content/drive/MyDrive/3R1CSegmentation/datasets/train_subset/images/002102.jpg: 1 duplicate labels removed\n",
            "\u001b[34m\u001b[1mtrain: \u001b[0mWARNING ⚠️ /content/drive/MyDrive/3R1CSegmentation/datasets/train_subset/images/002148.jpg: ignoring corrupt image/label: non-normalized or out of bounds coordinates [      1.001]\n",
            "\u001b[34m\u001b[1mtrain: \u001b[0mWARNING ⚠️ /content/drive/MyDrive/3R1CSegmentation/datasets/train_subset/images/002153.jpg: 2 duplicate labels removed\n",
            "\u001b[34m\u001b[1mtrain: \u001b[0mWARNING ⚠️ /content/drive/MyDrive/3R1CSegmentation/datasets/train_subset/images/002260.jpg: 1 duplicate labels removed\n",
            "\u001b[34m\u001b[1mtrain: \u001b[0mWARNING ⚠️ /content/drive/MyDrive/3R1CSegmentation/datasets/train_subset/images/002279.jpg: ignoring corrupt image/label: non-normalized or out of bounds coordinates [     1.0001]\n",
            "\u001b[34m\u001b[1mtrain: \u001b[0mWARNING ⚠️ /content/drive/MyDrive/3R1CSegmentation/datasets/train_subset/images/002322.jpg: 1 duplicate labels removed\n",
            "\u001b[34m\u001b[1mtrain: \u001b[0mWARNING ⚠️ /content/drive/MyDrive/3R1CSegmentation/datasets/train_subset/images/002384.jpg: ignoring corrupt image/label: non-normalized or out of bounds coordinates [      1.003]\n",
            "\u001b[34m\u001b[1mtrain: \u001b[0mWARNING ⚠️ /content/drive/MyDrive/3R1CSegmentation/datasets/train_subset/images/002386.jpg: ignoring corrupt image/label: non-normalized or out of bounds coordinates [     1.0028]\n",
            "\u001b[34m\u001b[1mtrain: \u001b[0mWARNING ⚠️ /content/drive/MyDrive/3R1CSegmentation/datasets/train_subset/images/002524.jpg: ignoring corrupt image/label: non-normalized or out of bounds coordinates [     1.0014]\n",
            "\u001b[34m\u001b[1mtrain: \u001b[0mWARNING ⚠️ /content/drive/MyDrive/3R1CSegmentation/datasets/train_subset/images/002601.jpg: 2 duplicate labels removed\n",
            "\u001b[34m\u001b[1mtrain: \u001b[0mWARNING ⚠️ /content/drive/MyDrive/3R1CSegmentation/datasets/train_subset/images/002603.jpg: 1 duplicate labels removed\n",
            "\u001b[34m\u001b[1mtrain: \u001b[0mWARNING ⚠️ /content/drive/MyDrive/3R1CSegmentation/datasets/train_subset/images/002629.jpg: ignoring corrupt image/label: non-normalized or out of bounds coordinates [     1.0006]\n",
            "\u001b[34m\u001b[1mtrain: \u001b[0mWARNING ⚠️ /content/drive/MyDrive/3R1CSegmentation/datasets/train_subset/images/002857.jpg: 2 duplicate labels removed\n",
            "\u001b[34m\u001b[1mtrain: \u001b[0mWARNING ⚠️ /content/drive/MyDrive/3R1CSegmentation/datasets/train_subset/images/002860.jpg: 2 duplicate labels removed\n",
            "\u001b[34m\u001b[1mtrain: \u001b[0mWARNING ⚠️ /content/drive/MyDrive/3R1CSegmentation/datasets/train_subset/images/002930.jpg: 2 duplicate labels removed\n",
            "\u001b[34m\u001b[1mtrain: \u001b[0mWARNING ⚠️ /content/drive/MyDrive/3R1CSegmentation/datasets/train_subset/images/002967.jpg: 1 duplicate labels removed\n",
            "\u001b[34m\u001b[1mtrain: \u001b[0mWARNING ⚠️ /content/drive/MyDrive/3R1CSegmentation/datasets/train_subset/images/002991.jpg: 1 duplicate labels removed\n",
            "\u001b[34m\u001b[1mtrain: \u001b[0mWARNING ⚠️ /content/drive/MyDrive/3R1CSegmentation/datasets/train_subset/images/003174.jpg: 1 duplicate labels removed\n",
            "\u001b[34m\u001b[1mtrain: \u001b[0mWARNING ⚠️ /content/drive/MyDrive/3R1CSegmentation/datasets/train_subset/images/003177.jpg: 1 duplicate labels removed\n",
            "\u001b[34m\u001b[1mtrain: \u001b[0mWARNING ⚠️ /content/drive/MyDrive/3R1CSegmentation/datasets/train_subset/images/003188.jpg: 1 duplicate labels removed\n",
            "\u001b[34m\u001b[1mtrain: \u001b[0mWARNING ⚠️ /content/drive/MyDrive/3R1CSegmentation/datasets/train_subset/images/003197.jpg: 2 duplicate labels removed\n",
            "\u001b[34m\u001b[1mtrain: \u001b[0mWARNING ⚠️ /content/drive/MyDrive/3R1CSegmentation/datasets/train_subset/images/003198.jpg: 1 duplicate labels removed\n",
            "\u001b[34m\u001b[1mtrain: \u001b[0mWARNING ⚠️ /content/drive/MyDrive/3R1CSegmentation/datasets/train_subset/images/003226.jpg: 1 duplicate labels removed\n",
            "\u001b[34m\u001b[1mtrain: \u001b[0mWARNING ⚠️ /content/drive/MyDrive/3R1CSegmentation/datasets/train_subset/images/003272.jpg: 1 duplicate labels removed\n",
            "\u001b[34m\u001b[1mtrain: \u001b[0mWARNING ⚠️ /content/drive/MyDrive/3R1CSegmentation/datasets/train_subset/images/003377.jpg: 1 duplicate labels removed\n",
            "\u001b[34m\u001b[1mtrain: \u001b[0mWARNING ⚠️ /content/drive/MyDrive/3R1CSegmentation/datasets/train_subset/images/003399.jpg: 2 duplicate labels removed\n",
            "\u001b[34m\u001b[1mtrain: \u001b[0mWARNING ⚠️ /content/drive/MyDrive/3R1CSegmentation/datasets/train_subset/images/003430.jpg: 1 duplicate labels removed\n",
            "\u001b[34m\u001b[1mtrain: \u001b[0mWARNING ⚠️ /content/drive/MyDrive/3R1CSegmentation/datasets/train_subset/images/003443.jpg: 2 duplicate labels removed\n",
            "\u001b[34m\u001b[1mtrain: \u001b[0mWARNING ⚠️ /content/drive/MyDrive/3R1CSegmentation/datasets/train_subset/images/003649.jpg: ignoring corrupt image/label: non-normalized or out of bounds coordinates [     1.0004      1.0015]\n",
            "\u001b[34m\u001b[1mtrain: \u001b[0mWARNING ⚠️ /content/drive/MyDrive/3R1CSegmentation/datasets/train_subset/images/003686.jpg: 1 duplicate labels removed\n",
            "\u001b[34m\u001b[1mtrain: \u001b[0mWARNING ⚠️ /content/drive/MyDrive/3R1CSegmentation/datasets/train_subset/images/003749.jpg: 2 duplicate labels removed\n",
            "\u001b[34m\u001b[1mtrain: \u001b[0mWARNING ⚠️ /content/drive/MyDrive/3R1CSegmentation/datasets/train_subset/images/003900.jpg: 2 duplicate labels removed\n",
            "\u001b[34m\u001b[1mtrain: \u001b[0mWARNING ⚠️ /content/drive/MyDrive/3R1CSegmentation/datasets/train_subset/images/003909.jpg: 1 duplicate labels removed\n",
            "\u001b[34m\u001b[1mtrain: \u001b[0mWARNING ⚠️ /content/drive/MyDrive/3R1CSegmentation/datasets/train_subset/images/003924.jpg: 1 duplicate labels removed\n",
            "\u001b[34m\u001b[1mtrain: \u001b[0mWARNING ⚠️ /content/drive/MyDrive/3R1CSegmentation/datasets/train_subset/images/003937.jpg: 1 duplicate labels removed\n",
            "\u001b[34m\u001b[1mtrain: \u001b[0mWARNING ⚠️ /content/drive/MyDrive/3R1CSegmentation/datasets/train_subset/images/004117.jpg: 1 duplicate labels removed\n",
            "\u001b[34m\u001b[1mtrain: \u001b[0mWARNING ⚠️ /content/drive/MyDrive/3R1CSegmentation/datasets/train_subset/images/004125.jpg: 2 duplicate labels removed\n",
            "\u001b[34m\u001b[1mtrain: \u001b[0mWARNING ⚠️ /content/drive/MyDrive/3R1CSegmentation/datasets/train_subset/images/004126.jpg: 1 duplicate labels removed\n",
            "\u001b[34m\u001b[1mtrain: \u001b[0mWARNING ⚠️ /content/drive/MyDrive/3R1CSegmentation/datasets/train_subset/images/004130.jpg: ignoring corrupt image/label: non-normalized or out of bounds coordinates [     1.0003]\n",
            "\u001b[34m\u001b[1mtrain: \u001b[0mWARNING ⚠️ /content/drive/MyDrive/3R1CSegmentation/datasets/train_subset/images/004227.jpg: 1 duplicate labels removed\n",
            "\u001b[34m\u001b[1mtrain: \u001b[0mWARNING ⚠️ /content/drive/MyDrive/3R1CSegmentation/datasets/train_subset/images/004231.jpg: 1 duplicate labels removed\n",
            "\u001b[34m\u001b[1mtrain: \u001b[0mWARNING ⚠️ /content/drive/MyDrive/3R1CSegmentation/datasets/train_subset/images/004232.jpg: 1 duplicate labels removed\n",
            "\u001b[34m\u001b[1mtrain: \u001b[0mWARNING ⚠️ /content/drive/MyDrive/3R1CSegmentation/datasets/train_subset/images/004362.jpg: ignoring corrupt image/label: non-normalized or out of bounds coordinates [     1.0016]\n",
            "\u001b[34m\u001b[1mtrain: \u001b[0mWARNING ⚠️ /content/drive/MyDrive/3R1CSegmentation/datasets/train_subset/images/004376.jpg: ignoring corrupt image/label: non-normalized or out of bounds coordinates [     1.0003]\n",
            "\u001b[34m\u001b[1mtrain: \u001b[0mWARNING ⚠️ /content/drive/MyDrive/3R1CSegmentation/datasets/train_subset/images/004523.jpg: 1 duplicate labels removed\n",
            "\u001b[34m\u001b[1mtrain: \u001b[0mWARNING ⚠️ /content/drive/MyDrive/3R1CSegmentation/datasets/train_subset/images/004645.jpg: ignoring corrupt image/label: non-normalized or out of bounds coordinates [     1.0002]\n",
            "\u001b[34m\u001b[1mtrain: \u001b[0mWARNING ⚠️ /content/drive/MyDrive/3R1CSegmentation/datasets/train_subset/images/004666.jpg: 1 duplicate labels removed\n",
            "\u001b[34m\u001b[1mtrain: \u001b[0mWARNING ⚠️ /content/drive/MyDrive/3R1CSegmentation/datasets/train_subset/images/004694.jpg: ignoring corrupt image/label: non-normalized or out of bounds coordinates [     1.0021]\n",
            "\u001b[34m\u001b[1mtrain: \u001b[0mWARNING ⚠️ /content/drive/MyDrive/3R1CSegmentation/datasets/train_subset/images/004712.jpg: ignoring corrupt image/label: non-normalized or out of bounds coordinates [     1.0029]\n",
            "\u001b[34m\u001b[1mtrain: \u001b[0mWARNING ⚠️ /content/drive/MyDrive/3R1CSegmentation/datasets/train_subset/images/004732.jpg: 1 duplicate labels removed\n",
            "\u001b[34m\u001b[1mtrain: \u001b[0mWARNING ⚠️ /content/drive/MyDrive/3R1CSegmentation/datasets/train_subset/images/004736.jpg: ignoring corrupt image/label: non-normalized or out of bounds coordinates [     1.0006]\n",
            "\u001b[34m\u001b[1mtrain: \u001b[0mWARNING ⚠️ /content/drive/MyDrive/3R1CSegmentation/datasets/train_subset/images/004786.jpg: ignoring corrupt image/label: non-normalized or out of bounds coordinates [     1.0008      1.0001]\n",
            "\u001b[34m\u001b[1mtrain: \u001b[0mWARNING ⚠️ /content/drive/MyDrive/3R1CSegmentation/datasets/train_subset/images/004809.jpg: 1 duplicate labels removed\n",
            "\u001b[34m\u001b[1mtrain: \u001b[0mWARNING ⚠️ /content/drive/MyDrive/3R1CSegmentation/datasets/train_subset/images/004830.jpg: ignoring corrupt image/label: non-normalized or out of bounds coordinates [     1.0006      1.0002]\n",
            "\u001b[34m\u001b[1mtrain: \u001b[0mWARNING ⚠️ /content/drive/MyDrive/3R1CSegmentation/datasets/train_subset/images/004890.jpg: 1 duplicate labels removed\n",
            "\u001b[34m\u001b[1mtrain: \u001b[0mWARNING ⚠️ /content/drive/MyDrive/3R1CSegmentation/datasets/train_subset/images/004893.jpg: 1 duplicate labels removed\n",
            "\u001b[34m\u001b[1mtrain: \u001b[0mWARNING ⚠️ /content/drive/MyDrive/3R1CSegmentation/datasets/train_subset/images/004933.jpg: 1 duplicate labels removed\n",
            "\u001b[34m\u001b[1mtrain: \u001b[0mWARNING ⚠️ /content/drive/MyDrive/3R1CSegmentation/datasets/train_subset/images/005067.jpg: ignoring corrupt image/label: non-normalized or out of bounds coordinates [     1.0006      1.0014]\n",
            "\u001b[34m\u001b[1mtrain: \u001b[0mWARNING ⚠️ /content/drive/MyDrive/3R1CSegmentation/datasets/train_subset/images/005079.jpg: 1 duplicate labels removed\n",
            "\u001b[34m\u001b[1mtrain: \u001b[0mWARNING ⚠️ /content/drive/MyDrive/3R1CSegmentation/datasets/train_subset/images/005236.jpg: ignoring corrupt image/label: non-normalized or out of bounds coordinates [     1.0007]\n",
            "\u001b[34m\u001b[1mtrain: \u001b[0mWARNING ⚠️ /content/drive/MyDrive/3R1CSegmentation/datasets/train_subset/images/005251.jpg: 1 duplicate labels removed\n",
            "\u001b[34m\u001b[1mtrain: \u001b[0mWARNING ⚠️ /content/drive/MyDrive/3R1CSegmentation/datasets/train_subset/images/005253.jpg: 1 duplicate labels removed\n",
            "\u001b[34m\u001b[1mtrain: \u001b[0mWARNING ⚠️ /content/drive/MyDrive/3R1CSegmentation/datasets/train_subset/images/005255.jpg: 1 duplicate labels removed\n",
            "\u001b[34m\u001b[1mtrain: \u001b[0mWARNING ⚠️ /content/drive/MyDrive/3R1CSegmentation/datasets/train_subset/images/005256.jpg: 1 duplicate labels removed\n",
            "\u001b[34m\u001b[1mtrain: \u001b[0mWARNING ⚠️ /content/drive/MyDrive/3R1CSegmentation/datasets/train_subset/images/005261.jpg: 1 duplicate labels removed\n",
            "\u001b[34m\u001b[1mtrain: \u001b[0mWARNING ⚠️ /content/drive/MyDrive/3R1CSegmentation/datasets/train_subset/images/005342.jpg: 1 duplicate labels removed\n",
            "\u001b[34m\u001b[1mtrain: \u001b[0mWARNING ⚠️ /content/drive/MyDrive/3R1CSegmentation/datasets/train_subset/images/005622.jpg: 1 duplicate labels removed\n",
            "\u001b[34m\u001b[1mtrain: \u001b[0mWARNING ⚠️ /content/drive/MyDrive/3R1CSegmentation/datasets/train_subset/images/005665.jpg: 1 duplicate labels removed\n",
            "\u001b[34m\u001b[1mtrain: \u001b[0mWARNING ⚠️ /content/drive/MyDrive/3R1CSegmentation/datasets/train_subset/images/005676.jpg: 1 duplicate labels removed\n",
            "\u001b[34m\u001b[1mtrain: \u001b[0mWARNING ⚠️ /content/drive/MyDrive/3R1CSegmentation/datasets/train_subset/images/005835.jpg: 1 duplicate labels removed\n",
            "\u001b[34m\u001b[1mtrain: \u001b[0mWARNING ⚠️ /content/drive/MyDrive/3R1CSegmentation/datasets/train_subset/images/005985.jpg: ignoring corrupt image/label: non-normalized or out of bounds coordinates [      1.001]\n",
            "\u001b[34m\u001b[1mtrain: \u001b[0mWARNING ⚠️ /content/drive/MyDrive/3R1CSegmentation/datasets/train_subset/images/006005.jpg: 1 duplicate labels removed\n",
            "\u001b[34m\u001b[1mtrain: \u001b[0mWARNING ⚠️ /content/drive/MyDrive/3R1CSegmentation/datasets/train_subset/images/006014.jpg: 1 duplicate labels removed\n",
            "\u001b[34m\u001b[1mtrain: \u001b[0mWARNING ⚠️ /content/drive/MyDrive/3R1CSegmentation/datasets/train_subset/images/006015.jpg: 1 duplicate labels removed\n",
            "\u001b[34m\u001b[1mtrain: \u001b[0mWARNING ⚠️ /content/drive/MyDrive/3R1CSegmentation/datasets/train_subset/images/006102.jpg: 1 duplicate labels removed\n",
            "\u001b[34m\u001b[1mtrain: \u001b[0mWARNING ⚠️ /content/drive/MyDrive/3R1CSegmentation/datasets/train_subset/images/006103.jpg: 1 duplicate labels removed\n",
            "\u001b[34m\u001b[1mtrain: \u001b[0mWARNING ⚠️ /content/drive/MyDrive/3R1CSegmentation/datasets/train_subset/images/006127.jpg: 1 duplicate labels removed\n",
            "\u001b[34m\u001b[1mtrain: \u001b[0mWARNING ⚠️ /content/drive/MyDrive/3R1CSegmentation/datasets/train_subset/images/006147.jpg: 2 duplicate labels removed\n",
            "\u001b[34m\u001b[1mtrain: \u001b[0mWARNING ⚠️ /content/drive/MyDrive/3R1CSegmentation/datasets/train_subset/images/006148.jpg: 1 duplicate labels removed\n",
            "\u001b[34m\u001b[1mtrain: \u001b[0mWARNING ⚠️ /content/drive/MyDrive/3R1CSegmentation/datasets/train_subset/images/006149.jpg: 2 duplicate labels removed\n",
            "\u001b[34m\u001b[1mtrain: \u001b[0mWARNING ⚠️ /content/drive/MyDrive/3R1CSegmentation/datasets/train_subset/images/006150.jpg: 2 duplicate labels removed\n",
            "\u001b[34m\u001b[1mtrain: \u001b[0mWARNING ⚠️ /content/drive/MyDrive/3R1CSegmentation/datasets/train_subset/images/006152.jpg: 1 duplicate labels removed\n",
            "\u001b[34m\u001b[1mtrain: \u001b[0mWARNING ⚠️ /content/drive/MyDrive/3R1CSegmentation/datasets/train_subset/images/006219.jpg: ignoring corrupt image/label: non-normalized or out of bounds coordinates [     1.0055]\n",
            "\u001b[34m\u001b[1mtrain: \u001b[0mWARNING ⚠️ /content/drive/MyDrive/3R1CSegmentation/datasets/train_subset/images/006597.jpg: ignoring corrupt image/label: non-normalized or out of bounds coordinates [     1.0012]\n",
            "\u001b[34m\u001b[1mtrain: \u001b[0mWARNING ⚠️ /content/drive/MyDrive/3R1CSegmentation/datasets/train_subset/images/006674.jpg: ignoring corrupt image/label: non-normalized or out of bounds coordinates [     1.0001]\n",
            "\u001b[34m\u001b[1mtrain: \u001b[0mWARNING ⚠️ /content/drive/MyDrive/3R1CSegmentation/datasets/train_subset/images/006678.jpg: ignoring corrupt image/label: non-normalized or out of bounds coordinates [     1.0004]\n",
            "\u001b[34m\u001b[1mtrain: \u001b[0mWARNING ⚠️ /content/drive/MyDrive/3R1CSegmentation/datasets/train_subset/images/006716.jpg: 2 duplicate labels removed\n",
            "\u001b[34m\u001b[1mtrain: \u001b[0mWARNING ⚠️ /content/drive/MyDrive/3R1CSegmentation/datasets/train_subset/images/006719.jpg: ignoring corrupt image/label: non-normalized or out of bounds coordinates [     1.0025]\n",
            "\u001b[34m\u001b[1mtrain: \u001b[0mWARNING ⚠️ /content/drive/MyDrive/3R1CSegmentation/datasets/train_subset/images/006733.jpg: 1 duplicate labels removed\n",
            "\u001b[34m\u001b[1mtrain: \u001b[0mWARNING ⚠️ /content/drive/MyDrive/3R1CSegmentation/datasets/train_subset/images/006967.jpg: 1 duplicate labels removed\n",
            "\u001b[34m\u001b[1mtrain: \u001b[0mWARNING ⚠️ /content/drive/MyDrive/3R1CSegmentation/datasets/train_subset/images/006973.jpg: ignoring corrupt image/label: non-normalized or out of bounds coordinates [     1.0004]\n",
            "\u001b[34m\u001b[1mtrain: \u001b[0mWARNING ⚠️ /content/drive/MyDrive/3R1CSegmentation/datasets/train_subset/images/007089.jpg: ignoring corrupt image/label: non-normalized or out of bounds coordinates [     1.0008]\n",
            "\u001b[34m\u001b[1mtrain: \u001b[0mWARNING ⚠️ /content/drive/MyDrive/3R1CSegmentation/datasets/train_subset/images/007126.jpg: ignoring corrupt image/label: non-normalized or out of bounds coordinates [     1.0002]\n",
            "\u001b[34m\u001b[1mtrain: \u001b[0mWARNING ⚠️ /content/drive/MyDrive/3R1CSegmentation/datasets/train_subset/images/007127.jpg: ignoring corrupt image/label: non-normalized or out of bounds coordinates [     1.0007]\n",
            "\u001b[34m\u001b[1mtrain: \u001b[0mWARNING ⚠️ /content/drive/MyDrive/3R1CSegmentation/datasets/train_subset/images/007138.jpg: ignoring corrupt image/label: non-normalized or out of bounds coordinates [     1.0002]\n",
            "\u001b[34m\u001b[1mtrain: \u001b[0mWARNING ⚠️ /content/drive/MyDrive/3R1CSegmentation/datasets/train_subset/images/007181.jpg: ignoring corrupt image/label: non-normalized or out of bounds coordinates [     1.0007      1.0004]\n",
            "\u001b[34m\u001b[1mtrain: \u001b[0mWARNING ⚠️ /content/drive/MyDrive/3R1CSegmentation/datasets/train_subset/images/007185.jpg: ignoring corrupt image/label: non-normalized or out of bounds coordinates [     1.0027]\n",
            "\u001b[34m\u001b[1mtrain: \u001b[0mWARNING ⚠️ /content/drive/MyDrive/3R1CSegmentation/datasets/train_subset/images/007205.jpg: ignoring corrupt image/label: non-normalized or out of bounds coordinates [     1.0011]\n",
            "\u001b[34m\u001b[1mtrain: \u001b[0mWARNING ⚠️ /content/drive/MyDrive/3R1CSegmentation/datasets/train_subset/images/007294.jpg: ignoring corrupt image/label: non-normalized or out of bounds coordinates [     1.0003]\n",
            "\u001b[34m\u001b[1mtrain: \u001b[0mWARNING ⚠️ /content/drive/MyDrive/3R1CSegmentation/datasets/train_subset/images/007317.jpg: ignoring corrupt image/label: non-normalized or out of bounds coordinates [     1.0015]\n",
            "\u001b[34m\u001b[1mtrain: \u001b[0mWARNING ⚠️ /content/drive/MyDrive/3R1CSegmentation/datasets/train_subset/images/007343.jpg: 1 duplicate labels removed\n",
            "\u001b[34m\u001b[1mtrain: \u001b[0mWARNING ⚠️ /content/drive/MyDrive/3R1CSegmentation/datasets/train_subset/images/007453.jpg: 2 duplicate labels removed\n",
            "\u001b[34m\u001b[1mtrain: \u001b[0mWARNING ⚠️ /content/drive/MyDrive/3R1CSegmentation/datasets/train_subset/images/007557.jpg: 1 duplicate labels removed\n",
            "\u001b[34m\u001b[1mtrain: \u001b[0mWARNING ⚠️ /content/drive/MyDrive/3R1CSegmentation/datasets/train_subset/images/007558.jpg: 2 duplicate labels removed\n",
            "\u001b[34m\u001b[1mtrain: \u001b[0mWARNING ⚠️ /content/drive/MyDrive/3R1CSegmentation/datasets/train_subset/images/007559.jpg: 1 duplicate labels removed\n",
            "\u001b[34m\u001b[1mtrain: \u001b[0mWARNING ⚠️ /content/drive/MyDrive/3R1CSegmentation/datasets/train_subset/images/007560.jpg: 1 duplicate labels removed\n",
            "\u001b[34m\u001b[1mtrain: \u001b[0mWARNING ⚠️ /content/drive/MyDrive/3R1CSegmentation/datasets/train_subset/images/007561.jpg: 1 duplicate labels removed\n",
            "\u001b[34m\u001b[1mtrain: \u001b[0mWARNING ⚠️ /content/drive/MyDrive/3R1CSegmentation/datasets/train_subset/images/007562.jpg: 1 duplicate labels removed\n",
            "\u001b[34m\u001b[1mtrain: \u001b[0mWARNING ⚠️ /content/drive/MyDrive/3R1CSegmentation/datasets/train_subset/images/007563.jpg: 1 duplicate labels removed\n",
            "\u001b[34m\u001b[1mtrain: \u001b[0mWARNING ⚠️ /content/drive/MyDrive/3R1CSegmentation/datasets/train_subset/images/007567.jpg: 1 duplicate labels removed\n",
            "\u001b[34m\u001b[1mtrain: \u001b[0mWARNING ⚠️ /content/drive/MyDrive/3R1CSegmentation/datasets/train_subset/images/007568.jpg: 1 duplicate labels removed\n",
            "\u001b[34m\u001b[1mtrain: \u001b[0mWARNING ⚠️ /content/drive/MyDrive/3R1CSegmentation/datasets/train_subset/images/007569.jpg: 2 duplicate labels removed\n",
            "\u001b[34m\u001b[1mtrain: \u001b[0mWARNING ⚠️ /content/drive/MyDrive/3R1CSegmentation/datasets/train_subset/images/007570.jpg: 1 duplicate labels removed\n",
            "\u001b[34m\u001b[1mtrain: \u001b[0mWARNING ⚠️ /content/drive/MyDrive/3R1CSegmentation/datasets/train_subset/images/007572.jpg: 1 duplicate labels removed\n",
            "\u001b[34m\u001b[1mtrain: \u001b[0mWARNING ⚠️ /content/drive/MyDrive/3R1CSegmentation/datasets/train_subset/images/007573.jpg: 1 duplicate labels removed\n",
            "\u001b[34m\u001b[1mtrain: \u001b[0mWARNING ⚠️ /content/drive/MyDrive/3R1CSegmentation/datasets/train_subset/images/007574.jpg: 1 duplicate labels removed\n",
            "\u001b[34m\u001b[1mtrain: \u001b[0mWARNING ⚠️ /content/drive/MyDrive/3R1CSegmentation/datasets/train_subset/images/007576.jpg: 2 duplicate labels removed\n",
            "\u001b[34m\u001b[1mtrain: \u001b[0mWARNING ⚠️ /content/drive/MyDrive/3R1CSegmentation/datasets/train_subset/images/007577.jpg: 1 duplicate labels removed\n",
            "\u001b[34m\u001b[1mtrain: \u001b[0mWARNING ⚠️ /content/drive/MyDrive/3R1CSegmentation/datasets/train_subset/images/007578.jpg: 2 duplicate labels removed\n",
            "\u001b[34m\u001b[1mtrain: \u001b[0mWARNING ⚠️ /content/drive/MyDrive/3R1CSegmentation/datasets/train_subset/images/007579.jpg: 1 duplicate labels removed\n",
            "\u001b[34m\u001b[1mtrain: \u001b[0mWARNING ⚠️ /content/drive/MyDrive/3R1CSegmentation/datasets/train_subset/images/007580.jpg: ignoring corrupt image/label: non-normalized or out of bounds coordinates [     1.0016]\n",
            "\u001b[34m\u001b[1mtrain: \u001b[0mWARNING ⚠️ /content/drive/MyDrive/3R1CSegmentation/datasets/train_subset/images/007589.jpg: 1 duplicate labels removed\n",
            "\u001b[34m\u001b[1mtrain: \u001b[0mWARNING ⚠️ /content/drive/MyDrive/3R1CSegmentation/datasets/train_subset/images/007592.jpg: 1 duplicate labels removed\n",
            "\u001b[34m\u001b[1mtrain: \u001b[0mWARNING ⚠️ /content/drive/MyDrive/3R1CSegmentation/datasets/train_subset/images/007595.jpg: 1 duplicate labels removed\n",
            "\u001b[34m\u001b[1mtrain: \u001b[0mWARNING ⚠️ /content/drive/MyDrive/3R1CSegmentation/datasets/train_subset/images/007597.jpg: 1 duplicate labels removed\n",
            "\u001b[34m\u001b[1mtrain: \u001b[0mWARNING ⚠️ /content/drive/MyDrive/3R1CSegmentation/datasets/train_subset/images/007658.jpg: 1 duplicate labels removed\n",
            "\u001b[34m\u001b[1mtrain: \u001b[0mWARNING ⚠️ /content/drive/MyDrive/3R1CSegmentation/datasets/train_subset/images/007660.jpg: 1 duplicate labels removed\n",
            "\u001b[34m\u001b[1mtrain: \u001b[0mWARNING ⚠️ /content/drive/MyDrive/3R1CSegmentation/datasets/train_subset/images/007737.jpg: 1 duplicate labels removed\n",
            "\u001b[34m\u001b[1mtrain: \u001b[0mWARNING ⚠️ /content/drive/MyDrive/3R1CSegmentation/datasets/train_subset/images/007823.jpg: 1 duplicate labels removed\n",
            "\u001b[34m\u001b[1mtrain: \u001b[0mWARNING ⚠️ /content/drive/MyDrive/3R1CSegmentation/datasets/train_subset/images/007843.jpg: 1 duplicate labels removed\n",
            "\u001b[34m\u001b[1mtrain: \u001b[0mWARNING ⚠️ /content/drive/MyDrive/3R1CSegmentation/datasets/train_subset/images/008000.jpg: 2 duplicate labels removed\n",
            "\u001b[34m\u001b[1mtrain: \u001b[0mWARNING ⚠️ /content/drive/MyDrive/3R1CSegmentation/datasets/train_subset/images/008002.jpg: 1 duplicate labels removed\n",
            "\u001b[34m\u001b[1mtrain: \u001b[0mWARNING ⚠️ /content/drive/MyDrive/3R1CSegmentation/datasets/train_subset/images/008005.jpg: 1 duplicate labels removed\n",
            "\u001b[34m\u001b[1mtrain: \u001b[0mWARNING ⚠️ /content/drive/MyDrive/3R1CSegmentation/datasets/train_subset/images/008125.jpg: 2 duplicate labels removed\n",
            "\u001b[34m\u001b[1mtrain: \u001b[0mWARNING ⚠️ /content/drive/MyDrive/3R1CSegmentation/datasets/train_subset/images/008175.jpg: 1 duplicate labels removed\n",
            "\u001b[34m\u001b[1mtrain: \u001b[0mWARNING ⚠️ /content/drive/MyDrive/3R1CSegmentation/datasets/train_subset/images/008178.jpg: 1 duplicate labels removed\n",
            "\u001b[34m\u001b[1mtrain: \u001b[0mWARNING ⚠️ /content/drive/MyDrive/3R1CSegmentation/datasets/train_subset/images/008194.jpg: 1 duplicate labels removed\n",
            "\u001b[34m\u001b[1mtrain: \u001b[0mWARNING ⚠️ /content/drive/MyDrive/3R1CSegmentation/datasets/train_subset/images/008240.jpg: 1 duplicate labels removed\n",
            "\u001b[34m\u001b[1mtrain: \u001b[0mWARNING ⚠️ /content/drive/MyDrive/3R1CSegmentation/datasets/train_subset/images/008262.jpg: 1 duplicate labels removed\n",
            "\u001b[34m\u001b[1mtrain: \u001b[0mWARNING ⚠️ /content/drive/MyDrive/3R1CSegmentation/datasets/train_subset/images/008432.jpg: 1 duplicate labels removed\n",
            "\u001b[34m\u001b[1mtrain: \u001b[0mWARNING ⚠️ /content/drive/MyDrive/3R1CSegmentation/datasets/train_subset/images/008791.jpg: 1 duplicate labels removed\n",
            "\u001b[34m\u001b[1mtrain: \u001b[0mWARNING ⚠️ /content/drive/MyDrive/3R1CSegmentation/datasets/train_subset/images/008793.jpg: 1 duplicate labels removed\n",
            "\u001b[34m\u001b[1mtrain: \u001b[0mWARNING ⚠️ /content/drive/MyDrive/3R1CSegmentation/datasets/train_subset/images/008804.jpg: ignoring corrupt image/label: non-normalized or out of bounds coordinates [     1.0009]\n",
            "\u001b[34m\u001b[1mtrain: \u001b[0mWARNING ⚠️ /content/drive/MyDrive/3R1CSegmentation/datasets/train_subset/images/009071.jpg: ignoring corrupt image/label: non-normalized or out of bounds coordinates [      1.002]\n",
            "\u001b[34m\u001b[1mtrain: \u001b[0mWARNING ⚠️ /content/drive/MyDrive/3R1CSegmentation/datasets/train_subset/images/009081.jpg: ignoring corrupt image/label: non-normalized or out of bounds coordinates [     1.0024]\n",
            "\u001b[34m\u001b[1mtrain: \u001b[0mWARNING ⚠️ /content/drive/MyDrive/3R1CSegmentation/datasets/train_subset/images/009111.jpg: 1 duplicate labels removed\n",
            "\u001b[34m\u001b[1mtrain: \u001b[0mWARNING ⚠️ /content/drive/MyDrive/3R1CSegmentation/datasets/train_subset/images/009131.jpg: ignoring corrupt image/label: non-normalized or out of bounds coordinates [     1.0014]\n",
            "\u001b[34m\u001b[1mtrain: \u001b[0mWARNING ⚠️ /content/drive/MyDrive/3R1CSegmentation/datasets/train_subset/images/009252.jpg: 1 duplicate labels removed\n",
            "\u001b[34m\u001b[1mtrain: \u001b[0mWARNING ⚠️ /content/drive/MyDrive/3R1CSegmentation/datasets/train_subset/images/009382.jpg: 1 duplicate labels removed\n",
            "\u001b[34m\u001b[1mtrain: \u001b[0mWARNING ⚠️ /content/drive/MyDrive/3R1CSegmentation/datasets/train_subset/images/009441.jpg: 2 duplicate labels removed\n",
            "\u001b[34m\u001b[1mtrain: \u001b[0mWARNING ⚠️ /content/drive/MyDrive/3R1CSegmentation/datasets/train_subset/images/009446.jpg: 1 duplicate labels removed\n",
            "\u001b[34m\u001b[1mtrain: \u001b[0mWARNING ⚠️ /content/drive/MyDrive/3R1CSegmentation/datasets/train_subset/images/009471.jpg: 1 duplicate labels removed\n",
            "\u001b[34m\u001b[1mtrain: \u001b[0mWARNING ⚠️ /content/drive/MyDrive/3R1CSegmentation/datasets/train_subset/images/009548.jpg: 1 duplicate labels removed\n",
            "\u001b[34m\u001b[1mtrain: \u001b[0mWARNING ⚠️ /content/drive/MyDrive/3R1CSegmentation/datasets/train_subset/images/009640.jpg: 1 duplicate labels removed\n",
            "\u001b[34m\u001b[1mtrain: \u001b[0mWARNING ⚠️ /content/drive/MyDrive/3R1CSegmentation/datasets/train_subset/images/009646.jpg: 1 duplicate labels removed\n",
            "\u001b[34m\u001b[1mtrain: \u001b[0mWARNING ⚠️ /content/drive/MyDrive/3R1CSegmentation/datasets/train_subset/images/009665.jpg: 1 duplicate labels removed\n",
            "\u001b[34m\u001b[1mtrain: \u001b[0mWARNING ⚠️ /content/drive/MyDrive/3R1CSegmentation/datasets/train_subset/images/009830.jpg: 1 duplicate labels removed\n",
            "\u001b[34m\u001b[1mtrain: \u001b[0mWARNING ⚠️ /content/drive/MyDrive/3R1CSegmentation/datasets/train_subset/images/009837.jpg: 1 duplicate labels removed\n",
            "\u001b[34m\u001b[1mtrain: \u001b[0mWARNING ⚠️ /content/drive/MyDrive/3R1CSegmentation/datasets/train_subset/images/009881.jpg: 1 duplicate labels removed\n",
            "\u001b[34m\u001b[1mtrain: \u001b[0mWARNING ⚠️ /content/drive/MyDrive/3R1CSegmentation/datasets/train_subset/images/009891.jpg: 2 duplicate labels removed\n",
            "\u001b[34m\u001b[1mtrain: \u001b[0mWARNING ⚠️ /content/drive/MyDrive/3R1CSegmentation/datasets/train_subset/images/009895.jpg: 1 duplicate labels removed\n",
            "\u001b[34m\u001b[1malbumentations: \u001b[0mBlur(p=0.01, blur_limit=(3, 7)), MedianBlur(p=0.01, blur_limit=(3, 7)), ToGray(p=0.01, num_output_channels=3, method='weighted_average'), CLAHE(p=0.01, clip_limit=(1.0, 4.0), tile_grid_size=(8, 8))\n",
            "\u001b[34m\u001b[1mAutoBatch: \u001b[0mComputing optimal batch size for imgsz=640 at 70.0% CUDA memory utilization.\n",
            "\u001b[34m\u001b[1mAutoBatch: \u001b[0mCUDA:0 (NVIDIA A100-SXM4-40GB) 39.56G total, 8.78G reserved, 0.79G allocated, 29.99G free\n"
          ]
        },
        {
          "output_type": "stream",
          "name": "stderr",
          "text": [
            "\n"
          ]
        },
        {
          "output_type": "stream",
          "name": "stdout",
          "text": [
            "      Params      GFLOPs  GPU_mem (GB)  forward (ms) backward (ms)                   input                  output\n",
            "    10087319       35.62         2.496         40.76           nan        (1, 3, 640, 640)                    list\n",
            "    10087319       71.24         2.682         38.21           nan        (2, 3, 640, 640)                    list\n",
            "    10087319       142.5         4.333         42.18           nan        (4, 3, 640, 640)                    list\n",
            "    10087319       284.9         6.967         45.63           nan        (8, 3, 640, 640)                    list\n",
            "    10087319       569.9        12.558         50.17           nan       (16, 3, 640, 640)                    list\n",
            "    10087319        1140        22.993         56.04           nan       (32, 3, 640, 640)                    list\n",
            "    10087319        2280        44.218         95.24           nan       (64, 3, 640, 640)                    list\n",
            "\u001b[34m\u001b[1mAutoBatch: \u001b[0mUsing batch-size 35 for CUDA:0 30.62G/39.56G (77%) ✅\n"
          ]
        },
        {
          "output_type": "stream",
          "name": "stderr",
          "text": [
            "\u001b[34m\u001b[1mtrain: \u001b[0mScanning /content/drive/MyDrive/3R1CSegmentation/datasets/train_subset/labels.cache... 10000 images, 0 backgrounds, 56 corrupt: 100%|██████████| 10000/10000 [00:00<?, ?it/s]"
          ]
        },
        {
          "output_type": "stream",
          "name": "stdout",
          "text": [
            "\u001b[34m\u001b[1mtrain: \u001b[0mWARNING ⚠️ /content/drive/MyDrive/3R1CSegmentation/datasets/train_subset/images/000013.jpg: 1 duplicate labels removed\n",
            "\u001b[34m\u001b[1mtrain: \u001b[0mWARNING ⚠️ /content/drive/MyDrive/3R1CSegmentation/datasets/train_subset/images/000014.jpg: 1 duplicate labels removed\n",
            "\u001b[34m\u001b[1mtrain: \u001b[0mWARNING ⚠️ /content/drive/MyDrive/3R1CSegmentation/datasets/train_subset/images/000114.jpg: 1 duplicate labels removed\n",
            "\u001b[34m\u001b[1mtrain: \u001b[0mWARNING ⚠️ /content/drive/MyDrive/3R1CSegmentation/datasets/train_subset/images/000115.jpg: 2 duplicate labels removed\n",
            "\u001b[34m\u001b[1mtrain: \u001b[0mWARNING ⚠️ /content/drive/MyDrive/3R1CSegmentation/datasets/train_subset/images/000117.jpg: 1 duplicate labels removed\n",
            "\u001b[34m\u001b[1mtrain: \u001b[0mWARNING ⚠️ /content/drive/MyDrive/3R1CSegmentation/datasets/train_subset/images/000122.jpg: 1 duplicate labels removed\n",
            "\u001b[34m\u001b[1mtrain: \u001b[0mWARNING ⚠️ /content/drive/MyDrive/3R1CSegmentation/datasets/train_subset/images/000129.jpg: ignoring corrupt image/label: non-normalized or out of bounds coordinates [     1.0011]\n",
            "\u001b[34m\u001b[1mtrain: \u001b[0mWARNING ⚠️ /content/drive/MyDrive/3R1CSegmentation/datasets/train_subset/images/000225.jpg: ignoring corrupt image/label: non-normalized or out of bounds coordinates [     1.0004]\n",
            "\u001b[34m\u001b[1mtrain: \u001b[0mWARNING ⚠️ /content/drive/MyDrive/3R1CSegmentation/datasets/train_subset/images/000237.jpg: ignoring corrupt image/label: non-normalized or out of bounds coordinates [     1.0021]\n",
            "\u001b[34m\u001b[1mtrain: \u001b[0mWARNING ⚠️ /content/drive/MyDrive/3R1CSegmentation/datasets/train_subset/images/000238.jpg: ignoring corrupt image/label: non-normalized or out of bounds coordinates [     1.0011]\n",
            "\u001b[34m\u001b[1mtrain: \u001b[0mWARNING ⚠️ /content/drive/MyDrive/3R1CSegmentation/datasets/train_subset/images/000250.jpg: ignoring corrupt image/label: non-normalized or out of bounds coordinates [     1.0007]\n",
            "\u001b[34m\u001b[1mtrain: \u001b[0mWARNING ⚠️ /content/drive/MyDrive/3R1CSegmentation/datasets/train_subset/images/000253.jpg: 1 duplicate labels removed\n",
            "\u001b[34m\u001b[1mtrain: \u001b[0mWARNING ⚠️ /content/drive/MyDrive/3R1CSegmentation/datasets/train_subset/images/000305.jpg: ignoring corrupt image/label: non-normalized or out of bounds coordinates [     1.0005]\n",
            "\u001b[34m\u001b[1mtrain: \u001b[0mWARNING ⚠️ /content/drive/MyDrive/3R1CSegmentation/datasets/train_subset/images/000474.jpg: 1 duplicate labels removed\n",
            "\u001b[34m\u001b[1mtrain: \u001b[0mWARNING ⚠️ /content/drive/MyDrive/3R1CSegmentation/datasets/train_subset/images/000611.jpg: 1 duplicate labels removed\n",
            "\u001b[34m\u001b[1mtrain: \u001b[0mWARNING ⚠️ /content/drive/MyDrive/3R1CSegmentation/datasets/train_subset/images/000687.jpg: 1 duplicate labels removed\n",
            "\u001b[34m\u001b[1mtrain: \u001b[0mWARNING ⚠️ /content/drive/MyDrive/3R1CSegmentation/datasets/train_subset/images/000689.jpg: 1 duplicate labels removed\n",
            "\u001b[34m\u001b[1mtrain: \u001b[0mWARNING ⚠️ /content/drive/MyDrive/3R1CSegmentation/datasets/train_subset/images/000694.jpg: 1 duplicate labels removed\n",
            "\u001b[34m\u001b[1mtrain: \u001b[0mWARNING ⚠️ /content/drive/MyDrive/3R1CSegmentation/datasets/train_subset/images/000699.jpg: 1 duplicate labels removed\n",
            "\u001b[34m\u001b[1mtrain: \u001b[0mWARNING ⚠️ /content/drive/MyDrive/3R1CSegmentation/datasets/train_subset/images/000727.jpg: ignoring corrupt image/label: non-normalized or out of bounds coordinates [     1.0001]\n",
            "\u001b[34m\u001b[1mtrain: \u001b[0mWARNING ⚠️ /content/drive/MyDrive/3R1CSegmentation/datasets/train_subset/images/000728.jpg: ignoring corrupt image/label: non-normalized or out of bounds coordinates [     1.0003]\n",
            "\u001b[34m\u001b[1mtrain: \u001b[0mWARNING ⚠️ /content/drive/MyDrive/3R1CSegmentation/datasets/train_subset/images/000744.jpg: 1 duplicate labels removed\n",
            "\u001b[34m\u001b[1mtrain: \u001b[0mWARNING ⚠️ /content/drive/MyDrive/3R1CSegmentation/datasets/train_subset/images/000939.jpg: 1 duplicate labels removed\n",
            "\u001b[34m\u001b[1mtrain: \u001b[0mWARNING ⚠️ /content/drive/MyDrive/3R1CSegmentation/datasets/train_subset/images/000941.jpg: 1 duplicate labels removed\n",
            "\u001b[34m\u001b[1mtrain: \u001b[0mWARNING ⚠️ /content/drive/MyDrive/3R1CSegmentation/datasets/train_subset/images/000973.jpg: ignoring corrupt image/label: non-normalized or out of bounds coordinates [     1.0009]\n",
            "\u001b[34m\u001b[1mtrain: \u001b[0mWARNING ⚠️ /content/drive/MyDrive/3R1CSegmentation/datasets/train_subset/images/001142.jpg: 1 duplicate labels removed\n",
            "\u001b[34m\u001b[1mtrain: \u001b[0mWARNING ⚠️ /content/drive/MyDrive/3R1CSegmentation/datasets/train_subset/images/001149.jpg: 2 duplicate labels removed\n",
            "\u001b[34m\u001b[1mtrain: \u001b[0mWARNING ⚠️ /content/drive/MyDrive/3R1CSegmentation/datasets/train_subset/images/001151.jpg: 2 duplicate labels removed\n",
            "\u001b[34m\u001b[1mtrain: \u001b[0mWARNING ⚠️ /content/drive/MyDrive/3R1CSegmentation/datasets/train_subset/images/001152.jpg: 2 duplicate labels removed\n",
            "\u001b[34m\u001b[1mtrain: \u001b[0mWARNING ⚠️ /content/drive/MyDrive/3R1CSegmentation/datasets/train_subset/images/001153.jpg: 2 duplicate labels removed\n",
            "\u001b[34m\u001b[1mtrain: \u001b[0mWARNING ⚠️ /content/drive/MyDrive/3R1CSegmentation/datasets/train_subset/images/001155.jpg: 2 duplicate labels removed\n",
            "\u001b[34m\u001b[1mtrain: \u001b[0mWARNING ⚠️ /content/drive/MyDrive/3R1CSegmentation/datasets/train_subset/images/001272.jpg: 1 duplicate labels removed\n",
            "\u001b[34m\u001b[1mtrain: \u001b[0mWARNING ⚠️ /content/drive/MyDrive/3R1CSegmentation/datasets/train_subset/images/001350.jpg: ignoring corrupt image/label: non-normalized or out of bounds coordinates [     1.0021]\n",
            "\u001b[34m\u001b[1mtrain: \u001b[0mWARNING ⚠️ /content/drive/MyDrive/3R1CSegmentation/datasets/train_subset/images/001391.jpg: 1 duplicate labels removed\n",
            "\u001b[34m\u001b[1mtrain: \u001b[0mWARNING ⚠️ /content/drive/MyDrive/3R1CSegmentation/datasets/train_subset/images/001403.jpg: 1 duplicate labels removed\n",
            "\u001b[34m\u001b[1mtrain: \u001b[0mWARNING ⚠️ /content/drive/MyDrive/3R1CSegmentation/datasets/train_subset/images/001422.jpg: 1 duplicate labels removed\n",
            "\u001b[34m\u001b[1mtrain: \u001b[0mWARNING ⚠️ /content/drive/MyDrive/3R1CSegmentation/datasets/train_subset/images/001449.jpg: 1 duplicate labels removed\n",
            "\u001b[34m\u001b[1mtrain: \u001b[0mWARNING ⚠️ /content/drive/MyDrive/3R1CSegmentation/datasets/train_subset/images/001469.jpg: ignoring corrupt image/label: non-normalized or out of bounds coordinates [     1.0005]\n",
            "\u001b[34m\u001b[1mtrain: \u001b[0mWARNING ⚠️ /content/drive/MyDrive/3R1CSegmentation/datasets/train_subset/images/001560.jpg: ignoring corrupt image/label: non-normalized or out of bounds coordinates [     1.0021]\n",
            "\u001b[34m\u001b[1mtrain: \u001b[0mWARNING ⚠️ /content/drive/MyDrive/3R1CSegmentation/datasets/train_subset/images/001611.jpg: 1 duplicate labels removed\n",
            "\u001b[34m\u001b[1mtrain: \u001b[0mWARNING ⚠️ /content/drive/MyDrive/3R1CSegmentation/datasets/train_subset/images/001622.jpg: ignoring corrupt image/label: non-normalized or out of bounds coordinates [     1.0021]\n",
            "\u001b[34m\u001b[1mtrain: \u001b[0mWARNING ⚠️ /content/drive/MyDrive/3R1CSegmentation/datasets/train_subset/images/001652.jpg: 1 duplicate labels removed\n",
            "\u001b[34m\u001b[1mtrain: \u001b[0mWARNING ⚠️ /content/drive/MyDrive/3R1CSegmentation/datasets/train_subset/images/001660.jpg: 2 duplicate labels removed\n",
            "\u001b[34m\u001b[1mtrain: \u001b[0mWARNING ⚠️ /content/drive/MyDrive/3R1CSegmentation/datasets/train_subset/images/001662.jpg: 1 duplicate labels removed\n",
            "\u001b[34m\u001b[1mtrain: \u001b[0mWARNING ⚠️ /content/drive/MyDrive/3R1CSegmentation/datasets/train_subset/images/001663.jpg: 1 duplicate labels removed\n",
            "\u001b[34m\u001b[1mtrain: \u001b[0mWARNING ⚠️ /content/drive/MyDrive/3R1CSegmentation/datasets/train_subset/images/001668.jpg: 2 duplicate labels removed\n",
            "\u001b[34m\u001b[1mtrain: \u001b[0mWARNING ⚠️ /content/drive/MyDrive/3R1CSegmentation/datasets/train_subset/images/001705.jpg: ignoring corrupt image/label: non-normalized or out of bounds coordinates [     1.0008]\n",
            "\u001b[34m\u001b[1mtrain: \u001b[0mWARNING ⚠️ /content/drive/MyDrive/3R1CSegmentation/datasets/train_subset/images/001718.jpg: ignoring corrupt image/label: non-normalized or out of bounds coordinates [     1.0003]\n",
            "\u001b[34m\u001b[1mtrain: \u001b[0mWARNING ⚠️ /content/drive/MyDrive/3R1CSegmentation/datasets/train_subset/images/001751.jpg: 1 duplicate labels removed\n",
            "\u001b[34m\u001b[1mtrain: \u001b[0mWARNING ⚠️ /content/drive/MyDrive/3R1CSegmentation/datasets/train_subset/images/001754.jpg: 1 duplicate labels removed\n",
            "\u001b[34m\u001b[1mtrain: \u001b[0mWARNING ⚠️ /content/drive/MyDrive/3R1CSegmentation/datasets/train_subset/images/001755.jpg: 2 duplicate labels removed\n",
            "\u001b[34m\u001b[1mtrain: \u001b[0mWARNING ⚠️ /content/drive/MyDrive/3R1CSegmentation/datasets/train_subset/images/001801.jpg: 1 duplicate labels removed\n",
            "\u001b[34m\u001b[1mtrain: \u001b[0mWARNING ⚠️ /content/drive/MyDrive/3R1CSegmentation/datasets/train_subset/images/001974.jpg: ignoring corrupt image/label: non-normalized or out of bounds coordinates [     1.0015]\n",
            "\u001b[34m\u001b[1mtrain: \u001b[0mWARNING ⚠️ /content/drive/MyDrive/3R1CSegmentation/datasets/train_subset/images/001994.jpg: 2 duplicate labels removed\n",
            "\u001b[34m\u001b[1mtrain: \u001b[0mWARNING ⚠️ /content/drive/MyDrive/3R1CSegmentation/datasets/train_subset/images/001995.jpg: 2 duplicate labels removed\n",
            "\u001b[34m\u001b[1mtrain: \u001b[0mWARNING ⚠️ /content/drive/MyDrive/3R1CSegmentation/datasets/train_subset/images/001996.jpg: 2 duplicate labels removed\n",
            "\u001b[34m\u001b[1mtrain: \u001b[0mWARNING ⚠️ /content/drive/MyDrive/3R1CSegmentation/datasets/train_subset/images/001997.jpg: 1 duplicate labels removed\n",
            "\u001b[34m\u001b[1mtrain: \u001b[0mWARNING ⚠️ /content/drive/MyDrive/3R1CSegmentation/datasets/train_subset/images/001998.jpg: 1 duplicate labels removed\n",
            "\u001b[34m\u001b[1mtrain: \u001b[0mWARNING ⚠️ /content/drive/MyDrive/3R1CSegmentation/datasets/train_subset/images/002066.jpg: ignoring corrupt image/label: non-normalized or out of bounds coordinates [     1.0001]\n",
            "\u001b[34m\u001b[1mtrain: \u001b[0mWARNING ⚠️ /content/drive/MyDrive/3R1CSegmentation/datasets/train_subset/images/002076.jpg: 1 duplicate labels removed\n",
            "\u001b[34m\u001b[1mtrain: \u001b[0mWARNING ⚠️ /content/drive/MyDrive/3R1CSegmentation/datasets/train_subset/images/002077.jpg: 1 duplicate labels removed\n",
            "\u001b[34m\u001b[1mtrain: \u001b[0mWARNING ⚠️ /content/drive/MyDrive/3R1CSegmentation/datasets/train_subset/images/002102.jpg: 1 duplicate labels removed\n",
            "\u001b[34m\u001b[1mtrain: \u001b[0mWARNING ⚠️ /content/drive/MyDrive/3R1CSegmentation/datasets/train_subset/images/002148.jpg: ignoring corrupt image/label: non-normalized or out of bounds coordinates [      1.001]\n",
            "\u001b[34m\u001b[1mtrain: \u001b[0mWARNING ⚠️ /content/drive/MyDrive/3R1CSegmentation/datasets/train_subset/images/002153.jpg: 2 duplicate labels removed\n",
            "\u001b[34m\u001b[1mtrain: \u001b[0mWARNING ⚠️ /content/drive/MyDrive/3R1CSegmentation/datasets/train_subset/images/002260.jpg: 1 duplicate labels removed\n",
            "\u001b[34m\u001b[1mtrain: \u001b[0mWARNING ⚠️ /content/drive/MyDrive/3R1CSegmentation/datasets/train_subset/images/002279.jpg: ignoring corrupt image/label: non-normalized or out of bounds coordinates [     1.0001]\n",
            "\u001b[34m\u001b[1mtrain: \u001b[0mWARNING ⚠️ /content/drive/MyDrive/3R1CSegmentation/datasets/train_subset/images/002322.jpg: 1 duplicate labels removed\n",
            "\u001b[34m\u001b[1mtrain: \u001b[0mWARNING ⚠️ /content/drive/MyDrive/3R1CSegmentation/datasets/train_subset/images/002384.jpg: ignoring corrupt image/label: non-normalized or out of bounds coordinates [      1.003]\n",
            "\u001b[34m\u001b[1mtrain: \u001b[0mWARNING ⚠️ /content/drive/MyDrive/3R1CSegmentation/datasets/train_subset/images/002386.jpg: ignoring corrupt image/label: non-normalized or out of bounds coordinates [     1.0028]\n",
            "\u001b[34m\u001b[1mtrain: \u001b[0mWARNING ⚠️ /content/drive/MyDrive/3R1CSegmentation/datasets/train_subset/images/002524.jpg: ignoring corrupt image/label: non-normalized or out of bounds coordinates [     1.0014]\n",
            "\u001b[34m\u001b[1mtrain: \u001b[0mWARNING ⚠️ /content/drive/MyDrive/3R1CSegmentation/datasets/train_subset/images/002601.jpg: 2 duplicate labels removed\n",
            "\u001b[34m\u001b[1mtrain: \u001b[0mWARNING ⚠️ /content/drive/MyDrive/3R1CSegmentation/datasets/train_subset/images/002603.jpg: 1 duplicate labels removed\n",
            "\u001b[34m\u001b[1mtrain: \u001b[0mWARNING ⚠️ /content/drive/MyDrive/3R1CSegmentation/datasets/train_subset/images/002629.jpg: ignoring corrupt image/label: non-normalized or out of bounds coordinates [     1.0006]\n",
            "\u001b[34m\u001b[1mtrain: \u001b[0mWARNING ⚠️ /content/drive/MyDrive/3R1CSegmentation/datasets/train_subset/images/002857.jpg: 2 duplicate labels removed\n",
            "\u001b[34m\u001b[1mtrain: \u001b[0mWARNING ⚠️ /content/drive/MyDrive/3R1CSegmentation/datasets/train_subset/images/002860.jpg: 2 duplicate labels removed\n",
            "\u001b[34m\u001b[1mtrain: \u001b[0mWARNING ⚠️ /content/drive/MyDrive/3R1CSegmentation/datasets/train_subset/images/002930.jpg: 2 duplicate labels removed\n",
            "\u001b[34m\u001b[1mtrain: \u001b[0mWARNING ⚠️ /content/drive/MyDrive/3R1CSegmentation/datasets/train_subset/images/002967.jpg: 1 duplicate labels removed\n",
            "\u001b[34m\u001b[1mtrain: \u001b[0mWARNING ⚠️ /content/drive/MyDrive/3R1CSegmentation/datasets/train_subset/images/002991.jpg: 1 duplicate labels removed\n",
            "\u001b[34m\u001b[1mtrain: \u001b[0mWARNING ⚠️ /content/drive/MyDrive/3R1CSegmentation/datasets/train_subset/images/003174.jpg: 1 duplicate labels removed\n",
            "\u001b[34m\u001b[1mtrain: \u001b[0mWARNING ⚠️ /content/drive/MyDrive/3R1CSegmentation/datasets/train_subset/images/003177.jpg: 1 duplicate labels removed\n",
            "\u001b[34m\u001b[1mtrain: \u001b[0mWARNING ⚠️ /content/drive/MyDrive/3R1CSegmentation/datasets/train_subset/images/003188.jpg: 1 duplicate labels removed\n",
            "\u001b[34m\u001b[1mtrain: \u001b[0mWARNING ⚠️ /content/drive/MyDrive/3R1CSegmentation/datasets/train_subset/images/003197.jpg: 2 duplicate labels removed\n",
            "\u001b[34m\u001b[1mtrain: \u001b[0mWARNING ⚠️ /content/drive/MyDrive/3R1CSegmentation/datasets/train_subset/images/003198.jpg: 1 duplicate labels removed\n",
            "\u001b[34m\u001b[1mtrain: \u001b[0mWARNING ⚠️ /content/drive/MyDrive/3R1CSegmentation/datasets/train_subset/images/003226.jpg: 1 duplicate labels removed\n",
            "\u001b[34m\u001b[1mtrain: \u001b[0mWARNING ⚠️ /content/drive/MyDrive/3R1CSegmentation/datasets/train_subset/images/003272.jpg: 1 duplicate labels removed\n",
            "\u001b[34m\u001b[1mtrain: \u001b[0mWARNING ⚠️ /content/drive/MyDrive/3R1CSegmentation/datasets/train_subset/images/003377.jpg: 1 duplicate labels removed\n",
            "\u001b[34m\u001b[1mtrain: \u001b[0mWARNING ⚠️ /content/drive/MyDrive/3R1CSegmentation/datasets/train_subset/images/003399.jpg: 2 duplicate labels removed\n",
            "\u001b[34m\u001b[1mtrain: \u001b[0mWARNING ⚠️ /content/drive/MyDrive/3R1CSegmentation/datasets/train_subset/images/003430.jpg: 1 duplicate labels removed\n",
            "\u001b[34m\u001b[1mtrain: \u001b[0mWARNING ⚠️ /content/drive/MyDrive/3R1CSegmentation/datasets/train_subset/images/003443.jpg: 2 duplicate labels removed\n",
            "\u001b[34m\u001b[1mtrain: \u001b[0mWARNING ⚠️ /content/drive/MyDrive/3R1CSegmentation/datasets/train_subset/images/003649.jpg: ignoring corrupt image/label: non-normalized or out of bounds coordinates [     1.0004      1.0015]\n",
            "\u001b[34m\u001b[1mtrain: \u001b[0mWARNING ⚠️ /content/drive/MyDrive/3R1CSegmentation/datasets/train_subset/images/003686.jpg: 1 duplicate labels removed\n",
            "\u001b[34m\u001b[1mtrain: \u001b[0mWARNING ⚠️ /content/drive/MyDrive/3R1CSegmentation/datasets/train_subset/images/003749.jpg: 2 duplicate labels removed\n",
            "\u001b[34m\u001b[1mtrain: \u001b[0mWARNING ⚠️ /content/drive/MyDrive/3R1CSegmentation/datasets/train_subset/images/003900.jpg: 2 duplicate labels removed\n",
            "\u001b[34m\u001b[1mtrain: \u001b[0mWARNING ⚠️ /content/drive/MyDrive/3R1CSegmentation/datasets/train_subset/images/003909.jpg: 1 duplicate labels removed\n",
            "\u001b[34m\u001b[1mtrain: \u001b[0mWARNING ⚠️ /content/drive/MyDrive/3R1CSegmentation/datasets/train_subset/images/003924.jpg: 1 duplicate labels removed\n",
            "\u001b[34m\u001b[1mtrain: \u001b[0mWARNING ⚠️ /content/drive/MyDrive/3R1CSegmentation/datasets/train_subset/images/003937.jpg: 1 duplicate labels removed\n",
            "\u001b[34m\u001b[1mtrain: \u001b[0mWARNING ⚠️ /content/drive/MyDrive/3R1CSegmentation/datasets/train_subset/images/004117.jpg: 1 duplicate labels removed\n",
            "\u001b[34m\u001b[1mtrain: \u001b[0mWARNING ⚠️ /content/drive/MyDrive/3R1CSegmentation/datasets/train_subset/images/004125.jpg: 2 duplicate labels removed\n",
            "\u001b[34m\u001b[1mtrain: \u001b[0mWARNING ⚠️ /content/drive/MyDrive/3R1CSegmentation/datasets/train_subset/images/004126.jpg: 1 duplicate labels removed\n",
            "\u001b[34m\u001b[1mtrain: \u001b[0mWARNING ⚠️ /content/drive/MyDrive/3R1CSegmentation/datasets/train_subset/images/004130.jpg: ignoring corrupt image/label: non-normalized or out of bounds coordinates [     1.0003]\n",
            "\u001b[34m\u001b[1mtrain: \u001b[0mWARNING ⚠️ /content/drive/MyDrive/3R1CSegmentation/datasets/train_subset/images/004227.jpg: 1 duplicate labels removed\n",
            "\u001b[34m\u001b[1mtrain: \u001b[0mWARNING ⚠️ /content/drive/MyDrive/3R1CSegmentation/datasets/train_subset/images/004231.jpg: 1 duplicate labels removed\n",
            "\u001b[34m\u001b[1mtrain: \u001b[0mWARNING ⚠️ /content/drive/MyDrive/3R1CSegmentation/datasets/train_subset/images/004232.jpg: 1 duplicate labels removed\n",
            "\u001b[34m\u001b[1mtrain: \u001b[0mWARNING ⚠️ /content/drive/MyDrive/3R1CSegmentation/datasets/train_subset/images/004362.jpg: ignoring corrupt image/label: non-normalized or out of bounds coordinates [     1.0016]\n",
            "\u001b[34m\u001b[1mtrain: \u001b[0mWARNING ⚠️ /content/drive/MyDrive/3R1CSegmentation/datasets/train_subset/images/004376.jpg: ignoring corrupt image/label: non-normalized or out of bounds coordinates [     1.0003]\n",
            "\u001b[34m\u001b[1mtrain: \u001b[0mWARNING ⚠️ /content/drive/MyDrive/3R1CSegmentation/datasets/train_subset/images/004523.jpg: 1 duplicate labels removed\n",
            "\u001b[34m\u001b[1mtrain: \u001b[0mWARNING ⚠️ /content/drive/MyDrive/3R1CSegmentation/datasets/train_subset/images/004645.jpg: ignoring corrupt image/label: non-normalized or out of bounds coordinates [     1.0002]\n",
            "\u001b[34m\u001b[1mtrain: \u001b[0mWARNING ⚠️ /content/drive/MyDrive/3R1CSegmentation/datasets/train_subset/images/004666.jpg: 1 duplicate labels removed\n",
            "\u001b[34m\u001b[1mtrain: \u001b[0mWARNING ⚠️ /content/drive/MyDrive/3R1CSegmentation/datasets/train_subset/images/004694.jpg: ignoring corrupt image/label: non-normalized or out of bounds coordinates [     1.0021]\n",
            "\u001b[34m\u001b[1mtrain: \u001b[0mWARNING ⚠️ /content/drive/MyDrive/3R1CSegmentation/datasets/train_subset/images/004712.jpg: ignoring corrupt image/label: non-normalized or out of bounds coordinates [     1.0029]\n",
            "\u001b[34m\u001b[1mtrain: \u001b[0mWARNING ⚠️ /content/drive/MyDrive/3R1CSegmentation/datasets/train_subset/images/004732.jpg: 1 duplicate labels removed\n",
            "\u001b[34m\u001b[1mtrain: \u001b[0mWARNING ⚠️ /content/drive/MyDrive/3R1CSegmentation/datasets/train_subset/images/004736.jpg: ignoring corrupt image/label: non-normalized or out of bounds coordinates [     1.0006]\n",
            "\u001b[34m\u001b[1mtrain: \u001b[0mWARNING ⚠️ /content/drive/MyDrive/3R1CSegmentation/datasets/train_subset/images/004786.jpg: ignoring corrupt image/label: non-normalized or out of bounds coordinates [     1.0008      1.0001]\n",
            "\u001b[34m\u001b[1mtrain: \u001b[0mWARNING ⚠️ /content/drive/MyDrive/3R1CSegmentation/datasets/train_subset/images/004809.jpg: 1 duplicate labels removed\n",
            "\u001b[34m\u001b[1mtrain: \u001b[0mWARNING ⚠️ /content/drive/MyDrive/3R1CSegmentation/datasets/train_subset/images/004830.jpg: ignoring corrupt image/label: non-normalized or out of bounds coordinates [     1.0006      1.0002]\n",
            "\u001b[34m\u001b[1mtrain: \u001b[0mWARNING ⚠️ /content/drive/MyDrive/3R1CSegmentation/datasets/train_subset/images/004890.jpg: 1 duplicate labels removed\n",
            "\u001b[34m\u001b[1mtrain: \u001b[0mWARNING ⚠️ /content/drive/MyDrive/3R1CSegmentation/datasets/train_subset/images/004893.jpg: 1 duplicate labels removed\n",
            "\u001b[34m\u001b[1mtrain: \u001b[0mWARNING ⚠️ /content/drive/MyDrive/3R1CSegmentation/datasets/train_subset/images/004933.jpg: 1 duplicate labels removed\n",
            "\u001b[34m\u001b[1mtrain: \u001b[0mWARNING ⚠️ /content/drive/MyDrive/3R1CSegmentation/datasets/train_subset/images/005067.jpg: ignoring corrupt image/label: non-normalized or out of bounds coordinates [     1.0006      1.0014]\n",
            "\u001b[34m\u001b[1mtrain: \u001b[0mWARNING ⚠️ /content/drive/MyDrive/3R1CSegmentation/datasets/train_subset/images/005079.jpg: 1 duplicate labels removed\n",
            "\u001b[34m\u001b[1mtrain: \u001b[0mWARNING ⚠️ /content/drive/MyDrive/3R1CSegmentation/datasets/train_subset/images/005236.jpg: ignoring corrupt image/label: non-normalized or out of bounds coordinates [     1.0007]\n",
            "\u001b[34m\u001b[1mtrain: \u001b[0mWARNING ⚠️ /content/drive/MyDrive/3R1CSegmentation/datasets/train_subset/images/005251.jpg: 1 duplicate labels removed\n",
            "\u001b[34m\u001b[1mtrain: \u001b[0mWARNING ⚠️ /content/drive/MyDrive/3R1CSegmentation/datasets/train_subset/images/005253.jpg: 1 duplicate labels removed\n",
            "\u001b[34m\u001b[1mtrain: \u001b[0mWARNING ⚠️ /content/drive/MyDrive/3R1CSegmentation/datasets/train_subset/images/005255.jpg: 1 duplicate labels removed\n",
            "\u001b[34m\u001b[1mtrain: \u001b[0mWARNING ⚠️ /content/drive/MyDrive/3R1CSegmentation/datasets/train_subset/images/005256.jpg: 1 duplicate labels removed\n",
            "\u001b[34m\u001b[1mtrain: \u001b[0mWARNING ⚠️ /content/drive/MyDrive/3R1CSegmentation/datasets/train_subset/images/005261.jpg: 1 duplicate labels removed\n",
            "\u001b[34m\u001b[1mtrain: \u001b[0mWARNING ⚠️ /content/drive/MyDrive/3R1CSegmentation/datasets/train_subset/images/005342.jpg: 1 duplicate labels removed\n",
            "\u001b[34m\u001b[1mtrain: \u001b[0mWARNING ⚠️ /content/drive/MyDrive/3R1CSegmentation/datasets/train_subset/images/005622.jpg: 1 duplicate labels removed\n",
            "\u001b[34m\u001b[1mtrain: \u001b[0mWARNING ⚠️ /content/drive/MyDrive/3R1CSegmentation/datasets/train_subset/images/005665.jpg: 1 duplicate labels removed\n",
            "\u001b[34m\u001b[1mtrain: \u001b[0mWARNING ⚠️ /content/drive/MyDrive/3R1CSegmentation/datasets/train_subset/images/005676.jpg: 1 duplicate labels removed\n",
            "\u001b[34m\u001b[1mtrain: \u001b[0mWARNING ⚠️ /content/drive/MyDrive/3R1CSegmentation/datasets/train_subset/images/005835.jpg: 1 duplicate labels removed\n",
            "\u001b[34m\u001b[1mtrain: \u001b[0mWARNING ⚠️ /content/drive/MyDrive/3R1CSegmentation/datasets/train_subset/images/005985.jpg: ignoring corrupt image/label: non-normalized or out of bounds coordinates [      1.001]\n",
            "\u001b[34m\u001b[1mtrain: \u001b[0mWARNING ⚠️ /content/drive/MyDrive/3R1CSegmentation/datasets/train_subset/images/006005.jpg: 1 duplicate labels removed\n",
            "\u001b[34m\u001b[1mtrain: \u001b[0mWARNING ⚠️ /content/drive/MyDrive/3R1CSegmentation/datasets/train_subset/images/006014.jpg: 1 duplicate labels removed\n",
            "\u001b[34m\u001b[1mtrain: \u001b[0mWARNING ⚠️ /content/drive/MyDrive/3R1CSegmentation/datasets/train_subset/images/006015.jpg: 1 duplicate labels removed\n",
            "\u001b[34m\u001b[1mtrain: \u001b[0mWARNING ⚠️ /content/drive/MyDrive/3R1CSegmentation/datasets/train_subset/images/006102.jpg: 1 duplicate labels removed\n",
            "\u001b[34m\u001b[1mtrain: \u001b[0mWARNING ⚠️ /content/drive/MyDrive/3R1CSegmentation/datasets/train_subset/images/006103.jpg: 1 duplicate labels removed\n",
            "\u001b[34m\u001b[1mtrain: \u001b[0mWARNING ⚠️ /content/drive/MyDrive/3R1CSegmentation/datasets/train_subset/images/006127.jpg: 1 duplicate labels removed\n",
            "\u001b[34m\u001b[1mtrain: \u001b[0mWARNING ⚠️ /content/drive/MyDrive/3R1CSegmentation/datasets/train_subset/images/006147.jpg: 2 duplicate labels removed\n",
            "\u001b[34m\u001b[1mtrain: \u001b[0mWARNING ⚠️ /content/drive/MyDrive/3R1CSegmentation/datasets/train_subset/images/006148.jpg: 1 duplicate labels removed\n",
            "\u001b[34m\u001b[1mtrain: \u001b[0mWARNING ⚠️ /content/drive/MyDrive/3R1CSegmentation/datasets/train_subset/images/006149.jpg: 2 duplicate labels removed\n",
            "\u001b[34m\u001b[1mtrain: \u001b[0mWARNING ⚠️ /content/drive/MyDrive/3R1CSegmentation/datasets/train_subset/images/006150.jpg: 2 duplicate labels removed\n",
            "\u001b[34m\u001b[1mtrain: \u001b[0mWARNING ⚠️ /content/drive/MyDrive/3R1CSegmentation/datasets/train_subset/images/006152.jpg: 1 duplicate labels removed\n",
            "\u001b[34m\u001b[1mtrain: \u001b[0mWARNING ⚠️ /content/drive/MyDrive/3R1CSegmentation/datasets/train_subset/images/006219.jpg: ignoring corrupt image/label: non-normalized or out of bounds coordinates [     1.0055]\n",
            "\u001b[34m\u001b[1mtrain: \u001b[0mWARNING ⚠️ /content/drive/MyDrive/3R1CSegmentation/datasets/train_subset/images/006597.jpg: ignoring corrupt image/label: non-normalized or out of bounds coordinates [     1.0012]\n",
            "\u001b[34m\u001b[1mtrain: \u001b[0mWARNING ⚠️ /content/drive/MyDrive/3R1CSegmentation/datasets/train_subset/images/006674.jpg: ignoring corrupt image/label: non-normalized or out of bounds coordinates [     1.0001]\n",
            "\u001b[34m\u001b[1mtrain: \u001b[0mWARNING ⚠️ /content/drive/MyDrive/3R1CSegmentation/datasets/train_subset/images/006678.jpg: ignoring corrupt image/label: non-normalized or out of bounds coordinates [     1.0004]\n",
            "\u001b[34m\u001b[1mtrain: \u001b[0mWARNING ⚠️ /content/drive/MyDrive/3R1CSegmentation/datasets/train_subset/images/006716.jpg: 2 duplicate labels removed\n",
            "\u001b[34m\u001b[1mtrain: \u001b[0mWARNING ⚠️ /content/drive/MyDrive/3R1CSegmentation/datasets/train_subset/images/006719.jpg: ignoring corrupt image/label: non-normalized or out of bounds coordinates [     1.0025]\n",
            "\u001b[34m\u001b[1mtrain: \u001b[0mWARNING ⚠️ /content/drive/MyDrive/3R1CSegmentation/datasets/train_subset/images/006733.jpg: 1 duplicate labels removed\n",
            "\u001b[34m\u001b[1mtrain: \u001b[0mWARNING ⚠️ /content/drive/MyDrive/3R1CSegmentation/datasets/train_subset/images/006967.jpg: 1 duplicate labels removed\n",
            "\u001b[34m\u001b[1mtrain: \u001b[0mWARNING ⚠️ /content/drive/MyDrive/3R1CSegmentation/datasets/train_subset/images/006973.jpg: ignoring corrupt image/label: non-normalized or out of bounds coordinates [     1.0004]\n",
            "\u001b[34m\u001b[1mtrain: \u001b[0mWARNING ⚠️ /content/drive/MyDrive/3R1CSegmentation/datasets/train_subset/images/007089.jpg: ignoring corrupt image/label: non-normalized or out of bounds coordinates [     1.0008]\n",
            "\u001b[34m\u001b[1mtrain: \u001b[0mWARNING ⚠️ /content/drive/MyDrive/3R1CSegmentation/datasets/train_subset/images/007126.jpg: ignoring corrupt image/label: non-normalized or out of bounds coordinates [     1.0002]\n",
            "\u001b[34m\u001b[1mtrain: \u001b[0mWARNING ⚠️ /content/drive/MyDrive/3R1CSegmentation/datasets/train_subset/images/007127.jpg: ignoring corrupt image/label: non-normalized or out of bounds coordinates [     1.0007]\n",
            "\u001b[34m\u001b[1mtrain: \u001b[0mWARNING ⚠️ /content/drive/MyDrive/3R1CSegmentation/datasets/train_subset/images/007138.jpg: ignoring corrupt image/label: non-normalized or out of bounds coordinates [     1.0002]\n",
            "\u001b[34m\u001b[1mtrain: \u001b[0mWARNING ⚠️ /content/drive/MyDrive/3R1CSegmentation/datasets/train_subset/images/007181.jpg: ignoring corrupt image/label: non-normalized or out of bounds coordinates [     1.0007      1.0004]\n",
            "\u001b[34m\u001b[1mtrain: \u001b[0mWARNING ⚠️ /content/drive/MyDrive/3R1CSegmentation/datasets/train_subset/images/007185.jpg: ignoring corrupt image/label: non-normalized or out of bounds coordinates [     1.0027]\n",
            "\u001b[34m\u001b[1mtrain: \u001b[0mWARNING ⚠️ /content/drive/MyDrive/3R1CSegmentation/datasets/train_subset/images/007205.jpg: ignoring corrupt image/label: non-normalized or out of bounds coordinates [     1.0011]\n",
            "\u001b[34m\u001b[1mtrain: \u001b[0mWARNING ⚠️ /content/drive/MyDrive/3R1CSegmentation/datasets/train_subset/images/007294.jpg: ignoring corrupt image/label: non-normalized or out of bounds coordinates [     1.0003]\n",
            "\u001b[34m\u001b[1mtrain: \u001b[0mWARNING ⚠️ /content/drive/MyDrive/3R1CSegmentation/datasets/train_subset/images/007317.jpg: ignoring corrupt image/label: non-normalized or out of bounds coordinates [     1.0015]\n",
            "\u001b[34m\u001b[1mtrain: \u001b[0mWARNING ⚠️ /content/drive/MyDrive/3R1CSegmentation/datasets/train_subset/images/007343.jpg: 1 duplicate labels removed\n",
            "\u001b[34m\u001b[1mtrain: \u001b[0mWARNING ⚠️ /content/drive/MyDrive/3R1CSegmentation/datasets/train_subset/images/007453.jpg: 2 duplicate labels removed\n",
            "\u001b[34m\u001b[1mtrain: \u001b[0mWARNING ⚠️ /content/drive/MyDrive/3R1CSegmentation/datasets/train_subset/images/007557.jpg: 1 duplicate labels removed\n",
            "\u001b[34m\u001b[1mtrain: \u001b[0mWARNING ⚠️ /content/drive/MyDrive/3R1CSegmentation/datasets/train_subset/images/007558.jpg: 2 duplicate labels removed\n",
            "\u001b[34m\u001b[1mtrain: \u001b[0mWARNING ⚠️ /content/drive/MyDrive/3R1CSegmentation/datasets/train_subset/images/007559.jpg: 1 duplicate labels removed\n",
            "\u001b[34m\u001b[1mtrain: \u001b[0mWARNING ⚠️ /content/drive/MyDrive/3R1CSegmentation/datasets/train_subset/images/007560.jpg: 1 duplicate labels removed\n",
            "\u001b[34m\u001b[1mtrain: \u001b[0mWARNING ⚠️ /content/drive/MyDrive/3R1CSegmentation/datasets/train_subset/images/007561.jpg: 1 duplicate labels removed\n",
            "\u001b[34m\u001b[1mtrain: \u001b[0mWARNING ⚠️ /content/drive/MyDrive/3R1CSegmentation/datasets/train_subset/images/007562.jpg: 1 duplicate labels removed\n",
            "\u001b[34m\u001b[1mtrain: \u001b[0mWARNING ⚠️ /content/drive/MyDrive/3R1CSegmentation/datasets/train_subset/images/007563.jpg: 1 duplicate labels removed\n",
            "\u001b[34m\u001b[1mtrain: \u001b[0mWARNING ⚠️ /content/drive/MyDrive/3R1CSegmentation/datasets/train_subset/images/007567.jpg: 1 duplicate labels removed\n",
            "\u001b[34m\u001b[1mtrain: \u001b[0mWARNING ⚠️ /content/drive/MyDrive/3R1CSegmentation/datasets/train_subset/images/007568.jpg: 1 duplicate labels removed\n",
            "\u001b[34m\u001b[1mtrain: \u001b[0mWARNING ⚠️ /content/drive/MyDrive/3R1CSegmentation/datasets/train_subset/images/007569.jpg: 2 duplicate labels removed\n",
            "\u001b[34m\u001b[1mtrain: \u001b[0mWARNING ⚠️ /content/drive/MyDrive/3R1CSegmentation/datasets/train_subset/images/007570.jpg: 1 duplicate labels removed\n",
            "\u001b[34m\u001b[1mtrain: \u001b[0mWARNING ⚠️ /content/drive/MyDrive/3R1CSegmentation/datasets/train_subset/images/007572.jpg: 1 duplicate labels removed\n",
            "\u001b[34m\u001b[1mtrain: \u001b[0mWARNING ⚠️ /content/drive/MyDrive/3R1CSegmentation/datasets/train_subset/images/007573.jpg: 1 duplicate labels removed\n",
            "\u001b[34m\u001b[1mtrain: \u001b[0mWARNING ⚠️ /content/drive/MyDrive/3R1CSegmentation/datasets/train_subset/images/007574.jpg: 1 duplicate labels removed\n",
            "\u001b[34m\u001b[1mtrain: \u001b[0mWARNING ⚠️ /content/drive/MyDrive/3R1CSegmentation/datasets/train_subset/images/007576.jpg: 2 duplicate labels removed\n",
            "\u001b[34m\u001b[1mtrain: \u001b[0mWARNING ⚠️ /content/drive/MyDrive/3R1CSegmentation/datasets/train_subset/images/007577.jpg: 1 duplicate labels removed\n",
            "\u001b[34m\u001b[1mtrain: \u001b[0mWARNING ⚠️ /content/drive/MyDrive/3R1CSegmentation/datasets/train_subset/images/007578.jpg: 2 duplicate labels removed\n",
            "\u001b[34m\u001b[1mtrain: \u001b[0mWARNING ⚠️ /content/drive/MyDrive/3R1CSegmentation/datasets/train_subset/images/007579.jpg: 1 duplicate labels removed\n",
            "\u001b[34m\u001b[1mtrain: \u001b[0mWARNING ⚠️ /content/drive/MyDrive/3R1CSegmentation/datasets/train_subset/images/007580.jpg: ignoring corrupt image/label: non-normalized or out of bounds coordinates [     1.0016]\n",
            "\u001b[34m\u001b[1mtrain: \u001b[0mWARNING ⚠️ /content/drive/MyDrive/3R1CSegmentation/datasets/train_subset/images/007589.jpg: 1 duplicate labels removed\n",
            "\u001b[34m\u001b[1mtrain: \u001b[0mWARNING ⚠️ /content/drive/MyDrive/3R1CSegmentation/datasets/train_subset/images/007592.jpg: 1 duplicate labels removed\n",
            "\u001b[34m\u001b[1mtrain: \u001b[0mWARNING ⚠️ /content/drive/MyDrive/3R1CSegmentation/datasets/train_subset/images/007595.jpg: 1 duplicate labels removed\n",
            "\u001b[34m\u001b[1mtrain: \u001b[0mWARNING ⚠️ /content/drive/MyDrive/3R1CSegmentation/datasets/train_subset/images/007597.jpg: 1 duplicate labels removed\n",
            "\u001b[34m\u001b[1mtrain: \u001b[0mWARNING ⚠️ /content/drive/MyDrive/3R1CSegmentation/datasets/train_subset/images/007658.jpg: 1 duplicate labels removed\n",
            "\u001b[34m\u001b[1mtrain: \u001b[0mWARNING ⚠️ /content/drive/MyDrive/3R1CSegmentation/datasets/train_subset/images/007660.jpg: 1 duplicate labels removed\n",
            "\u001b[34m\u001b[1mtrain: \u001b[0mWARNING ⚠️ /content/drive/MyDrive/3R1CSegmentation/datasets/train_subset/images/007737.jpg: 1 duplicate labels removed\n",
            "\u001b[34m\u001b[1mtrain: \u001b[0mWARNING ⚠️ /content/drive/MyDrive/3R1CSegmentation/datasets/train_subset/images/007823.jpg: 1 duplicate labels removed\n",
            "\u001b[34m\u001b[1mtrain: \u001b[0mWARNING ⚠️ /content/drive/MyDrive/3R1CSegmentation/datasets/train_subset/images/007843.jpg: 1 duplicate labels removed\n",
            "\u001b[34m\u001b[1mtrain: \u001b[0mWARNING ⚠️ /content/drive/MyDrive/3R1CSegmentation/datasets/train_subset/images/008000.jpg: 2 duplicate labels removed\n",
            "\u001b[34m\u001b[1mtrain: \u001b[0mWARNING ⚠️ /content/drive/MyDrive/3R1CSegmentation/datasets/train_subset/images/008002.jpg: 1 duplicate labels removed\n",
            "\u001b[34m\u001b[1mtrain: \u001b[0mWARNING ⚠️ /content/drive/MyDrive/3R1CSegmentation/datasets/train_subset/images/008005.jpg: 1 duplicate labels removed\n",
            "\u001b[34m\u001b[1mtrain: \u001b[0mWARNING ⚠️ /content/drive/MyDrive/3R1CSegmentation/datasets/train_subset/images/008125.jpg: 2 duplicate labels removed\n",
            "\u001b[34m\u001b[1mtrain: \u001b[0mWARNING ⚠️ /content/drive/MyDrive/3R1CSegmentation/datasets/train_subset/images/008175.jpg: 1 duplicate labels removed\n",
            "\u001b[34m\u001b[1mtrain: \u001b[0mWARNING ⚠️ /content/drive/MyDrive/3R1CSegmentation/datasets/train_subset/images/008178.jpg: 1 duplicate labels removed\n",
            "\u001b[34m\u001b[1mtrain: \u001b[0mWARNING ⚠️ /content/drive/MyDrive/3R1CSegmentation/datasets/train_subset/images/008194.jpg: 1 duplicate labels removed\n",
            "\u001b[34m\u001b[1mtrain: \u001b[0mWARNING ⚠️ /content/drive/MyDrive/3R1CSegmentation/datasets/train_subset/images/008240.jpg: 1 duplicate labels removed\n",
            "\u001b[34m\u001b[1mtrain: \u001b[0mWARNING ⚠️ /content/drive/MyDrive/3R1CSegmentation/datasets/train_subset/images/008262.jpg: 1 duplicate labels removed\n",
            "\u001b[34m\u001b[1mtrain: \u001b[0mWARNING ⚠️ /content/drive/MyDrive/3R1CSegmentation/datasets/train_subset/images/008432.jpg: 1 duplicate labels removed\n",
            "\u001b[34m\u001b[1mtrain: \u001b[0mWARNING ⚠️ /content/drive/MyDrive/3R1CSegmentation/datasets/train_subset/images/008791.jpg: 1 duplicate labels removed\n",
            "\u001b[34m\u001b[1mtrain: \u001b[0mWARNING ⚠️ /content/drive/MyDrive/3R1CSegmentation/datasets/train_subset/images/008793.jpg: 1 duplicate labels removed\n",
            "\u001b[34m\u001b[1mtrain: \u001b[0mWARNING ⚠️ /content/drive/MyDrive/3R1CSegmentation/datasets/train_subset/images/008804.jpg: ignoring corrupt image/label: non-normalized or out of bounds coordinates [     1.0009]\n",
            "\u001b[34m\u001b[1mtrain: \u001b[0mWARNING ⚠️ /content/drive/MyDrive/3R1CSegmentation/datasets/train_subset/images/009071.jpg: ignoring corrupt image/label: non-normalized or out of bounds coordinates [      1.002]\n",
            "\u001b[34m\u001b[1mtrain: \u001b[0mWARNING ⚠️ /content/drive/MyDrive/3R1CSegmentation/datasets/train_subset/images/009081.jpg: ignoring corrupt image/label: non-normalized or out of bounds coordinates [     1.0024]\n",
            "\u001b[34m\u001b[1mtrain: \u001b[0mWARNING ⚠️ /content/drive/MyDrive/3R1CSegmentation/datasets/train_subset/images/009111.jpg: 1 duplicate labels removed\n",
            "\u001b[34m\u001b[1mtrain: \u001b[0mWARNING ⚠️ /content/drive/MyDrive/3R1CSegmentation/datasets/train_subset/images/009131.jpg: ignoring corrupt image/label: non-normalized or out of bounds coordinates [     1.0014]\n",
            "\u001b[34m\u001b[1mtrain: \u001b[0mWARNING ⚠️ /content/drive/MyDrive/3R1CSegmentation/datasets/train_subset/images/009252.jpg: 1 duplicate labels removed\n",
            "\u001b[34m\u001b[1mtrain: \u001b[0mWARNING ⚠️ /content/drive/MyDrive/3R1CSegmentation/datasets/train_subset/images/009382.jpg: 1 duplicate labels removed\n",
            "\u001b[34m\u001b[1mtrain: \u001b[0mWARNING ⚠️ /content/drive/MyDrive/3R1CSegmentation/datasets/train_subset/images/009441.jpg: 2 duplicate labels removed\n",
            "\u001b[34m\u001b[1mtrain: \u001b[0mWARNING ⚠️ /content/drive/MyDrive/3R1CSegmentation/datasets/train_subset/images/009446.jpg: 1 duplicate labels removed\n",
            "\u001b[34m\u001b[1mtrain: \u001b[0mWARNING ⚠️ /content/drive/MyDrive/3R1CSegmentation/datasets/train_subset/images/009471.jpg: 1 duplicate labels removed\n",
            "\u001b[34m\u001b[1mtrain: \u001b[0mWARNING ⚠️ /content/drive/MyDrive/3R1CSegmentation/datasets/train_subset/images/009548.jpg: 1 duplicate labels removed\n",
            "\u001b[34m\u001b[1mtrain: \u001b[0mWARNING ⚠️ /content/drive/MyDrive/3R1CSegmentation/datasets/train_subset/images/009640.jpg: 1 duplicate labels removed\n",
            "\u001b[34m\u001b[1mtrain: \u001b[0mWARNING ⚠️ /content/drive/MyDrive/3R1CSegmentation/datasets/train_subset/images/009646.jpg: 1 duplicate labels removed\n",
            "\u001b[34m\u001b[1mtrain: \u001b[0mWARNING ⚠️ /content/drive/MyDrive/3R1CSegmentation/datasets/train_subset/images/009665.jpg: 1 duplicate labels removed\n",
            "\u001b[34m\u001b[1mtrain: \u001b[0mWARNING ⚠️ /content/drive/MyDrive/3R1CSegmentation/datasets/train_subset/images/009830.jpg: 1 duplicate labels removed\n",
            "\u001b[34m\u001b[1mtrain: \u001b[0mWARNING ⚠️ /content/drive/MyDrive/3R1CSegmentation/datasets/train_subset/images/009837.jpg: 1 duplicate labels removed\n",
            "\u001b[34m\u001b[1mtrain: \u001b[0mWARNING ⚠️ /content/drive/MyDrive/3R1CSegmentation/datasets/train_subset/images/009881.jpg: 1 duplicate labels removed\n",
            "\u001b[34m\u001b[1mtrain: \u001b[0mWARNING ⚠️ /content/drive/MyDrive/3R1CSegmentation/datasets/train_subset/images/009891.jpg: 2 duplicate labels removed\n",
            "\u001b[34m\u001b[1mtrain: \u001b[0mWARNING ⚠️ /content/drive/MyDrive/3R1CSegmentation/datasets/train_subset/images/009895.jpg: 1 duplicate labels removed\n",
            "\u001b[34m\u001b[1malbumentations: \u001b[0mBlur(p=0.01, blur_limit=(3, 7)), MedianBlur(p=0.01, blur_limit=(3, 7)), ToGray(p=0.01, num_output_channels=3, method='weighted_average'), CLAHE(p=0.01, clip_limit=(1.0, 4.0), tile_grid_size=(8, 8))\n"
          ]
        },
        {
          "output_type": "stream",
          "name": "stderr",
          "text": [
            "\n",
            "\u001b[34m\u001b[1mval: \u001b[0mScanning /content/drive/MyDrive/3R1CSegmentation/datasets/val_subset/labels.cache... 4286 images, 0 backgrounds, 0 corrupt: 100%|██████████| 4286/4286 [00:00<?, ?it/s]"
          ]
        },
        {
          "output_type": "stream",
          "name": "stdout",
          "text": [
            "\u001b[34m\u001b[1mval: \u001b[0mWARNING ⚠️ /content/drive/MyDrive/3R1CSegmentation/datasets/val_subset/images/000643.jpg: 1 duplicate labels removed\n"
          ]
        },
        {
          "output_type": "stream",
          "name": "stderr",
          "text": [
            "\n"
          ]
        },
        {
          "output_type": "stream",
          "name": "stdout",
          "text": [
            "Plotting labels to runs/segment/train123/labels.jpg... \n",
            "\u001b[34m\u001b[1moptimizer:\u001b[0m AdamW(lr=0.01, momentum=0.937) with parameter groups 90 weight(decay=0.0), 101 weight(decay=0.000546875), 100 bias(decay=0.0)\n",
            "\u001b[34m\u001b[1mTensorBoard: \u001b[0mmodel graph visualization added ✅\n",
            "Image sizes 640 train, 640 val\n",
            "Using 8 dataloader workers\n",
            "Logging results to \u001b[1mruns/segment/train123\u001b[0m\n",
            "Starting training for 100 epochs...\n",
            "\n",
            "      Epoch    GPU_mem   box_loss   seg_loss   cls_loss   dfl_loss  Instances       Size\n"
          ]
        },
        {
          "output_type": "stream",
          "name": "stderr",
          "text": [
            "      1/100      11.1G      1.577      3.996      2.684      1.639         43        640: 100%|██████████| 285/285 [01:29<00:00,  3.19it/s]\n",
            "                 Class     Images  Instances      Box(P          R      mAP50  mAP50-95)     Mask(P          R      mAP50  mAP50-95): 100%|██████████| 62/62 [00:37<00:00,  1.63it/s]\n"
          ]
        },
        {
          "output_type": "stream",
          "name": "stdout",
          "text": [
            "                   all       4286       6776     0.0891     0.0862    0.00848    0.00311      0.385    0.00026   2.45e-05    6.2e-06\n",
            "\n",
            "      Epoch    GPU_mem   box_loss   seg_loss   cls_loss   dfl_loss  Instances       Size\n"
          ]
        },
        {
          "output_type": "stream",
          "name": "stderr",
          "text": [
            "      2/100      14.2G       1.56      3.809       2.47      1.628         45        640: 100%|██████████| 285/285 [01:27<00:00,  3.26it/s]\n",
            "                 Class     Images  Instances      Box(P          R      mAP50  mAP50-95)     Mask(P          R      mAP50  mAP50-95): 100%|██████████| 62/62 [00:34<00:00,  1.80it/s]\n"
          ]
        },
        {
          "output_type": "stream",
          "name": "stdout",
          "text": [
            "                   all       4286       6776      0.349      0.167     0.0965     0.0529      0.294     0.0823     0.0376     0.0149\n",
            "\n",
            "      Epoch    GPU_mem   box_loss   seg_loss   cls_loss   dfl_loss  Instances       Size\n"
          ]
        },
        {
          "output_type": "stream",
          "name": "stderr",
          "text": [
            "      3/100      14.2G       1.41       3.52      2.177      1.517         38        640: 100%|██████████| 285/285 [01:23<00:00,  3.42it/s]\n",
            "                 Class     Images  Instances      Box(P          R      mAP50  mAP50-95)     Mask(P          R      mAP50  mAP50-95): 100%|██████████| 62/62 [00:32<00:00,  1.91it/s]\n"
          ]
        },
        {
          "output_type": "stream",
          "name": "stdout",
          "text": [
            "                   all       4286       6776      0.538      0.134      0.107     0.0612      0.377      0.109     0.0503     0.0211\n",
            "\n",
            "      Epoch    GPU_mem   box_loss   seg_loss   cls_loss   dfl_loss  Instances       Size\n"
          ]
        },
        {
          "output_type": "stream",
          "name": "stderr",
          "text": [
            "      4/100      14.2G      1.368      3.411      2.069      1.476         38        640: 100%|██████████| 285/285 [01:23<00:00,  3.41it/s]\n",
            "                 Class     Images  Instances      Box(P          R      mAP50  mAP50-95)     Mask(P          R      mAP50  mAP50-95): 100%|██████████| 62/62 [00:37<00:00,  1.66it/s]\n"
          ]
        },
        {
          "output_type": "stream",
          "name": "stdout",
          "text": [
            "                   all       4286       6776      0.154      0.216      0.123     0.0797      0.117       0.16     0.0816     0.0416\n",
            "\n",
            "      Epoch    GPU_mem   box_loss   seg_loss   cls_loss   dfl_loss  Instances       Size\n"
          ]
        },
        {
          "output_type": "stream",
          "name": "stderr",
          "text": [
            "      5/100      14.2G      1.306      3.263      1.951      1.429         22        640: 100%|██████████| 285/285 [01:23<00:00,  3.43it/s]\n",
            "                 Class     Images  Instances      Box(P          R      mAP50  mAP50-95)     Mask(P          R      mAP50  mAP50-95): 100%|██████████| 62/62 [00:31<00:00,  2.00it/s]\n"
          ]
        },
        {
          "output_type": "stream",
          "name": "stdout",
          "text": [
            "                   all       4286       6776       0.29      0.238      0.184      0.124      0.234      0.188      0.117     0.0645\n",
            "\n",
            "      Epoch    GPU_mem   box_loss   seg_loss   cls_loss   dfl_loss  Instances       Size\n"
          ]
        },
        {
          "output_type": "stream",
          "name": "stderr",
          "text": [
            "      6/100      14.2G       1.26      3.182      1.868      1.397         25        640: 100%|██████████| 285/285 [01:23<00:00,  3.39it/s]\n",
            "                 Class     Images  Instances      Box(P          R      mAP50  mAP50-95)     Mask(P          R      mAP50  mAP50-95): 100%|██████████| 62/62 [00:30<00:00,  2.03it/s]\n"
          ]
        },
        {
          "output_type": "stream",
          "name": "stdout",
          "text": [
            "                   all       4286       6776      0.311      0.295      0.212      0.146      0.262      0.205      0.141     0.0763\n",
            "\n",
            "      Epoch    GPU_mem   box_loss   seg_loss   cls_loss   dfl_loss  Instances       Size\n"
          ]
        },
        {
          "output_type": "stream",
          "name": "stderr",
          "text": [
            "      7/100      14.2G       1.22      3.092      1.785      1.362         35        640: 100%|██████████| 285/285 [01:22<00:00,  3.44it/s]\n",
            "                 Class     Images  Instances      Box(P          R      mAP50  mAP50-95)     Mask(P          R      mAP50  mAP50-95): 100%|██████████| 62/62 [00:30<00:00,  2.04it/s]\n"
          ]
        },
        {
          "output_type": "stream",
          "name": "stdout",
          "text": [
            "                   all       4286       6776      0.479      0.293       0.24      0.177      0.419      0.207      0.153     0.0846\n",
            "\n",
            "      Epoch    GPU_mem   box_loss   seg_loss   cls_loss   dfl_loss  Instances       Size\n"
          ]
        },
        {
          "output_type": "stream",
          "name": "stderr",
          "text": [
            "      8/100      14.2G      1.192      3.009      1.716       1.34         22        640: 100%|██████████| 285/285 [01:23<00:00,  3.42it/s]\n",
            "                 Class     Images  Instances      Box(P          R      mAP50  mAP50-95)     Mask(P          R      mAP50  mAP50-95): 100%|██████████| 62/62 [00:31<00:00,  1.97it/s]\n"
          ]
        },
        {
          "output_type": "stream",
          "name": "stdout",
          "text": [
            "                   all       4286       6776      0.388      0.275      0.211       0.15      0.328      0.209      0.144     0.0825\n",
            "\n",
            "      Epoch    GPU_mem   box_loss   seg_loss   cls_loss   dfl_loss  Instances       Size\n"
          ]
        },
        {
          "output_type": "stream",
          "name": "stderr",
          "text": [
            "      9/100      14.2G      1.175       2.98      1.686      1.321         40        640: 100%|██████████| 285/285 [01:22<00:00,  3.44it/s]\n",
            "                 Class     Images  Instances      Box(P          R      mAP50  mAP50-95)     Mask(P          R      mAP50  mAP50-95): 100%|██████████| 62/62 [00:30<00:00,  2.04it/s]\n"
          ]
        },
        {
          "output_type": "stream",
          "name": "stdout",
          "text": [
            "                   all       4286       6776      0.491      0.294      0.251      0.185      0.438      0.202      0.161     0.0899\n",
            "\n",
            "      Epoch    GPU_mem   box_loss   seg_loss   cls_loss   dfl_loss  Instances       Size\n"
          ]
        },
        {
          "output_type": "stream",
          "name": "stderr",
          "text": [
            "     10/100      14.2G      1.148      2.905      1.618      1.301         39        640: 100%|██████████| 285/285 [01:23<00:00,  3.42it/s]\n",
            "                 Class     Images  Instances      Box(P          R      mAP50  mAP50-95)     Mask(P          R      mAP50  mAP50-95): 100%|██████████| 62/62 [00:30<00:00,  2.07it/s]\n"
          ]
        },
        {
          "output_type": "stream",
          "name": "stdout",
          "text": [
            "                   all       4286       6776      0.477      0.286      0.232      0.169      0.428      0.201      0.157     0.0865\n",
            "\n",
            "      Epoch    GPU_mem   box_loss   seg_loss   cls_loss   dfl_loss  Instances       Size\n"
          ]
        },
        {
          "output_type": "stream",
          "name": "stderr",
          "text": [
            "     11/100      14.2G      1.142      2.904      1.615      1.298         21        640: 100%|██████████| 285/285 [01:23<00:00,  3.43it/s]\n",
            "                 Class     Images  Instances      Box(P          R      mAP50  mAP50-95)     Mask(P          R      mAP50  mAP50-95): 100%|██████████| 62/62 [00:30<00:00,  2.04it/s]\n"
          ]
        },
        {
          "output_type": "stream",
          "name": "stdout",
          "text": [
            "                   all       4286       6776       0.41      0.267      0.233      0.172      0.346      0.194      0.149     0.0811\n",
            "\n",
            "      Epoch    GPU_mem   box_loss   seg_loss   cls_loss   dfl_loss  Instances       Size\n"
          ]
        },
        {
          "output_type": "stream",
          "name": "stderr",
          "text": [
            "     12/100      14.2G      1.127       2.85      1.582      1.283         31        640: 100%|██████████| 285/285 [01:22<00:00,  3.44it/s]\n",
            "                 Class     Images  Instances      Box(P          R      mAP50  mAP50-95)     Mask(P          R      mAP50  mAP50-95): 100%|██████████| 62/62 [00:30<00:00,  2.05it/s]\n"
          ]
        },
        {
          "output_type": "stream",
          "name": "stdout",
          "text": [
            "                   all       4286       6776      0.449      0.286      0.247      0.182      0.388      0.204       0.16     0.0897\n",
            "\n",
            "      Epoch    GPU_mem   box_loss   seg_loss   cls_loss   dfl_loss  Instances       Size\n"
          ]
        },
        {
          "output_type": "stream",
          "name": "stderr",
          "text": [
            "     13/100      14.2G      1.112      2.825      1.536      1.276         23        640: 100%|██████████| 285/285 [01:23<00:00,  3.41it/s]\n",
            "                 Class     Images  Instances      Box(P          R      mAP50  mAP50-95)     Mask(P          R      mAP50  mAP50-95): 100%|██████████| 62/62 [00:30<00:00,  2.06it/s]\n"
          ]
        },
        {
          "output_type": "stream",
          "name": "stdout",
          "text": [
            "                   all       4286       6776      0.385      0.335      0.259      0.192      0.312      0.241      0.173     0.0984\n",
            "\n",
            "      Epoch    GPU_mem   box_loss   seg_loss   cls_loss   dfl_loss  Instances       Size\n"
          ]
        },
        {
          "output_type": "stream",
          "name": "stderr",
          "text": [
            "     14/100      14.2G      1.107       2.78      1.519      1.269         31        640: 100%|██████████| 285/285 [01:23<00:00,  3.41it/s]\n",
            "                 Class     Images  Instances      Box(P          R      mAP50  mAP50-95)     Mask(P          R      mAP50  mAP50-95): 100%|██████████| 62/62 [00:30<00:00,  2.05it/s]\n"
          ]
        },
        {
          "output_type": "stream",
          "name": "stdout",
          "text": [
            "                   all       4286       6776      0.458      0.313       0.25      0.181      0.409      0.218      0.172     0.0937\n",
            "\n",
            "      Epoch    GPU_mem   box_loss   seg_loss   cls_loss   dfl_loss  Instances       Size\n"
          ]
        },
        {
          "output_type": "stream",
          "name": "stderr",
          "text": [
            "     15/100      14.2G       1.08      2.737      1.481      1.251         43        640: 100%|██████████| 285/285 [01:23<00:00,  3.43it/s]\n",
            "                 Class     Images  Instances      Box(P          R      mAP50  mAP50-95)     Mask(P          R      mAP50  mAP50-95): 100%|██████████| 62/62 [00:30<00:00,  2.05it/s]\n"
          ]
        },
        {
          "output_type": "stream",
          "name": "stdout",
          "text": [
            "                   all       4286       6776      0.479       0.34      0.301      0.228      0.317      0.265      0.205      0.124\n",
            "\n",
            "      Epoch    GPU_mem   box_loss   seg_loss   cls_loss   dfl_loss  Instances       Size\n"
          ]
        },
        {
          "output_type": "stream",
          "name": "stderr",
          "text": [
            "     16/100      14.2G      1.078      2.722      1.471       1.25         41        640: 100%|██████████| 285/285 [01:23<00:00,  3.41it/s]\n",
            "                 Class     Images  Instances      Box(P          R      mAP50  mAP50-95)     Mask(P          R      mAP50  mAP50-95): 100%|██████████| 62/62 [00:29<00:00,  2.10it/s]\n"
          ]
        },
        {
          "output_type": "stream",
          "name": "stdout",
          "text": [
            "                   all       4286       6776      0.376      0.303      0.266      0.202      0.341       0.23      0.201       0.12\n",
            "\n",
            "      Epoch    GPU_mem   box_loss   seg_loss   cls_loss   dfl_loss  Instances       Size\n"
          ]
        },
        {
          "output_type": "stream",
          "name": "stderr",
          "text": [
            "     17/100      14.2G      1.071      2.708      1.443      1.241         26        640: 100%|██████████| 285/285 [01:22<00:00,  3.44it/s]\n",
            "                 Class     Images  Instances      Box(P          R      mAP50  mAP50-95)     Mask(P          R      mAP50  mAP50-95): 100%|██████████| 62/62 [00:29<00:00,  2.11it/s]\n"
          ]
        },
        {
          "output_type": "stream",
          "name": "stdout",
          "text": [
            "                   all       4286       6776      0.415      0.326      0.272      0.208      0.363      0.233       0.19      0.115\n",
            "\n",
            "      Epoch    GPU_mem   box_loss   seg_loss   cls_loss   dfl_loss  Instances       Size\n"
          ]
        },
        {
          "output_type": "stream",
          "name": "stderr",
          "text": [
            "     18/100      14.2G      1.063      2.704      1.429      1.237         35        640: 100%|██████████| 285/285 [01:23<00:00,  3.40it/s]\n",
            "                 Class     Images  Instances      Box(P          R      mAP50  mAP50-95)     Mask(P          R      mAP50  mAP50-95): 100%|██████████| 62/62 [00:29<00:00,  2.08it/s]\n"
          ]
        },
        {
          "output_type": "stream",
          "name": "stdout",
          "text": [
            "                   all       4286       6776      0.423      0.346      0.273      0.206      0.277      0.271      0.184      0.111\n",
            "\n",
            "      Epoch    GPU_mem   box_loss   seg_loss   cls_loss   dfl_loss  Instances       Size\n"
          ]
        },
        {
          "output_type": "stream",
          "name": "stderr",
          "text": [
            "     19/100      14.2G      1.047      2.632       1.39      1.225         21        640: 100%|██████████| 285/285 [01:23<00:00,  3.42it/s]\n",
            "                 Class     Images  Instances      Box(P          R      mAP50  mAP50-95)     Mask(P          R      mAP50  mAP50-95): 100%|██████████| 62/62 [00:29<00:00,  2.07it/s]\n"
          ]
        },
        {
          "output_type": "stream",
          "name": "stdout",
          "text": [
            "                   all       4286       6776      0.314      0.328      0.284      0.215      0.254      0.231      0.188      0.108\n",
            "\n",
            "      Epoch    GPU_mem   box_loss   seg_loss   cls_loss   dfl_loss  Instances       Size\n"
          ]
        },
        {
          "output_type": "stream",
          "name": "stderr",
          "text": [
            "     20/100      14.2G      1.032      2.635      1.368      1.214         41        640: 100%|██████████| 285/285 [01:23<00:00,  3.43it/s]\n",
            "                 Class     Images  Instances      Box(P          R      mAP50  mAP50-95)     Mask(P          R      mAP50  mAP50-95): 100%|██████████| 62/62 [00:30<00:00,  2.05it/s]\n"
          ]
        },
        {
          "output_type": "stream",
          "name": "stdout",
          "text": [
            "                   all       4286       6776      0.276      0.363      0.286      0.214       0.23      0.278      0.201      0.117\n",
            "\n",
            "      Epoch    GPU_mem   box_loss   seg_loss   cls_loss   dfl_loss  Instances       Size\n"
          ]
        },
        {
          "output_type": "stream",
          "name": "stderr",
          "text": [
            "     21/100      14.2G      1.031      2.599      1.356      1.211         20        640: 100%|██████████| 285/285 [01:23<00:00,  3.42it/s]\n",
            "                 Class     Images  Instances      Box(P          R      mAP50  mAP50-95)     Mask(P          R      mAP50  mAP50-95): 100%|██████████| 62/62 [00:30<00:00,  2.05it/s]\n"
          ]
        },
        {
          "output_type": "stream",
          "name": "stdout",
          "text": [
            "                   all       4286       6776      0.398      0.348      0.306      0.237      0.345       0.25      0.215      0.131\n",
            "\n",
            "      Epoch    GPU_mem   box_loss   seg_loss   cls_loss   dfl_loss  Instances       Size\n"
          ]
        },
        {
          "output_type": "stream",
          "name": "stderr",
          "text": [
            "     22/100      14.2G      1.019      2.591       1.33      1.202         14        640: 100%|██████████| 285/285 [01:23<00:00,  3.42it/s]\n",
            "                 Class     Images  Instances      Box(P          R      mAP50  mAP50-95)     Mask(P          R      mAP50  mAP50-95): 100%|██████████| 62/62 [00:29<00:00,  2.09it/s]\n"
          ]
        },
        {
          "output_type": "stream",
          "name": "stdout",
          "text": [
            "                   all       4286       6776      0.324      0.362      0.328      0.257      0.266      0.263      0.228      0.138\n",
            "\n",
            "      Epoch    GPU_mem   box_loss   seg_loss   cls_loss   dfl_loss  Instances       Size\n"
          ]
        },
        {
          "output_type": "stream",
          "name": "stderr",
          "text": [
            "     23/100      14.2G      1.011      2.571      1.312      1.196         30        640: 100%|██████████| 285/285 [01:24<00:00,  3.39it/s]\n",
            "                 Class     Images  Instances      Box(P          R      mAP50  mAP50-95)     Mask(P          R      mAP50  mAP50-95): 100%|██████████| 62/62 [00:29<00:00,  2.13it/s]\n"
          ]
        },
        {
          "output_type": "stream",
          "name": "stdout",
          "text": [
            "                   all       4286       6776      0.293      0.346        0.3      0.233      0.242      0.243      0.194      0.115\n",
            "\n",
            "      Epoch    GPU_mem   box_loss   seg_loss   cls_loss   dfl_loss  Instances       Size\n"
          ]
        },
        {
          "output_type": "stream",
          "name": "stderr",
          "text": [
            "     24/100      14.2G      1.004      2.544      1.305      1.196         44        640: 100%|██████████| 285/285 [01:23<00:00,  3.43it/s]\n",
            "                 Class     Images  Instances      Box(P          R      mAP50  mAP50-95)     Mask(P          R      mAP50  mAP50-95): 100%|██████████| 62/62 [00:29<00:00,  2.13it/s]\n"
          ]
        },
        {
          "output_type": "stream",
          "name": "stdout",
          "text": [
            "                   all       4286       6776      0.277      0.392      0.315      0.246      0.229      0.289      0.217      0.129\n",
            "\n",
            "      Epoch    GPU_mem   box_loss   seg_loss   cls_loss   dfl_loss  Instances       Size\n"
          ]
        },
        {
          "output_type": "stream",
          "name": "stderr",
          "text": [
            "     25/100      14.2G     0.9994       2.54      1.286      1.185         44        640: 100%|██████████| 285/285 [01:23<00:00,  3.43it/s]\n",
            "                 Class     Images  Instances      Box(P          R      mAP50  mAP50-95)     Mask(P          R      mAP50  mAP50-95): 100%|██████████| 62/62 [00:29<00:00,  2.07it/s]\n"
          ]
        },
        {
          "output_type": "stream",
          "name": "stdout",
          "text": [
            "                   all       4286       6776      0.489      0.364      0.331      0.258      0.442       0.27      0.234       0.14\n",
            "\n",
            "      Epoch    GPU_mem   box_loss   seg_loss   cls_loss   dfl_loss  Instances       Size\n"
          ]
        },
        {
          "output_type": "stream",
          "name": "stderr",
          "text": [
            "     26/100      14.2G     0.9919      2.504      1.275      1.185         52        640: 100%|██████████| 285/285 [01:23<00:00,  3.42it/s]\n",
            "                 Class     Images  Instances      Box(P          R      mAP50  mAP50-95)     Mask(P          R      mAP50  mAP50-95): 100%|██████████| 62/62 [00:29<00:00,  2.11it/s]\n"
          ]
        },
        {
          "output_type": "stream",
          "name": "stdout",
          "text": [
            "                   all       4286       6776       0.43      0.342      0.322      0.253      0.374      0.255      0.228      0.137\n",
            "\n",
            "      Epoch    GPU_mem   box_loss   seg_loss   cls_loss   dfl_loss  Instances       Size\n"
          ]
        },
        {
          "output_type": "stream",
          "name": "stderr",
          "text": [
            "     27/100      14.2G      0.992      2.514      1.265      1.185         49        640: 100%|██████████| 285/285 [01:23<00:00,  3.42it/s]\n",
            "                 Class     Images  Instances      Box(P          R      mAP50  mAP50-95)     Mask(P          R      mAP50  mAP50-95): 100%|██████████| 62/62 [00:29<00:00,  2.08it/s]\n"
          ]
        },
        {
          "output_type": "stream",
          "name": "stdout",
          "text": [
            "                   all       4286       6776      0.385      0.379      0.317       0.25      0.341      0.283      0.223      0.138\n",
            "\n",
            "      Epoch    GPU_mem   box_loss   seg_loss   cls_loss   dfl_loss  Instances       Size\n"
          ]
        },
        {
          "output_type": "stream",
          "name": "stderr",
          "text": [
            "     28/100      14.2G     0.9792       2.47      1.221      1.172         30        640: 100%|██████████| 285/285 [01:23<00:00,  3.41it/s]\n",
            "                 Class     Images  Instances      Box(P          R      mAP50  mAP50-95)     Mask(P          R      mAP50  mAP50-95): 100%|██████████| 62/62 [00:29<00:00,  2.08it/s]\n"
          ]
        },
        {
          "output_type": "stream",
          "name": "stdout",
          "text": [
            "                   all       4286       6776      0.468      0.356      0.323      0.256       0.41      0.265      0.224      0.138\n",
            "\n",
            "      Epoch    GPU_mem   box_loss   seg_loss   cls_loss   dfl_loss  Instances       Size\n"
          ]
        },
        {
          "output_type": "stream",
          "name": "stderr",
          "text": [
            "     29/100      14.2G     0.9628      2.442      1.203      1.162         22        640: 100%|██████████| 285/285 [01:22<00:00,  3.44it/s]\n",
            "                 Class     Images  Instances      Box(P          R      mAP50  mAP50-95)     Mask(P          R      mAP50  mAP50-95): 100%|██████████| 62/62 [00:29<00:00,  2.13it/s]\n"
          ]
        },
        {
          "output_type": "stream",
          "name": "stdout",
          "text": [
            "                   all       4286       6776      0.481      0.358      0.343      0.273      0.329       0.29      0.238      0.148\n",
            "\n",
            "      Epoch    GPU_mem   box_loss   seg_loss   cls_loss   dfl_loss  Instances       Size\n"
          ]
        },
        {
          "output_type": "stream",
          "name": "stderr",
          "text": [
            "     30/100      14.2G     0.9714      2.458      1.219      1.167         21        640: 100%|██████████| 285/285 [01:23<00:00,  3.42it/s]\n",
            "                 Class     Images  Instances      Box(P          R      mAP50  mAP50-95)     Mask(P          R      mAP50  mAP50-95): 100%|██████████| 62/62 [00:29<00:00,  2.08it/s]\n"
          ]
        },
        {
          "output_type": "stream",
          "name": "stdout",
          "text": [
            "                   all       4286       6776      0.306      0.389      0.322      0.257      0.247      0.297      0.229      0.142\n",
            "\n",
            "      Epoch    GPU_mem   box_loss   seg_loss   cls_loss   dfl_loss  Instances       Size\n"
          ]
        },
        {
          "output_type": "stream",
          "name": "stderr",
          "text": [
            "     31/100      14.2G     0.9655      2.429      1.197      1.165         18        640: 100%|██████████| 285/285 [01:23<00:00,  3.42it/s]\n",
            "                 Class     Images  Instances      Box(P          R      mAP50  mAP50-95)     Mask(P          R      mAP50  mAP50-95): 100%|██████████| 62/62 [00:29<00:00,  2.13it/s]\n"
          ]
        },
        {
          "output_type": "stream",
          "name": "stdout",
          "text": [
            "                   all       4286       6776      0.403      0.378      0.335      0.266      0.353      0.288       0.24      0.147\n",
            "\n",
            "      Epoch    GPU_mem   box_loss   seg_loss   cls_loss   dfl_loss  Instances       Size\n"
          ]
        },
        {
          "output_type": "stream",
          "name": "stderr",
          "text": [
            "     32/100      14.2G      0.959      2.423      1.181      1.158         52        640: 100%|██████████| 285/285 [01:24<00:00,  3.39it/s]\n",
            "                 Class     Images  Instances      Box(P          R      mAP50  mAP50-95)     Mask(P          R      mAP50  mAP50-95): 100%|██████████| 62/62 [00:29<00:00,  2.12it/s]\n"
          ]
        },
        {
          "output_type": "stream",
          "name": "stdout",
          "text": [
            "                   all       4286       6776       0.44      0.383      0.342      0.274      0.383      0.281      0.238      0.148\n",
            "\n",
            "      Epoch    GPU_mem   box_loss   seg_loss   cls_loss   dfl_loss  Instances       Size\n"
          ]
        },
        {
          "output_type": "stream",
          "name": "stderr",
          "text": [
            "     33/100      14.2G      0.954      2.393      1.177      1.155         30        640: 100%|██████████| 285/285 [01:24<00:00,  3.39it/s]\n",
            "                 Class     Images  Instances      Box(P          R      mAP50  mAP50-95)     Mask(P          R      mAP50  mAP50-95): 100%|██████████| 62/62 [00:29<00:00,  2.08it/s]\n"
          ]
        },
        {
          "output_type": "stream",
          "name": "stdout",
          "text": [
            "                   all       4286       6776       0.32      0.368      0.323      0.256      0.265      0.282      0.236       0.15\n",
            "\n",
            "      Epoch    GPU_mem   box_loss   seg_loss   cls_loss   dfl_loss  Instances       Size\n"
          ]
        },
        {
          "output_type": "stream",
          "name": "stderr",
          "text": [
            "     34/100      14.2G     0.9489      2.372      1.163      1.153         46        640: 100%|██████████| 285/285 [01:23<00:00,  3.42it/s]\n",
            "                 Class     Images  Instances      Box(P          R      mAP50  mAP50-95)     Mask(P          R      mAP50  mAP50-95): 100%|██████████| 62/62 [00:29<00:00,  2.13it/s]\n"
          ]
        },
        {
          "output_type": "stream",
          "name": "stdout",
          "text": [
            "                   all       4286       6776      0.492      0.363      0.338      0.271      0.439      0.274       0.24      0.148\n",
            "\n",
            "      Epoch    GPU_mem   box_loss   seg_loss   cls_loss   dfl_loss  Instances       Size\n"
          ]
        },
        {
          "output_type": "stream",
          "name": "stderr",
          "text": [
            "     35/100      14.2G     0.9365      2.351       1.13      1.146         33        640: 100%|██████████| 285/285 [01:23<00:00,  3.40it/s]\n",
            "                 Class     Images  Instances      Box(P          R      mAP50  mAP50-95)     Mask(P          R      mAP50  mAP50-95): 100%|██████████| 62/62 [00:30<00:00,  2.05it/s]\n"
          ]
        },
        {
          "output_type": "stream",
          "name": "stdout",
          "text": [
            "                   all       4286       6776      0.348      0.386      0.352      0.284      0.297      0.298      0.256       0.16\n",
            "\n",
            "      Epoch    GPU_mem   box_loss   seg_loss   cls_loss   dfl_loss  Instances       Size\n"
          ]
        },
        {
          "output_type": "stream",
          "name": "stderr",
          "text": [
            "     36/100      14.2G     0.9408      2.354      1.144      1.147         54        640: 100%|██████████| 285/285 [01:23<00:00,  3.43it/s]\n",
            "                 Class     Images  Instances      Box(P          R      mAP50  mAP50-95)     Mask(P          R      mAP50  mAP50-95): 100%|██████████| 62/62 [00:29<00:00,  2.13it/s]\n"
          ]
        },
        {
          "output_type": "stream",
          "name": "stdout",
          "text": [
            "                   all       4286       6776      0.404      0.375      0.338      0.273      0.349      0.288      0.248      0.157\n",
            "\n",
            "      Epoch    GPU_mem   box_loss   seg_loss   cls_loss   dfl_loss  Instances       Size\n"
          ]
        },
        {
          "output_type": "stream",
          "name": "stderr",
          "text": [
            "     37/100      14.2G     0.9383       2.33      1.125      1.145         33        640: 100%|██████████| 285/285 [01:23<00:00,  3.42it/s]\n",
            "                 Class     Images  Instances      Box(P          R      mAP50  mAP50-95)     Mask(P          R      mAP50  mAP50-95): 100%|██████████| 62/62 [00:29<00:00,  2.10it/s]\n"
          ]
        },
        {
          "output_type": "stream",
          "name": "stdout",
          "text": [
            "                   all       4286       6776      0.312      0.401      0.337       0.27      0.258      0.312      0.243      0.152\n",
            "\n",
            "      Epoch    GPU_mem   box_loss   seg_loss   cls_loss   dfl_loss  Instances       Size\n"
          ]
        },
        {
          "output_type": "stream",
          "name": "stderr",
          "text": [
            "     38/100      14.2G     0.9321      2.331       1.12       1.14         31        640: 100%|██████████| 285/285 [01:24<00:00,  3.39it/s]\n",
            "                 Class     Images  Instances      Box(P          R      mAP50  mAP50-95)     Mask(P          R      mAP50  mAP50-95): 100%|██████████| 62/62 [00:29<00:00,  2.12it/s]\n"
          ]
        },
        {
          "output_type": "stream",
          "name": "stdout",
          "text": [
            "                   all       4286       6776      0.413      0.393      0.357      0.288      0.354      0.296      0.254      0.162\n",
            "\n",
            "      Epoch    GPU_mem   box_loss   seg_loss   cls_loss   dfl_loss  Instances       Size\n"
          ]
        },
        {
          "output_type": "stream",
          "name": "stderr",
          "text": [
            "     39/100      14.2G     0.9239      2.323      1.101      1.139         26        640: 100%|██████████| 285/285 [01:23<00:00,  3.42it/s]\n",
            "                 Class     Images  Instances      Box(P          R      mAP50  mAP50-95)     Mask(P          R      mAP50  mAP50-95): 100%|██████████| 62/62 [00:29<00:00,  2.12it/s]\n"
          ]
        },
        {
          "output_type": "stream",
          "name": "stdout",
          "text": [
            "                   all       4286       6776      0.526      0.358      0.356      0.286      0.463      0.257      0.248      0.155\n",
            "\n",
            "      Epoch    GPU_mem   box_loss   seg_loss   cls_loss   dfl_loss  Instances       Size\n"
          ]
        },
        {
          "output_type": "stream",
          "name": "stderr",
          "text": [
            "     40/100      14.2G     0.9261      2.317      1.099      1.136         35        640: 100%|██████████| 285/285 [01:22<00:00,  3.45it/s]\n",
            "                 Class     Images  Instances      Box(P          R      mAP50  mAP50-95)     Mask(P          R      mAP50  mAP50-95): 100%|██████████| 62/62 [00:29<00:00,  2.08it/s]\n"
          ]
        },
        {
          "output_type": "stream",
          "name": "stdout",
          "text": [
            "                   all       4286       6776      0.457      0.362      0.359       0.29      0.393      0.257      0.255      0.155\n",
            "\n",
            "      Epoch    GPU_mem   box_loss   seg_loss   cls_loss   dfl_loss  Instances       Size\n"
          ]
        },
        {
          "output_type": "stream",
          "name": "stderr",
          "text": [
            "     41/100      14.2G     0.9168      2.294      1.086      1.131         34        640: 100%|██████████| 285/285 [01:23<00:00,  3.42it/s]\n",
            "                 Class     Images  Instances      Box(P          R      mAP50  mAP50-95)     Mask(P          R      mAP50  mAP50-95): 100%|██████████| 62/62 [00:29<00:00,  2.11it/s]\n"
          ]
        },
        {
          "output_type": "stream",
          "name": "stdout",
          "text": [
            "                   all       4286       6776      0.473      0.386       0.36      0.292      0.404      0.276      0.247      0.153\n",
            "\n",
            "      Epoch    GPU_mem   box_loss   seg_loss   cls_loss   dfl_loss  Instances       Size\n"
          ]
        },
        {
          "output_type": "stream",
          "name": "stderr",
          "text": [
            "     42/100      14.2G     0.9084      2.265      1.065      1.125         32        640: 100%|██████████| 285/285 [01:22<00:00,  3.44it/s]\n",
            "                 Class     Images  Instances      Box(P          R      mAP50  mAP50-95)     Mask(P          R      mAP50  mAP50-95): 100%|██████████| 62/62 [00:29<00:00,  2.13it/s]\n"
          ]
        },
        {
          "output_type": "stream",
          "name": "stdout",
          "text": [
            "                   all       4286       6776      0.492      0.379      0.355      0.288      0.432      0.271      0.246      0.149\n",
            "\n",
            "      Epoch    GPU_mem   box_loss   seg_loss   cls_loss   dfl_loss  Instances       Size\n"
          ]
        },
        {
          "output_type": "stream",
          "name": "stderr",
          "text": [
            "     43/100      14.2G     0.9057      2.259       1.05      1.123         48        640: 100%|██████████| 285/285 [01:23<00:00,  3.42it/s]\n",
            "                 Class     Images  Instances      Box(P          R      mAP50  mAP50-95)     Mask(P          R      mAP50  mAP50-95): 100%|██████████| 62/62 [00:28<00:00,  2.15it/s]\n"
          ]
        },
        {
          "output_type": "stream",
          "name": "stdout",
          "text": [
            "                   all       4286       6776      0.423      0.381       0.36      0.291      0.456      0.257      0.245      0.152\n",
            "\n",
            "      Epoch    GPU_mem   box_loss   seg_loss   cls_loss   dfl_loss  Instances       Size\n"
          ]
        },
        {
          "output_type": "stream",
          "name": "stderr",
          "text": [
            "     44/100      14.2G     0.8986      2.222      1.042      1.119         57        640: 100%|██████████| 285/285 [01:23<00:00,  3.42it/s]\n",
            "                 Class     Images  Instances      Box(P          R      mAP50  mAP50-95)     Mask(P          R      mAP50  mAP50-95): 100%|██████████| 62/62 [00:29<00:00,  2.13it/s]\n"
          ]
        },
        {
          "output_type": "stream",
          "name": "stdout",
          "text": [
            "                   all       4286       6776      0.448      0.367      0.367      0.299       0.29      0.279      0.254      0.157\n",
            "\n",
            "      Epoch    GPU_mem   box_loss   seg_loss   cls_loss   dfl_loss  Instances       Size\n"
          ]
        },
        {
          "output_type": "stream",
          "name": "stderr",
          "text": [
            "     45/100      14.2G     0.8952      2.228      1.042      1.117         33        640: 100%|██████████| 285/285 [01:23<00:00,  3.39it/s]\n",
            "                 Class     Images  Instances      Box(P          R      mAP50  mAP50-95)     Mask(P          R      mAP50  mAP50-95): 100%|██████████| 62/62 [00:29<00:00,  2.12it/s]\n"
          ]
        },
        {
          "output_type": "stream",
          "name": "stdout",
          "text": [
            "                   all       4286       6776      0.535      0.366      0.362      0.296      0.364      0.283      0.255      0.158\n",
            "\n",
            "      Epoch    GPU_mem   box_loss   seg_loss   cls_loss   dfl_loss  Instances       Size\n"
          ]
        },
        {
          "output_type": "stream",
          "name": "stderr",
          "text": [
            "     46/100      14.2G        0.9      2.216      1.032       1.12         52        640: 100%|██████████| 285/285 [01:23<00:00,  3.42it/s]\n",
            "                 Class     Images  Instances      Box(P          R      mAP50  mAP50-95)     Mask(P          R      mAP50  mAP50-95): 100%|██████████| 62/62 [00:29<00:00,  2.14it/s]\n"
          ]
        },
        {
          "output_type": "stream",
          "name": "stdout",
          "text": [
            "                   all       4286       6776      0.499      0.395      0.355      0.289      0.441      0.279      0.248      0.157\n",
            "\n",
            "      Epoch    GPU_mem   box_loss   seg_loss   cls_loss   dfl_loss  Instances       Size\n"
          ]
        },
        {
          "output_type": "stream",
          "name": "stderr",
          "text": [
            "     47/100      14.2G     0.8926      2.204      1.019      1.113         41        640: 100%|██████████| 285/285 [01:23<00:00,  3.42it/s]\n",
            "                 Class     Images  Instances      Box(P          R      mAP50  mAP50-95)     Mask(P          R      mAP50  mAP50-95): 100%|██████████| 62/62 [00:29<00:00,  2.11it/s]\n"
          ]
        },
        {
          "output_type": "stream",
          "name": "stdout",
          "text": [
            "                   all       4286       6776      0.451      0.377      0.364      0.297      0.394      0.282      0.255      0.159\n",
            "\n",
            "      Epoch    GPU_mem   box_loss   seg_loss   cls_loss   dfl_loss  Instances       Size\n"
          ]
        },
        {
          "output_type": "stream",
          "name": "stderr",
          "text": [
            "     48/100      14.2G     0.8902      2.193      1.013      1.109         19        640: 100%|██████████| 285/285 [01:23<00:00,  3.41it/s]\n",
            "                 Class     Images  Instances      Box(P          R      mAP50  mAP50-95)     Mask(P          R      mAP50  mAP50-95): 100%|██████████| 62/62 [00:29<00:00,  2.11it/s]\n"
          ]
        },
        {
          "output_type": "stream",
          "name": "stdout",
          "text": [
            "                   all       4286       6776       0.43      0.393      0.361      0.296      0.364      0.291      0.257      0.162\n",
            "\n",
            "      Epoch    GPU_mem   box_loss   seg_loss   cls_loss   dfl_loss  Instances       Size\n"
          ]
        },
        {
          "output_type": "stream",
          "name": "stderr",
          "text": [
            "     49/100      14.2G     0.8853      2.178     0.9985      1.107         34        640: 100%|██████████| 285/285 [01:23<00:00,  3.43it/s]\n",
            "                 Class     Images  Instances      Box(P          R      mAP50  mAP50-95)     Mask(P          R      mAP50  mAP50-95): 100%|██████████| 62/62 [00:29<00:00,  2.12it/s]\n"
          ]
        },
        {
          "output_type": "stream",
          "name": "stdout",
          "text": [
            "                   all       4286       6776      0.512      0.396      0.367        0.3      0.448       0.29       0.26      0.162\n",
            "\n",
            "      Epoch    GPU_mem   box_loss   seg_loss   cls_loss   dfl_loss  Instances       Size\n"
          ]
        },
        {
          "output_type": "stream",
          "name": "stderr",
          "text": [
            "     50/100      14.2G     0.8865      2.182      1.006      1.112         46        640: 100%|██████████| 285/285 [01:23<00:00,  3.39it/s]\n",
            "                 Class     Images  Instances      Box(P          R      mAP50  mAP50-95)     Mask(P          R      mAP50  mAP50-95): 100%|██████████| 62/62 [00:29<00:00,  2.12it/s]\n"
          ]
        },
        {
          "output_type": "stream",
          "name": "stdout",
          "text": [
            "                   all       4286       6776      0.531      0.378       0.37      0.304      0.458      0.271      0.261      0.162\n",
            "\n",
            "      Epoch    GPU_mem   box_loss   seg_loss   cls_loss   dfl_loss  Instances       Size\n"
          ]
        },
        {
          "output_type": "stream",
          "name": "stderr",
          "text": [
            "     51/100      14.2G     0.8775      2.159     0.9805      1.101         41        640: 100%|██████████| 285/285 [01:23<00:00,  3.43it/s]\n",
            "                 Class     Images  Instances      Box(P          R      mAP50  mAP50-95)     Mask(P          R      mAP50  mAP50-95): 100%|██████████| 62/62 [00:28<00:00,  2.15it/s]\n"
          ]
        },
        {
          "output_type": "stream",
          "name": "stdout",
          "text": [
            "                   all       4286       6776      0.485      0.385      0.373      0.305      0.387       0.28      0.257      0.159\n",
            "\n",
            "      Epoch    GPU_mem   box_loss   seg_loss   cls_loss   dfl_loss  Instances       Size\n"
          ]
        },
        {
          "output_type": "stream",
          "name": "stderr",
          "text": [
            "     52/100      14.2G     0.8748      2.157     0.9879      1.102         40        640: 100%|██████████| 285/285 [01:23<00:00,  3.42it/s]\n",
            "                 Class     Images  Instances      Box(P          R      mAP50  mAP50-95)     Mask(P          R      mAP50  mAP50-95): 100%|██████████| 62/62 [00:29<00:00,  2.11it/s]\n"
          ]
        },
        {
          "output_type": "stream",
          "name": "stdout",
          "text": [
            "                   all       4286       6776      0.451      0.384       0.37      0.303      0.389      0.268      0.258      0.158\n",
            "\n",
            "      Epoch    GPU_mem   box_loss   seg_loss   cls_loss   dfl_loss  Instances       Size\n"
          ]
        },
        {
          "output_type": "stream",
          "name": "stderr",
          "text": [
            "     53/100      14.2G     0.8715      2.136     0.9752        1.1         28        640: 100%|██████████| 285/285 [01:23<00:00,  3.42it/s]\n",
            "                 Class     Images  Instances      Box(P          R      mAP50  mAP50-95)     Mask(P          R      mAP50  mAP50-95): 100%|██████████| 62/62 [00:28<00:00,  2.15it/s]\n"
          ]
        },
        {
          "output_type": "stream",
          "name": "stdout",
          "text": [
            "                   all       4286       6776      0.343      0.403      0.363      0.295       0.28      0.297      0.249      0.152\n",
            "\n",
            "      Epoch    GPU_mem   box_loss   seg_loss   cls_loss   dfl_loss  Instances       Size\n"
          ]
        },
        {
          "output_type": "stream",
          "name": "stderr",
          "text": [
            "     54/100      14.2G     0.8695      2.145     0.9633      1.098         26        640: 100%|██████████| 285/285 [01:23<00:00,  3.42it/s]\n",
            "                 Class     Images  Instances      Box(P          R      mAP50  mAP50-95)     Mask(P          R      mAP50  mAP50-95): 100%|██████████| 62/62 [00:28<00:00,  2.15it/s]\n"
          ]
        },
        {
          "output_type": "stream",
          "name": "stdout",
          "text": [
            "                   all       4286       6776      0.528      0.378      0.368      0.302      0.435      0.292      0.256      0.158\n",
            "\n",
            "      Epoch    GPU_mem   box_loss   seg_loss   cls_loss   dfl_loss  Instances       Size\n"
          ]
        },
        {
          "output_type": "stream",
          "name": "stderr",
          "text": [
            "     55/100      14.2G     0.8618      2.111       0.95      1.092         33        640: 100%|██████████| 285/285 [01:23<00:00,  3.40it/s]\n",
            "                 Class     Images  Instances      Box(P          R      mAP50  mAP50-95)     Mask(P          R      mAP50  mAP50-95): 100%|██████████| 62/62 [00:29<00:00,  2.12it/s]\n"
          ]
        },
        {
          "output_type": "stream",
          "name": "stdout",
          "text": [
            "                   all       4286       6776      0.442      0.403      0.367        0.3      0.363      0.299      0.255      0.158\n",
            "\n",
            "      Epoch    GPU_mem   box_loss   seg_loss   cls_loss   dfl_loss  Instances       Size\n"
          ]
        },
        {
          "output_type": "stream",
          "name": "stderr",
          "text": [
            "     56/100      14.2G     0.8621      2.111     0.9499       1.09         51        640: 100%|██████████| 285/285 [01:23<00:00,  3.42it/s]\n",
            "                 Class     Images  Instances      Box(P          R      mAP50  mAP50-95)     Mask(P          R      mAP50  mAP50-95): 100%|██████████| 62/62 [00:28<00:00,  2.15it/s]\n"
          ]
        },
        {
          "output_type": "stream",
          "name": "stdout",
          "text": [
            "                   all       4286       6776      0.449       0.41      0.367      0.301      0.404      0.285      0.259      0.162\n",
            "\n",
            "      Epoch    GPU_mem   box_loss   seg_loss   cls_loss   dfl_loss  Instances       Size\n"
          ]
        },
        {
          "output_type": "stream",
          "name": "stderr",
          "text": [
            "     57/100      14.2G     0.8582      2.102     0.9457       1.09         42        640: 100%|██████████| 285/285 [01:23<00:00,  3.42it/s]\n",
            "                 Class     Images  Instances      Box(P          R      mAP50  mAP50-95)     Mask(P          R      mAP50  mAP50-95): 100%|██████████| 62/62 [00:29<00:00,  2.13it/s]\n"
          ]
        },
        {
          "output_type": "stream",
          "name": "stdout",
          "text": [
            "                   all       4286       6776      0.441      0.384      0.363      0.299      0.279      0.284      0.252      0.156\n",
            "\n",
            "      Epoch    GPU_mem   box_loss   seg_loss   cls_loss   dfl_loss  Instances       Size\n"
          ]
        },
        {
          "output_type": "stream",
          "name": "stderr",
          "text": [
            "     58/100      14.2G     0.8482      2.088     0.9276      1.085         39        640: 100%|██████████| 285/285 [01:23<00:00,  3.42it/s]\n",
            "                 Class     Images  Instances      Box(P          R      mAP50  mAP50-95)     Mask(P          R      mAP50  mAP50-95): 100%|██████████| 62/62 [00:29<00:00,  2.13it/s]\n"
          ]
        },
        {
          "output_type": "stream",
          "name": "stdout",
          "text": [
            "                   all       4286       6776      0.399      0.406      0.369      0.304      0.327       0.29      0.258      0.157\n",
            "\n",
            "      Epoch    GPU_mem   box_loss   seg_loss   cls_loss   dfl_loss  Instances       Size\n"
          ]
        },
        {
          "output_type": "stream",
          "name": "stderr",
          "text": [
            "     59/100      14.2G     0.8504      2.069     0.9215      1.087         27        640: 100%|██████████| 285/285 [01:23<00:00,  3.42it/s]\n",
            "                 Class     Images  Instances      Box(P          R      mAP50  mAP50-95)     Mask(P          R      mAP50  mAP50-95): 100%|██████████| 62/62 [00:29<00:00,  2.13it/s]\n"
          ]
        },
        {
          "output_type": "stream",
          "name": "stdout",
          "text": [
            "                   all       4286       6776      0.407      0.412      0.372      0.305      0.331      0.293      0.259       0.16\n",
            "\n",
            "      Epoch    GPU_mem   box_loss   seg_loss   cls_loss   dfl_loss  Instances       Size\n"
          ]
        },
        {
          "output_type": "stream",
          "name": "stderr",
          "text": [
            "     60/100      14.2G     0.8523      2.053     0.9096      1.084         36        640: 100%|██████████| 285/285 [01:23<00:00,  3.40it/s]\n",
            "                 Class     Images  Instances      Box(P          R      mAP50  mAP50-95)     Mask(P          R      mAP50  mAP50-95): 100%|██████████| 62/62 [00:29<00:00,  2.12it/s]\n"
          ]
        },
        {
          "output_type": "stream",
          "name": "stdout",
          "text": [
            "                   all       4286       6776      0.371      0.401      0.369      0.304      0.298      0.275      0.257      0.159\n",
            "\n",
            "      Epoch    GPU_mem   box_loss   seg_loss   cls_loss   dfl_loss  Instances       Size\n"
          ]
        },
        {
          "output_type": "stream",
          "name": "stderr",
          "text": [
            "     61/100      14.2G     0.8424      2.042     0.9066      1.081         18        640: 100%|██████████| 285/285 [01:22<00:00,  3.44it/s]\n",
            "                 Class     Images  Instances      Box(P          R      mAP50  mAP50-95)     Mask(P          R      mAP50  mAP50-95): 100%|██████████| 62/62 [00:28<00:00,  2.14it/s]\n"
          ]
        },
        {
          "output_type": "stream",
          "name": "stdout",
          "text": [
            "                   all       4286       6776      0.354      0.403      0.372      0.307      0.288      0.291      0.258      0.158\n",
            "\n",
            "      Epoch    GPU_mem   box_loss   seg_loss   cls_loss   dfl_loss  Instances       Size\n"
          ]
        },
        {
          "output_type": "stream",
          "name": "stderr",
          "text": [
            "     62/100      14.2G     0.8311      2.017     0.8874      1.073         36        640: 100%|██████████| 285/285 [01:23<00:00,  3.43it/s]\n",
            "                 Class     Images  Instances      Box(P          R      mAP50  mAP50-95)     Mask(P          R      mAP50  mAP50-95): 100%|██████████| 62/62 [00:29<00:00,  2.14it/s]\n"
          ]
        },
        {
          "output_type": "stream",
          "name": "stdout",
          "text": [
            "                   all       4286       6776      0.463      0.374      0.371      0.304      0.297      0.271      0.253      0.153\n",
            "\n",
            "      Epoch    GPU_mem   box_loss   seg_loss   cls_loss   dfl_loss  Instances       Size\n"
          ]
        },
        {
          "output_type": "stream",
          "name": "stderr",
          "text": [
            "     63/100      14.2G     0.8347       2.02     0.8909      1.076         22        640: 100%|██████████| 285/285 [01:23<00:00,  3.43it/s]\n",
            "                 Class     Images  Instances      Box(P          R      mAP50  mAP50-95)     Mask(P          R      mAP50  mAP50-95): 100%|██████████| 62/62 [00:28<00:00,  2.14it/s]\n"
          ]
        },
        {
          "output_type": "stream",
          "name": "stdout",
          "text": [
            "                   all       4286       6776      0.473      0.365      0.367      0.302      0.379       0.26      0.253      0.153\n",
            "\n",
            "      Epoch    GPU_mem   box_loss   seg_loss   cls_loss   dfl_loss  Instances       Size\n"
          ]
        },
        {
          "output_type": "stream",
          "name": "stderr",
          "text": [
            "     64/100      14.2G     0.8318      2.005     0.8839      1.073         39        640: 100%|██████████| 285/285 [01:23<00:00,  3.43it/s]\n",
            "                 Class     Images  Instances      Box(P          R      mAP50  mAP50-95)     Mask(P          R      mAP50  mAP50-95): 100%|██████████| 62/62 [00:28<00:00,  2.14it/s]\n"
          ]
        },
        {
          "output_type": "stream",
          "name": "stdout",
          "text": [
            "                   all       4286       6776      0.374      0.382      0.365        0.3      0.296      0.268      0.252      0.152\n",
            "\n",
            "      Epoch    GPU_mem   box_loss   seg_loss   cls_loss   dfl_loss  Instances       Size\n"
          ]
        },
        {
          "output_type": "stream",
          "name": "stderr",
          "text": [
            "     65/100      14.2G     0.8378      2.018     0.8849      1.075         38        640: 100%|██████████| 285/285 [01:23<00:00,  3.40it/s]\n",
            "                 Class     Images  Instances      Box(P          R      mAP50  mAP50-95)     Mask(P          R      mAP50  mAP50-95): 100%|██████████| 62/62 [00:28<00:00,  2.17it/s]\n"
          ]
        },
        {
          "output_type": "stream",
          "name": "stdout",
          "text": [
            "                   all       4286       6776       0.47      0.386      0.368      0.303      0.396      0.273      0.253      0.149\n",
            "\n",
            "      Epoch    GPU_mem   box_loss   seg_loss   cls_loss   dfl_loss  Instances       Size\n"
          ]
        },
        {
          "output_type": "stream",
          "name": "stderr",
          "text": [
            "     66/100      14.2G     0.8307          2      0.874      1.071         48        640: 100%|██████████| 285/285 [01:23<00:00,  3.42it/s]\n",
            "                 Class     Images  Instances      Box(P          R      mAP50  mAP50-95)     Mask(P          R      mAP50  mAP50-95): 100%|██████████| 62/62 [00:28<00:00,  2.16it/s]\n"
          ]
        },
        {
          "output_type": "stream",
          "name": "stdout",
          "text": [
            "                   all       4286       6776      0.419      0.383      0.369      0.304      0.336      0.273      0.253      0.149\n",
            "\n",
            "      Epoch    GPU_mem   box_loss   seg_loss   cls_loss   dfl_loss  Instances       Size\n"
          ]
        },
        {
          "output_type": "stream",
          "name": "stderr",
          "text": [
            "     67/100      14.2G     0.8224      1.979     0.8606      1.067         46        640: 100%|██████████| 285/285 [01:23<00:00,  3.43it/s]\n",
            "                 Class     Images  Instances      Box(P          R      mAP50  mAP50-95)     Mask(P          R      mAP50  mAP50-95): 100%|██████████| 62/62 [00:28<00:00,  2.17it/s]\n"
          ]
        },
        {
          "output_type": "stream",
          "name": "stdout",
          "text": [
            "                   all       4286       6776      0.394      0.392      0.366      0.301      0.319      0.274      0.253      0.149\n",
            "\n",
            "      Epoch    GPU_mem   box_loss   seg_loss   cls_loss   dfl_loss  Instances       Size\n"
          ]
        },
        {
          "output_type": "stream",
          "name": "stderr",
          "text": [
            "     68/100      14.2G     0.8157      1.976     0.8583      1.064         25        640: 100%|██████████| 285/285 [01:23<00:00,  3.41it/s]\n",
            "                 Class     Images  Instances      Box(P          R      mAP50  mAP50-95)     Mask(P          R      mAP50  mAP50-95): 100%|██████████| 62/62 [00:28<00:00,  2.15it/s]\n"
          ]
        },
        {
          "output_type": "stream",
          "name": "stdout",
          "text": [
            "                   all       4286       6776      0.395      0.398      0.369      0.305       0.32      0.277      0.257      0.152\n",
            "\n",
            "      Epoch    GPU_mem   box_loss   seg_loss   cls_loss   dfl_loss  Instances       Size\n"
          ]
        },
        {
          "output_type": "stream",
          "name": "stderr",
          "text": [
            "     69/100      14.2G     0.8117      1.962     0.8482      1.062         23        640: 100%|██████████| 285/285 [01:22<00:00,  3.45it/s]\n",
            "                 Class     Images  Instances      Box(P          R      mAP50  mAP50-95)     Mask(P          R      mAP50  mAP50-95): 100%|██████████| 62/62 [00:28<00:00,  2.16it/s]\n"
          ]
        },
        {
          "output_type": "stream",
          "name": "stdout",
          "text": [
            "                   all       4286       6776      0.354      0.433      0.367      0.304      0.285      0.303      0.254      0.152\n",
            "\n",
            "      Epoch    GPU_mem   box_loss   seg_loss   cls_loss   dfl_loss  Instances       Size\n"
          ]
        },
        {
          "output_type": "stream",
          "name": "stderr",
          "text": [
            "     70/100      14.2G     0.8149      1.949     0.8425      1.065         41        640: 100%|██████████| 285/285 [01:23<00:00,  3.42it/s]\n",
            "                 Class     Images  Instances      Box(P          R      mAP50  mAP50-95)     Mask(P          R      mAP50  mAP50-95): 100%|██████████| 62/62 [00:29<00:00,  2.11it/s]\n"
          ]
        },
        {
          "output_type": "stream",
          "name": "stdout",
          "text": [
            "                   all       4286       6776      0.384      0.397      0.366      0.303      0.308      0.276      0.254      0.149\n",
            "\n",
            "      Epoch    GPU_mem   box_loss   seg_loss   cls_loss   dfl_loss  Instances       Size\n"
          ]
        },
        {
          "output_type": "stream",
          "name": "stderr",
          "text": [
            "     71/100      14.2G     0.8149      1.957     0.8485      1.064         43        640: 100%|██████████| 285/285 [01:23<00:00,  3.42it/s]\n",
            "                 Class     Images  Instances      Box(P          R      mAP50  mAP50-95)     Mask(P          R      mAP50  mAP50-95): 100%|██████████| 62/62 [00:28<00:00,  2.15it/s]\n"
          ]
        },
        {
          "output_type": "stream",
          "name": "stdout",
          "text": [
            "                   all       4286       6776      0.387      0.403      0.368      0.303      0.312      0.281      0.255      0.152\n",
            "\n",
            "      Epoch    GPU_mem   box_loss   seg_loss   cls_loss   dfl_loss  Instances       Size\n"
          ]
        },
        {
          "output_type": "stream",
          "name": "stderr",
          "text": [
            "     72/100      14.2G     0.8086      1.937     0.8366      1.058         35        640: 100%|██████████| 285/285 [01:22<00:00,  3.44it/s]\n",
            "                 Class     Images  Instances      Box(P          R      mAP50  mAP50-95)     Mask(P          R      mAP50  mAP50-95): 100%|██████████| 62/62 [00:28<00:00,  2.15it/s]\n"
          ]
        },
        {
          "output_type": "stream",
          "name": "stdout",
          "text": [
            "                   all       4286       6776      0.395      0.404      0.367      0.303       0.32       0.28      0.255      0.152\n",
            "\n",
            "      Epoch    GPU_mem   box_loss   seg_loss   cls_loss   dfl_loss  Instances       Size\n"
          ]
        },
        {
          "output_type": "stream",
          "name": "stderr",
          "text": [
            "     73/100      14.2G     0.8072       1.93      0.832      1.057         35        640: 100%|██████████| 285/285 [01:23<00:00,  3.41it/s]\n",
            "                 Class     Images  Instances      Box(P          R      mAP50  mAP50-95)     Mask(P          R      mAP50  mAP50-95): 100%|██████████| 62/62 [00:29<00:00,  2.12it/s]\n"
          ]
        },
        {
          "output_type": "stream",
          "name": "stdout",
          "text": [
            "                   all       4286       6776      0.461      0.409      0.369      0.305      0.383      0.284      0.256      0.152\n",
            "\n",
            "      Epoch    GPU_mem   box_loss   seg_loss   cls_loss   dfl_loss  Instances       Size\n"
          ]
        },
        {
          "output_type": "stream",
          "name": "stderr",
          "text": [
            "     74/100      14.2G     0.8069      1.916     0.8255      1.057         33        640: 100%|██████████| 285/285 [01:23<00:00,  3.43it/s]\n",
            "                 Class     Images  Instances      Box(P          R      mAP50  mAP50-95)     Mask(P          R      mAP50  mAP50-95): 100%|██████████| 62/62 [00:28<00:00,  2.17it/s]\n"
          ]
        },
        {
          "output_type": "stream",
          "name": "stdout",
          "text": [
            "                   all       4286       6776       0.51      0.369      0.371      0.306      0.292      0.308      0.255      0.151\n",
            "\n",
            "      Epoch    GPU_mem   box_loss   seg_loss   cls_loss   dfl_loss  Instances       Size\n"
          ]
        },
        {
          "output_type": "stream",
          "name": "stderr",
          "text": [
            "     75/100      14.2G     0.8021      1.915     0.8144      1.054         27        640: 100%|██████████| 285/285 [01:22<00:00,  3.44it/s]\n",
            "                 Class     Images  Instances      Box(P          R      mAP50  mAP50-95)     Mask(P          R      mAP50  mAP50-95): 100%|██████████| 62/62 [00:29<00:00,  2.09it/s]\n"
          ]
        },
        {
          "output_type": "stream",
          "name": "stdout",
          "text": [
            "                   all       4286       6776      0.387      0.411      0.369      0.305      0.308      0.291      0.255      0.151\n",
            "\n",
            "      Epoch    GPU_mem   box_loss   seg_loss   cls_loss   dfl_loss  Instances       Size\n"
          ]
        },
        {
          "output_type": "stream",
          "name": "stderr",
          "text": [
            "     76/100      14.2G     0.7962      1.915     0.8158      1.054         17        640: 100%|██████████| 285/285 [01:22<00:00,  3.44it/s]\n",
            "                 Class     Images  Instances      Box(P          R      mAP50  mAP50-95)     Mask(P          R      mAP50  mAP50-95): 100%|██████████| 62/62 [00:29<00:00,  2.13it/s]\n"
          ]
        },
        {
          "output_type": "stream",
          "name": "stdout",
          "text": [
            "                   all       4286       6776      0.398      0.398      0.367      0.304      0.306      0.291      0.254      0.151\n",
            "\n",
            "      Epoch    GPU_mem   box_loss   seg_loss   cls_loss   dfl_loss  Instances       Size\n"
          ]
        },
        {
          "output_type": "stream",
          "name": "stderr",
          "text": [
            "     77/100      14.2G     0.7978      1.899     0.8048      1.052         32        640: 100%|██████████| 285/285 [01:23<00:00,  3.42it/s]\n",
            "                 Class     Images  Instances      Box(P          R      mAP50  mAP50-95)     Mask(P          R      mAP50  mAP50-95): 100%|██████████| 62/62 [00:29<00:00,  2.13it/s]\n"
          ]
        },
        {
          "output_type": "stream",
          "name": "stdout",
          "text": [
            "                   all       4286       6776      0.452      0.409      0.366      0.304       0.38      0.283       0.25      0.149\n",
            "\n",
            "      Epoch    GPU_mem   box_loss   seg_loss   cls_loss   dfl_loss  Instances       Size\n"
          ]
        },
        {
          "output_type": "stream",
          "name": "stderr",
          "text": [
            "     78/100      14.2G     0.7973      1.906      0.807      1.052         28        640: 100%|██████████| 285/285 [01:23<00:00,  3.40it/s]\n",
            "                 Class     Images  Instances      Box(P          R      mAP50  mAP50-95)     Mask(P          R      mAP50  mAP50-95): 100%|██████████| 62/62 [00:29<00:00,  2.13it/s]\n"
          ]
        },
        {
          "output_type": "stream",
          "name": "stdout",
          "text": [
            "                   all       4286       6776       0.46      0.401      0.364      0.302      0.306      0.284       0.25      0.148\n",
            "\n",
            "      Epoch    GPU_mem   box_loss   seg_loss   cls_loss   dfl_loss  Instances       Size\n"
          ]
        },
        {
          "output_type": "stream",
          "name": "stderr",
          "text": [
            "     79/100      14.2G     0.7868      1.873     0.7906      1.045         28        640: 100%|██████████| 285/285 [01:23<00:00,  3.41it/s]\n",
            "                 Class     Images  Instances      Box(P          R      mAP50  mAP50-95)     Mask(P          R      mAP50  mAP50-95): 100%|██████████| 62/62 [00:29<00:00,  2.13it/s]\n"
          ]
        },
        {
          "output_type": "stream",
          "name": "stdout",
          "text": [
            "                   all       4286       6776      0.399      0.398      0.365      0.303      0.317      0.279       0.25      0.147\n",
            "\n",
            "      Epoch    GPU_mem   box_loss   seg_loss   cls_loss   dfl_loss  Instances       Size\n"
          ]
        },
        {
          "output_type": "stream",
          "name": "stderr",
          "text": [
            "     80/100      14.2G     0.7907      1.866     0.7889      1.046         23        640: 100%|██████████| 285/285 [01:23<00:00,  3.39it/s]\n",
            "                 Class     Images  Instances      Box(P          R      mAP50  mAP50-95)     Mask(P          R      mAP50  mAP50-95): 100%|██████████| 62/62 [00:29<00:00,  2.12it/s]\n"
          ]
        },
        {
          "output_type": "stream",
          "name": "stdout",
          "text": [
            "                   all       4286       6776       0.49      0.389      0.364      0.302       0.41      0.268      0.251      0.149\n",
            "\n",
            "      Epoch    GPU_mem   box_loss   seg_loss   cls_loss   dfl_loss  Instances       Size\n"
          ]
        },
        {
          "output_type": "stream",
          "name": "stderr",
          "text": [
            "     81/100      14.2G     0.7868      1.877     0.7878      1.047         31        640: 100%|██████████| 285/285 [01:23<00:00,  3.42it/s]\n",
            "                 Class     Images  Instances      Box(P          R      mAP50  mAP50-95)     Mask(P          R      mAP50  mAP50-95): 100%|██████████| 62/62 [00:28<00:00,  2.17it/s]\n"
          ]
        },
        {
          "output_type": "stream",
          "name": "stdout",
          "text": [
            "                   all       4286       6776      0.409      0.393      0.365      0.303      0.331      0.273      0.251       0.15\n",
            "\n",
            "      Epoch    GPU_mem   box_loss   seg_loss   cls_loss   dfl_loss  Instances       Size\n"
          ]
        },
        {
          "output_type": "stream",
          "name": "stderr",
          "text": [
            "     82/100      14.2G     0.7803      1.853      0.776      1.043         36        640: 100%|██████████| 285/285 [01:23<00:00,  3.42it/s]\n",
            "                 Class     Images  Instances      Box(P          R      mAP50  mAP50-95)     Mask(P          R      mAP50  mAP50-95): 100%|██████████| 62/62 [00:28<00:00,  2.16it/s]\n"
          ]
        },
        {
          "output_type": "stream",
          "name": "stdout",
          "text": [
            "                   all       4286       6776      0.392      0.406      0.365      0.303      0.317      0.284      0.252      0.149\n",
            "\n",
            "      Epoch    GPU_mem   box_loss   seg_loss   cls_loss   dfl_loss  Instances       Size\n"
          ]
        },
        {
          "output_type": "stream",
          "name": "stderr",
          "text": [
            "     83/100      14.2G     0.7831      1.861     0.7822      1.044         24        640: 100%|██████████| 285/285 [01:23<00:00,  3.43it/s]\n",
            "                 Class     Images  Instances      Box(P          R      mAP50  mAP50-95)     Mask(P          R      mAP50  mAP50-95): 100%|██████████| 62/62 [00:28<00:00,  2.16it/s]\n"
          ]
        },
        {
          "output_type": "stream",
          "name": "stdout",
          "text": [
            "                   all       4286       6776      0.384      0.411      0.365      0.302      0.307      0.289      0.253       0.15\n",
            "\n",
            "      Epoch    GPU_mem   box_loss   seg_loss   cls_loss   dfl_loss  Instances       Size\n"
          ]
        },
        {
          "output_type": "stream",
          "name": "stderr",
          "text": [
            "     84/100      14.2G     0.7785      1.837     0.7734       1.04         26        640: 100%|██████████| 285/285 [01:23<00:00,  3.41it/s]\n",
            "                 Class     Images  Instances      Box(P          R      mAP50  mAP50-95)     Mask(P          R      mAP50  mAP50-95): 100%|██████████| 62/62 [00:28<00:00,  2.16it/s]\n"
          ]
        },
        {
          "output_type": "stream",
          "name": "stdout",
          "text": [
            "                   all       4286       6776      0.404       0.39      0.365      0.303      0.328      0.276      0.254       0.15\n",
            "\n",
            "      Epoch    GPU_mem   box_loss   seg_loss   cls_loss   dfl_loss  Instances       Size\n"
          ]
        },
        {
          "output_type": "stream",
          "name": "stderr",
          "text": [
            "     85/100      14.2G     0.7769      1.831     0.7713      1.041         47        640: 100%|██████████| 285/285 [01:23<00:00,  3.41it/s]\n",
            "                 Class     Images  Instances      Box(P          R      mAP50  mAP50-95)     Mask(P          R      mAP50  mAP50-95): 100%|██████████| 62/62 [00:28<00:00,  2.16it/s]\n"
          ]
        },
        {
          "output_type": "stream",
          "name": "stdout",
          "text": [
            "                   all       4286       6776      0.483      0.393      0.365      0.304      0.406      0.279      0.256       0.15\n",
            "\n",
            "      Epoch    GPU_mem   box_loss   seg_loss   cls_loss   dfl_loss  Instances       Size\n"
          ]
        },
        {
          "output_type": "stream",
          "name": "stderr",
          "text": [
            "     86/100      14.2G     0.7745      1.831     0.7569      1.038         29        640: 100%|██████████| 285/285 [01:22<00:00,  3.44it/s]\n",
            "                 Class     Images  Instances      Box(P          R      mAP50  mAP50-95)     Mask(P          R      mAP50  mAP50-95): 100%|██████████| 62/62 [00:28<00:00,  2.16it/s]\n"
          ]
        },
        {
          "output_type": "stream",
          "name": "stdout",
          "text": [
            "                   all       4286       6776      0.486       0.39      0.365      0.303       0.41      0.276      0.255       0.15\n",
            "\n",
            "      Epoch    GPU_mem   box_loss   seg_loss   cls_loss   dfl_loss  Instances       Size\n"
          ]
        },
        {
          "output_type": "stream",
          "name": "stderr",
          "text": [
            "     87/100      14.2G     0.7668      1.815     0.7528      1.037         21        640: 100%|██████████| 285/285 [01:22<00:00,  3.45it/s]\n",
            "                 Class     Images  Instances      Box(P          R      mAP50  mAP50-95)     Mask(P          R      mAP50  mAP50-95): 100%|██████████| 62/62 [00:28<00:00,  2.15it/s]\n"
          ]
        },
        {
          "output_type": "stream",
          "name": "stdout",
          "text": [
            "                   all       4286       6776      0.484      0.393      0.362      0.301      0.409      0.275      0.254      0.149\n",
            "\n",
            "      Epoch    GPU_mem   box_loss   seg_loss   cls_loss   dfl_loss  Instances       Size\n"
          ]
        },
        {
          "output_type": "stream",
          "name": "stderr",
          "text": [
            "     88/100      14.2G     0.7667      1.805     0.7438      1.034         25        640: 100%|██████████| 285/285 [01:22<00:00,  3.44it/s]\n",
            "                 Class     Images  Instances      Box(P          R      mAP50  mAP50-95)     Mask(P          R      mAP50  mAP50-95): 100%|██████████| 62/62 [00:28<00:00,  2.14it/s]\n"
          ]
        },
        {
          "output_type": "stream",
          "name": "stdout",
          "text": [
            "                   all       4286       6776      0.492      0.387      0.361        0.3      0.418      0.271      0.253      0.149\n",
            "\n",
            "      Epoch    GPU_mem   box_loss   seg_loss   cls_loss   dfl_loss  Instances       Size\n"
          ]
        },
        {
          "output_type": "stream",
          "name": "stderr",
          "text": [
            "     89/100      14.2G     0.7653      1.812     0.7448      1.033         34        640: 100%|██████████| 285/285 [01:22<00:00,  3.43it/s]\n",
            "                 Class     Images  Instances      Box(P          R      mAP50  mAP50-95)     Mask(P          R      mAP50  mAP50-95): 100%|██████████| 62/62 [00:28<00:00,  2.17it/s]\n"
          ]
        },
        {
          "output_type": "stream",
          "name": "stdout",
          "text": [
            "                   all       4286       6776       0.48      0.393      0.361        0.3      0.411      0.275      0.252      0.148\n",
            "\n",
            "      Epoch    GPU_mem   box_loss   seg_loss   cls_loss   dfl_loss  Instances       Size\n"
          ]
        },
        {
          "output_type": "stream",
          "name": "stderr",
          "text": [
            "     90/100      14.2G      0.761      1.793     0.7382      1.031         30        640: 100%|██████████| 285/285 [01:23<00:00,  3.40it/s]\n",
            "                 Class     Images  Instances      Box(P          R      mAP50  mAP50-95)     Mask(P          R      mAP50  mAP50-95): 100%|██████████| 62/62 [00:28<00:00,  2.17it/s]\n"
          ]
        },
        {
          "output_type": "stream",
          "name": "stdout",
          "text": [
            "                   all       4286       6776      0.469      0.401       0.36        0.3      0.396      0.282      0.251      0.148\n",
            "Closing dataloader mosaic\n",
            "\u001b[34m\u001b[1malbumentations: \u001b[0mBlur(p=0.01, blur_limit=(3, 7)), MedianBlur(p=0.01, blur_limit=(3, 7)), ToGray(p=0.01, num_output_channels=3, method='weighted_average'), CLAHE(p=0.01, clip_limit=(1.0, 4.0), tile_grid_size=(8, 8))\n",
            "\n",
            "      Epoch    GPU_mem   box_loss   seg_loss   cls_loss   dfl_loss  Instances       Size\n"
          ]
        },
        {
          "output_type": "stream",
          "name": "stderr",
          "text": [
            "     91/100      14.2G     0.7367      1.548     0.5623      1.031         24        640: 100%|██████████| 285/285 [01:23<00:00,  3.40it/s]\n",
            "                 Class     Images  Instances      Box(P          R      mAP50  mAP50-95)     Mask(P          R      mAP50  mAP50-95): 100%|██████████| 62/62 [00:28<00:00,  2.15it/s]\n"
          ]
        },
        {
          "output_type": "stream",
          "name": "stdout",
          "text": [
            "                   all       4286       6776      0.488      0.388       0.36      0.299      0.417      0.272      0.251      0.148\n",
            "\n",
            "      Epoch    GPU_mem   box_loss   seg_loss   cls_loss   dfl_loss  Instances       Size\n"
          ]
        },
        {
          "output_type": "stream",
          "name": "stderr",
          "text": [
            "     92/100      14.2G     0.7222      1.506     0.5354       1.02         16        640: 100%|██████████| 285/285 [01:21<00:00,  3.51it/s]\n",
            "                 Class     Images  Instances      Box(P          R      mAP50  mAP50-95)     Mask(P          R      mAP50  mAP50-95): 100%|██████████| 62/62 [00:29<00:00,  2.09it/s]\n"
          ]
        },
        {
          "output_type": "stream",
          "name": "stdout",
          "text": [
            "                   all       4286       6776      0.486      0.386       0.36        0.3      0.413       0.27      0.252      0.149\n",
            "\n",
            "      Epoch    GPU_mem   box_loss   seg_loss   cls_loss   dfl_loss  Instances       Size\n"
          ]
        },
        {
          "output_type": "stream",
          "name": "stderr",
          "text": [
            "     93/100      14.2G     0.7172       1.49     0.5307      1.014         21        640: 100%|██████████| 285/285 [01:21<00:00,  3.51it/s]\n",
            "                 Class     Images  Instances      Box(P          R      mAP50  mAP50-95)     Mask(P          R      mAP50  mAP50-95): 100%|██████████| 62/62 [00:28<00:00,  2.14it/s]\n"
          ]
        },
        {
          "output_type": "stream",
          "name": "stdout",
          "text": [
            "                   all       4286       6776      0.497       0.38       0.36        0.3      0.428      0.266      0.253      0.149\n",
            "\n",
            "      Epoch    GPU_mem   box_loss   seg_loss   cls_loss   dfl_loss  Instances       Size\n"
          ]
        },
        {
          "output_type": "stream",
          "name": "stderr",
          "text": [
            "     94/100      14.2G     0.7137      1.474     0.5223      1.013         13        640: 100%|██████████| 285/285 [01:21<00:00,  3.49it/s]\n",
            "                 Class     Images  Instances      Box(P          R      mAP50  mAP50-95)     Mask(P          R      mAP50  mAP50-95): 100%|██████████| 62/62 [00:28<00:00,  2.14it/s]\n"
          ]
        },
        {
          "output_type": "stream",
          "name": "stdout",
          "text": [
            "                   all       4286       6776      0.498      0.382       0.36        0.3      0.423      0.269      0.253       0.15\n",
            "\n",
            "      Epoch    GPU_mem   box_loss   seg_loss   cls_loss   dfl_loss  Instances       Size\n"
          ]
        },
        {
          "output_type": "stream",
          "name": "stderr",
          "text": [
            "     95/100      14.2G     0.7082      1.464     0.5145      1.008         11        640: 100%|██████████| 285/285 [01:22<00:00,  3.45it/s]\n",
            "                 Class     Images  Instances      Box(P          R      mAP50  mAP50-95)     Mask(P          R      mAP50  mAP50-95): 100%|██████████| 62/62 [00:29<00:00,  2.13it/s]\n"
          ]
        },
        {
          "output_type": "stream",
          "name": "stdout",
          "text": [
            "                   all       4286       6776      0.493       0.38       0.36        0.3      0.304      0.299      0.253      0.151\n",
            "\n",
            "      Epoch    GPU_mem   box_loss   seg_loss   cls_loss   dfl_loss  Instances       Size\n"
          ]
        },
        {
          "output_type": "stream",
          "name": "stderr",
          "text": [
            "     96/100      14.2G     0.7031      1.456     0.5058      1.005         13        640: 100%|██████████| 285/285 [01:21<00:00,  3.50it/s]\n",
            "                 Class     Images  Instances      Box(P          R      mAP50  mAP50-95)     Mask(P          R      mAP50  mAP50-95): 100%|██████████| 62/62 [00:28<00:00,  2.15it/s]\n"
          ]
        },
        {
          "output_type": "stream",
          "name": "stdout",
          "text": [
            "                   all       4286       6776      0.493       0.38      0.361        0.3      0.388      0.293      0.254      0.151\n",
            "\n",
            "      Epoch    GPU_mem   box_loss   seg_loss   cls_loss   dfl_loss  Instances       Size\n"
          ]
        },
        {
          "output_type": "stream",
          "name": "stderr",
          "text": [
            "     97/100      14.2G     0.6966      1.438     0.5001      1.005         16        640: 100%|██████████| 285/285 [01:21<00:00,  3.48it/s]\n",
            "                 Class     Images  Instances      Box(P          R      mAP50  mAP50-95)     Mask(P          R      mAP50  mAP50-95): 100%|██████████| 62/62 [00:29<00:00,  2.08it/s]\n"
          ]
        },
        {
          "output_type": "stream",
          "name": "stdout",
          "text": [
            "                   all       4286       6776      0.478       0.39       0.36        0.3      0.407      0.277      0.254      0.151\n",
            "\n",
            "      Epoch    GPU_mem   box_loss   seg_loss   cls_loss   dfl_loss  Instances       Size\n"
          ]
        },
        {
          "output_type": "stream",
          "name": "stderr",
          "text": [
            "     98/100      14.2G     0.6943      1.435     0.4973      1.001         13        640: 100%|██████████| 285/285 [01:21<00:00,  3.48it/s]\n",
            "                 Class     Images  Instances      Box(P          R      mAP50  mAP50-95)     Mask(P          R      mAP50  mAP50-95): 100%|██████████| 62/62 [00:29<00:00,  2.12it/s]\n"
          ]
        },
        {
          "output_type": "stream",
          "name": "stdout",
          "text": [
            "                   all       4286       6776      0.477      0.392       0.36      0.299      0.413      0.273      0.254      0.151\n",
            "\n",
            "      Epoch    GPU_mem   box_loss   seg_loss   cls_loss   dfl_loss  Instances       Size\n"
          ]
        },
        {
          "output_type": "stream",
          "name": "stderr",
          "text": [
            "     99/100      14.2G     0.6915      1.425     0.4939     0.9979         13        640: 100%|██████████| 285/285 [01:21<00:00,  3.50it/s]\n",
            "                 Class     Images  Instances      Box(P          R      mAP50  mAP50-95)     Mask(P          R      mAP50  mAP50-95): 100%|██████████| 62/62 [00:28<00:00,  2.16it/s]\n"
          ]
        },
        {
          "output_type": "stream",
          "name": "stdout",
          "text": [
            "                   all       4286       6776      0.487      0.384      0.359      0.298      0.416      0.272      0.254      0.151\n",
            "\n",
            "      Epoch    GPU_mem   box_loss   seg_loss   cls_loss   dfl_loss  Instances       Size\n"
          ]
        },
        {
          "output_type": "stream",
          "name": "stderr",
          "text": [
            "    100/100      14.2G     0.6917      1.426     0.4908      0.998         15        640: 100%|██████████| 285/285 [01:22<00:00,  3.47it/s]\n",
            "                 Class     Images  Instances      Box(P          R      mAP50  mAP50-95)     Mask(P          R      mAP50  mAP50-95): 100%|██████████| 62/62 [00:28<00:00,  2.16it/s]\n"
          ]
        },
        {
          "output_type": "stream",
          "name": "stdout",
          "text": [
            "                   all       4286       6776      0.487      0.384      0.359      0.298      0.417      0.272      0.253      0.151\n",
            "\n",
            "100 epochs completed in 3.174 hours.\n",
            "Optimizer stripped from runs/segment/train123/weights/last.pt, 20.5MB\n",
            "Optimizer stripped from runs/segment/train123/weights/best.pt, 20.5MB\n",
            "\n",
            "Validating runs/segment/train123/weights/best.pt...\n",
            "Ultralytics 8.3.105 🚀 Python-3.11.11 torch-2.6.0+cu124 CUDA:0 (NVIDIA A100-SXM4-40GB, 40507MiB)\n",
            "YOLO11s-seg summary (fused): 113 layers, 10,071,847 parameters, 0 gradients, 35.3 GFLOPs\n"
          ]
        },
        {
          "output_type": "stream",
          "name": "stderr",
          "text": [
            "\r                 Class     Images  Instances      Box(P          R      mAP50  mAP50-95)     Mask(P          R      mAP50  mAP50-95):   0%|          | 0/62 [00:00<?, ?it/s]"
          ]
        },
        {
          "output_type": "stream",
          "name": "stdout",
          "text": [
            "WARNING ⚠️ Limiting validation plots to first 50 items per image for speed...\n",
            "WARNING ⚠️ Limiting validation plots to first 50 items per image for speed...\n",
            "WARNING ⚠️ Limiting validation plots to first 50 items per image for speed...\n",
            "WARNING ⚠️ Limiting validation plots to first 50 items per image for speed...\n",
            "WARNING ⚠️ Limiting validation plots to first 50 items per image for speed...\n",
            "WARNING ⚠️ Limiting validation plots to first 50 items per image for speed...\n",
            "WARNING ⚠️ Limiting validation plots to first 50 items per image for speed...\n",
            "WARNING ⚠️ Limiting validation plots to first 50 items per image for speed...\n",
            "WARNING ⚠️ Limiting validation plots to first 50 items per image for speed...\n",
            "WARNING ⚠️ Limiting validation plots to first 50 items per image for speed...\n",
            "WARNING ⚠️ Limiting validation plots to first 50 items per image for speed...\n",
            "WARNING ⚠️ Limiting validation plots to first 50 items per image for speed...\n",
            "WARNING ⚠️ Limiting validation plots to first 50 items per image for speed...\n",
            "WARNING ⚠️ Limiting validation plots to first 50 items per image for speed...\n",
            "WARNING ⚠️ Limiting validation plots to first 50 items per image for speed...\n",
            "WARNING ⚠️ Limiting validation plots to first 50 items per image for speed...\n",
            "WARNING ⚠️ Limiting validation plots to first 50 items per image for speed...\n",
            "WARNING ⚠️ Limiting validation plots to first 50 items per image for speed...\n",
            "WARNING ⚠️ Limiting validation plots to first 50 items per image for speed...\n",
            "WARNING ⚠️ Limiting validation plots to first 50 items per image for speed...\n",
            "WARNING ⚠️ Limiting validation plots to first 50 items per image for speed...\n",
            "WARNING ⚠️ Limiting validation plots to first 50 items per image for speed...\n",
            "WARNING ⚠️ Limiting validation plots to first 50 items per image for speed...\n",
            "WARNING ⚠️ Limiting validation plots to first 50 items per image for speed...\n",
            "WARNING ⚠️ Limiting validation plots to first 50 items per image for speed...\n",
            "WARNING ⚠️ Limiting validation plots to first 50 items per image for speed...\n",
            "WARNING ⚠️ Limiting validation plots to first 50 items per image for speed...\n",
            "WARNING ⚠️ Limiting validation plots to first 50 items per image for speed...\n",
            "WARNING ⚠️ Limiting validation plots to first 50 items per image for speed...\n",
            "WARNING ⚠️ Limiting validation plots to first 50 items per image for speed...\n",
            "WARNING ⚠️ Limiting validation plots to first 50 items per image for speed...\n",
            "WARNING ⚠️ Limiting validation plots to first 50 items per image for speed...\n",
            "WARNING ⚠️ Limiting validation plots to first 50 items per image for speed...\n",
            "WARNING ⚠️ Limiting validation plots to first 50 items per image for speed...\n",
            "WARNING ⚠️ Limiting validation plots to first 50 items per image for speed...\n",
            "WARNING ⚠️ Limiting validation plots to first 50 items per image for speed...\n",
            "WARNING ⚠️ Limiting validation plots to first 50 items per image for speed...\n",
            "WARNING ⚠️ Limiting validation plots to first 50 items per image for speed...\n",
            "WARNING ⚠️ Limiting validation plots to first 50 items per image for speed...\n",
            "WARNING ⚠️ Limiting validation plots to first 50 items per image for speed...\n"
          ]
        },
        {
          "output_type": "stream",
          "name": "stderr",
          "text": [
            "\r                 Class     Images  Instances      Box(P          R      mAP50  mAP50-95)     Mask(P          R      mAP50  mAP50-95):   2%|▏         | 1/62 [00:00<00:38,  1.60it/s]"
          ]
        },
        {
          "output_type": "stream",
          "name": "stdout",
          "text": [
            "WARNING ⚠️ Limiting validation plots to first 50 items per image for speed...\n",
            "WARNING ⚠️ Limiting validation plots to first 50 items per image for speed...\n",
            "WARNING ⚠️ Limiting validation plots to first 50 items per image for speed...\n",
            "WARNING ⚠️ Limiting validation plots to first 50 items per image for speed...\n",
            "WARNING ⚠️ Limiting validation plots to first 50 items per image for speed...\n",
            "WARNING ⚠️ Limiting validation plots to first 50 items per image for speed...\n",
            "WARNING ⚠️ Limiting validation plots to first 50 items per image for speed...\n",
            "WARNING ⚠️ Limiting validation plots to first 50 items per image for speed...\n",
            "WARNING ⚠️ Limiting validation plots to first 50 items per image for speed...\n",
            "WARNING ⚠️ Limiting validation plots to first 50 items per image for speed...\n",
            "WARNING ⚠️ Limiting validation plots to first 50 items per image for speed...\n",
            "WARNING ⚠️ Limiting validation plots to first 50 items per image for speed...\n",
            "WARNING ⚠️ Limiting validation plots to first 50 items per image for speed...\n",
            "WARNING ⚠️ Limiting validation plots to first 50 items per image for speed...\n",
            "WARNING ⚠️ Limiting validation plots to first 50 items per image for speed...\n",
            "WARNING ⚠️ Limiting validation plots to first 50 items per image for speed...\n",
            "WARNING ⚠️ Limiting validation plots to first 50 items per image for speed...\n",
            "WARNING ⚠️ Limiting validation plots to first 50 items per image for speed...\n",
            "WARNING ⚠️ Limiting validation plots to first 50 items per image for speed...\n",
            "WARNING ⚠️ Limiting validation plots to first 50 items per image for speed...\n",
            "WARNING ⚠️ Limiting validation plots to first 50 items per image for speed...\n",
            "WARNING ⚠️ Limiting validation plots to first 50 items per image for speed...\n",
            "WARNING ⚠️ Limiting validation plots to first 50 items per image for speed...\n",
            "WARNING ⚠️ Limiting validation plots to first 50 items per image for speed...\n",
            "WARNING ⚠️ Limiting validation plots to first 50 items per image for speed...\n",
            "WARNING ⚠️ Limiting validation plots to first 50 items per image for speed...\n",
            "WARNING ⚠️ Limiting validation plots to first 50 items per image for speed...\n",
            "WARNING ⚠️ Limiting validation plots to first 50 items per image for speed...\n",
            "WARNING ⚠️ Limiting validation plots to first 50 items per image for speed...\n",
            "WARNING ⚠️ Limiting validation plots to first 50 items per image for speed...\n",
            "WARNING ⚠️ Limiting validation plots to first 50 items per image for speed...\n",
            "WARNING ⚠️ Limiting validation plots to first 50 items per image for speed...\n",
            "WARNING ⚠️ Limiting validation plots to first 50 items per image for speed...\n",
            "WARNING ⚠️ Limiting validation plots to first 50 items per image for speed...\n",
            "WARNING ⚠️ Limiting validation plots to first 50 items per image for speed...\n",
            "WARNING ⚠️ Limiting validation plots to first 50 items per image for speed...\n",
            "WARNING ⚠️ Limiting validation plots to first 50 items per image for speed...\n",
            "WARNING ⚠️ Limiting validation plots to first 50 items per image for speed...\n",
            "WARNING ⚠️ Limiting validation plots to first 50 items per image for speed...\n",
            "WARNING ⚠️ Limiting validation plots to first 50 items per image for speed...\n",
            "WARNING ⚠️ Limiting validation plots to first 50 items per image for speed...\n",
            "WARNING ⚠️ Limiting validation plots to first 50 items per image for speed...\n",
            "WARNING ⚠️ Limiting validation plots to first 50 items per image for speed...\n",
            "WARNING ⚠️ Limiting validation plots to first 50 items per image for speed...\n",
            "WARNING ⚠️ Limiting validation plots to first 50 items per image for speed...\n",
            "WARNING ⚠️ Limiting validation plots to first 50 items per image for speed...\n"
          ]
        },
        {
          "output_type": "stream",
          "name": "stderr",
          "text": [
            "\r                 Class     Images  Instances      Box(P          R      mAP50  mAP50-95)     Mask(P          R      mAP50  mAP50-95):   3%|▎         | 2/62 [00:01<00:52,  1.15it/s]"
          ]
        },
        {
          "output_type": "stream",
          "name": "stdout",
          "text": [
            "WARNING ⚠️ Limiting validation plots to first 50 items per image for speed...\n",
            "WARNING ⚠️ Limiting validation plots to first 50 items per image for speed...\n",
            "WARNING ⚠️ Limiting validation plots to first 50 items per image for speed...\n",
            "WARNING ⚠️ Limiting validation plots to first 50 items per image for speed...\n",
            "WARNING ⚠️ Limiting validation plots to first 50 items per image for speed...\n",
            "WARNING ⚠️ Limiting validation plots to first 50 items per image for speed...\n",
            "WARNING ⚠️ Limiting validation plots to first 50 items per image for speed...\n",
            "WARNING ⚠️ Limiting validation plots to first 50 items per image for speed...\n",
            "WARNING ⚠️ Limiting validation plots to first 50 items per image for speed...\n",
            "WARNING ⚠️ Limiting validation plots to first 50 items per image for speed...\n",
            "WARNING ⚠️ Limiting validation plots to first 50 items per image for speed...\n",
            "WARNING ⚠️ Limiting validation plots to first 50 items per image for speed...\n",
            "WARNING ⚠️ Limiting validation plots to first 50 items per image for speed...\n",
            "WARNING ⚠️ Limiting validation plots to first 50 items per image for speed...\n",
            "WARNING ⚠️ Limiting validation plots to first 50 items per image for speed...\n",
            "WARNING ⚠️ Limiting validation plots to first 50 items per image for speed...\n",
            "WARNING ⚠️ Limiting validation plots to first 50 items per image for speed...\n",
            "WARNING ⚠️ Limiting validation plots to first 50 items per image for speed...\n",
            "WARNING ⚠️ Limiting validation plots to first 50 items per image for speed...\n",
            "WARNING ⚠️ Limiting validation plots to first 50 items per image for speed...\n",
            "WARNING ⚠️ Limiting validation plots to first 50 items per image for speed...\n",
            "WARNING ⚠️ Limiting validation plots to first 50 items per image for speed...\n",
            "WARNING ⚠️ Limiting validation plots to first 50 items per image for speed...\n",
            "WARNING ⚠️ Limiting validation plots to first 50 items per image for speed...\n",
            "WARNING ⚠️ Limiting validation plots to first 50 items per image for speed...\n",
            "WARNING ⚠️ Limiting validation plots to first 50 items per image for speed...\n",
            "WARNING ⚠️ Limiting validation plots to first 50 items per image for speed...\n",
            "WARNING ⚠️ Limiting validation plots to first 50 items per image for speed...\n",
            "WARNING ⚠️ Limiting validation plots to first 50 items per image for speed...\n",
            "WARNING ⚠️ Limiting validation plots to first 50 items per image for speed...\n",
            "WARNING ⚠️ Limiting validation plots to first 50 items per image for speed...\n",
            "WARNING ⚠️ Limiting validation plots to first 50 items per image for speed...\n",
            "WARNING ⚠️ Limiting validation plots to first 50 items per image for speed...\n",
            "WARNING ⚠️ Limiting validation plots to first 50 items per image for speed...\n",
            "WARNING ⚠️ Limiting validation plots to first 50 items per image for speed...\n",
            "WARNING ⚠️ Limiting validation plots to first 50 items per image for speed...\n",
            "WARNING ⚠️ Limiting validation plots to first 50 items per image for speed...\n",
            "WARNING ⚠️ Limiting validation plots to first 50 items per image for speed...\n"
          ]
        },
        {
          "output_type": "stream",
          "name": "stderr",
          "text": [
            "                 Class     Images  Instances      Box(P          R      mAP50  mAP50-95)     Mask(P          R      mAP50  mAP50-95): 100%|██████████| 62/62 [00:29<00:00,  2.12it/s]\n"
          ]
        },
        {
          "output_type": "stream",
          "name": "stdout",
          "text": [
            "                   all       4286       6776      0.526      0.381       0.37      0.303      0.459       0.27      0.261      0.162\n",
            "   short_sleeved_shirt       1340       1405      0.321      0.754      0.647      0.581      0.317      0.742      0.636      0.356\n",
            "    long_sleeved_shirt        796        919      0.328      0.392      0.354      0.291      0.301      0.358      0.305     0.0904\n",
            " short_sleeved_outwear          6          8          1          0    0.00573     0.0038          1          0   0.000768    0.00028\n",
            "  long_sleeved_outwear        232        396      0.357      0.351      0.259      0.179      0.153      0.149     0.0726      0.016\n",
            "                  vest        258        310      0.467      0.439      0.426      0.365      0.468      0.439      0.422       0.29\n",
            "                 sling         63        114          1          0     0.0626     0.0433          1          0     0.0569     0.0374\n",
            "                shorts        290        300      0.323      0.643      0.433      0.338     0.0586      0.117       0.02     0.0033\n",
            "              trousers        719        795      0.346      0.712      0.593      0.448     0.0422     0.0868    0.00886    0.00186\n",
            "                 skirt        879        941      0.784      0.566      0.719      0.619      0.766      0.552      0.647      0.522\n",
            "   short_sleeved_dress        419        438      0.332      0.379      0.352      0.314      0.336      0.379      0.348      0.212\n",
            "    long_sleeved_dress        224        280      0.286      0.182       0.15      0.125      0.264      0.168      0.129     0.0535\n",
            "            vest_dress        536        582      0.759      0.406      0.584      0.481       0.75      0.399      0.543      0.392\n",
            "           sling_dress        204        288      0.538      0.128      0.227      0.157       0.51      0.122      0.204      0.131\n",
            "Speed: 0.1ms preprocess, 0.7ms inference, 0.0ms loss, 0.9ms postprocess per image\n",
            "Results saved to \u001b[1mruns/segment/train123\u001b[0m\n",
            "YOLOv11 segmentation model training completed.\n"
          ]
        }
      ],
      "source": [
        "# Train the Segmentation Model\n",
        "\n",
        "# Import necessary libraries\n",
        "import torch\n",
        "from ultralytics import YOLO\n",
        "\n",
        "# Check if GPU is available\n",
        "if torch.cuda.is_available():\n",
        "    device = torch.device('cuda')\n",
        "    print('GPU is available')\n",
        "else:\n",
        "    device = torch.device('cpu')\n",
        "    print('GPU is not available, using CPU')\n",
        "\n",
        "\n",
        "# Initialize the YOLOv8 model for segmentation\n",
        "model_segmentation = YOLO('yolo11s-seg.pt')  # Use a pre-trained YOLOv11 model for segmentation\n",
        "# model_segmentation.tune(data=\"yoloTune.yaml\", epochs=50, iterations=300, optimizer=\"AdamW\", imgsz=640 ,batch=0.7)\n",
        "\n",
        "# Configure the model for training\n",
        "model_segmentation.train(data='yoloSeg.yaml', epochs=100, imgsz=640,batch=0.7,optimizer=\"AdamW\")\n",
        "\n",
        "print('YOLOv11 segmentation model training completed.')"
      ]
    },
    {
      "cell_type": "code",
      "source": [
        "model_segmentation.tune(data=\"yoloTune.yaml\", epochs=50, iterations=300, optimizer=\"AdamW\", imgsz=640 ,batch=0.7,resume=True)"
      ],
      "metadata": {
        "id": "1i5B5lZvWeQU",
        "outputId": "ddc4c8df-c045-410f-eb6d-523ed6c4d3e2",
        "colab": {
          "base_uri": "https://localhost:8080/"
        }
      },
      "execution_count": null,
      "outputs": [
        {
          "output_type": "stream",
          "name": "stderr",
          "text": [
            "ERROR:root:Internal Python error in the inspect module.\n",
            "Below is the traceback from this internal error.\n",
            "\n",
            "ERROR:root:Internal Python error in the inspect module.\n",
            "Below is the traceback from this internal error.\n",
            "\n",
            "ERROR:root:Internal Python error in the inspect module.\n",
            "Below is the traceback from this internal error.\n",
            "\n"
          ]
        },
        {
          "output_type": "stream",
          "name": "stdout",
          "text": [
            "Traceback (most recent call last):\n",
            "  File \"/usr/local/lib/python3.11/dist-packages/IPython/core/interactiveshell.py\", line 3553, in run_code\n",
            "    exec(code_obj, self.user_global_ns, self.user_ns)\n",
            "  File \"<ipython-input-14-6d5bb5b4fd68>\", line 1, in <cell line: 0>\n",
            "    model_segmentation.tune(data=\"yoloTune.yaml\", epochs=50, iterations=300, optimizer=\"AdamW\", imgsz=640 ,batch=0.7)\n",
            "  File \"/usr/local/lib/python3.11/dist-packages/ultralytics/engine/model.py\", line 846, in tune\n",
            "    return Tuner(args=args, _callbacks=self.callbacks)(model=self, iterations=iterations)\n",
            "           ^^^^^^^^^^^^^^^^^^^^^^^^^^^^^^^^^^^^^^^^^^^\n",
            "  File \"/usr/local/lib/python3.11/dist-packages/ultralytics/engine/tuner.py\", line 97, in __init__\n",
            "    self.tune_dir = get_save_dir(self.args, name=self.args.name or \"tune\")\n",
            "                    ^^^^^^^^^^^^^^^^^^^^^^^^^^^^^^^^^^^^^^^^^^^^^^^^^^^^^^\n",
            "  File \"/usr/local/lib/python3.11/dist-packages/ultralytics/cfg/__init__.py\", line 416, in get_save_dir\n",
            "    save_dir = increment_path(Path(project) / name, exist_ok=args.exist_ok if RANK in {-1, 0} else True)\n",
            "               ^^^^^^^^^^^^^^^^^^^^^^^^^^^^^^^^^^^^^^^^^^^^^^^^^^^^^^^^^^^^^^^^^^^^^^^^^^^^^^^^^^^^^^^^^\n",
            "  File \"/usr/local/lib/python3.11/dist-packages/ultralytics/utils/files.py\", line 139, in increment_path\n",
            "    if path.exists() and not exist_ok:\n",
            "       ^^^^^^^^^^^^^\n",
            "  File \"/usr/lib/python3.11/pathlib.py\", line 1235, in exists\n",
            "    self.stat()\n",
            "  File \"/usr/lib/python3.11/pathlib.py\", line 1013, in stat\n",
            "    return os.stat(self, follow_symlinks=follow_symlinks)\n",
            "           ^^^^^^^^^^^^^^^^^^^^^^^^^^^^^^^^^^^^^^^^^^^^^^\n",
            "OSError: [Errno 107] Transport endpoint is not connected: 'runs/segment/train123'\n",
            "\n",
            "During handling of the above exception, another exception occurred:\n",
            "\n",
            "Traceback (most recent call last):\n",
            "  File \"/usr/local/lib/python3.11/dist-packages/IPython/core/interactiveshell.py\", line 2099, in showtraceback\n",
            "    stb = value._render_traceback_()\n",
            "          ^^^^^^^^^^^^^^^^^^^^^^^^\n",
            "AttributeError: 'OSError' object has no attribute '_render_traceback_'\n",
            "\n",
            "During handling of the above exception, another exception occurred:\n",
            "\n",
            "Traceback (most recent call last):\n",
            "  File \"/usr/local/lib/python3.11/dist-packages/IPython/core/ultratb.py\", line 1101, in get_records\n",
            "    return _fixed_getinnerframes(etb, number_of_lines_of_context, tb_offset)\n",
            "           ^^^^^^^^^^^^^^^^^^^^^^^^^^^^^^^^^^^^^^^^^^^^^^^^^^^^^^^^^^^^^^^^^\n",
            "  File \"/usr/local/lib/python3.11/dist-packages/IPython/core/ultratb.py\", line 248, in wrapped\n",
            "    return f(*args, **kwargs)\n",
            "           ^^^^^^^^^^^^^^^^^^\n",
            "  File \"/usr/local/lib/python3.11/dist-packages/IPython/core/ultratb.py\", line 281, in _fixed_getinnerframes\n",
            "    records = fix_frame_records_filenames(inspect.getinnerframes(etb, context))\n",
            "                                          ^^^^^^^^^^^^^^^^^^^^^^^^^^^^^^^^^^^^\n",
            "  File \"/usr/lib/python3.11/inspect.py\", line 1739, in getinnerframes\n",
            "    traceback_info = getframeinfo(tb, context)\n",
            "                     ^^^^^^^^^^^^^^^^^^^^^^^^^\n",
            "  File \"/usr/lib/python3.11/inspect.py\", line 1684, in getframeinfo\n",
            "    filename = getsourcefile(frame) or getfile(frame)\n",
            "               ^^^^^^^^^^^^^^^^^^^^\n",
            "  File \"/usr/lib/python3.11/inspect.py\", line 948, in getsourcefile\n",
            "    module = getmodule(object, filename)\n",
            "             ^^^^^^^^^^^^^^^^^^^^^^^^^^^\n",
            "  File \"/usr/lib/python3.11/inspect.py\", line 980, in getmodule\n",
            "    file = getabsfile(object, _filename)\n",
            "           ^^^^^^^^^^^^^^^^^^^^^^^^^^^^^\n",
            "  File \"/usr/lib/python3.11/inspect.py\", line 964, in getabsfile\n",
            "    return os.path.normcase(os.path.abspath(_filename))\n",
            "                            ^^^^^^^^^^^^^^^^^^^^^^^^^^\n",
            "  File \"<frozen posixpath>\", line 404, in abspath\n",
            "OSError: [Errno 107] Transport endpoint is not connected\n",
            "Traceback (most recent call last):\n",
            "  File \"/usr/local/lib/python3.11/dist-packages/IPython/core/interactiveshell.py\", line 3553, in run_code\n",
            "    exec(code_obj, self.user_global_ns, self.user_ns)\n",
            "  File \"<ipython-input-14-6d5bb5b4fd68>\", line 1, in <cell line: 0>\n",
            "    model_segmentation.tune(data=\"yoloTune.yaml\", epochs=50, iterations=300, optimizer=\"AdamW\", imgsz=640 ,batch=0.7)\n",
            "  File \"/usr/local/lib/python3.11/dist-packages/ultralytics/engine/model.py\", line 846, in tune\n",
            "    return Tuner(args=args, _callbacks=self.callbacks)(model=self, iterations=iterations)\n",
            "           ^^^^^^^^^^^^^^^^^^^^^^^^^^^^^^^^^^^^^^^^^^^\n",
            "  File \"/usr/local/lib/python3.11/dist-packages/ultralytics/engine/tuner.py\", line 97, in __init__\n",
            "    self.tune_dir = get_save_dir(self.args, name=self.args.name or \"tune\")\n",
            "                    ^^^^^^^^^^^^^^^^^^^^^^^^^^^^^^^^^^^^^^^^^^^^^^^^^^^^^^\n",
            "  File \"/usr/local/lib/python3.11/dist-packages/ultralytics/cfg/__init__.py\", line 416, in get_save_dir\n",
            "    save_dir = increment_path(Path(project) / name, exist_ok=args.exist_ok if RANK in {-1, 0} else True)\n",
            "               ^^^^^^^^^^^^^^^^^^^^^^^^^^^^^^^^^^^^^^^^^^^^^^^^^^^^^^^^^^^^^^^^^^^^^^^^^^^^^^^^^^^^^^^^^\n",
            "  File \"/usr/local/lib/python3.11/dist-packages/ultralytics/utils/files.py\", line 139, in increment_path\n",
            "    if path.exists() and not exist_ok:\n",
            "       ^^^^^^^^^^^^^\n",
            "  File \"/usr/lib/python3.11/pathlib.py\", line 1235, in exists\n",
            "    self.stat()\n",
            "  File \"/usr/lib/python3.11/pathlib.py\", line 1013, in stat\n",
            "    return os.stat(self, follow_symlinks=follow_symlinks)\n",
            "           ^^^^^^^^^^^^^^^^^^^^^^^^^^^^^^^^^^^^^^^^^^^^^^\n",
            "OSError: [Errno 107] Transport endpoint is not connected: 'runs/segment/train123'\n",
            "\n",
            "During handling of the above exception, another exception occurred:\n",
            "\n",
            "Traceback (most recent call last):\n",
            "  File \"/usr/local/lib/python3.11/dist-packages/IPython/core/interactiveshell.py\", line 2099, in showtraceback\n",
            "    stb = value._render_traceback_()\n",
            "          ^^^^^^^^^^^^^^^^^^^^^^^^\n",
            "AttributeError: 'OSError' object has no attribute '_render_traceback_'\n",
            "\n",
            "During handling of the above exception, another exception occurred:\n",
            "\n",
            "Traceback (most recent call last):\n",
            "  File \"/usr/local/lib/python3.11/dist-packages/IPython/core/interactiveshell.py\", line 3473, in run_ast_nodes\n",
            "    if (await self.run_code(code, result,  async_=asy)):\n",
            "        ^^^^^^^^^^^^^^^^^^^^^^^^^^^^^^^^^^^^^^^^^^^^^^\n",
            "  File \"/usr/local/lib/python3.11/dist-packages/IPython/core/interactiveshell.py\", line 3575, in run_code\n",
            "    self.showtraceback(running_compiled_code=True)\n",
            "  File \"/usr/local/lib/python3.11/dist-packages/IPython/core/interactiveshell.py\", line 2101, in showtraceback\n",
            "    stb = self.InteractiveTB.structured_traceback(etype,\n",
            "          ^^^^^^^^^^^^^^^^^^^^^^^^^^^^^^^^^^^^^^^^^^^^^^\n",
            "  File \"/usr/local/lib/python3.11/dist-packages/IPython/core/ultratb.py\", line 1367, in structured_traceback\n",
            "    return FormattedTB.structured_traceback(\n",
            "           ^^^^^^^^^^^^^^^^^^^^^^^^^^^^^^^^^\n",
            "  File \"/usr/local/lib/python3.11/dist-packages/IPython/core/ultratb.py\", line 1267, in structured_traceback\n",
            "    return VerboseTB.structured_traceback(\n",
            "           ^^^^^^^^^^^^^^^^^^^^^^^^^^^^^^^\n",
            "  File \"/usr/local/lib/python3.11/dist-packages/IPython/core/ultratb.py\", line 1124, in structured_traceback\n",
            "    formatted_exception = self.format_exception_as_a_whole(etype, evalue, etb, number_of_lines_of_context,\n",
            "                          ^^^^^^^^^^^^^^^^^^^^^^^^^^^^^^^^^^^^^^^^^^^^^^^^^^^^^^^^^^^^^^^^^^^^^^^^^^^^^^^^\n",
            "  File \"/usr/local/lib/python3.11/dist-packages/IPython/core/ultratb.py\", line 1082, in format_exception_as_a_whole\n",
            "    last_unique, recursion_repeat = find_recursion(orig_etype, evalue, records)\n",
            "                                    ^^^^^^^^^^^^^^^^^^^^^^^^^^^^^^^^^^^^^^^^^^^\n",
            "  File \"/usr/local/lib/python3.11/dist-packages/IPython/core/ultratb.py\", line 382, in find_recursion\n",
            "    return len(records), 0\n",
            "           ^^^^^^^^^^^^\n",
            "TypeError: object of type 'NoneType' has no len()\n",
            "\n",
            "During handling of the above exception, another exception occurred:\n",
            "\n",
            "Traceback (most recent call last):\n",
            "  File \"/usr/local/lib/python3.11/dist-packages/IPython/core/interactiveshell.py\", line 2099, in showtraceback\n",
            "    stb = value._render_traceback_()\n",
            "          ^^^^^^^^^^^^^^^^^^^^^^^^\n",
            "AttributeError: 'TypeError' object has no attribute '_render_traceback_'\n",
            "\n",
            "During handling of the above exception, another exception occurred:\n",
            "\n",
            "Traceback (most recent call last):\n",
            "  File \"/usr/local/lib/python3.11/dist-packages/IPython/core/ultratb.py\", line 1101, in get_records\n",
            "    return _fixed_getinnerframes(etb, number_of_lines_of_context, tb_offset)\n",
            "           ^^^^^^^^^^^^^^^^^^^^^^^^^^^^^^^^^^^^^^^^^^^^^^^^^^^^^^^^^^^^^^^^^\n",
            "  File \"/usr/local/lib/python3.11/dist-packages/IPython/core/ultratb.py\", line 248, in wrapped\n",
            "    return f(*args, **kwargs)\n",
            "           ^^^^^^^^^^^^^^^^^^\n",
            "  File \"/usr/local/lib/python3.11/dist-packages/IPython/core/ultratb.py\", line 281, in _fixed_getinnerframes\n",
            "    records = fix_frame_records_filenames(inspect.getinnerframes(etb, context))\n",
            "                                          ^^^^^^^^^^^^^^^^^^^^^^^^^^^^^^^^^^^^\n",
            "  File \"/usr/lib/python3.11/inspect.py\", line 1739, in getinnerframes\n",
            "    traceback_info = getframeinfo(tb, context)\n",
            "                     ^^^^^^^^^^^^^^^^^^^^^^^^^\n",
            "  File \"/usr/lib/python3.11/inspect.py\", line 1684, in getframeinfo\n",
            "    filename = getsourcefile(frame) or getfile(frame)\n",
            "               ^^^^^^^^^^^^^^^^^^^^\n",
            "  File \"/usr/lib/python3.11/inspect.py\", line 948, in getsourcefile\n",
            "    module = getmodule(object, filename)\n",
            "             ^^^^^^^^^^^^^^^^^^^^^^^^^^^\n",
            "  File \"/usr/lib/python3.11/inspect.py\", line 980, in getmodule\n",
            "    file = getabsfile(object, _filename)\n",
            "           ^^^^^^^^^^^^^^^^^^^^^^^^^^^^^\n",
            "  File \"/usr/lib/python3.11/inspect.py\", line 964, in getabsfile\n",
            "    return os.path.normcase(os.path.abspath(_filename))\n",
            "                            ^^^^^^^^^^^^^^^^^^^^^^^^^^\n",
            "  File \"<frozen posixpath>\", line 404, in abspath\n",
            "OSError: [Errno 107] Transport endpoint is not connected\n",
            "Traceback (most recent call last):\n",
            "  File \"/usr/local/lib/python3.11/dist-packages/IPython/core/interactiveshell.py\", line 3553, in run_code\n",
            "    exec(code_obj, self.user_global_ns, self.user_ns)\n",
            "  File \"<ipython-input-14-6d5bb5b4fd68>\", line 1, in <cell line: 0>\n",
            "    model_segmentation.tune(data=\"yoloTune.yaml\", epochs=50, iterations=300, optimizer=\"AdamW\", imgsz=640 ,batch=0.7)\n",
            "  File \"/usr/local/lib/python3.11/dist-packages/ultralytics/engine/model.py\", line 846, in tune\n",
            "    return Tuner(args=args, _callbacks=self.callbacks)(model=self, iterations=iterations)\n",
            "           ^^^^^^^^^^^^^^^^^^^^^^^^^^^^^^^^^^^^^^^^^^^\n",
            "  File \"/usr/local/lib/python3.11/dist-packages/ultralytics/engine/tuner.py\", line 97, in __init__\n",
            "    self.tune_dir = get_save_dir(self.args, name=self.args.name or \"tune\")\n",
            "                    ^^^^^^^^^^^^^^^^^^^^^^^^^^^^^^^^^^^^^^^^^^^^^^^^^^^^^^\n",
            "  File \"/usr/local/lib/python3.11/dist-packages/ultralytics/cfg/__init__.py\", line 416, in get_save_dir\n",
            "    save_dir = increment_path(Path(project) / name, exist_ok=args.exist_ok if RANK in {-1, 0} else True)\n",
            "               ^^^^^^^^^^^^^^^^^^^^^^^^^^^^^^^^^^^^^^^^^^^^^^^^^^^^^^^^^^^^^^^^^^^^^^^^^^^^^^^^^^^^^^^^^\n",
            "  File \"/usr/local/lib/python3.11/dist-packages/ultralytics/utils/files.py\", line 139, in increment_path\n",
            "    if path.exists() and not exist_ok:\n",
            "       ^^^^^^^^^^^^^\n",
            "  File \"/usr/lib/python3.11/pathlib.py\", line 1235, in exists\n",
            "    self.stat()\n",
            "  File \"/usr/lib/python3.11/pathlib.py\", line 1013, in stat\n",
            "    return os.stat(self, follow_symlinks=follow_symlinks)\n",
            "           ^^^^^^^^^^^^^^^^^^^^^^^^^^^^^^^^^^^^^^^^^^^^^^\n",
            "OSError: [Errno 107] Transport endpoint is not connected: 'runs/segment/train123'\n",
            "\n",
            "During handling of the above exception, another exception occurred:\n",
            "\n",
            "Traceback (most recent call last):\n",
            "  File \"/usr/local/lib/python3.11/dist-packages/IPython/core/interactiveshell.py\", line 2099, in showtraceback\n",
            "    stb = value._render_traceback_()\n",
            "          ^^^^^^^^^^^^^^^^^^^^^^^^\n",
            "AttributeError: 'OSError' object has no attribute '_render_traceback_'\n",
            "\n",
            "During handling of the above exception, another exception occurred:\n",
            "\n",
            "Traceback (most recent call last):\n",
            "  File \"/usr/local/lib/python3.11/dist-packages/IPython/core/interactiveshell.py\", line 3473, in run_ast_nodes\n",
            "    if (await self.run_code(code, result,  async_=asy)):\n",
            "        ^^^^^^^^^^^^^^^^^^^^^^^^^^^^^^^^^^^^^^^^^^^^^^\n",
            "  File \"/usr/local/lib/python3.11/dist-packages/IPython/core/interactiveshell.py\", line 3575, in run_code\n",
            "    self.showtraceback(running_compiled_code=True)\n",
            "  File \"/usr/local/lib/python3.11/dist-packages/IPython/core/interactiveshell.py\", line 2101, in showtraceback\n",
            "    stb = self.InteractiveTB.structured_traceback(etype,\n",
            "          ^^^^^^^^^^^^^^^^^^^^^^^^^^^^^^^^^^^^^^^^^^^^^^\n",
            "  File \"/usr/local/lib/python3.11/dist-packages/IPython/core/ultratb.py\", line 1367, in structured_traceback\n",
            "    return FormattedTB.structured_traceback(\n",
            "           ^^^^^^^^^^^^^^^^^^^^^^^^^^^^^^^^^\n",
            "  File \"/usr/local/lib/python3.11/dist-packages/IPython/core/ultratb.py\", line 1267, in structured_traceback\n",
            "    return VerboseTB.structured_traceback(\n",
            "           ^^^^^^^^^^^^^^^^^^^^^^^^^^^^^^^\n",
            "  File \"/usr/local/lib/python3.11/dist-packages/IPython/core/ultratb.py\", line 1124, in structured_traceback\n",
            "    formatted_exception = self.format_exception_as_a_whole(etype, evalue, etb, number_of_lines_of_context,\n",
            "                          ^^^^^^^^^^^^^^^^^^^^^^^^^^^^^^^^^^^^^^^^^^^^^^^^^^^^^^^^^^^^^^^^^^^^^^^^^^^^^^^^\n",
            "  File \"/usr/local/lib/python3.11/dist-packages/IPython/core/ultratb.py\", line 1082, in format_exception_as_a_whole\n",
            "    last_unique, recursion_repeat = find_recursion(orig_etype, evalue, records)\n",
            "                                    ^^^^^^^^^^^^^^^^^^^^^^^^^^^^^^^^^^^^^^^^^^^\n",
            "  File \"/usr/local/lib/python3.11/dist-packages/IPython/core/ultratb.py\", line 382, in find_recursion\n",
            "    return len(records), 0\n",
            "           ^^^^^^^^^^^^\n",
            "TypeError: object of type 'NoneType' has no len()\n",
            "\n",
            "During handling of the above exception, another exception occurred:\n",
            "\n",
            "Traceback (most recent call last):\n",
            "  File \"/usr/local/lib/python3.11/dist-packages/IPython/core/interactiveshell.py\", line 2099, in showtraceback\n",
            "    stb = value._render_traceback_()\n",
            "          ^^^^^^^^^^^^^^^^^^^^^^^^\n",
            "AttributeError: 'TypeError' object has no attribute '_render_traceback_'\n",
            "\n",
            "During handling of the above exception, another exception occurred:\n",
            "\n",
            "Traceback (most recent call last):\n",
            "  File \"/usr/local/lib/python3.11/dist-packages/IPython/core/interactiveshell.py\", line 3030, in _run_cell\n",
            "    return runner(coro)\n",
            "           ^^^^^^^^^^^^\n",
            "  File \"/usr/local/lib/python3.11/dist-packages/IPython/core/async_helpers.py\", line 78, in _pseudo_sync_runner\n",
            "    coro.send(None)\n",
            "  File \"/usr/local/lib/python3.11/dist-packages/IPython/core/interactiveshell.py\", line 3257, in run_cell_async\n",
            "    has_raised = await self.run_ast_nodes(code_ast.body, cell_name,\n",
            "                 ^^^^^^^^^^^^^^^^^^^^^^^^^^^^^^^^^^^^^^^^^^^^^^^^^^\n",
            "  File \"/usr/local/lib/python3.11/dist-packages/IPython/core/interactiveshell.py\", line 3492, in run_ast_nodes\n",
            "    self.showtraceback()\n",
            "  File \"/usr/local/lib/python3.11/dist-packages/IPython/core/interactiveshell.py\", line 2101, in showtraceback\n",
            "    stb = self.InteractiveTB.structured_traceback(etype,\n",
            "          ^^^^^^^^^^^^^^^^^^^^^^^^^^^^^^^^^^^^^^^^^^^^^^\n",
            "  File \"/usr/local/lib/python3.11/dist-packages/IPython/core/ultratb.py\", line 1367, in structured_traceback\n",
            "    return FormattedTB.structured_traceback(\n",
            "           ^^^^^^^^^^^^^^^^^^^^^^^^^^^^^^^^^\n",
            "  File \"/usr/local/lib/python3.11/dist-packages/IPython/core/ultratb.py\", line 1267, in structured_traceback\n",
            "    return VerboseTB.structured_traceback(\n",
            "           ^^^^^^^^^^^^^^^^^^^^^^^^^^^^^^^\n",
            "  File \"/usr/local/lib/python3.11/dist-packages/IPython/core/ultratb.py\", line 1142, in structured_traceback\n",
            "    formatted_exceptions += self.format_exception_as_a_whole(etype, evalue, etb, lines_of_context,\n",
            "                            ^^^^^^^^^^^^^^^^^^^^^^^^^^^^^^^^^^^^^^^^^^^^^^^^^^^^^^^^^^^^^^^^^^^^^^\n",
            "  File \"/usr/local/lib/python3.11/dist-packages/IPython/core/ultratb.py\", line 1082, in format_exception_as_a_whole\n",
            "    last_unique, recursion_repeat = find_recursion(orig_etype, evalue, records)\n",
            "                                    ^^^^^^^^^^^^^^^^^^^^^^^^^^^^^^^^^^^^^^^^^^^\n",
            "  File \"/usr/local/lib/python3.11/dist-packages/IPython/core/ultratb.py\", line 382, in find_recursion\n",
            "    return len(records), 0\n",
            "           ^^^^^^^^^^^^\n",
            "TypeError: object of type 'NoneType' has no len()\n",
            "\n",
            "During handling of the above exception, another exception occurred:\n",
            "\n",
            "Traceback (most recent call last):\n",
            "  File \"/usr/local/lib/python3.11/dist-packages/IPython/core/interactiveshell.py\", line 2099, in showtraceback\n",
            "    stb = value._render_traceback_()\n",
            "          ^^^^^^^^^^^^^^^^^^^^^^^^\n",
            "AttributeError: 'TypeError' object has no attribute '_render_traceback_'\n",
            "\n",
            "During handling of the above exception, another exception occurred:\n",
            "\n",
            "Traceback (most recent call last):\n",
            "  File \"/usr/local/lib/python3.11/dist-packages/IPython/core/ultratb.py\", line 1101, in get_records\n",
            "    return _fixed_getinnerframes(etb, number_of_lines_of_context, tb_offset)\n",
            "           ^^^^^^^^^^^^^^^^^^^^^^^^^^^^^^^^^^^^^^^^^^^^^^^^^^^^^^^^^^^^^^^^^\n",
            "  File \"/usr/local/lib/python3.11/dist-packages/IPython/core/ultratb.py\", line 248, in wrapped\n",
            "    return f(*args, **kwargs)\n",
            "           ^^^^^^^^^^^^^^^^^^\n",
            "  File \"/usr/local/lib/python3.11/dist-packages/IPython/core/ultratb.py\", line 281, in _fixed_getinnerframes\n",
            "    records = fix_frame_records_filenames(inspect.getinnerframes(etb, context))\n",
            "                                          ^^^^^^^^^^^^^^^^^^^^^^^^^^^^^^^^^^^^\n",
            "  File \"/usr/lib/python3.11/inspect.py\", line 1739, in getinnerframes\n",
            "    traceback_info = getframeinfo(tb, context)\n",
            "                     ^^^^^^^^^^^^^^^^^^^^^^^^^\n",
            "  File \"/usr/lib/python3.11/inspect.py\", line 1684, in getframeinfo\n",
            "    filename = getsourcefile(frame) or getfile(frame)\n",
            "               ^^^^^^^^^^^^^^^^^^^^\n",
            "  File \"/usr/lib/python3.11/inspect.py\", line 948, in getsourcefile\n",
            "    module = getmodule(object, filename)\n",
            "             ^^^^^^^^^^^^^^^^^^^^^^^^^^^\n",
            "  File \"/usr/lib/python3.11/inspect.py\", line 980, in getmodule\n",
            "    file = getabsfile(object, _filename)\n",
            "           ^^^^^^^^^^^^^^^^^^^^^^^^^^^^^\n",
            "  File \"/usr/lib/python3.11/inspect.py\", line 964, in getabsfile\n",
            "    return os.path.normcase(os.path.abspath(_filename))\n",
            "                            ^^^^^^^^^^^^^^^^^^^^^^^^^^\n",
            "  File \"<frozen posixpath>\", line 404, in abspath\n",
            "OSError: [Errno 107] Transport endpoint is not connected\n"
          ]
        }
      ]
    },
    {
      "cell_type": "code",
      "source": [
        "model_segmentation.train(data='yoloSeg.yaml', epochs=100, imgsz=640,batch=0.7,optimizer=\"AdamW\",\n",
        "    lr0=0.00726,\n",
        "    lrf=0.01186,\n",
        "    momentum=0.91123,\n",
        "    weight_decay=0.00034,\n",
        "    warmup_epochs=2.47414,\n",
        "    warmup_momentum=0.77204,\n",
        "    box=7.49251,\n",
        "    cls=0.52952,\n",
        "    dfl=1.40377,\n",
        "    hsv_h=0.01952,\n",
        "    hsv_s=0.62972,\n",
        "    hsv_v=0.32967,\n",
        "    degrees=0.0,\n",
        "    translate=0.0997,\n",
        "    scale=0.34433,\n",
        "    shear=0.0,\n",
        "    perspective=0.0,\n",
        "    flipud=0.0,\n",
        "    fliplr=0.32907,\n",
        "    bgr=0.0,\n",
        "    mosaic=0.94664,\n",
        "    mixup=0.0,\n",
        "    copy_paste=0.0)"
      ],
      "metadata": {
        "id": "N3OIOewG66Ru",
        "outputId": "c87105d5-65cc-4216-9071-fe97ab27b5c8",
        "colab": {
          "base_uri": "https://localhost:8080/"
        }
      },
      "execution_count": null,
      "outputs": [
        {
          "output_type": "stream",
          "name": "stdout",
          "text": [
            "Ultralytics 8.3.105 🚀 Python-3.11.11 torch-2.6.0+cu124 CUDA:0 (NVIDIA A100-SXM4-40GB, 40507MiB)\n",
            "\u001b[34m\u001b[1mengine/trainer: \u001b[0mtask=segment, mode=train, model=yolo11s-seg.pt, data=yoloSeg.yaml, epochs=100, time=None, patience=100, batch=0.7, imgsz=640, save=True, save_period=-1, cache=False, device=None, workers=8, project=None, name=train1232, exist_ok=False, pretrained=True, optimizer=AdamW, verbose=True, seed=0, deterministic=True, single_cls=False, rect=False, cos_lr=False, close_mosaic=10, resume=False, amp=True, fraction=1.0, profile=False, freeze=None, multi_scale=False, overlap_mask=True, mask_ratio=4, dropout=0.0, val=True, split=val, save_json=False, conf=None, iou=0.7, max_det=300, half=False, dnn=False, plots=True, source=None, vid_stride=1, stream_buffer=False, visualize=False, augment=False, agnostic_nms=False, classes=None, retina_masks=False, embed=None, show=False, save_frames=False, save_txt=False, save_conf=False, save_crop=False, show_labels=True, show_conf=True, show_boxes=True, line_width=None, format=torchscript, keras=False, optimize=False, int8=False, dynamic=False, simplify=True, opset=None, workspace=None, nms=False, lr0=0.00726, lrf=0.01186, momentum=0.91123, weight_decay=0.00034, warmup_epochs=2.47414, warmup_momentum=0.77204, warmup_bias_lr=0.1, box=7.49251, cls=0.52952, dfl=1.40377, pose=12.0, kobj=1.0, nbs=64, hsv_h=0.01952, hsv_s=0.62972, hsv_v=0.32967, degrees=0.0, translate=0.0997, scale=0.34433, shear=0.0, perspective=0.0, flipud=0.0, fliplr=0.32907, bgr=0.0, mosaic=0.94664, mixup=0.0, copy_paste=0.0, copy_paste_mode=flip, auto_augment=randaugment, erasing=0.4, crop_fraction=1.0, cfg=None, tracker=botsort.yaml, save_dir=runs/segment/train1232\n",
            "\n",
            "                   from  n    params  module                                       arguments                     \n",
            "  0                  -1  1       928  ultralytics.nn.modules.conv.Conv             [3, 32, 3, 2]                 \n",
            "  1                  -1  1     18560  ultralytics.nn.modules.conv.Conv             [32, 64, 3, 2]                \n",
            "  2                  -1  1     26080  ultralytics.nn.modules.block.C3k2            [64, 128, 1, False, 0.25]     \n",
            "  3                  -1  1    147712  ultralytics.nn.modules.conv.Conv             [128, 128, 3, 2]              \n",
            "  4                  -1  1    103360  ultralytics.nn.modules.block.C3k2            [128, 256, 1, False, 0.25]    \n",
            "  5                  -1  1    590336  ultralytics.nn.modules.conv.Conv             [256, 256, 3, 2]              \n",
            "  6                  -1  1    346112  ultralytics.nn.modules.block.C3k2            [256, 256, 1, True]           \n",
            "  7                  -1  1   1180672  ultralytics.nn.modules.conv.Conv             [256, 512, 3, 2]              \n",
            "  8                  -1  1   1380352  ultralytics.nn.modules.block.C3k2            [512, 512, 1, True]           \n",
            "  9                  -1  1    656896  ultralytics.nn.modules.block.SPPF            [512, 512, 5]                 \n",
            " 10                  -1  1    990976  ultralytics.nn.modules.block.C2PSA           [512, 512, 1]                 \n",
            " 11                  -1  1         0  torch.nn.modules.upsampling.Upsample         [None, 2, 'nearest']          \n",
            " 12             [-1, 6]  1         0  ultralytics.nn.modules.conv.Concat           [1]                           \n",
            " 13                  -1  1    443776  ultralytics.nn.modules.block.C3k2            [768, 256, 1, False]          \n",
            " 14                  -1  1         0  torch.nn.modules.upsampling.Upsample         [None, 2, 'nearest']          \n",
            " 15             [-1, 4]  1         0  ultralytics.nn.modules.conv.Concat           [1]                           \n",
            " 16                  -1  1    127680  ultralytics.nn.modules.block.C3k2            [512, 128, 1, False]          \n",
            " 17                  -1  1    147712  ultralytics.nn.modules.conv.Conv             [128, 128, 3, 2]              \n",
            " 18            [-1, 13]  1         0  ultralytics.nn.modules.conv.Concat           [1]                           \n",
            " 19                  -1  1    345472  ultralytics.nn.modules.block.C3k2            [384, 256, 1, False]          \n",
            " 20                  -1  1    590336  ultralytics.nn.modules.conv.Conv             [256, 256, 3, 2]              \n",
            " 21            [-1, 10]  1         0  ultralytics.nn.modules.conv.Concat           [1]                           \n",
            " 22                  -1  1   1511424  ultralytics.nn.modules.block.C3k2            [768, 512, 1, True]           \n",
            " 23        [16, 19, 22]  1   1478935  ultralytics.nn.modules.head.Segment          [13, 32, 128, [128, 256, 512]]\n",
            "YOLO11s-seg summary: 203 layers, 10,087,319 parameters, 10,087,303 gradients, 35.6 GFLOPs\n",
            "\n",
            "Transferred 561/561 items from pretrained weights\n",
            "\u001b[34m\u001b[1mTensorBoard: \u001b[0mStart with 'tensorboard --logdir runs/segment/train1232', view at http://localhost:6006/\n",
            "Freezing layer 'model.23.dfl.conv.weight'\n",
            "\u001b[34m\u001b[1mAMP: \u001b[0mrunning Automatic Mixed Precision (AMP) checks...\n",
            "\u001b[34m\u001b[1mAMP: \u001b[0mchecks passed ✅\n"
          ]
        },
        {
          "output_type": "stream",
          "name": "stderr",
          "text": [
            "\u001b[34m\u001b[1mtrain: \u001b[0mScanning /content/drive/MyDrive/3R1CSegmentation/datasets/train_subset/labels.cache... 10000 images, 0 backgrounds, 56 corrupt: 100%|██████████| 10000/10000 [00:00<?, ?it/s]"
          ]
        },
        {
          "output_type": "stream",
          "name": "stdout",
          "text": [
            "\u001b[34m\u001b[1mtrain: \u001b[0mWARNING ⚠️ /content/drive/MyDrive/3R1CSegmentation/datasets/train_subset/images/000013.jpg: 1 duplicate labels removed\n",
            "\u001b[34m\u001b[1mtrain: \u001b[0mWARNING ⚠️ /content/drive/MyDrive/3R1CSegmentation/datasets/train_subset/images/000014.jpg: 1 duplicate labels removed\n",
            "\u001b[34m\u001b[1mtrain: \u001b[0mWARNING ⚠️ /content/drive/MyDrive/3R1CSegmentation/datasets/train_subset/images/000114.jpg: 1 duplicate labels removed\n",
            "\u001b[34m\u001b[1mtrain: \u001b[0mWARNING ⚠️ /content/drive/MyDrive/3R1CSegmentation/datasets/train_subset/images/000115.jpg: 2 duplicate labels removed\n",
            "\u001b[34m\u001b[1mtrain: \u001b[0mWARNING ⚠️ /content/drive/MyDrive/3R1CSegmentation/datasets/train_subset/images/000117.jpg: 1 duplicate labels removed\n",
            "\u001b[34m\u001b[1mtrain: \u001b[0mWARNING ⚠️ /content/drive/MyDrive/3R1CSegmentation/datasets/train_subset/images/000122.jpg: 1 duplicate labels removed\n",
            "\u001b[34m\u001b[1mtrain: \u001b[0mWARNING ⚠️ /content/drive/MyDrive/3R1CSegmentation/datasets/train_subset/images/000129.jpg: ignoring corrupt image/label: non-normalized or out of bounds coordinates [     1.0011]\n",
            "\u001b[34m\u001b[1mtrain: \u001b[0mWARNING ⚠️ /content/drive/MyDrive/3R1CSegmentation/datasets/train_subset/images/000225.jpg: ignoring corrupt image/label: non-normalized or out of bounds coordinates [     1.0004]\n",
            "\u001b[34m\u001b[1mtrain: \u001b[0mWARNING ⚠️ /content/drive/MyDrive/3R1CSegmentation/datasets/train_subset/images/000237.jpg: ignoring corrupt image/label: non-normalized or out of bounds coordinates [     1.0021]\n",
            "\u001b[34m\u001b[1mtrain: \u001b[0mWARNING ⚠️ /content/drive/MyDrive/3R1CSegmentation/datasets/train_subset/images/000238.jpg: ignoring corrupt image/label: non-normalized or out of bounds coordinates [     1.0011]\n",
            "\u001b[34m\u001b[1mtrain: \u001b[0mWARNING ⚠️ /content/drive/MyDrive/3R1CSegmentation/datasets/train_subset/images/000250.jpg: ignoring corrupt image/label: non-normalized or out of bounds coordinates [     1.0007]\n",
            "\u001b[34m\u001b[1mtrain: \u001b[0mWARNING ⚠️ /content/drive/MyDrive/3R1CSegmentation/datasets/train_subset/images/000253.jpg: 1 duplicate labels removed\n",
            "\u001b[34m\u001b[1mtrain: \u001b[0mWARNING ⚠️ /content/drive/MyDrive/3R1CSegmentation/datasets/train_subset/images/000305.jpg: ignoring corrupt image/label: non-normalized or out of bounds coordinates [     1.0005]\n",
            "\u001b[34m\u001b[1mtrain: \u001b[0mWARNING ⚠️ /content/drive/MyDrive/3R1CSegmentation/datasets/train_subset/images/000474.jpg: 1 duplicate labels removed\n",
            "\u001b[34m\u001b[1mtrain: \u001b[0mWARNING ⚠️ /content/drive/MyDrive/3R1CSegmentation/datasets/train_subset/images/000611.jpg: 1 duplicate labels removed\n",
            "\u001b[34m\u001b[1mtrain: \u001b[0mWARNING ⚠️ /content/drive/MyDrive/3R1CSegmentation/datasets/train_subset/images/000687.jpg: 1 duplicate labels removed\n",
            "\u001b[34m\u001b[1mtrain: \u001b[0mWARNING ⚠️ /content/drive/MyDrive/3R1CSegmentation/datasets/train_subset/images/000689.jpg: 1 duplicate labels removed\n",
            "\u001b[34m\u001b[1mtrain: \u001b[0mWARNING ⚠️ /content/drive/MyDrive/3R1CSegmentation/datasets/train_subset/images/000694.jpg: 1 duplicate labels removed\n",
            "\u001b[34m\u001b[1mtrain: \u001b[0mWARNING ⚠️ /content/drive/MyDrive/3R1CSegmentation/datasets/train_subset/images/000699.jpg: 1 duplicate labels removed\n",
            "\u001b[34m\u001b[1mtrain: \u001b[0mWARNING ⚠️ /content/drive/MyDrive/3R1CSegmentation/datasets/train_subset/images/000727.jpg: ignoring corrupt image/label: non-normalized or out of bounds coordinates [     1.0001]\n",
            "\u001b[34m\u001b[1mtrain: \u001b[0mWARNING ⚠️ /content/drive/MyDrive/3R1CSegmentation/datasets/train_subset/images/000728.jpg: ignoring corrupt image/label: non-normalized or out of bounds coordinates [     1.0003]\n",
            "\u001b[34m\u001b[1mtrain: \u001b[0mWARNING ⚠️ /content/drive/MyDrive/3R1CSegmentation/datasets/train_subset/images/000744.jpg: 1 duplicate labels removed\n",
            "\u001b[34m\u001b[1mtrain: \u001b[0mWARNING ⚠️ /content/drive/MyDrive/3R1CSegmentation/datasets/train_subset/images/000939.jpg: 1 duplicate labels removed\n",
            "\u001b[34m\u001b[1mtrain: \u001b[0mWARNING ⚠️ /content/drive/MyDrive/3R1CSegmentation/datasets/train_subset/images/000941.jpg: 1 duplicate labels removed\n",
            "\u001b[34m\u001b[1mtrain: \u001b[0mWARNING ⚠️ /content/drive/MyDrive/3R1CSegmentation/datasets/train_subset/images/000973.jpg: ignoring corrupt image/label: non-normalized or out of bounds coordinates [     1.0009]\n",
            "\u001b[34m\u001b[1mtrain: \u001b[0mWARNING ⚠️ /content/drive/MyDrive/3R1CSegmentation/datasets/train_subset/images/001142.jpg: 1 duplicate labels removed\n",
            "\u001b[34m\u001b[1mtrain: \u001b[0mWARNING ⚠️ /content/drive/MyDrive/3R1CSegmentation/datasets/train_subset/images/001149.jpg: 2 duplicate labels removed\n",
            "\u001b[34m\u001b[1mtrain: \u001b[0mWARNING ⚠️ /content/drive/MyDrive/3R1CSegmentation/datasets/train_subset/images/001151.jpg: 2 duplicate labels removed\n",
            "\u001b[34m\u001b[1mtrain: \u001b[0mWARNING ⚠️ /content/drive/MyDrive/3R1CSegmentation/datasets/train_subset/images/001152.jpg: 2 duplicate labels removed\n",
            "\u001b[34m\u001b[1mtrain: \u001b[0mWARNING ⚠️ /content/drive/MyDrive/3R1CSegmentation/datasets/train_subset/images/001153.jpg: 2 duplicate labels removed\n",
            "\u001b[34m\u001b[1mtrain: \u001b[0mWARNING ⚠️ /content/drive/MyDrive/3R1CSegmentation/datasets/train_subset/images/001155.jpg: 2 duplicate labels removed\n",
            "\u001b[34m\u001b[1mtrain: \u001b[0mWARNING ⚠️ /content/drive/MyDrive/3R1CSegmentation/datasets/train_subset/images/001272.jpg: 1 duplicate labels removed\n",
            "\u001b[34m\u001b[1mtrain: \u001b[0mWARNING ⚠️ /content/drive/MyDrive/3R1CSegmentation/datasets/train_subset/images/001350.jpg: ignoring corrupt image/label: non-normalized or out of bounds coordinates [     1.0021]\n",
            "\u001b[34m\u001b[1mtrain: \u001b[0mWARNING ⚠️ /content/drive/MyDrive/3R1CSegmentation/datasets/train_subset/images/001391.jpg: 1 duplicate labels removed\n",
            "\u001b[34m\u001b[1mtrain: \u001b[0mWARNING ⚠️ /content/drive/MyDrive/3R1CSegmentation/datasets/train_subset/images/001403.jpg: 1 duplicate labels removed\n",
            "\u001b[34m\u001b[1mtrain: \u001b[0mWARNING ⚠️ /content/drive/MyDrive/3R1CSegmentation/datasets/train_subset/images/001422.jpg: 1 duplicate labels removed\n",
            "\u001b[34m\u001b[1mtrain: \u001b[0mWARNING ⚠️ /content/drive/MyDrive/3R1CSegmentation/datasets/train_subset/images/001449.jpg: 1 duplicate labels removed\n",
            "\u001b[34m\u001b[1mtrain: \u001b[0mWARNING ⚠️ /content/drive/MyDrive/3R1CSegmentation/datasets/train_subset/images/001469.jpg: ignoring corrupt image/label: non-normalized or out of bounds coordinates [     1.0005]\n",
            "\u001b[34m\u001b[1mtrain: \u001b[0mWARNING ⚠️ /content/drive/MyDrive/3R1CSegmentation/datasets/train_subset/images/001560.jpg: ignoring corrupt image/label: non-normalized or out of bounds coordinates [     1.0021]\n",
            "\u001b[34m\u001b[1mtrain: \u001b[0mWARNING ⚠️ /content/drive/MyDrive/3R1CSegmentation/datasets/train_subset/images/001611.jpg: 1 duplicate labels removed\n",
            "\u001b[34m\u001b[1mtrain: \u001b[0mWARNING ⚠️ /content/drive/MyDrive/3R1CSegmentation/datasets/train_subset/images/001622.jpg: ignoring corrupt image/label: non-normalized or out of bounds coordinates [     1.0021]\n",
            "\u001b[34m\u001b[1mtrain: \u001b[0mWARNING ⚠️ /content/drive/MyDrive/3R1CSegmentation/datasets/train_subset/images/001652.jpg: 1 duplicate labels removed\n",
            "\u001b[34m\u001b[1mtrain: \u001b[0mWARNING ⚠️ /content/drive/MyDrive/3R1CSegmentation/datasets/train_subset/images/001660.jpg: 2 duplicate labels removed\n",
            "\u001b[34m\u001b[1mtrain: \u001b[0mWARNING ⚠️ /content/drive/MyDrive/3R1CSegmentation/datasets/train_subset/images/001662.jpg: 1 duplicate labels removed\n",
            "\u001b[34m\u001b[1mtrain: \u001b[0mWARNING ⚠️ /content/drive/MyDrive/3R1CSegmentation/datasets/train_subset/images/001663.jpg: 1 duplicate labels removed\n",
            "\u001b[34m\u001b[1mtrain: \u001b[0mWARNING ⚠️ /content/drive/MyDrive/3R1CSegmentation/datasets/train_subset/images/001668.jpg: 2 duplicate labels removed\n",
            "\u001b[34m\u001b[1mtrain: \u001b[0mWARNING ⚠️ /content/drive/MyDrive/3R1CSegmentation/datasets/train_subset/images/001705.jpg: ignoring corrupt image/label: non-normalized or out of bounds coordinates [     1.0008]\n",
            "\u001b[34m\u001b[1mtrain: \u001b[0mWARNING ⚠️ /content/drive/MyDrive/3R1CSegmentation/datasets/train_subset/images/001718.jpg: ignoring corrupt image/label: non-normalized or out of bounds coordinates [     1.0003]\n",
            "\u001b[34m\u001b[1mtrain: \u001b[0mWARNING ⚠️ /content/drive/MyDrive/3R1CSegmentation/datasets/train_subset/images/001751.jpg: 1 duplicate labels removed\n",
            "\u001b[34m\u001b[1mtrain: \u001b[0mWARNING ⚠️ /content/drive/MyDrive/3R1CSegmentation/datasets/train_subset/images/001754.jpg: 1 duplicate labels removed\n",
            "\u001b[34m\u001b[1mtrain: \u001b[0mWARNING ⚠️ /content/drive/MyDrive/3R1CSegmentation/datasets/train_subset/images/001755.jpg: 2 duplicate labels removed\n",
            "\u001b[34m\u001b[1mtrain: \u001b[0mWARNING ⚠️ /content/drive/MyDrive/3R1CSegmentation/datasets/train_subset/images/001801.jpg: 1 duplicate labels removed\n",
            "\u001b[34m\u001b[1mtrain: \u001b[0mWARNING ⚠️ /content/drive/MyDrive/3R1CSegmentation/datasets/train_subset/images/001974.jpg: ignoring corrupt image/label: non-normalized or out of bounds coordinates [     1.0015]\n",
            "\u001b[34m\u001b[1mtrain: \u001b[0mWARNING ⚠️ /content/drive/MyDrive/3R1CSegmentation/datasets/train_subset/images/001994.jpg: 2 duplicate labels removed\n",
            "\u001b[34m\u001b[1mtrain: \u001b[0mWARNING ⚠️ /content/drive/MyDrive/3R1CSegmentation/datasets/train_subset/images/001995.jpg: 2 duplicate labels removed\n",
            "\u001b[34m\u001b[1mtrain: \u001b[0mWARNING ⚠️ /content/drive/MyDrive/3R1CSegmentation/datasets/train_subset/images/001996.jpg: 2 duplicate labels removed\n",
            "\u001b[34m\u001b[1mtrain: \u001b[0mWARNING ⚠️ /content/drive/MyDrive/3R1CSegmentation/datasets/train_subset/images/001997.jpg: 1 duplicate labels removed\n",
            "\u001b[34m\u001b[1mtrain: \u001b[0mWARNING ⚠️ /content/drive/MyDrive/3R1CSegmentation/datasets/train_subset/images/001998.jpg: 1 duplicate labels removed\n",
            "\u001b[34m\u001b[1mtrain: \u001b[0mWARNING ⚠️ /content/drive/MyDrive/3R1CSegmentation/datasets/train_subset/images/002066.jpg: ignoring corrupt image/label: non-normalized or out of bounds coordinates [     1.0001]\n",
            "\u001b[34m\u001b[1mtrain: \u001b[0mWARNING ⚠️ /content/drive/MyDrive/3R1CSegmentation/datasets/train_subset/images/002076.jpg: 1 duplicate labels removed\n",
            "\u001b[34m\u001b[1mtrain: \u001b[0mWARNING ⚠️ /content/drive/MyDrive/3R1CSegmentation/datasets/train_subset/images/002077.jpg: 1 duplicate labels removed\n",
            "\u001b[34m\u001b[1mtrain: \u001b[0mWARNING ⚠️ /content/drive/MyDrive/3R1CSegmentation/datasets/train_subset/images/002102.jpg: 1 duplicate labels removed\n",
            "\u001b[34m\u001b[1mtrain: \u001b[0mWARNING ⚠️ /content/drive/MyDrive/3R1CSegmentation/datasets/train_subset/images/002148.jpg: ignoring corrupt image/label: non-normalized or out of bounds coordinates [      1.001]\n",
            "\u001b[34m\u001b[1mtrain: \u001b[0mWARNING ⚠️ /content/drive/MyDrive/3R1CSegmentation/datasets/train_subset/images/002153.jpg: 2 duplicate labels removed\n",
            "\u001b[34m\u001b[1mtrain: \u001b[0mWARNING ⚠️ /content/drive/MyDrive/3R1CSegmentation/datasets/train_subset/images/002260.jpg: 1 duplicate labels removed\n",
            "\u001b[34m\u001b[1mtrain: \u001b[0mWARNING ⚠️ /content/drive/MyDrive/3R1CSegmentation/datasets/train_subset/images/002279.jpg: ignoring corrupt image/label: non-normalized or out of bounds coordinates [     1.0001]\n",
            "\u001b[34m\u001b[1mtrain: \u001b[0mWARNING ⚠️ /content/drive/MyDrive/3R1CSegmentation/datasets/train_subset/images/002322.jpg: 1 duplicate labels removed\n",
            "\u001b[34m\u001b[1mtrain: \u001b[0mWARNING ⚠️ /content/drive/MyDrive/3R1CSegmentation/datasets/train_subset/images/002384.jpg: ignoring corrupt image/label: non-normalized or out of bounds coordinates [      1.003]\n",
            "\u001b[34m\u001b[1mtrain: \u001b[0mWARNING ⚠️ /content/drive/MyDrive/3R1CSegmentation/datasets/train_subset/images/002386.jpg: ignoring corrupt image/label: non-normalized or out of bounds coordinates [     1.0028]\n",
            "\u001b[34m\u001b[1mtrain: \u001b[0mWARNING ⚠️ /content/drive/MyDrive/3R1CSegmentation/datasets/train_subset/images/002524.jpg: ignoring corrupt image/label: non-normalized or out of bounds coordinates [     1.0014]\n",
            "\u001b[34m\u001b[1mtrain: \u001b[0mWARNING ⚠️ /content/drive/MyDrive/3R1CSegmentation/datasets/train_subset/images/002601.jpg: 2 duplicate labels removed\n",
            "\u001b[34m\u001b[1mtrain: \u001b[0mWARNING ⚠️ /content/drive/MyDrive/3R1CSegmentation/datasets/train_subset/images/002603.jpg: 1 duplicate labels removed\n",
            "\u001b[34m\u001b[1mtrain: \u001b[0mWARNING ⚠️ /content/drive/MyDrive/3R1CSegmentation/datasets/train_subset/images/002629.jpg: ignoring corrupt image/label: non-normalized or out of bounds coordinates [     1.0006]\n",
            "\u001b[34m\u001b[1mtrain: \u001b[0mWARNING ⚠️ /content/drive/MyDrive/3R1CSegmentation/datasets/train_subset/images/002857.jpg: 2 duplicate labels removed\n",
            "\u001b[34m\u001b[1mtrain: \u001b[0mWARNING ⚠️ /content/drive/MyDrive/3R1CSegmentation/datasets/train_subset/images/002860.jpg: 2 duplicate labels removed\n",
            "\u001b[34m\u001b[1mtrain: \u001b[0mWARNING ⚠️ /content/drive/MyDrive/3R1CSegmentation/datasets/train_subset/images/002930.jpg: 2 duplicate labels removed\n",
            "\u001b[34m\u001b[1mtrain: \u001b[0mWARNING ⚠️ /content/drive/MyDrive/3R1CSegmentation/datasets/train_subset/images/002967.jpg: 1 duplicate labels removed\n",
            "\u001b[34m\u001b[1mtrain: \u001b[0mWARNING ⚠️ /content/drive/MyDrive/3R1CSegmentation/datasets/train_subset/images/002991.jpg: 1 duplicate labels removed\n",
            "\u001b[34m\u001b[1mtrain: \u001b[0mWARNING ⚠️ /content/drive/MyDrive/3R1CSegmentation/datasets/train_subset/images/003174.jpg: 1 duplicate labels removed\n",
            "\u001b[34m\u001b[1mtrain: \u001b[0mWARNING ⚠️ /content/drive/MyDrive/3R1CSegmentation/datasets/train_subset/images/003177.jpg: 1 duplicate labels removed\n",
            "\u001b[34m\u001b[1mtrain: \u001b[0mWARNING ⚠️ /content/drive/MyDrive/3R1CSegmentation/datasets/train_subset/images/003188.jpg: 1 duplicate labels removed\n",
            "\u001b[34m\u001b[1mtrain: \u001b[0mWARNING ⚠️ /content/drive/MyDrive/3R1CSegmentation/datasets/train_subset/images/003197.jpg: 2 duplicate labels removed\n",
            "\u001b[34m\u001b[1mtrain: \u001b[0mWARNING ⚠️ /content/drive/MyDrive/3R1CSegmentation/datasets/train_subset/images/003198.jpg: 1 duplicate labels removed\n",
            "\u001b[34m\u001b[1mtrain: \u001b[0mWARNING ⚠️ /content/drive/MyDrive/3R1CSegmentation/datasets/train_subset/images/003226.jpg: 1 duplicate labels removed\n",
            "\u001b[34m\u001b[1mtrain: \u001b[0mWARNING ⚠️ /content/drive/MyDrive/3R1CSegmentation/datasets/train_subset/images/003272.jpg: 1 duplicate labels removed\n",
            "\u001b[34m\u001b[1mtrain: \u001b[0mWARNING ⚠️ /content/drive/MyDrive/3R1CSegmentation/datasets/train_subset/images/003377.jpg: 1 duplicate labels removed\n",
            "\u001b[34m\u001b[1mtrain: \u001b[0mWARNING ⚠️ /content/drive/MyDrive/3R1CSegmentation/datasets/train_subset/images/003399.jpg: 2 duplicate labels removed\n",
            "\u001b[34m\u001b[1mtrain: \u001b[0mWARNING ⚠️ /content/drive/MyDrive/3R1CSegmentation/datasets/train_subset/images/003430.jpg: 1 duplicate labels removed\n",
            "\u001b[34m\u001b[1mtrain: \u001b[0mWARNING ⚠️ /content/drive/MyDrive/3R1CSegmentation/datasets/train_subset/images/003443.jpg: 2 duplicate labels removed\n",
            "\u001b[34m\u001b[1mtrain: \u001b[0mWARNING ⚠️ /content/drive/MyDrive/3R1CSegmentation/datasets/train_subset/images/003649.jpg: ignoring corrupt image/label: non-normalized or out of bounds coordinates [     1.0004      1.0015]\n",
            "\u001b[34m\u001b[1mtrain: \u001b[0mWARNING ⚠️ /content/drive/MyDrive/3R1CSegmentation/datasets/train_subset/images/003686.jpg: 1 duplicate labels removed\n",
            "\u001b[34m\u001b[1mtrain: \u001b[0mWARNING ⚠️ /content/drive/MyDrive/3R1CSegmentation/datasets/train_subset/images/003749.jpg: 2 duplicate labels removed\n",
            "\u001b[34m\u001b[1mtrain: \u001b[0mWARNING ⚠️ /content/drive/MyDrive/3R1CSegmentation/datasets/train_subset/images/003900.jpg: 2 duplicate labels removed\n",
            "\u001b[34m\u001b[1mtrain: \u001b[0mWARNING ⚠️ /content/drive/MyDrive/3R1CSegmentation/datasets/train_subset/images/003909.jpg: 1 duplicate labels removed\n",
            "\u001b[34m\u001b[1mtrain: \u001b[0mWARNING ⚠️ /content/drive/MyDrive/3R1CSegmentation/datasets/train_subset/images/003924.jpg: 1 duplicate labels removed\n",
            "\u001b[34m\u001b[1mtrain: \u001b[0mWARNING ⚠️ /content/drive/MyDrive/3R1CSegmentation/datasets/train_subset/images/003937.jpg: 1 duplicate labels removed\n",
            "\u001b[34m\u001b[1mtrain: \u001b[0mWARNING ⚠️ /content/drive/MyDrive/3R1CSegmentation/datasets/train_subset/images/004117.jpg: 1 duplicate labels removed\n",
            "\u001b[34m\u001b[1mtrain: \u001b[0mWARNING ⚠️ /content/drive/MyDrive/3R1CSegmentation/datasets/train_subset/images/004125.jpg: 2 duplicate labels removed\n",
            "\u001b[34m\u001b[1mtrain: \u001b[0mWARNING ⚠️ /content/drive/MyDrive/3R1CSegmentation/datasets/train_subset/images/004126.jpg: 1 duplicate labels removed\n",
            "\u001b[34m\u001b[1mtrain: \u001b[0mWARNING ⚠️ /content/drive/MyDrive/3R1CSegmentation/datasets/train_subset/images/004130.jpg: ignoring corrupt image/label: non-normalized or out of bounds coordinates [     1.0003]\n",
            "\u001b[34m\u001b[1mtrain: \u001b[0mWARNING ⚠️ /content/drive/MyDrive/3R1CSegmentation/datasets/train_subset/images/004227.jpg: 1 duplicate labels removed\n",
            "\u001b[34m\u001b[1mtrain: \u001b[0mWARNING ⚠️ /content/drive/MyDrive/3R1CSegmentation/datasets/train_subset/images/004231.jpg: 1 duplicate labels removed\n",
            "\u001b[34m\u001b[1mtrain: \u001b[0mWARNING ⚠️ /content/drive/MyDrive/3R1CSegmentation/datasets/train_subset/images/004232.jpg: 1 duplicate labels removed\n",
            "\u001b[34m\u001b[1mtrain: \u001b[0mWARNING ⚠️ /content/drive/MyDrive/3R1CSegmentation/datasets/train_subset/images/004362.jpg: ignoring corrupt image/label: non-normalized or out of bounds coordinates [     1.0016]\n",
            "\u001b[34m\u001b[1mtrain: \u001b[0mWARNING ⚠️ /content/drive/MyDrive/3R1CSegmentation/datasets/train_subset/images/004376.jpg: ignoring corrupt image/label: non-normalized or out of bounds coordinates [     1.0003]\n",
            "\u001b[34m\u001b[1mtrain: \u001b[0mWARNING ⚠️ /content/drive/MyDrive/3R1CSegmentation/datasets/train_subset/images/004523.jpg: 1 duplicate labels removed\n",
            "\u001b[34m\u001b[1mtrain: \u001b[0mWARNING ⚠️ /content/drive/MyDrive/3R1CSegmentation/datasets/train_subset/images/004645.jpg: ignoring corrupt image/label: non-normalized or out of bounds coordinates [     1.0002]\n",
            "\u001b[34m\u001b[1mtrain: \u001b[0mWARNING ⚠️ /content/drive/MyDrive/3R1CSegmentation/datasets/train_subset/images/004666.jpg: 1 duplicate labels removed\n",
            "\u001b[34m\u001b[1mtrain: \u001b[0mWARNING ⚠️ /content/drive/MyDrive/3R1CSegmentation/datasets/train_subset/images/004694.jpg: ignoring corrupt image/label: non-normalized or out of bounds coordinates [     1.0021]\n",
            "\u001b[34m\u001b[1mtrain: \u001b[0mWARNING ⚠️ /content/drive/MyDrive/3R1CSegmentation/datasets/train_subset/images/004712.jpg: ignoring corrupt image/label: non-normalized or out of bounds coordinates [     1.0029]\n",
            "\u001b[34m\u001b[1mtrain: \u001b[0mWARNING ⚠️ /content/drive/MyDrive/3R1CSegmentation/datasets/train_subset/images/004732.jpg: 1 duplicate labels removed\n",
            "\u001b[34m\u001b[1mtrain: \u001b[0mWARNING ⚠️ /content/drive/MyDrive/3R1CSegmentation/datasets/train_subset/images/004736.jpg: ignoring corrupt image/label: non-normalized or out of bounds coordinates [     1.0006]\n",
            "\u001b[34m\u001b[1mtrain: \u001b[0mWARNING ⚠️ /content/drive/MyDrive/3R1CSegmentation/datasets/train_subset/images/004786.jpg: ignoring corrupt image/label: non-normalized or out of bounds coordinates [     1.0008      1.0001]\n",
            "\u001b[34m\u001b[1mtrain: \u001b[0mWARNING ⚠️ /content/drive/MyDrive/3R1CSegmentation/datasets/train_subset/images/004809.jpg: 1 duplicate labels removed\n",
            "\u001b[34m\u001b[1mtrain: \u001b[0mWARNING ⚠️ /content/drive/MyDrive/3R1CSegmentation/datasets/train_subset/images/004830.jpg: ignoring corrupt image/label: non-normalized or out of bounds coordinates [     1.0006      1.0002]\n",
            "\u001b[34m\u001b[1mtrain: \u001b[0mWARNING ⚠️ /content/drive/MyDrive/3R1CSegmentation/datasets/train_subset/images/004890.jpg: 1 duplicate labels removed\n",
            "\u001b[34m\u001b[1mtrain: \u001b[0mWARNING ⚠️ /content/drive/MyDrive/3R1CSegmentation/datasets/train_subset/images/004893.jpg: 1 duplicate labels removed\n",
            "\u001b[34m\u001b[1mtrain: \u001b[0mWARNING ⚠️ /content/drive/MyDrive/3R1CSegmentation/datasets/train_subset/images/004933.jpg: 1 duplicate labels removed\n",
            "\u001b[34m\u001b[1mtrain: \u001b[0mWARNING ⚠️ /content/drive/MyDrive/3R1CSegmentation/datasets/train_subset/images/005067.jpg: ignoring corrupt image/label: non-normalized or out of bounds coordinates [     1.0006      1.0014]\n",
            "\u001b[34m\u001b[1mtrain: \u001b[0mWARNING ⚠️ /content/drive/MyDrive/3R1CSegmentation/datasets/train_subset/images/005079.jpg: 1 duplicate labels removed\n",
            "\u001b[34m\u001b[1mtrain: \u001b[0mWARNING ⚠️ /content/drive/MyDrive/3R1CSegmentation/datasets/train_subset/images/005236.jpg: ignoring corrupt image/label: non-normalized or out of bounds coordinates [     1.0007]\n",
            "\u001b[34m\u001b[1mtrain: \u001b[0mWARNING ⚠️ /content/drive/MyDrive/3R1CSegmentation/datasets/train_subset/images/005251.jpg: 1 duplicate labels removed\n",
            "\u001b[34m\u001b[1mtrain: \u001b[0mWARNING ⚠️ /content/drive/MyDrive/3R1CSegmentation/datasets/train_subset/images/005253.jpg: 1 duplicate labels removed\n",
            "\u001b[34m\u001b[1mtrain: \u001b[0mWARNING ⚠️ /content/drive/MyDrive/3R1CSegmentation/datasets/train_subset/images/005255.jpg: 1 duplicate labels removed\n",
            "\u001b[34m\u001b[1mtrain: \u001b[0mWARNING ⚠️ /content/drive/MyDrive/3R1CSegmentation/datasets/train_subset/images/005256.jpg: 1 duplicate labels removed\n",
            "\u001b[34m\u001b[1mtrain: \u001b[0mWARNING ⚠️ /content/drive/MyDrive/3R1CSegmentation/datasets/train_subset/images/005261.jpg: 1 duplicate labels removed\n",
            "\u001b[34m\u001b[1mtrain: \u001b[0mWARNING ⚠️ /content/drive/MyDrive/3R1CSegmentation/datasets/train_subset/images/005342.jpg: 1 duplicate labels removed\n",
            "\u001b[34m\u001b[1mtrain: \u001b[0mWARNING ⚠️ /content/drive/MyDrive/3R1CSegmentation/datasets/train_subset/images/005622.jpg: 1 duplicate labels removed\n",
            "\u001b[34m\u001b[1mtrain: \u001b[0mWARNING ⚠️ /content/drive/MyDrive/3R1CSegmentation/datasets/train_subset/images/005665.jpg: 1 duplicate labels removed\n",
            "\u001b[34m\u001b[1mtrain: \u001b[0mWARNING ⚠️ /content/drive/MyDrive/3R1CSegmentation/datasets/train_subset/images/005676.jpg: 1 duplicate labels removed\n",
            "\u001b[34m\u001b[1mtrain: \u001b[0mWARNING ⚠️ /content/drive/MyDrive/3R1CSegmentation/datasets/train_subset/images/005835.jpg: 1 duplicate labels removed\n",
            "\u001b[34m\u001b[1mtrain: \u001b[0mWARNING ⚠️ /content/drive/MyDrive/3R1CSegmentation/datasets/train_subset/images/005985.jpg: ignoring corrupt image/label: non-normalized or out of bounds coordinates [      1.001]\n",
            "\u001b[34m\u001b[1mtrain: \u001b[0mWARNING ⚠️ /content/drive/MyDrive/3R1CSegmentation/datasets/train_subset/images/006005.jpg: 1 duplicate labels removed\n",
            "\u001b[34m\u001b[1mtrain: \u001b[0mWARNING ⚠️ /content/drive/MyDrive/3R1CSegmentation/datasets/train_subset/images/006014.jpg: 1 duplicate labels removed\n",
            "\u001b[34m\u001b[1mtrain: \u001b[0mWARNING ⚠️ /content/drive/MyDrive/3R1CSegmentation/datasets/train_subset/images/006015.jpg: 1 duplicate labels removed\n",
            "\u001b[34m\u001b[1mtrain: \u001b[0mWARNING ⚠️ /content/drive/MyDrive/3R1CSegmentation/datasets/train_subset/images/006102.jpg: 1 duplicate labels removed\n",
            "\u001b[34m\u001b[1mtrain: \u001b[0mWARNING ⚠️ /content/drive/MyDrive/3R1CSegmentation/datasets/train_subset/images/006103.jpg: 1 duplicate labels removed\n",
            "\u001b[34m\u001b[1mtrain: \u001b[0mWARNING ⚠️ /content/drive/MyDrive/3R1CSegmentation/datasets/train_subset/images/006127.jpg: 1 duplicate labels removed\n",
            "\u001b[34m\u001b[1mtrain: \u001b[0mWARNING ⚠️ /content/drive/MyDrive/3R1CSegmentation/datasets/train_subset/images/006147.jpg: 2 duplicate labels removed\n",
            "\u001b[34m\u001b[1mtrain: \u001b[0mWARNING ⚠️ /content/drive/MyDrive/3R1CSegmentation/datasets/train_subset/images/006148.jpg: 1 duplicate labels removed\n",
            "\u001b[34m\u001b[1mtrain: \u001b[0mWARNING ⚠️ /content/drive/MyDrive/3R1CSegmentation/datasets/train_subset/images/006149.jpg: 2 duplicate labels removed\n",
            "\u001b[34m\u001b[1mtrain: \u001b[0mWARNING ⚠️ /content/drive/MyDrive/3R1CSegmentation/datasets/train_subset/images/006150.jpg: 2 duplicate labels removed\n",
            "\u001b[34m\u001b[1mtrain: \u001b[0mWARNING ⚠️ /content/drive/MyDrive/3R1CSegmentation/datasets/train_subset/images/006152.jpg: 1 duplicate labels removed\n",
            "\u001b[34m\u001b[1mtrain: \u001b[0mWARNING ⚠️ /content/drive/MyDrive/3R1CSegmentation/datasets/train_subset/images/006219.jpg: ignoring corrupt image/label: non-normalized or out of bounds coordinates [     1.0055]\n",
            "\u001b[34m\u001b[1mtrain: \u001b[0mWARNING ⚠️ /content/drive/MyDrive/3R1CSegmentation/datasets/train_subset/images/006597.jpg: ignoring corrupt image/label: non-normalized or out of bounds coordinates [     1.0012]\n",
            "\u001b[34m\u001b[1mtrain: \u001b[0mWARNING ⚠️ /content/drive/MyDrive/3R1CSegmentation/datasets/train_subset/images/006674.jpg: ignoring corrupt image/label: non-normalized or out of bounds coordinates [     1.0001]\n",
            "\u001b[34m\u001b[1mtrain: \u001b[0mWARNING ⚠️ /content/drive/MyDrive/3R1CSegmentation/datasets/train_subset/images/006678.jpg: ignoring corrupt image/label: non-normalized or out of bounds coordinates [     1.0004]\n",
            "\u001b[34m\u001b[1mtrain: \u001b[0mWARNING ⚠️ /content/drive/MyDrive/3R1CSegmentation/datasets/train_subset/images/006716.jpg: 2 duplicate labels removed\n",
            "\u001b[34m\u001b[1mtrain: \u001b[0mWARNING ⚠️ /content/drive/MyDrive/3R1CSegmentation/datasets/train_subset/images/006719.jpg: ignoring corrupt image/label: non-normalized or out of bounds coordinates [     1.0025]\n",
            "\u001b[34m\u001b[1mtrain: \u001b[0mWARNING ⚠️ /content/drive/MyDrive/3R1CSegmentation/datasets/train_subset/images/006733.jpg: 1 duplicate labels removed\n",
            "\u001b[34m\u001b[1mtrain: \u001b[0mWARNING ⚠️ /content/drive/MyDrive/3R1CSegmentation/datasets/train_subset/images/006967.jpg: 1 duplicate labels removed\n",
            "\u001b[34m\u001b[1mtrain: \u001b[0mWARNING ⚠️ /content/drive/MyDrive/3R1CSegmentation/datasets/train_subset/images/006973.jpg: ignoring corrupt image/label: non-normalized or out of bounds coordinates [     1.0004]\n",
            "\u001b[34m\u001b[1mtrain: \u001b[0mWARNING ⚠️ /content/drive/MyDrive/3R1CSegmentation/datasets/train_subset/images/007089.jpg: ignoring corrupt image/label: non-normalized or out of bounds coordinates [     1.0008]\n",
            "\u001b[34m\u001b[1mtrain: \u001b[0mWARNING ⚠️ /content/drive/MyDrive/3R1CSegmentation/datasets/train_subset/images/007126.jpg: ignoring corrupt image/label: non-normalized or out of bounds coordinates [     1.0002]\n",
            "\u001b[34m\u001b[1mtrain: \u001b[0mWARNING ⚠️ /content/drive/MyDrive/3R1CSegmentation/datasets/train_subset/images/007127.jpg: ignoring corrupt image/label: non-normalized or out of bounds coordinates [     1.0007]\n",
            "\u001b[34m\u001b[1mtrain: \u001b[0mWARNING ⚠️ /content/drive/MyDrive/3R1CSegmentation/datasets/train_subset/images/007138.jpg: ignoring corrupt image/label: non-normalized or out of bounds coordinates [     1.0002]\n",
            "\u001b[34m\u001b[1mtrain: \u001b[0mWARNING ⚠️ /content/drive/MyDrive/3R1CSegmentation/datasets/train_subset/images/007181.jpg: ignoring corrupt image/label: non-normalized or out of bounds coordinates [     1.0007      1.0004]\n",
            "\u001b[34m\u001b[1mtrain: \u001b[0mWARNING ⚠️ /content/drive/MyDrive/3R1CSegmentation/datasets/train_subset/images/007185.jpg: ignoring corrupt image/label: non-normalized or out of bounds coordinates [     1.0027]\n",
            "\u001b[34m\u001b[1mtrain: \u001b[0mWARNING ⚠️ /content/drive/MyDrive/3R1CSegmentation/datasets/train_subset/images/007205.jpg: ignoring corrupt image/label: non-normalized or out of bounds coordinates [     1.0011]\n",
            "\u001b[34m\u001b[1mtrain: \u001b[0mWARNING ⚠️ /content/drive/MyDrive/3R1CSegmentation/datasets/train_subset/images/007294.jpg: ignoring corrupt image/label: non-normalized or out of bounds coordinates [     1.0003]\n",
            "\u001b[34m\u001b[1mtrain: \u001b[0mWARNING ⚠️ /content/drive/MyDrive/3R1CSegmentation/datasets/train_subset/images/007317.jpg: ignoring corrupt image/label: non-normalized or out of bounds coordinates [     1.0015]\n",
            "\u001b[34m\u001b[1mtrain: \u001b[0mWARNING ⚠️ /content/drive/MyDrive/3R1CSegmentation/datasets/train_subset/images/007343.jpg: 1 duplicate labels removed\n",
            "\u001b[34m\u001b[1mtrain: \u001b[0mWARNING ⚠️ /content/drive/MyDrive/3R1CSegmentation/datasets/train_subset/images/007453.jpg: 2 duplicate labels removed\n",
            "\u001b[34m\u001b[1mtrain: \u001b[0mWARNING ⚠️ /content/drive/MyDrive/3R1CSegmentation/datasets/train_subset/images/007557.jpg: 1 duplicate labels removed\n",
            "\u001b[34m\u001b[1mtrain: \u001b[0mWARNING ⚠️ /content/drive/MyDrive/3R1CSegmentation/datasets/train_subset/images/007558.jpg: 2 duplicate labels removed\n",
            "\u001b[34m\u001b[1mtrain: \u001b[0mWARNING ⚠️ /content/drive/MyDrive/3R1CSegmentation/datasets/train_subset/images/007559.jpg: 1 duplicate labels removed\n",
            "\u001b[34m\u001b[1mtrain: \u001b[0mWARNING ⚠️ /content/drive/MyDrive/3R1CSegmentation/datasets/train_subset/images/007560.jpg: 1 duplicate labels removed\n",
            "\u001b[34m\u001b[1mtrain: \u001b[0mWARNING ⚠️ /content/drive/MyDrive/3R1CSegmentation/datasets/train_subset/images/007561.jpg: 1 duplicate labels removed\n",
            "\u001b[34m\u001b[1mtrain: \u001b[0mWARNING ⚠️ /content/drive/MyDrive/3R1CSegmentation/datasets/train_subset/images/007562.jpg: 1 duplicate labels removed\n",
            "\u001b[34m\u001b[1mtrain: \u001b[0mWARNING ⚠️ /content/drive/MyDrive/3R1CSegmentation/datasets/train_subset/images/007563.jpg: 1 duplicate labels removed\n",
            "\u001b[34m\u001b[1mtrain: \u001b[0mWARNING ⚠️ /content/drive/MyDrive/3R1CSegmentation/datasets/train_subset/images/007567.jpg: 1 duplicate labels removed\n",
            "\u001b[34m\u001b[1mtrain: \u001b[0mWARNING ⚠️ /content/drive/MyDrive/3R1CSegmentation/datasets/train_subset/images/007568.jpg: 1 duplicate labels removed\n",
            "\u001b[34m\u001b[1mtrain: \u001b[0mWARNING ⚠️ /content/drive/MyDrive/3R1CSegmentation/datasets/train_subset/images/007569.jpg: 2 duplicate labels removed\n",
            "\u001b[34m\u001b[1mtrain: \u001b[0mWARNING ⚠️ /content/drive/MyDrive/3R1CSegmentation/datasets/train_subset/images/007570.jpg: 1 duplicate labels removed\n",
            "\u001b[34m\u001b[1mtrain: \u001b[0mWARNING ⚠️ /content/drive/MyDrive/3R1CSegmentation/datasets/train_subset/images/007572.jpg: 1 duplicate labels removed\n",
            "\u001b[34m\u001b[1mtrain: \u001b[0mWARNING ⚠️ /content/drive/MyDrive/3R1CSegmentation/datasets/train_subset/images/007573.jpg: 1 duplicate labels removed\n",
            "\u001b[34m\u001b[1mtrain: \u001b[0mWARNING ⚠️ /content/drive/MyDrive/3R1CSegmentation/datasets/train_subset/images/007574.jpg: 1 duplicate labels removed\n",
            "\u001b[34m\u001b[1mtrain: \u001b[0mWARNING ⚠️ /content/drive/MyDrive/3R1CSegmentation/datasets/train_subset/images/007576.jpg: 2 duplicate labels removed\n",
            "\u001b[34m\u001b[1mtrain: \u001b[0mWARNING ⚠️ /content/drive/MyDrive/3R1CSegmentation/datasets/train_subset/images/007577.jpg: 1 duplicate labels removed\n",
            "\u001b[34m\u001b[1mtrain: \u001b[0mWARNING ⚠️ /content/drive/MyDrive/3R1CSegmentation/datasets/train_subset/images/007578.jpg: 2 duplicate labels removed\n",
            "\u001b[34m\u001b[1mtrain: \u001b[0mWARNING ⚠️ /content/drive/MyDrive/3R1CSegmentation/datasets/train_subset/images/007579.jpg: 1 duplicate labels removed\n",
            "\u001b[34m\u001b[1mtrain: \u001b[0mWARNING ⚠️ /content/drive/MyDrive/3R1CSegmentation/datasets/train_subset/images/007580.jpg: ignoring corrupt image/label: non-normalized or out of bounds coordinates [     1.0016]\n",
            "\u001b[34m\u001b[1mtrain: \u001b[0mWARNING ⚠️ /content/drive/MyDrive/3R1CSegmentation/datasets/train_subset/images/007589.jpg: 1 duplicate labels removed\n",
            "\u001b[34m\u001b[1mtrain: \u001b[0mWARNING ⚠️ /content/drive/MyDrive/3R1CSegmentation/datasets/train_subset/images/007592.jpg: 1 duplicate labels removed\n",
            "\u001b[34m\u001b[1mtrain: \u001b[0mWARNING ⚠️ /content/drive/MyDrive/3R1CSegmentation/datasets/train_subset/images/007595.jpg: 1 duplicate labels removed\n",
            "\u001b[34m\u001b[1mtrain: \u001b[0mWARNING ⚠️ /content/drive/MyDrive/3R1CSegmentation/datasets/train_subset/images/007597.jpg: 1 duplicate labels removed\n",
            "\u001b[34m\u001b[1mtrain: \u001b[0mWARNING ⚠️ /content/drive/MyDrive/3R1CSegmentation/datasets/train_subset/images/007658.jpg: 1 duplicate labels removed\n",
            "\u001b[34m\u001b[1mtrain: \u001b[0mWARNING ⚠️ /content/drive/MyDrive/3R1CSegmentation/datasets/train_subset/images/007660.jpg: 1 duplicate labels removed\n",
            "\u001b[34m\u001b[1mtrain: \u001b[0mWARNING ⚠️ /content/drive/MyDrive/3R1CSegmentation/datasets/train_subset/images/007737.jpg: 1 duplicate labels removed\n",
            "\u001b[34m\u001b[1mtrain: \u001b[0mWARNING ⚠️ /content/drive/MyDrive/3R1CSegmentation/datasets/train_subset/images/007823.jpg: 1 duplicate labels removed\n",
            "\u001b[34m\u001b[1mtrain: \u001b[0mWARNING ⚠️ /content/drive/MyDrive/3R1CSegmentation/datasets/train_subset/images/007843.jpg: 1 duplicate labels removed\n",
            "\u001b[34m\u001b[1mtrain: \u001b[0mWARNING ⚠️ /content/drive/MyDrive/3R1CSegmentation/datasets/train_subset/images/008000.jpg: 2 duplicate labels removed\n",
            "\u001b[34m\u001b[1mtrain: \u001b[0mWARNING ⚠️ /content/drive/MyDrive/3R1CSegmentation/datasets/train_subset/images/008002.jpg: 1 duplicate labels removed\n",
            "\u001b[34m\u001b[1mtrain: \u001b[0mWARNING ⚠️ /content/drive/MyDrive/3R1CSegmentation/datasets/train_subset/images/008005.jpg: 1 duplicate labels removed\n",
            "\u001b[34m\u001b[1mtrain: \u001b[0mWARNING ⚠️ /content/drive/MyDrive/3R1CSegmentation/datasets/train_subset/images/008125.jpg: 2 duplicate labels removed\n",
            "\u001b[34m\u001b[1mtrain: \u001b[0mWARNING ⚠️ /content/drive/MyDrive/3R1CSegmentation/datasets/train_subset/images/008175.jpg: 1 duplicate labels removed\n",
            "\u001b[34m\u001b[1mtrain: \u001b[0mWARNING ⚠️ /content/drive/MyDrive/3R1CSegmentation/datasets/train_subset/images/008178.jpg: 1 duplicate labels removed\n",
            "\u001b[34m\u001b[1mtrain: \u001b[0mWARNING ⚠️ /content/drive/MyDrive/3R1CSegmentation/datasets/train_subset/images/008194.jpg: 1 duplicate labels removed\n",
            "\u001b[34m\u001b[1mtrain: \u001b[0mWARNING ⚠️ /content/drive/MyDrive/3R1CSegmentation/datasets/train_subset/images/008240.jpg: 1 duplicate labels removed\n",
            "\u001b[34m\u001b[1mtrain: \u001b[0mWARNING ⚠️ /content/drive/MyDrive/3R1CSegmentation/datasets/train_subset/images/008262.jpg: 1 duplicate labels removed\n",
            "\u001b[34m\u001b[1mtrain: \u001b[0mWARNING ⚠️ /content/drive/MyDrive/3R1CSegmentation/datasets/train_subset/images/008432.jpg: 1 duplicate labels removed\n",
            "\u001b[34m\u001b[1mtrain: \u001b[0mWARNING ⚠️ /content/drive/MyDrive/3R1CSegmentation/datasets/train_subset/images/008791.jpg: 1 duplicate labels removed\n",
            "\u001b[34m\u001b[1mtrain: \u001b[0mWARNING ⚠️ /content/drive/MyDrive/3R1CSegmentation/datasets/train_subset/images/008793.jpg: 1 duplicate labels removed\n",
            "\u001b[34m\u001b[1mtrain: \u001b[0mWARNING ⚠️ /content/drive/MyDrive/3R1CSegmentation/datasets/train_subset/images/008804.jpg: ignoring corrupt image/label: non-normalized or out of bounds coordinates [     1.0009]\n",
            "\u001b[34m\u001b[1mtrain: \u001b[0mWARNING ⚠️ /content/drive/MyDrive/3R1CSegmentation/datasets/train_subset/images/009071.jpg: ignoring corrupt image/label: non-normalized or out of bounds coordinates [      1.002]\n",
            "\u001b[34m\u001b[1mtrain: \u001b[0mWARNING ⚠️ /content/drive/MyDrive/3R1CSegmentation/datasets/train_subset/images/009081.jpg: ignoring corrupt image/label: non-normalized or out of bounds coordinates [     1.0024]\n",
            "\u001b[34m\u001b[1mtrain: \u001b[0mWARNING ⚠️ /content/drive/MyDrive/3R1CSegmentation/datasets/train_subset/images/009111.jpg: 1 duplicate labels removed\n",
            "\u001b[34m\u001b[1mtrain: \u001b[0mWARNING ⚠️ /content/drive/MyDrive/3R1CSegmentation/datasets/train_subset/images/009131.jpg: ignoring corrupt image/label: non-normalized or out of bounds coordinates [     1.0014]\n",
            "\u001b[34m\u001b[1mtrain: \u001b[0mWARNING ⚠️ /content/drive/MyDrive/3R1CSegmentation/datasets/train_subset/images/009252.jpg: 1 duplicate labels removed\n",
            "\u001b[34m\u001b[1mtrain: \u001b[0mWARNING ⚠️ /content/drive/MyDrive/3R1CSegmentation/datasets/train_subset/images/009382.jpg: 1 duplicate labels removed\n",
            "\u001b[34m\u001b[1mtrain: \u001b[0mWARNING ⚠️ /content/drive/MyDrive/3R1CSegmentation/datasets/train_subset/images/009441.jpg: 2 duplicate labels removed\n",
            "\u001b[34m\u001b[1mtrain: \u001b[0mWARNING ⚠️ /content/drive/MyDrive/3R1CSegmentation/datasets/train_subset/images/009446.jpg: 1 duplicate labels removed\n",
            "\u001b[34m\u001b[1mtrain: \u001b[0mWARNING ⚠️ /content/drive/MyDrive/3R1CSegmentation/datasets/train_subset/images/009471.jpg: 1 duplicate labels removed\n",
            "\u001b[34m\u001b[1mtrain: \u001b[0mWARNING ⚠️ /content/drive/MyDrive/3R1CSegmentation/datasets/train_subset/images/009548.jpg: 1 duplicate labels removed\n",
            "\u001b[34m\u001b[1mtrain: \u001b[0mWARNING ⚠️ /content/drive/MyDrive/3R1CSegmentation/datasets/train_subset/images/009640.jpg: 1 duplicate labels removed\n",
            "\u001b[34m\u001b[1mtrain: \u001b[0mWARNING ⚠️ /content/drive/MyDrive/3R1CSegmentation/datasets/train_subset/images/009646.jpg: 1 duplicate labels removed\n",
            "\u001b[34m\u001b[1mtrain: \u001b[0mWARNING ⚠️ /content/drive/MyDrive/3R1CSegmentation/datasets/train_subset/images/009665.jpg: 1 duplicate labels removed\n",
            "\u001b[34m\u001b[1mtrain: \u001b[0mWARNING ⚠️ /content/drive/MyDrive/3R1CSegmentation/datasets/train_subset/images/009830.jpg: 1 duplicate labels removed\n",
            "\u001b[34m\u001b[1mtrain: \u001b[0mWARNING ⚠️ /content/drive/MyDrive/3R1CSegmentation/datasets/train_subset/images/009837.jpg: 1 duplicate labels removed\n",
            "\u001b[34m\u001b[1mtrain: \u001b[0mWARNING ⚠️ /content/drive/MyDrive/3R1CSegmentation/datasets/train_subset/images/009881.jpg: 1 duplicate labels removed\n",
            "\u001b[34m\u001b[1mtrain: \u001b[0mWARNING ⚠️ /content/drive/MyDrive/3R1CSegmentation/datasets/train_subset/images/009891.jpg: 2 duplicate labels removed\n",
            "\u001b[34m\u001b[1mtrain: \u001b[0mWARNING ⚠️ /content/drive/MyDrive/3R1CSegmentation/datasets/train_subset/images/009895.jpg: 1 duplicate labels removed\n",
            "\u001b[34m\u001b[1malbumentations: \u001b[0mBlur(p=0.01, blur_limit=(3, 7)), MedianBlur(p=0.01, blur_limit=(3, 7)), ToGray(p=0.01, num_output_channels=3, method='weighted_average'), CLAHE(p=0.01, clip_limit=(1.0, 4.0), tile_grid_size=(8, 8))\n",
            "\u001b[34m\u001b[1mAutoBatch: \u001b[0mComputing optimal batch size for imgsz=640 at 70.0% CUDA memory utilization.\n",
            "\u001b[34m\u001b[1mAutoBatch: \u001b[0mCUDA:0 (NVIDIA A100-SXM4-40GB) 39.56G total, 1.42G reserved, 0.65G allocated, 37.49G free\n"
          ]
        },
        {
          "output_type": "stream",
          "name": "stderr",
          "text": [
            "\n"
          ]
        },
        {
          "output_type": "stream",
          "name": "stdout",
          "text": [
            "      Params      GFLOPs  GPU_mem (GB)  forward (ms) backward (ms)                   input                  output\n",
            "    10087319       35.62         2.483         34.95           nan        (1, 3, 640, 640)                    list\n",
            "    10087319       71.24         2.718         43.07           nan        (2, 3, 640, 640)                    list\n",
            "    10087319       142.5         4.349         39.15           nan        (4, 3, 640, 640)                    list\n",
            "    10087319       284.9         7.011         47.92           nan        (8, 3, 640, 640)                    list\n",
            "    10087319       569.9        12.667         48.63           nan       (16, 3, 640, 640)                    list\n",
            "    10087319        1140        22.922         57.68           nan       (32, 3, 640, 640)                    list\n",
            "    10087319        2280        44.128         95.03           nan       (64, 3, 640, 640)                    list\n",
            "\u001b[34m\u001b[1mAutoBatch: \u001b[0mUsing batch-size 48 for CUDA:0 28.15G/39.56G (71%) ✅\n"
          ]
        },
        {
          "output_type": "stream",
          "name": "stderr",
          "text": [
            "\u001b[34m\u001b[1mtrain: \u001b[0mScanning /content/drive/MyDrive/3R1CSegmentation/datasets/train_subset/labels.cache... 10000 images, 0 backgrounds, 56 corrupt: 100%|██████████| 10000/10000 [00:00<?, ?it/s]"
          ]
        },
        {
          "output_type": "stream",
          "name": "stdout",
          "text": [
            "\u001b[34m\u001b[1mtrain: \u001b[0mWARNING ⚠️ /content/drive/MyDrive/3R1CSegmentation/datasets/train_subset/images/000013.jpg: 1 duplicate labels removed\n",
            "\u001b[34m\u001b[1mtrain: \u001b[0mWARNING ⚠️ /content/drive/MyDrive/3R1CSegmentation/datasets/train_subset/images/000014.jpg: 1 duplicate labels removed\n",
            "\u001b[34m\u001b[1mtrain: \u001b[0mWARNING ⚠️ /content/drive/MyDrive/3R1CSegmentation/datasets/train_subset/images/000114.jpg: 1 duplicate labels removed\n",
            "\u001b[34m\u001b[1mtrain: \u001b[0mWARNING ⚠️ /content/drive/MyDrive/3R1CSegmentation/datasets/train_subset/images/000115.jpg: 2 duplicate labels removed\n",
            "\u001b[34m\u001b[1mtrain: \u001b[0mWARNING ⚠️ /content/drive/MyDrive/3R1CSegmentation/datasets/train_subset/images/000117.jpg: 1 duplicate labels removed\n",
            "\u001b[34m\u001b[1mtrain: \u001b[0mWARNING ⚠️ /content/drive/MyDrive/3R1CSegmentation/datasets/train_subset/images/000122.jpg: 1 duplicate labels removed\n",
            "\u001b[34m\u001b[1mtrain: \u001b[0mWARNING ⚠️ /content/drive/MyDrive/3R1CSegmentation/datasets/train_subset/images/000129.jpg: ignoring corrupt image/label: non-normalized or out of bounds coordinates [     1.0011]\n",
            "\u001b[34m\u001b[1mtrain: \u001b[0mWARNING ⚠️ /content/drive/MyDrive/3R1CSegmentation/datasets/train_subset/images/000225.jpg: ignoring corrupt image/label: non-normalized or out of bounds coordinates [     1.0004]\n",
            "\u001b[34m\u001b[1mtrain: \u001b[0mWARNING ⚠️ /content/drive/MyDrive/3R1CSegmentation/datasets/train_subset/images/000237.jpg: ignoring corrupt image/label: non-normalized or out of bounds coordinates [     1.0021]\n",
            "\u001b[34m\u001b[1mtrain: \u001b[0mWARNING ⚠️ /content/drive/MyDrive/3R1CSegmentation/datasets/train_subset/images/000238.jpg: ignoring corrupt image/label: non-normalized or out of bounds coordinates [     1.0011]\n",
            "\u001b[34m\u001b[1mtrain: \u001b[0mWARNING ⚠️ /content/drive/MyDrive/3R1CSegmentation/datasets/train_subset/images/000250.jpg: ignoring corrupt image/label: non-normalized or out of bounds coordinates [     1.0007]\n",
            "\u001b[34m\u001b[1mtrain: \u001b[0mWARNING ⚠️ /content/drive/MyDrive/3R1CSegmentation/datasets/train_subset/images/000253.jpg: 1 duplicate labels removed\n",
            "\u001b[34m\u001b[1mtrain: \u001b[0mWARNING ⚠️ /content/drive/MyDrive/3R1CSegmentation/datasets/train_subset/images/000305.jpg: ignoring corrupt image/label: non-normalized or out of bounds coordinates [     1.0005]\n",
            "\u001b[34m\u001b[1mtrain: \u001b[0mWARNING ⚠️ /content/drive/MyDrive/3R1CSegmentation/datasets/train_subset/images/000474.jpg: 1 duplicate labels removed\n",
            "\u001b[34m\u001b[1mtrain: \u001b[0mWARNING ⚠️ /content/drive/MyDrive/3R1CSegmentation/datasets/train_subset/images/000611.jpg: 1 duplicate labels removed\n",
            "\u001b[34m\u001b[1mtrain: \u001b[0mWARNING ⚠️ /content/drive/MyDrive/3R1CSegmentation/datasets/train_subset/images/000687.jpg: 1 duplicate labels removed\n",
            "\u001b[34m\u001b[1mtrain: \u001b[0mWARNING ⚠️ /content/drive/MyDrive/3R1CSegmentation/datasets/train_subset/images/000689.jpg: 1 duplicate labels removed\n",
            "\u001b[34m\u001b[1mtrain: \u001b[0mWARNING ⚠️ /content/drive/MyDrive/3R1CSegmentation/datasets/train_subset/images/000694.jpg: 1 duplicate labels removed\n",
            "\u001b[34m\u001b[1mtrain: \u001b[0mWARNING ⚠️ /content/drive/MyDrive/3R1CSegmentation/datasets/train_subset/images/000699.jpg: 1 duplicate labels removed\n",
            "\u001b[34m\u001b[1mtrain: \u001b[0mWARNING ⚠️ /content/drive/MyDrive/3R1CSegmentation/datasets/train_subset/images/000727.jpg: ignoring corrupt image/label: non-normalized or out of bounds coordinates [     1.0001]\n",
            "\u001b[34m\u001b[1mtrain: \u001b[0mWARNING ⚠️ /content/drive/MyDrive/3R1CSegmentation/datasets/train_subset/images/000728.jpg: ignoring corrupt image/label: non-normalized or out of bounds coordinates [     1.0003]\n",
            "\u001b[34m\u001b[1mtrain: \u001b[0mWARNING ⚠️ /content/drive/MyDrive/3R1CSegmentation/datasets/train_subset/images/000744.jpg: 1 duplicate labels removed\n",
            "\u001b[34m\u001b[1mtrain: \u001b[0mWARNING ⚠️ /content/drive/MyDrive/3R1CSegmentation/datasets/train_subset/images/000939.jpg: 1 duplicate labels removed\n",
            "\u001b[34m\u001b[1mtrain: \u001b[0mWARNING ⚠️ /content/drive/MyDrive/3R1CSegmentation/datasets/train_subset/images/000941.jpg: 1 duplicate labels removed\n",
            "\u001b[34m\u001b[1mtrain: \u001b[0mWARNING ⚠️ /content/drive/MyDrive/3R1CSegmentation/datasets/train_subset/images/000973.jpg: ignoring corrupt image/label: non-normalized or out of bounds coordinates [     1.0009]\n",
            "\u001b[34m\u001b[1mtrain: \u001b[0mWARNING ⚠️ /content/drive/MyDrive/3R1CSegmentation/datasets/train_subset/images/001142.jpg: 1 duplicate labels removed\n",
            "\u001b[34m\u001b[1mtrain: \u001b[0mWARNING ⚠️ /content/drive/MyDrive/3R1CSegmentation/datasets/train_subset/images/001149.jpg: 2 duplicate labels removed\n",
            "\u001b[34m\u001b[1mtrain: \u001b[0mWARNING ⚠️ /content/drive/MyDrive/3R1CSegmentation/datasets/train_subset/images/001151.jpg: 2 duplicate labels removed\n",
            "\u001b[34m\u001b[1mtrain: \u001b[0mWARNING ⚠️ /content/drive/MyDrive/3R1CSegmentation/datasets/train_subset/images/001152.jpg: 2 duplicate labels removed\n",
            "\u001b[34m\u001b[1mtrain: \u001b[0mWARNING ⚠️ /content/drive/MyDrive/3R1CSegmentation/datasets/train_subset/images/001153.jpg: 2 duplicate labels removed\n",
            "\u001b[34m\u001b[1mtrain: \u001b[0mWARNING ⚠️ /content/drive/MyDrive/3R1CSegmentation/datasets/train_subset/images/001155.jpg: 2 duplicate labels removed\n",
            "\u001b[34m\u001b[1mtrain: \u001b[0mWARNING ⚠️ /content/drive/MyDrive/3R1CSegmentation/datasets/train_subset/images/001272.jpg: 1 duplicate labels removed\n",
            "\u001b[34m\u001b[1mtrain: \u001b[0mWARNING ⚠️ /content/drive/MyDrive/3R1CSegmentation/datasets/train_subset/images/001350.jpg: ignoring corrupt image/label: non-normalized or out of bounds coordinates [     1.0021]\n",
            "\u001b[34m\u001b[1mtrain: \u001b[0mWARNING ⚠️ /content/drive/MyDrive/3R1CSegmentation/datasets/train_subset/images/001391.jpg: 1 duplicate labels removed\n",
            "\u001b[34m\u001b[1mtrain: \u001b[0mWARNING ⚠️ /content/drive/MyDrive/3R1CSegmentation/datasets/train_subset/images/001403.jpg: 1 duplicate labels removed\n",
            "\u001b[34m\u001b[1mtrain: \u001b[0mWARNING ⚠️ /content/drive/MyDrive/3R1CSegmentation/datasets/train_subset/images/001422.jpg: 1 duplicate labels removed\n",
            "\u001b[34m\u001b[1mtrain: \u001b[0mWARNING ⚠️ /content/drive/MyDrive/3R1CSegmentation/datasets/train_subset/images/001449.jpg: 1 duplicate labels removed\n",
            "\u001b[34m\u001b[1mtrain: \u001b[0mWARNING ⚠️ /content/drive/MyDrive/3R1CSegmentation/datasets/train_subset/images/001469.jpg: ignoring corrupt image/label: non-normalized or out of bounds coordinates [     1.0005]\n",
            "\u001b[34m\u001b[1mtrain: \u001b[0mWARNING ⚠️ /content/drive/MyDrive/3R1CSegmentation/datasets/train_subset/images/001560.jpg: ignoring corrupt image/label: non-normalized or out of bounds coordinates [     1.0021]\n",
            "\u001b[34m\u001b[1mtrain: \u001b[0mWARNING ⚠️ /content/drive/MyDrive/3R1CSegmentation/datasets/train_subset/images/001611.jpg: 1 duplicate labels removed\n",
            "\u001b[34m\u001b[1mtrain: \u001b[0mWARNING ⚠️ /content/drive/MyDrive/3R1CSegmentation/datasets/train_subset/images/001622.jpg: ignoring corrupt image/label: non-normalized or out of bounds coordinates [     1.0021]\n",
            "\u001b[34m\u001b[1mtrain: \u001b[0mWARNING ⚠️ /content/drive/MyDrive/3R1CSegmentation/datasets/train_subset/images/001652.jpg: 1 duplicate labels removed\n",
            "\u001b[34m\u001b[1mtrain: \u001b[0mWARNING ⚠️ /content/drive/MyDrive/3R1CSegmentation/datasets/train_subset/images/001660.jpg: 2 duplicate labels removed\n",
            "\u001b[34m\u001b[1mtrain: \u001b[0mWARNING ⚠️ /content/drive/MyDrive/3R1CSegmentation/datasets/train_subset/images/001662.jpg: 1 duplicate labels removed\n",
            "\u001b[34m\u001b[1mtrain: \u001b[0mWARNING ⚠️ /content/drive/MyDrive/3R1CSegmentation/datasets/train_subset/images/001663.jpg: 1 duplicate labels removed\n",
            "\u001b[34m\u001b[1mtrain: \u001b[0mWARNING ⚠️ /content/drive/MyDrive/3R1CSegmentation/datasets/train_subset/images/001668.jpg: 2 duplicate labels removed\n",
            "\u001b[34m\u001b[1mtrain: \u001b[0mWARNING ⚠️ /content/drive/MyDrive/3R1CSegmentation/datasets/train_subset/images/001705.jpg: ignoring corrupt image/label: non-normalized or out of bounds coordinates [     1.0008]\n",
            "\u001b[34m\u001b[1mtrain: \u001b[0mWARNING ⚠️ /content/drive/MyDrive/3R1CSegmentation/datasets/train_subset/images/001718.jpg: ignoring corrupt image/label: non-normalized or out of bounds coordinates [     1.0003]\n",
            "\u001b[34m\u001b[1mtrain: \u001b[0mWARNING ⚠️ /content/drive/MyDrive/3R1CSegmentation/datasets/train_subset/images/001751.jpg: 1 duplicate labels removed\n",
            "\u001b[34m\u001b[1mtrain: \u001b[0mWARNING ⚠️ /content/drive/MyDrive/3R1CSegmentation/datasets/train_subset/images/001754.jpg: 1 duplicate labels removed\n",
            "\u001b[34m\u001b[1mtrain: \u001b[0mWARNING ⚠️ /content/drive/MyDrive/3R1CSegmentation/datasets/train_subset/images/001755.jpg: 2 duplicate labels removed\n",
            "\u001b[34m\u001b[1mtrain: \u001b[0mWARNING ⚠️ /content/drive/MyDrive/3R1CSegmentation/datasets/train_subset/images/001801.jpg: 1 duplicate labels removed\n",
            "\u001b[34m\u001b[1mtrain: \u001b[0mWARNING ⚠️ /content/drive/MyDrive/3R1CSegmentation/datasets/train_subset/images/001974.jpg: ignoring corrupt image/label: non-normalized or out of bounds coordinates [     1.0015]\n",
            "\u001b[34m\u001b[1mtrain: \u001b[0mWARNING ⚠️ /content/drive/MyDrive/3R1CSegmentation/datasets/train_subset/images/001994.jpg: 2 duplicate labels removed\n",
            "\u001b[34m\u001b[1mtrain: \u001b[0mWARNING ⚠️ /content/drive/MyDrive/3R1CSegmentation/datasets/train_subset/images/001995.jpg: 2 duplicate labels removed\n",
            "\u001b[34m\u001b[1mtrain: \u001b[0mWARNING ⚠️ /content/drive/MyDrive/3R1CSegmentation/datasets/train_subset/images/001996.jpg: 2 duplicate labels removed\n",
            "\u001b[34m\u001b[1mtrain: \u001b[0mWARNING ⚠️ /content/drive/MyDrive/3R1CSegmentation/datasets/train_subset/images/001997.jpg: 1 duplicate labels removed\n",
            "\u001b[34m\u001b[1mtrain: \u001b[0mWARNING ⚠️ /content/drive/MyDrive/3R1CSegmentation/datasets/train_subset/images/001998.jpg: 1 duplicate labels removed\n",
            "\u001b[34m\u001b[1mtrain: \u001b[0mWARNING ⚠️ /content/drive/MyDrive/3R1CSegmentation/datasets/train_subset/images/002066.jpg: ignoring corrupt image/label: non-normalized or out of bounds coordinates [     1.0001]\n",
            "\u001b[34m\u001b[1mtrain: \u001b[0mWARNING ⚠️ /content/drive/MyDrive/3R1CSegmentation/datasets/train_subset/images/002076.jpg: 1 duplicate labels removed\n",
            "\u001b[34m\u001b[1mtrain: \u001b[0mWARNING ⚠️ /content/drive/MyDrive/3R1CSegmentation/datasets/train_subset/images/002077.jpg: 1 duplicate labels removed\n",
            "\u001b[34m\u001b[1mtrain: \u001b[0mWARNING ⚠️ /content/drive/MyDrive/3R1CSegmentation/datasets/train_subset/images/002102.jpg: 1 duplicate labels removed\n",
            "\u001b[34m\u001b[1mtrain: \u001b[0mWARNING ⚠️ /content/drive/MyDrive/3R1CSegmentation/datasets/train_subset/images/002148.jpg: ignoring corrupt image/label: non-normalized or out of bounds coordinates [      1.001]\n",
            "\u001b[34m\u001b[1mtrain: \u001b[0mWARNING ⚠️ /content/drive/MyDrive/3R1CSegmentation/datasets/train_subset/images/002153.jpg: 2 duplicate labels removed\n",
            "\u001b[34m\u001b[1mtrain: \u001b[0mWARNING ⚠️ /content/drive/MyDrive/3R1CSegmentation/datasets/train_subset/images/002260.jpg: 1 duplicate labels removed\n",
            "\u001b[34m\u001b[1mtrain: \u001b[0mWARNING ⚠️ /content/drive/MyDrive/3R1CSegmentation/datasets/train_subset/images/002279.jpg: ignoring corrupt image/label: non-normalized or out of bounds coordinates [     1.0001]\n",
            "\u001b[34m\u001b[1mtrain: \u001b[0mWARNING ⚠️ /content/drive/MyDrive/3R1CSegmentation/datasets/train_subset/images/002322.jpg: 1 duplicate labels removed\n",
            "\u001b[34m\u001b[1mtrain: \u001b[0mWARNING ⚠️ /content/drive/MyDrive/3R1CSegmentation/datasets/train_subset/images/002384.jpg: ignoring corrupt image/label: non-normalized or out of bounds coordinates [      1.003]\n",
            "\u001b[34m\u001b[1mtrain: \u001b[0mWARNING ⚠️ /content/drive/MyDrive/3R1CSegmentation/datasets/train_subset/images/002386.jpg: ignoring corrupt image/label: non-normalized or out of bounds coordinates [     1.0028]\n",
            "\u001b[34m\u001b[1mtrain: \u001b[0mWARNING ⚠️ /content/drive/MyDrive/3R1CSegmentation/datasets/train_subset/images/002524.jpg: ignoring corrupt image/label: non-normalized or out of bounds coordinates [     1.0014]\n",
            "\u001b[34m\u001b[1mtrain: \u001b[0mWARNING ⚠️ /content/drive/MyDrive/3R1CSegmentation/datasets/train_subset/images/002601.jpg: 2 duplicate labels removed\n",
            "\u001b[34m\u001b[1mtrain: \u001b[0mWARNING ⚠️ /content/drive/MyDrive/3R1CSegmentation/datasets/train_subset/images/002603.jpg: 1 duplicate labels removed\n",
            "\u001b[34m\u001b[1mtrain: \u001b[0mWARNING ⚠️ /content/drive/MyDrive/3R1CSegmentation/datasets/train_subset/images/002629.jpg: ignoring corrupt image/label: non-normalized or out of bounds coordinates [     1.0006]\n",
            "\u001b[34m\u001b[1mtrain: \u001b[0mWARNING ⚠️ /content/drive/MyDrive/3R1CSegmentation/datasets/train_subset/images/002857.jpg: 2 duplicate labels removed\n",
            "\u001b[34m\u001b[1mtrain: \u001b[0mWARNING ⚠️ /content/drive/MyDrive/3R1CSegmentation/datasets/train_subset/images/002860.jpg: 2 duplicate labels removed\n",
            "\u001b[34m\u001b[1mtrain: \u001b[0mWARNING ⚠️ /content/drive/MyDrive/3R1CSegmentation/datasets/train_subset/images/002930.jpg: 2 duplicate labels removed\n",
            "\u001b[34m\u001b[1mtrain: \u001b[0mWARNING ⚠️ /content/drive/MyDrive/3R1CSegmentation/datasets/train_subset/images/002967.jpg: 1 duplicate labels removed\n",
            "\u001b[34m\u001b[1mtrain: \u001b[0mWARNING ⚠️ /content/drive/MyDrive/3R1CSegmentation/datasets/train_subset/images/002991.jpg: 1 duplicate labels removed\n",
            "\u001b[34m\u001b[1mtrain: \u001b[0mWARNING ⚠️ /content/drive/MyDrive/3R1CSegmentation/datasets/train_subset/images/003174.jpg: 1 duplicate labels removed\n",
            "\u001b[34m\u001b[1mtrain: \u001b[0mWARNING ⚠️ /content/drive/MyDrive/3R1CSegmentation/datasets/train_subset/images/003177.jpg: 1 duplicate labels removed\n",
            "\u001b[34m\u001b[1mtrain: \u001b[0mWARNING ⚠️ /content/drive/MyDrive/3R1CSegmentation/datasets/train_subset/images/003188.jpg: 1 duplicate labels removed\n",
            "\u001b[34m\u001b[1mtrain: \u001b[0mWARNING ⚠️ /content/drive/MyDrive/3R1CSegmentation/datasets/train_subset/images/003197.jpg: 2 duplicate labels removed\n",
            "\u001b[34m\u001b[1mtrain: \u001b[0mWARNING ⚠️ /content/drive/MyDrive/3R1CSegmentation/datasets/train_subset/images/003198.jpg: 1 duplicate labels removed\n",
            "\u001b[34m\u001b[1mtrain: \u001b[0mWARNING ⚠️ /content/drive/MyDrive/3R1CSegmentation/datasets/train_subset/images/003226.jpg: 1 duplicate labels removed\n",
            "\u001b[34m\u001b[1mtrain: \u001b[0mWARNING ⚠️ /content/drive/MyDrive/3R1CSegmentation/datasets/train_subset/images/003272.jpg: 1 duplicate labels removed\n",
            "\u001b[34m\u001b[1mtrain: \u001b[0mWARNING ⚠️ /content/drive/MyDrive/3R1CSegmentation/datasets/train_subset/images/003377.jpg: 1 duplicate labels removed\n",
            "\u001b[34m\u001b[1mtrain: \u001b[0mWARNING ⚠️ /content/drive/MyDrive/3R1CSegmentation/datasets/train_subset/images/003399.jpg: 2 duplicate labels removed\n",
            "\u001b[34m\u001b[1mtrain: \u001b[0mWARNING ⚠️ /content/drive/MyDrive/3R1CSegmentation/datasets/train_subset/images/003430.jpg: 1 duplicate labels removed\n",
            "\u001b[34m\u001b[1mtrain: \u001b[0mWARNING ⚠️ /content/drive/MyDrive/3R1CSegmentation/datasets/train_subset/images/003443.jpg: 2 duplicate labels removed\n",
            "\u001b[34m\u001b[1mtrain: \u001b[0mWARNING ⚠️ /content/drive/MyDrive/3R1CSegmentation/datasets/train_subset/images/003649.jpg: ignoring corrupt image/label: non-normalized or out of bounds coordinates [     1.0004      1.0015]\n",
            "\u001b[34m\u001b[1mtrain: \u001b[0mWARNING ⚠️ /content/drive/MyDrive/3R1CSegmentation/datasets/train_subset/images/003686.jpg: 1 duplicate labels removed\n",
            "\u001b[34m\u001b[1mtrain: \u001b[0mWARNING ⚠️ /content/drive/MyDrive/3R1CSegmentation/datasets/train_subset/images/003749.jpg: 2 duplicate labels removed\n",
            "\u001b[34m\u001b[1mtrain: \u001b[0mWARNING ⚠️ /content/drive/MyDrive/3R1CSegmentation/datasets/train_subset/images/003900.jpg: 2 duplicate labels removed\n",
            "\u001b[34m\u001b[1mtrain: \u001b[0mWARNING ⚠️ /content/drive/MyDrive/3R1CSegmentation/datasets/train_subset/images/003909.jpg: 1 duplicate labels removed\n",
            "\u001b[34m\u001b[1mtrain: \u001b[0mWARNING ⚠️ /content/drive/MyDrive/3R1CSegmentation/datasets/train_subset/images/003924.jpg: 1 duplicate labels removed\n",
            "\u001b[34m\u001b[1mtrain: \u001b[0mWARNING ⚠️ /content/drive/MyDrive/3R1CSegmentation/datasets/train_subset/images/003937.jpg: 1 duplicate labels removed\n",
            "\u001b[34m\u001b[1mtrain: \u001b[0mWARNING ⚠️ /content/drive/MyDrive/3R1CSegmentation/datasets/train_subset/images/004117.jpg: 1 duplicate labels removed\n",
            "\u001b[34m\u001b[1mtrain: \u001b[0mWARNING ⚠️ /content/drive/MyDrive/3R1CSegmentation/datasets/train_subset/images/004125.jpg: 2 duplicate labels removed\n",
            "\u001b[34m\u001b[1mtrain: \u001b[0mWARNING ⚠️ /content/drive/MyDrive/3R1CSegmentation/datasets/train_subset/images/004126.jpg: 1 duplicate labels removed\n",
            "\u001b[34m\u001b[1mtrain: \u001b[0mWARNING ⚠️ /content/drive/MyDrive/3R1CSegmentation/datasets/train_subset/images/004130.jpg: ignoring corrupt image/label: non-normalized or out of bounds coordinates [     1.0003]\n",
            "\u001b[34m\u001b[1mtrain: \u001b[0mWARNING ⚠️ /content/drive/MyDrive/3R1CSegmentation/datasets/train_subset/images/004227.jpg: 1 duplicate labels removed\n",
            "\u001b[34m\u001b[1mtrain: \u001b[0mWARNING ⚠️ /content/drive/MyDrive/3R1CSegmentation/datasets/train_subset/images/004231.jpg: 1 duplicate labels removed\n",
            "\u001b[34m\u001b[1mtrain: \u001b[0mWARNING ⚠️ /content/drive/MyDrive/3R1CSegmentation/datasets/train_subset/images/004232.jpg: 1 duplicate labels removed\n",
            "\u001b[34m\u001b[1mtrain: \u001b[0mWARNING ⚠️ /content/drive/MyDrive/3R1CSegmentation/datasets/train_subset/images/004362.jpg: ignoring corrupt image/label: non-normalized or out of bounds coordinates [     1.0016]\n",
            "\u001b[34m\u001b[1mtrain: \u001b[0mWARNING ⚠️ /content/drive/MyDrive/3R1CSegmentation/datasets/train_subset/images/004376.jpg: ignoring corrupt image/label: non-normalized or out of bounds coordinates [     1.0003]\n",
            "\u001b[34m\u001b[1mtrain: \u001b[0mWARNING ⚠️ /content/drive/MyDrive/3R1CSegmentation/datasets/train_subset/images/004523.jpg: 1 duplicate labels removed\n",
            "\u001b[34m\u001b[1mtrain: \u001b[0mWARNING ⚠️ /content/drive/MyDrive/3R1CSegmentation/datasets/train_subset/images/004645.jpg: ignoring corrupt image/label: non-normalized or out of bounds coordinates [     1.0002]\n",
            "\u001b[34m\u001b[1mtrain: \u001b[0mWARNING ⚠️ /content/drive/MyDrive/3R1CSegmentation/datasets/train_subset/images/004666.jpg: 1 duplicate labels removed\n",
            "\u001b[34m\u001b[1mtrain: \u001b[0mWARNING ⚠️ /content/drive/MyDrive/3R1CSegmentation/datasets/train_subset/images/004694.jpg: ignoring corrupt image/label: non-normalized or out of bounds coordinates [     1.0021]\n",
            "\u001b[34m\u001b[1mtrain: \u001b[0mWARNING ⚠️ /content/drive/MyDrive/3R1CSegmentation/datasets/train_subset/images/004712.jpg: ignoring corrupt image/label: non-normalized or out of bounds coordinates [     1.0029]\n",
            "\u001b[34m\u001b[1mtrain: \u001b[0mWARNING ⚠️ /content/drive/MyDrive/3R1CSegmentation/datasets/train_subset/images/004732.jpg: 1 duplicate labels removed\n",
            "\u001b[34m\u001b[1mtrain: \u001b[0mWARNING ⚠️ /content/drive/MyDrive/3R1CSegmentation/datasets/train_subset/images/004736.jpg: ignoring corrupt image/label: non-normalized or out of bounds coordinates [     1.0006]\n",
            "\u001b[34m\u001b[1mtrain: \u001b[0mWARNING ⚠️ /content/drive/MyDrive/3R1CSegmentation/datasets/train_subset/images/004786.jpg: ignoring corrupt image/label: non-normalized or out of bounds coordinates [     1.0008      1.0001]\n",
            "\u001b[34m\u001b[1mtrain: \u001b[0mWARNING ⚠️ /content/drive/MyDrive/3R1CSegmentation/datasets/train_subset/images/004809.jpg: 1 duplicate labels removed\n",
            "\u001b[34m\u001b[1mtrain: \u001b[0mWARNING ⚠️ /content/drive/MyDrive/3R1CSegmentation/datasets/train_subset/images/004830.jpg: ignoring corrupt image/label: non-normalized or out of bounds coordinates [     1.0006      1.0002]\n",
            "\u001b[34m\u001b[1mtrain: \u001b[0mWARNING ⚠️ /content/drive/MyDrive/3R1CSegmentation/datasets/train_subset/images/004890.jpg: 1 duplicate labels removed\n",
            "\u001b[34m\u001b[1mtrain: \u001b[0mWARNING ⚠️ /content/drive/MyDrive/3R1CSegmentation/datasets/train_subset/images/004893.jpg: 1 duplicate labels removed\n",
            "\u001b[34m\u001b[1mtrain: \u001b[0mWARNING ⚠️ /content/drive/MyDrive/3R1CSegmentation/datasets/train_subset/images/004933.jpg: 1 duplicate labels removed\n",
            "\u001b[34m\u001b[1mtrain: \u001b[0mWARNING ⚠️ /content/drive/MyDrive/3R1CSegmentation/datasets/train_subset/images/005067.jpg: ignoring corrupt image/label: non-normalized or out of bounds coordinates [     1.0006      1.0014]\n",
            "\u001b[34m\u001b[1mtrain: \u001b[0mWARNING ⚠️ /content/drive/MyDrive/3R1CSegmentation/datasets/train_subset/images/005079.jpg: 1 duplicate labels removed\n",
            "\u001b[34m\u001b[1mtrain: \u001b[0mWARNING ⚠️ /content/drive/MyDrive/3R1CSegmentation/datasets/train_subset/images/005236.jpg: ignoring corrupt image/label: non-normalized or out of bounds coordinates [     1.0007]\n",
            "\u001b[34m\u001b[1mtrain: \u001b[0mWARNING ⚠️ /content/drive/MyDrive/3R1CSegmentation/datasets/train_subset/images/005251.jpg: 1 duplicate labels removed\n",
            "\u001b[34m\u001b[1mtrain: \u001b[0mWARNING ⚠️ /content/drive/MyDrive/3R1CSegmentation/datasets/train_subset/images/005253.jpg: 1 duplicate labels removed\n",
            "\u001b[34m\u001b[1mtrain: \u001b[0mWARNING ⚠️ /content/drive/MyDrive/3R1CSegmentation/datasets/train_subset/images/005255.jpg: 1 duplicate labels removed\n",
            "\u001b[34m\u001b[1mtrain: \u001b[0mWARNING ⚠️ /content/drive/MyDrive/3R1CSegmentation/datasets/train_subset/images/005256.jpg: 1 duplicate labels removed\n",
            "\u001b[34m\u001b[1mtrain: \u001b[0mWARNING ⚠️ /content/drive/MyDrive/3R1CSegmentation/datasets/train_subset/images/005261.jpg: 1 duplicate labels removed\n",
            "\u001b[34m\u001b[1mtrain: \u001b[0mWARNING ⚠️ /content/drive/MyDrive/3R1CSegmentation/datasets/train_subset/images/005342.jpg: 1 duplicate labels removed\n",
            "\u001b[34m\u001b[1mtrain: \u001b[0mWARNING ⚠️ /content/drive/MyDrive/3R1CSegmentation/datasets/train_subset/images/005622.jpg: 1 duplicate labels removed\n",
            "\u001b[34m\u001b[1mtrain: \u001b[0mWARNING ⚠️ /content/drive/MyDrive/3R1CSegmentation/datasets/train_subset/images/005665.jpg: 1 duplicate labels removed\n",
            "\u001b[34m\u001b[1mtrain: \u001b[0mWARNING ⚠️ /content/drive/MyDrive/3R1CSegmentation/datasets/train_subset/images/005676.jpg: 1 duplicate labels removed\n",
            "\u001b[34m\u001b[1mtrain: \u001b[0mWARNING ⚠️ /content/drive/MyDrive/3R1CSegmentation/datasets/train_subset/images/005835.jpg: 1 duplicate labels removed\n",
            "\u001b[34m\u001b[1mtrain: \u001b[0mWARNING ⚠️ /content/drive/MyDrive/3R1CSegmentation/datasets/train_subset/images/005985.jpg: ignoring corrupt image/label: non-normalized or out of bounds coordinates [      1.001]\n",
            "\u001b[34m\u001b[1mtrain: \u001b[0mWARNING ⚠️ /content/drive/MyDrive/3R1CSegmentation/datasets/train_subset/images/006005.jpg: 1 duplicate labels removed\n",
            "\u001b[34m\u001b[1mtrain: \u001b[0mWARNING ⚠️ /content/drive/MyDrive/3R1CSegmentation/datasets/train_subset/images/006014.jpg: 1 duplicate labels removed\n",
            "\u001b[34m\u001b[1mtrain: \u001b[0mWARNING ⚠️ /content/drive/MyDrive/3R1CSegmentation/datasets/train_subset/images/006015.jpg: 1 duplicate labels removed\n",
            "\u001b[34m\u001b[1mtrain: \u001b[0mWARNING ⚠️ /content/drive/MyDrive/3R1CSegmentation/datasets/train_subset/images/006102.jpg: 1 duplicate labels removed\n",
            "\u001b[34m\u001b[1mtrain: \u001b[0mWARNING ⚠️ /content/drive/MyDrive/3R1CSegmentation/datasets/train_subset/images/006103.jpg: 1 duplicate labels removed\n",
            "\u001b[34m\u001b[1mtrain: \u001b[0mWARNING ⚠️ /content/drive/MyDrive/3R1CSegmentation/datasets/train_subset/images/006127.jpg: 1 duplicate labels removed\n",
            "\u001b[34m\u001b[1mtrain: \u001b[0mWARNING ⚠️ /content/drive/MyDrive/3R1CSegmentation/datasets/train_subset/images/006147.jpg: 2 duplicate labels removed\n",
            "\u001b[34m\u001b[1mtrain: \u001b[0mWARNING ⚠️ /content/drive/MyDrive/3R1CSegmentation/datasets/train_subset/images/006148.jpg: 1 duplicate labels removed\n",
            "\u001b[34m\u001b[1mtrain: \u001b[0mWARNING ⚠️ /content/drive/MyDrive/3R1CSegmentation/datasets/train_subset/images/006149.jpg: 2 duplicate labels removed\n",
            "\u001b[34m\u001b[1mtrain: \u001b[0mWARNING ⚠️ /content/drive/MyDrive/3R1CSegmentation/datasets/train_subset/images/006150.jpg: 2 duplicate labels removed\n",
            "\u001b[34m\u001b[1mtrain: \u001b[0mWARNING ⚠️ /content/drive/MyDrive/3R1CSegmentation/datasets/train_subset/images/006152.jpg: 1 duplicate labels removed\n",
            "\u001b[34m\u001b[1mtrain: \u001b[0mWARNING ⚠️ /content/drive/MyDrive/3R1CSegmentation/datasets/train_subset/images/006219.jpg: ignoring corrupt image/label: non-normalized or out of bounds coordinates [     1.0055]\n",
            "\u001b[34m\u001b[1mtrain: \u001b[0mWARNING ⚠️ /content/drive/MyDrive/3R1CSegmentation/datasets/train_subset/images/006597.jpg: ignoring corrupt image/label: non-normalized or out of bounds coordinates [     1.0012]\n",
            "\u001b[34m\u001b[1mtrain: \u001b[0mWARNING ⚠️ /content/drive/MyDrive/3R1CSegmentation/datasets/train_subset/images/006674.jpg: ignoring corrupt image/label: non-normalized or out of bounds coordinates [     1.0001]\n",
            "\u001b[34m\u001b[1mtrain: \u001b[0mWARNING ⚠️ /content/drive/MyDrive/3R1CSegmentation/datasets/train_subset/images/006678.jpg: ignoring corrupt image/label: non-normalized or out of bounds coordinates [     1.0004]\n",
            "\u001b[34m\u001b[1mtrain: \u001b[0mWARNING ⚠️ /content/drive/MyDrive/3R1CSegmentation/datasets/train_subset/images/006716.jpg: 2 duplicate labels removed\n",
            "\u001b[34m\u001b[1mtrain: \u001b[0mWARNING ⚠️ /content/drive/MyDrive/3R1CSegmentation/datasets/train_subset/images/006719.jpg: ignoring corrupt image/label: non-normalized or out of bounds coordinates [     1.0025]\n",
            "\u001b[34m\u001b[1mtrain: \u001b[0mWARNING ⚠️ /content/drive/MyDrive/3R1CSegmentation/datasets/train_subset/images/006733.jpg: 1 duplicate labels removed\n",
            "\u001b[34m\u001b[1mtrain: \u001b[0mWARNING ⚠️ /content/drive/MyDrive/3R1CSegmentation/datasets/train_subset/images/006967.jpg: 1 duplicate labels removed\n",
            "\u001b[34m\u001b[1mtrain: \u001b[0mWARNING ⚠️ /content/drive/MyDrive/3R1CSegmentation/datasets/train_subset/images/006973.jpg: ignoring corrupt image/label: non-normalized or out of bounds coordinates [     1.0004]\n",
            "\u001b[34m\u001b[1mtrain: \u001b[0mWARNING ⚠️ /content/drive/MyDrive/3R1CSegmentation/datasets/train_subset/images/007089.jpg: ignoring corrupt image/label: non-normalized or out of bounds coordinates [     1.0008]\n",
            "\u001b[34m\u001b[1mtrain: \u001b[0mWARNING ⚠️ /content/drive/MyDrive/3R1CSegmentation/datasets/train_subset/images/007126.jpg: ignoring corrupt image/label: non-normalized or out of bounds coordinates [     1.0002]\n",
            "\u001b[34m\u001b[1mtrain: \u001b[0mWARNING ⚠️ /content/drive/MyDrive/3R1CSegmentation/datasets/train_subset/images/007127.jpg: ignoring corrupt image/label: non-normalized or out of bounds coordinates [     1.0007]\n",
            "\u001b[34m\u001b[1mtrain: \u001b[0mWARNING ⚠️ /content/drive/MyDrive/3R1CSegmentation/datasets/train_subset/images/007138.jpg: ignoring corrupt image/label: non-normalized or out of bounds coordinates [     1.0002]\n",
            "\u001b[34m\u001b[1mtrain: \u001b[0mWARNING ⚠️ /content/drive/MyDrive/3R1CSegmentation/datasets/train_subset/images/007181.jpg: ignoring corrupt image/label: non-normalized or out of bounds coordinates [     1.0007      1.0004]\n",
            "\u001b[34m\u001b[1mtrain: \u001b[0mWARNING ⚠️ /content/drive/MyDrive/3R1CSegmentation/datasets/train_subset/images/007185.jpg: ignoring corrupt image/label: non-normalized or out of bounds coordinates [     1.0027]\n",
            "\u001b[34m\u001b[1mtrain: \u001b[0mWARNING ⚠️ /content/drive/MyDrive/3R1CSegmentation/datasets/train_subset/images/007205.jpg: ignoring corrupt image/label: non-normalized or out of bounds coordinates [     1.0011]\n",
            "\u001b[34m\u001b[1mtrain: \u001b[0mWARNING ⚠️ /content/drive/MyDrive/3R1CSegmentation/datasets/train_subset/images/007294.jpg: ignoring corrupt image/label: non-normalized or out of bounds coordinates [     1.0003]\n",
            "\u001b[34m\u001b[1mtrain: \u001b[0mWARNING ⚠️ /content/drive/MyDrive/3R1CSegmentation/datasets/train_subset/images/007317.jpg: ignoring corrupt image/label: non-normalized or out of bounds coordinates [     1.0015]\n",
            "\u001b[34m\u001b[1mtrain: \u001b[0mWARNING ⚠️ /content/drive/MyDrive/3R1CSegmentation/datasets/train_subset/images/007343.jpg: 1 duplicate labels removed\n",
            "\u001b[34m\u001b[1mtrain: \u001b[0mWARNING ⚠️ /content/drive/MyDrive/3R1CSegmentation/datasets/train_subset/images/007453.jpg: 2 duplicate labels removed\n",
            "\u001b[34m\u001b[1mtrain: \u001b[0mWARNING ⚠️ /content/drive/MyDrive/3R1CSegmentation/datasets/train_subset/images/007557.jpg: 1 duplicate labels removed\n",
            "\u001b[34m\u001b[1mtrain: \u001b[0mWARNING ⚠️ /content/drive/MyDrive/3R1CSegmentation/datasets/train_subset/images/007558.jpg: 2 duplicate labels removed\n",
            "\u001b[34m\u001b[1mtrain: \u001b[0mWARNING ⚠️ /content/drive/MyDrive/3R1CSegmentation/datasets/train_subset/images/007559.jpg: 1 duplicate labels removed\n",
            "\u001b[34m\u001b[1mtrain: \u001b[0mWARNING ⚠️ /content/drive/MyDrive/3R1CSegmentation/datasets/train_subset/images/007560.jpg: 1 duplicate labels removed\n",
            "\u001b[34m\u001b[1mtrain: \u001b[0mWARNING ⚠️ /content/drive/MyDrive/3R1CSegmentation/datasets/train_subset/images/007561.jpg: 1 duplicate labels removed\n",
            "\u001b[34m\u001b[1mtrain: \u001b[0mWARNING ⚠️ /content/drive/MyDrive/3R1CSegmentation/datasets/train_subset/images/007562.jpg: 1 duplicate labels removed\n",
            "\u001b[34m\u001b[1mtrain: \u001b[0mWARNING ⚠️ /content/drive/MyDrive/3R1CSegmentation/datasets/train_subset/images/007563.jpg: 1 duplicate labels removed\n",
            "\u001b[34m\u001b[1mtrain: \u001b[0mWARNING ⚠️ /content/drive/MyDrive/3R1CSegmentation/datasets/train_subset/images/007567.jpg: 1 duplicate labels removed\n",
            "\u001b[34m\u001b[1mtrain: \u001b[0mWARNING ⚠️ /content/drive/MyDrive/3R1CSegmentation/datasets/train_subset/images/007568.jpg: 1 duplicate labels removed\n",
            "\u001b[34m\u001b[1mtrain: \u001b[0mWARNING ⚠️ /content/drive/MyDrive/3R1CSegmentation/datasets/train_subset/images/007569.jpg: 2 duplicate labels removed\n",
            "\u001b[34m\u001b[1mtrain: \u001b[0mWARNING ⚠️ /content/drive/MyDrive/3R1CSegmentation/datasets/train_subset/images/007570.jpg: 1 duplicate labels removed\n",
            "\u001b[34m\u001b[1mtrain: \u001b[0mWARNING ⚠️ /content/drive/MyDrive/3R1CSegmentation/datasets/train_subset/images/007572.jpg: 1 duplicate labels removed\n",
            "\u001b[34m\u001b[1mtrain: \u001b[0mWARNING ⚠️ /content/drive/MyDrive/3R1CSegmentation/datasets/train_subset/images/007573.jpg: 1 duplicate labels removed\n",
            "\u001b[34m\u001b[1mtrain: \u001b[0mWARNING ⚠️ /content/drive/MyDrive/3R1CSegmentation/datasets/train_subset/images/007574.jpg: 1 duplicate labels removed\n",
            "\u001b[34m\u001b[1mtrain: \u001b[0mWARNING ⚠️ /content/drive/MyDrive/3R1CSegmentation/datasets/train_subset/images/007576.jpg: 2 duplicate labels removed\n",
            "\u001b[34m\u001b[1mtrain: \u001b[0mWARNING ⚠️ /content/drive/MyDrive/3R1CSegmentation/datasets/train_subset/images/007577.jpg: 1 duplicate labels removed\n",
            "\u001b[34m\u001b[1mtrain: \u001b[0mWARNING ⚠️ /content/drive/MyDrive/3R1CSegmentation/datasets/train_subset/images/007578.jpg: 2 duplicate labels removed\n",
            "\u001b[34m\u001b[1mtrain: \u001b[0mWARNING ⚠️ /content/drive/MyDrive/3R1CSegmentation/datasets/train_subset/images/007579.jpg: 1 duplicate labels removed\n",
            "\u001b[34m\u001b[1mtrain: \u001b[0mWARNING ⚠️ /content/drive/MyDrive/3R1CSegmentation/datasets/train_subset/images/007580.jpg: ignoring corrupt image/label: non-normalized or out of bounds coordinates [     1.0016]\n",
            "\u001b[34m\u001b[1mtrain: \u001b[0mWARNING ⚠️ /content/drive/MyDrive/3R1CSegmentation/datasets/train_subset/images/007589.jpg: 1 duplicate labels removed\n",
            "\u001b[34m\u001b[1mtrain: \u001b[0mWARNING ⚠️ /content/drive/MyDrive/3R1CSegmentation/datasets/train_subset/images/007592.jpg: 1 duplicate labels removed\n",
            "\u001b[34m\u001b[1mtrain: \u001b[0mWARNING ⚠️ /content/drive/MyDrive/3R1CSegmentation/datasets/train_subset/images/007595.jpg: 1 duplicate labels removed\n",
            "\u001b[34m\u001b[1mtrain: \u001b[0mWARNING ⚠️ /content/drive/MyDrive/3R1CSegmentation/datasets/train_subset/images/007597.jpg: 1 duplicate labels removed\n",
            "\u001b[34m\u001b[1mtrain: \u001b[0mWARNING ⚠️ /content/drive/MyDrive/3R1CSegmentation/datasets/train_subset/images/007658.jpg: 1 duplicate labels removed\n",
            "\u001b[34m\u001b[1mtrain: \u001b[0mWARNING ⚠️ /content/drive/MyDrive/3R1CSegmentation/datasets/train_subset/images/007660.jpg: 1 duplicate labels removed\n",
            "\u001b[34m\u001b[1mtrain: \u001b[0mWARNING ⚠️ /content/drive/MyDrive/3R1CSegmentation/datasets/train_subset/images/007737.jpg: 1 duplicate labels removed\n",
            "\u001b[34m\u001b[1mtrain: \u001b[0mWARNING ⚠️ /content/drive/MyDrive/3R1CSegmentation/datasets/train_subset/images/007823.jpg: 1 duplicate labels removed\n",
            "\u001b[34m\u001b[1mtrain: \u001b[0mWARNING ⚠️ /content/drive/MyDrive/3R1CSegmentation/datasets/train_subset/images/007843.jpg: 1 duplicate labels removed\n",
            "\u001b[34m\u001b[1mtrain: \u001b[0mWARNING ⚠️ /content/drive/MyDrive/3R1CSegmentation/datasets/train_subset/images/008000.jpg: 2 duplicate labels removed\n",
            "\u001b[34m\u001b[1mtrain: \u001b[0mWARNING ⚠️ /content/drive/MyDrive/3R1CSegmentation/datasets/train_subset/images/008002.jpg: 1 duplicate labels removed\n",
            "\u001b[34m\u001b[1mtrain: \u001b[0mWARNING ⚠️ /content/drive/MyDrive/3R1CSegmentation/datasets/train_subset/images/008005.jpg: 1 duplicate labels removed\n",
            "\u001b[34m\u001b[1mtrain: \u001b[0mWARNING ⚠️ /content/drive/MyDrive/3R1CSegmentation/datasets/train_subset/images/008125.jpg: 2 duplicate labels removed\n",
            "\u001b[34m\u001b[1mtrain: \u001b[0mWARNING ⚠️ /content/drive/MyDrive/3R1CSegmentation/datasets/train_subset/images/008175.jpg: 1 duplicate labels removed\n",
            "\u001b[34m\u001b[1mtrain: \u001b[0mWARNING ⚠️ /content/drive/MyDrive/3R1CSegmentation/datasets/train_subset/images/008178.jpg: 1 duplicate labels removed\n",
            "\u001b[34m\u001b[1mtrain: \u001b[0mWARNING ⚠️ /content/drive/MyDrive/3R1CSegmentation/datasets/train_subset/images/008194.jpg: 1 duplicate labels removed\n",
            "\u001b[34m\u001b[1mtrain: \u001b[0mWARNING ⚠️ /content/drive/MyDrive/3R1CSegmentation/datasets/train_subset/images/008240.jpg: 1 duplicate labels removed\n",
            "\u001b[34m\u001b[1mtrain: \u001b[0mWARNING ⚠️ /content/drive/MyDrive/3R1CSegmentation/datasets/train_subset/images/008262.jpg: 1 duplicate labels removed\n",
            "\u001b[34m\u001b[1mtrain: \u001b[0mWARNING ⚠️ /content/drive/MyDrive/3R1CSegmentation/datasets/train_subset/images/008432.jpg: 1 duplicate labels removed\n",
            "\u001b[34m\u001b[1mtrain: \u001b[0mWARNING ⚠️ /content/drive/MyDrive/3R1CSegmentation/datasets/train_subset/images/008791.jpg: 1 duplicate labels removed\n",
            "\u001b[34m\u001b[1mtrain: \u001b[0mWARNING ⚠️ /content/drive/MyDrive/3R1CSegmentation/datasets/train_subset/images/008793.jpg: 1 duplicate labels removed\n",
            "\u001b[34m\u001b[1mtrain: \u001b[0mWARNING ⚠️ /content/drive/MyDrive/3R1CSegmentation/datasets/train_subset/images/008804.jpg: ignoring corrupt image/label: non-normalized or out of bounds coordinates [     1.0009]\n",
            "\u001b[34m\u001b[1mtrain: \u001b[0mWARNING ⚠️ /content/drive/MyDrive/3R1CSegmentation/datasets/train_subset/images/009071.jpg: ignoring corrupt image/label: non-normalized or out of bounds coordinates [      1.002]\n",
            "\u001b[34m\u001b[1mtrain: \u001b[0mWARNING ⚠️ /content/drive/MyDrive/3R1CSegmentation/datasets/train_subset/images/009081.jpg: ignoring corrupt image/label: non-normalized or out of bounds coordinates [     1.0024]\n",
            "\u001b[34m\u001b[1mtrain: \u001b[0mWARNING ⚠️ /content/drive/MyDrive/3R1CSegmentation/datasets/train_subset/images/009111.jpg: 1 duplicate labels removed\n",
            "\u001b[34m\u001b[1mtrain: \u001b[0mWARNING ⚠️ /content/drive/MyDrive/3R1CSegmentation/datasets/train_subset/images/009131.jpg: ignoring corrupt image/label: non-normalized or out of bounds coordinates [     1.0014]\n",
            "\u001b[34m\u001b[1mtrain: \u001b[0mWARNING ⚠️ /content/drive/MyDrive/3R1CSegmentation/datasets/train_subset/images/009252.jpg: 1 duplicate labels removed\n",
            "\u001b[34m\u001b[1mtrain: \u001b[0mWARNING ⚠️ /content/drive/MyDrive/3R1CSegmentation/datasets/train_subset/images/009382.jpg: 1 duplicate labels removed\n",
            "\u001b[34m\u001b[1mtrain: \u001b[0mWARNING ⚠️ /content/drive/MyDrive/3R1CSegmentation/datasets/train_subset/images/009441.jpg: 2 duplicate labels removed\n",
            "\u001b[34m\u001b[1mtrain: \u001b[0mWARNING ⚠️ /content/drive/MyDrive/3R1CSegmentation/datasets/train_subset/images/009446.jpg: 1 duplicate labels removed\n",
            "\u001b[34m\u001b[1mtrain: \u001b[0mWARNING ⚠️ /content/drive/MyDrive/3R1CSegmentation/datasets/train_subset/images/009471.jpg: 1 duplicate labels removed\n",
            "\u001b[34m\u001b[1mtrain: \u001b[0mWARNING ⚠️ /content/drive/MyDrive/3R1CSegmentation/datasets/train_subset/images/009548.jpg: 1 duplicate labels removed\n",
            "\u001b[34m\u001b[1mtrain: \u001b[0mWARNING ⚠️ /content/drive/MyDrive/3R1CSegmentation/datasets/train_subset/images/009640.jpg: 1 duplicate labels removed\n",
            "\u001b[34m\u001b[1mtrain: \u001b[0mWARNING ⚠️ /content/drive/MyDrive/3R1CSegmentation/datasets/train_subset/images/009646.jpg: 1 duplicate labels removed\n",
            "\u001b[34m\u001b[1mtrain: \u001b[0mWARNING ⚠️ /content/drive/MyDrive/3R1CSegmentation/datasets/train_subset/images/009665.jpg: 1 duplicate labels removed\n",
            "\u001b[34m\u001b[1mtrain: \u001b[0mWARNING ⚠️ /content/drive/MyDrive/3R1CSegmentation/datasets/train_subset/images/009830.jpg: 1 duplicate labels removed\n",
            "\u001b[34m\u001b[1mtrain: \u001b[0mWARNING ⚠️ /content/drive/MyDrive/3R1CSegmentation/datasets/train_subset/images/009837.jpg: 1 duplicate labels removed\n",
            "\u001b[34m\u001b[1mtrain: \u001b[0mWARNING ⚠️ /content/drive/MyDrive/3R1CSegmentation/datasets/train_subset/images/009881.jpg: 1 duplicate labels removed\n",
            "\u001b[34m\u001b[1mtrain: \u001b[0mWARNING ⚠️ /content/drive/MyDrive/3R1CSegmentation/datasets/train_subset/images/009891.jpg: 2 duplicate labels removed\n",
            "\u001b[34m\u001b[1mtrain: \u001b[0mWARNING ⚠️ /content/drive/MyDrive/3R1CSegmentation/datasets/train_subset/images/009895.jpg: 1 duplicate labels removed\n",
            "\u001b[34m\u001b[1malbumentations: \u001b[0mBlur(p=0.01, blur_limit=(3, 7)), MedianBlur(p=0.01, blur_limit=(3, 7)), ToGray(p=0.01, num_output_channels=3, method='weighted_average'), CLAHE(p=0.01, clip_limit=(1.0, 4.0), tile_grid_size=(8, 8))\n"
          ]
        },
        {
          "output_type": "stream",
          "name": "stderr",
          "text": [
            "\n",
            "\u001b[34m\u001b[1mval: \u001b[0mScanning /content/drive/MyDrive/3R1CSegmentation/datasets/val_subset/labels.cache... 4286 images, 0 backgrounds, 0 corrupt: 100%|██████████| 4286/4286 [00:00<?, ?it/s]"
          ]
        },
        {
          "output_type": "stream",
          "name": "stdout",
          "text": [
            "\u001b[34m\u001b[1mval: \u001b[0mWARNING ⚠️ /content/drive/MyDrive/3R1CSegmentation/datasets/val_subset/images/000643.jpg: 1 duplicate labels removed\n"
          ]
        },
        {
          "output_type": "stream",
          "name": "stderr",
          "text": [
            "\n"
          ]
        },
        {
          "output_type": "stream",
          "name": "stdout",
          "text": [
            "Plotting labels to runs/segment/train1232/labels.jpg... \n",
            "\u001b[34m\u001b[1moptimizer:\u001b[0m AdamW(lr=0.00726, momentum=0.91123) with parameter groups 90 weight(decay=0.0), 101 weight(decay=0.000255), 100 bias(decay=0.0)\n",
            "\u001b[34m\u001b[1mTensorBoard: \u001b[0mmodel graph visualization added ✅\n",
            "Image sizes 640 train, 640 val\n",
            "Using 8 dataloader workers\n",
            "Logging results to \u001b[1mruns/segment/train1232\u001b[0m\n",
            "Starting training for 100 epochs...\n",
            "\n",
            "      Epoch    GPU_mem   box_loss   seg_loss   cls_loss   dfl_loss  Instances       Size\n"
          ]
        },
        {
          "output_type": "stream",
          "name": "stderr",
          "text": [
            "      1/100      14.4G     0.8609      2.179      1.048      1.042         78        640: 100%|██████████| 208/208 [01:24<00:00,  2.46it/s]\n",
            "                 Class     Images  Instances      Box(P          R      mAP50  mAP50-95)     Mask(P          R      mAP50  mAP50-95): 100%|██████████| 45/45 [00:29<00:00,  1.52it/s]\n"
          ]
        },
        {
          "output_type": "stream",
          "name": "stdout",
          "text": [
            "                   all       4286       6776      0.347       0.34      0.326      0.254       0.37      0.201      0.196     0.0926\n",
            "\n",
            "      Epoch    GPU_mem   box_loss   seg_loss   cls_loss   dfl_loss  Instances       Size\n"
          ]
        },
        {
          "output_type": "stream",
          "name": "stderr",
          "text": [
            "      2/100      18.4G     0.8688      2.174      1.059      1.043         47        640: 100%|██████████| 208/208 [01:21<00:00,  2.54it/s]\n",
            "                 Class     Images  Instances      Box(P          R      mAP50  mAP50-95)     Mask(P          R      mAP50  mAP50-95): 100%|██████████| 45/45 [00:28<00:00,  1.56it/s]\n"
          ]
        },
        {
          "output_type": "stream",
          "name": "stdout",
          "text": [
            "                   all       4286       6776      0.471       0.35      0.298      0.233      0.403       0.25      0.207      0.127\n",
            "\n",
            "      Epoch    GPU_mem   box_loss   seg_loss   cls_loss   dfl_loss  Instances       Size\n"
          ]
        },
        {
          "output_type": "stream",
          "name": "stderr",
          "text": [
            "      3/100      18.5G     0.8915      2.234      1.105      1.055         53        640: 100%|██████████| 208/208 [01:22<00:00,  2.53it/s]\n",
            "                 Class     Images  Instances      Box(P          R      mAP50  mAP50-95)     Mask(P          R      mAP50  mAP50-95): 100%|██████████| 45/45 [00:29<00:00,  1.52it/s]\n"
          ]
        },
        {
          "output_type": "stream",
          "name": "stdout",
          "text": [
            "                   all       4286       6776      0.285      0.388      0.309      0.245      0.224      0.274      0.206      0.127\n",
            "\n",
            "      Epoch    GPU_mem   box_loss   seg_loss   cls_loss   dfl_loss  Instances       Size\n"
          ]
        },
        {
          "output_type": "stream",
          "name": "stderr",
          "text": [
            "      4/100      18.5G     0.9023      2.238      1.115      1.063         45        640: 100%|██████████| 208/208 [01:22<00:00,  2.53it/s]\n",
            "                 Class     Images  Instances      Box(P          R      mAP50  mAP50-95)     Mask(P          R      mAP50  mAP50-95): 100%|██████████| 45/45 [00:28<00:00,  1.58it/s]\n"
          ]
        },
        {
          "output_type": "stream",
          "name": "stdout",
          "text": [
            "                   all       4286       6776      0.466      0.342      0.294      0.232      0.349      0.197      0.155     0.0674\n",
            "\n",
            "      Epoch    GPU_mem   box_loss   seg_loss   cls_loss   dfl_loss  Instances       Size\n"
          ]
        },
        {
          "output_type": "stream",
          "name": "stderr",
          "text": [
            "      5/100      18.5G     0.8944      2.234      1.106      1.057         66        640: 100%|██████████| 208/208 [01:21<00:00,  2.55it/s]\n",
            "                 Class     Images  Instances      Box(P          R      mAP50  mAP50-95)     Mask(P          R      mAP50  mAP50-95): 100%|██████████| 45/45 [00:29<00:00,  1.55it/s]\n"
          ]
        },
        {
          "output_type": "stream",
          "name": "stdout",
          "text": [
            "                   all       4286       6776      0.291      0.363      0.298      0.234      0.202      0.228      0.158     0.0819\n",
            "\n",
            "      Epoch    GPU_mem   box_loss   seg_loss   cls_loss   dfl_loss  Instances       Size\n"
          ]
        },
        {
          "output_type": "stream",
          "name": "stderr",
          "text": [
            "      6/100      18.5G     0.8911       2.23      1.095      1.056         65        640: 100%|██████████| 208/208 [01:22<00:00,  2.52it/s]\n",
            "                 Class     Images  Instances      Box(P          R      mAP50  mAP50-95)     Mask(P          R      mAP50  mAP50-95): 100%|██████████| 45/45 [00:28<00:00,  1.61it/s]\n"
          ]
        },
        {
          "output_type": "stream",
          "name": "stdout",
          "text": [
            "                   all       4286       6776       0.31      0.341      0.305      0.241      0.217      0.212      0.179      0.087\n",
            "\n",
            "      Epoch    GPU_mem   box_loss   seg_loss   cls_loss   dfl_loss  Instances       Size\n"
          ]
        },
        {
          "output_type": "stream",
          "name": "stderr",
          "text": [
            "      7/100      18.5G     0.8914      2.216      1.095      1.056         49        640: 100%|██████████| 208/208 [01:21<00:00,  2.54it/s]\n",
            "                 Class     Images  Instances      Box(P          R      mAP50  mAP50-95)     Mask(P          R      mAP50  mAP50-95): 100%|██████████| 45/45 [00:28<00:00,  1.58it/s]\n"
          ]
        },
        {
          "output_type": "stream",
          "name": "stdout",
          "text": [
            "                   all       4286       6776      0.392      0.373      0.314      0.243      0.385      0.209      0.178     0.0763\n",
            "\n",
            "      Epoch    GPU_mem   box_loss   seg_loss   cls_loss   dfl_loss  Instances       Size\n"
          ]
        },
        {
          "output_type": "stream",
          "name": "stderr",
          "text": [
            "      8/100      18.5G     0.8858      2.191      1.072      1.053         71        640: 100%|██████████| 208/208 [01:22<00:00,  2.51it/s]\n",
            "                 Class     Images  Instances      Box(P          R      mAP50  mAP50-95)     Mask(P          R      mAP50  mAP50-95): 100%|██████████| 45/45 [00:28<00:00,  1.56it/s]\n"
          ]
        },
        {
          "output_type": "stream",
          "name": "stdout",
          "text": [
            "                   all       4286       6776      0.291      0.345      0.272      0.214      0.195      0.208      0.157     0.0768\n",
            "\n",
            "      Epoch    GPU_mem   box_loss   seg_loss   cls_loss   dfl_loss  Instances       Size\n"
          ]
        },
        {
          "output_type": "stream",
          "name": "stderr",
          "text": [
            "      9/100      18.5G     0.8796      2.201      1.079      1.051         50        640: 100%|██████████| 208/208 [01:21<00:00,  2.55it/s]\n",
            "                 Class     Images  Instances      Box(P          R      mAP50  mAP50-95)     Mask(P          R      mAP50  mAP50-95): 100%|██████████| 45/45 [00:28<00:00,  1.57it/s]\n"
          ]
        },
        {
          "output_type": "stream",
          "name": "stdout",
          "text": [
            "                   all       4286       6776      0.398      0.329      0.291      0.226      0.319      0.204      0.187     0.0982\n",
            "\n",
            "      Epoch    GPU_mem   box_loss   seg_loss   cls_loss   dfl_loss  Instances       Size\n"
          ]
        },
        {
          "output_type": "stream",
          "name": "stderr",
          "text": [
            "     10/100      18.5G     0.8819      2.162      1.054      1.046         73        640: 100%|██████████| 208/208 [01:21<00:00,  2.54it/s]\n",
            "                 Class     Images  Instances      Box(P          R      mAP50  mAP50-95)     Mask(P          R      mAP50  mAP50-95): 100%|██████████| 45/45 [00:29<00:00,  1.52it/s]\n"
          ]
        },
        {
          "output_type": "stream",
          "name": "stdout",
          "text": [
            "                   all       4286       6776      0.409      0.365      0.333      0.268       0.31      0.214      0.189     0.0919\n",
            "\n",
            "      Epoch    GPU_mem   box_loss   seg_loss   cls_loss   dfl_loss  Instances       Size\n"
          ]
        },
        {
          "output_type": "stream",
          "name": "stderr",
          "text": [
            "     11/100      18.5G     0.8717      2.161      1.041      1.044         67        640: 100%|██████████| 208/208 [01:22<00:00,  2.54it/s]\n",
            "                 Class     Images  Instances      Box(P          R      mAP50  mAP50-95)     Mask(P          R      mAP50  mAP50-95): 100%|██████████| 45/45 [00:29<00:00,  1.54it/s]\n"
          ]
        },
        {
          "output_type": "stream",
          "name": "stdout",
          "text": [
            "                   all       4286       6776      0.348      0.372      0.316      0.249      0.203      0.179      0.141     0.0593\n",
            "\n",
            "      Epoch    GPU_mem   box_loss   seg_loss   cls_loss   dfl_loss  Instances       Size\n"
          ]
        },
        {
          "output_type": "stream",
          "name": "stderr",
          "text": [
            "     12/100      18.5G     0.8654      2.152      1.038      1.042         95        640: 100%|██████████| 208/208 [01:21<00:00,  2.54it/s]\n",
            "                 Class     Images  Instances      Box(P          R      mAP50  mAP50-95)     Mask(P          R      mAP50  mAP50-95): 100%|██████████| 45/45 [00:28<00:00,  1.56it/s]\n"
          ]
        },
        {
          "output_type": "stream",
          "name": "stdout",
          "text": [
            "                   all       4286       6776       0.34      0.371       0.33      0.264      0.155      0.178      0.107     0.0409\n",
            "\n",
            "      Epoch    GPU_mem   box_loss   seg_loss   cls_loss   dfl_loss  Instances       Size\n"
          ]
        },
        {
          "output_type": "stream",
          "name": "stderr",
          "text": [
            "     13/100      18.5G     0.8618      2.132      1.027      1.037         61        640: 100%|██████████| 208/208 [01:23<00:00,  2.51it/s]\n",
            "                 Class     Images  Instances      Box(P          R      mAP50  mAP50-95)     Mask(P          R      mAP50  mAP50-95): 100%|██████████| 45/45 [00:28<00:00,  1.56it/s]\n"
          ]
        },
        {
          "output_type": "stream",
          "name": "stdout",
          "text": [
            "                   all       4286       6776      0.353      0.365      0.341      0.274     0.0974      0.135     0.0547     0.0178\n",
            "\n",
            "      Epoch    GPU_mem   box_loss   seg_loss   cls_loss   dfl_loss  Instances       Size\n"
          ]
        },
        {
          "output_type": "stream",
          "name": "stderr",
          "text": [
            "     14/100      18.5G     0.8668      2.132      1.021      1.041         95        640: 100%|██████████| 208/208 [01:22<00:00,  2.51it/s]\n",
            "                 Class     Images  Instances      Box(P          R      mAP50  mAP50-95)     Mask(P          R      mAP50  mAP50-95): 100%|██████████| 45/45 [00:28<00:00,  1.55it/s]\n"
          ]
        },
        {
          "output_type": "stream",
          "name": "stdout",
          "text": [
            "                   all       4286       6776      0.435      0.346      0.313      0.248      0.146      0.115     0.0291    0.00969\n",
            "\n",
            "      Epoch    GPU_mem   box_loss   seg_loss   cls_loss   dfl_loss  Instances       Size\n"
          ]
        },
        {
          "output_type": "stream",
          "name": "stderr",
          "text": [
            "     15/100      18.5G     0.8554      2.107      1.009      1.033         66        640: 100%|██████████| 208/208 [01:23<00:00,  2.48it/s]\n",
            "                 Class     Images  Instances      Box(P          R      mAP50  mAP50-95)     Mask(P          R      mAP50  mAP50-95): 100%|██████████| 45/45 [00:29<00:00,  1.54it/s]\n"
          ]
        },
        {
          "output_type": "stream",
          "name": "stdout",
          "text": [
            "                   all       4286       6776      0.326      0.375      0.321      0.252     0.0259     0.0585    0.00761    0.00218\n",
            "\n",
            "      Epoch    GPU_mem   box_loss   seg_loss   cls_loss   dfl_loss  Instances       Size\n"
          ]
        },
        {
          "output_type": "stream",
          "name": "stderr",
          "text": [
            "     16/100      18.5G     0.8559      2.106      1.009      1.032         61        640: 100%|██████████| 208/208 [01:22<00:00,  2.51it/s]\n",
            "                 Class     Images  Instances      Box(P          R      mAP50  mAP50-95)     Mask(P          R      mAP50  mAP50-95): 100%|██████████| 45/45 [00:29<00:00,  1.54it/s]\n"
          ]
        },
        {
          "output_type": "stream",
          "name": "stdout",
          "text": [
            "                   all       4286       6776      0.449      0.363      0.345      0.279     0.0681     0.0849     0.0252    0.00946\n",
            "\n",
            "      Epoch    GPU_mem   box_loss   seg_loss   cls_loss   dfl_loss  Instances       Size\n"
          ]
        },
        {
          "output_type": "stream",
          "name": "stderr",
          "text": [
            "     17/100      18.5G      0.851      2.092     0.9873       1.03         72        640: 100%|██████████| 208/208 [01:23<00:00,  2.48it/s]\n",
            "                 Class     Images  Instances      Box(P          R      mAP50  mAP50-95)     Mask(P          R      mAP50  mAP50-95): 100%|██████████| 45/45 [00:28<00:00,  1.57it/s]\n"
          ]
        },
        {
          "output_type": "stream",
          "name": "stdout",
          "text": [
            "                   all       4286       6776      0.388      0.378      0.324      0.258     0.0784      0.103     0.0357     0.0117\n",
            "\n",
            "      Epoch    GPU_mem   box_loss   seg_loss   cls_loss   dfl_loss  Instances       Size\n"
          ]
        },
        {
          "output_type": "stream",
          "name": "stderr",
          "text": [
            "     18/100      18.5G     0.8493      2.083     0.9901      1.026         64        640: 100%|██████████| 208/208 [01:22<00:00,  2.52it/s]\n",
            "                 Class     Images  Instances      Box(P          R      mAP50  mAP50-95)     Mask(P          R      mAP50  mAP50-95): 100%|██████████| 45/45 [00:28<00:00,  1.57it/s]\n"
          ]
        },
        {
          "output_type": "stream",
          "name": "stdout",
          "text": [
            "                   all       4286       6776      0.362      0.379      0.356      0.285     0.0434     0.0632     0.0117    0.00401\n",
            "\n",
            "      Epoch    GPU_mem   box_loss   seg_loss   cls_loss   dfl_loss  Instances       Size\n"
          ]
        },
        {
          "output_type": "stream",
          "name": "stderr",
          "text": [
            "     19/100      18.5G     0.8441      2.067      0.981      1.027         33        640: 100%|██████████| 208/208 [01:23<00:00,  2.51it/s]\n",
            "                 Class     Images  Instances      Box(P          R      mAP50  mAP50-95)     Mask(P          R      mAP50  mAP50-95): 100%|██████████| 45/45 [00:29<00:00,  1.55it/s]\n"
          ]
        },
        {
          "output_type": "stream",
          "name": "stdout",
          "text": [
            "                   all       4286       6776      0.408        0.4      0.346      0.279      0.036     0.0567     0.0101    0.00322\n",
            "\n",
            "      Epoch    GPU_mem   box_loss   seg_loss   cls_loss   dfl_loss  Instances       Size\n"
          ]
        },
        {
          "output_type": "stream",
          "name": "stderr",
          "text": [
            "     20/100      18.5G     0.8351      2.056     0.9679      1.019         74        640: 100%|██████████| 208/208 [01:22<00:00,  2.51it/s]\n",
            "                 Class     Images  Instances      Box(P          R      mAP50  mAP50-95)     Mask(P          R      mAP50  mAP50-95): 100%|██████████| 45/45 [00:28<00:00,  1.58it/s]\n"
          ]
        },
        {
          "output_type": "stream",
          "name": "stdout",
          "text": [
            "                   all       4286       6776      0.354      0.374      0.334      0.267     0.0748      0.111     0.0344     0.0112\n",
            "\n",
            "      Epoch    GPU_mem   box_loss   seg_loss   cls_loss   dfl_loss  Instances       Size\n"
          ]
        },
        {
          "output_type": "stream",
          "name": "stderr",
          "text": [
            "     21/100      18.5G     0.8342      2.053     0.9587      1.021         73        640: 100%|██████████| 208/208 [01:23<00:00,  2.50it/s]\n",
            "                 Class     Images  Instances      Box(P          R      mAP50  mAP50-95)     Mask(P          R      mAP50  mAP50-95): 100%|██████████| 45/45 [00:28<00:00,  1.57it/s]\n"
          ]
        },
        {
          "output_type": "stream",
          "name": "stdout",
          "text": [
            "                   all       4286       6776      0.413      0.391       0.34      0.276     0.0369       0.08     0.0133    0.00454\n",
            "\n",
            "      Epoch    GPU_mem   box_loss   seg_loss   cls_loss   dfl_loss  Instances       Size\n"
          ]
        },
        {
          "output_type": "stream",
          "name": "stderr",
          "text": [
            "     22/100      18.5G     0.8344      2.037      0.957      1.019         88        640: 100%|██████████| 208/208 [01:23<00:00,  2.50it/s]\n",
            "                 Class     Images  Instances      Box(P          R      mAP50  mAP50-95)     Mask(P          R      mAP50  mAP50-95): 100%|██████████| 45/45 [00:28<00:00,  1.57it/s]\n"
          ]
        },
        {
          "output_type": "stream",
          "name": "stdout",
          "text": [
            "                   all       4286       6776      0.469      0.364      0.362      0.294     0.0232     0.0489    0.00537    0.00151\n",
            "\n",
            "      Epoch    GPU_mem   box_loss   seg_loss   cls_loss   dfl_loss  Instances       Size\n"
          ]
        },
        {
          "output_type": "stream",
          "name": "stderr",
          "text": [
            "     23/100      18.5G     0.8345      2.026     0.9409      1.019         56        640: 100%|██████████| 208/208 [01:23<00:00,  2.51it/s]\n",
            "                 Class     Images  Instances      Box(P          R      mAP50  mAP50-95)     Mask(P          R      mAP50  mAP50-95): 100%|██████████| 45/45 [00:28<00:00,  1.57it/s]\n"
          ]
        },
        {
          "output_type": "stream",
          "name": "stdout",
          "text": [
            "                   all       4286       6776      0.407      0.405      0.345      0.282     0.0535     0.0928      0.021    0.00776\n",
            "\n",
            "      Epoch    GPU_mem   box_loss   seg_loss   cls_loss   dfl_loss  Instances       Size\n"
          ]
        },
        {
          "output_type": "stream",
          "name": "stderr",
          "text": [
            "     24/100      18.5G     0.8288      2.025      0.942      1.019         55        640: 100%|██████████| 208/208 [01:23<00:00,  2.50it/s]\n",
            "                 Class     Images  Instances      Box(P          R      mAP50  mAP50-95)     Mask(P          R      mAP50  mAP50-95): 100%|██████████| 45/45 [00:28<00:00,  1.56it/s]\n"
          ]
        },
        {
          "output_type": "stream",
          "name": "stdout",
          "text": [
            "                   all       4286       6776      0.359      0.388      0.335      0.273     0.0479     0.0615      0.014    0.00466\n",
            "\n",
            "      Epoch    GPU_mem   box_loss   seg_loss   cls_loss   dfl_loss  Instances       Size\n"
          ]
        },
        {
          "output_type": "stream",
          "name": "stderr",
          "text": [
            "     25/100      18.5G     0.8248      2.003     0.9297      1.014         58        640: 100%|██████████| 208/208 [01:22<00:00,  2.53it/s]\n",
            "                 Class     Images  Instances      Box(P          R      mAP50  mAP50-95)     Mask(P          R      mAP50  mAP50-95): 100%|██████████| 45/45 [00:28<00:00,  1.59it/s]\n"
          ]
        },
        {
          "output_type": "stream",
          "name": "stdout",
          "text": [
            "                   all       4286       6776      0.419      0.394      0.333       0.27     0.0522     0.0724     0.0189    0.00638\n",
            "\n",
            "      Epoch    GPU_mem   box_loss   seg_loss   cls_loss   dfl_loss  Instances       Size\n"
          ]
        },
        {
          "output_type": "stream",
          "name": "stderr",
          "text": [
            "     26/100      18.5G     0.8202      2.002     0.9242      1.011         52        640: 100%|██████████| 208/208 [01:22<00:00,  2.53it/s]\n",
            "                 Class     Images  Instances      Box(P          R      mAP50  mAP50-95)     Mask(P          R      mAP50  mAP50-95): 100%|██████████| 45/45 [00:29<00:00,  1.54it/s]\n"
          ]
        },
        {
          "output_type": "stream",
          "name": "stdout",
          "text": [
            "                   all       4286       6776      0.371      0.424      0.358      0.289     0.0749     0.0834     0.0353     0.0121\n",
            "\n",
            "      Epoch    GPU_mem   box_loss   seg_loss   cls_loss   dfl_loss  Instances       Size\n"
          ]
        },
        {
          "output_type": "stream",
          "name": "stderr",
          "text": [
            "     27/100      18.5G     0.8185       1.99     0.9193       1.01         71        640: 100%|██████████| 208/208 [01:22<00:00,  2.51it/s]\n",
            "                 Class     Images  Instances      Box(P          R      mAP50  mAP50-95)     Mask(P          R      mAP50  mAP50-95): 100%|██████████| 45/45 [00:28<00:00,  1.57it/s]\n"
          ]
        },
        {
          "output_type": "stream",
          "name": "stdout",
          "text": [
            "                   all       4286       6776       0.48      0.364      0.348      0.282     0.0791     0.0802     0.0254    0.00796\n",
            "\n",
            "      Epoch    GPU_mem   box_loss   seg_loss   cls_loss   dfl_loss  Instances       Size\n"
          ]
        },
        {
          "output_type": "stream",
          "name": "stderr",
          "text": [
            "     28/100      18.5G     0.8148      1.971     0.9037      1.005         58        640: 100%|██████████| 208/208 [01:22<00:00,  2.52it/s]\n",
            "                 Class     Images  Instances      Box(P          R      mAP50  mAP50-95)     Mask(P          R      mAP50  mAP50-95): 100%|██████████| 45/45 [00:28<00:00,  1.59it/s]\n"
          ]
        },
        {
          "output_type": "stream",
          "name": "stdout",
          "text": [
            "                   all       4286       6776      0.355      0.398      0.352      0.288     0.0638     0.0701     0.0246    0.00743\n",
            "\n",
            "      Epoch    GPU_mem   box_loss   seg_loss   cls_loss   dfl_loss  Instances       Size\n"
          ]
        },
        {
          "output_type": "stream",
          "name": "stderr",
          "text": [
            "     29/100      18.5G     0.8133      1.971     0.8989      1.004         36        640: 100%|██████████| 208/208 [01:22<00:00,  2.52it/s]\n",
            "                 Class     Images  Instances      Box(P          R      mAP50  mAP50-95)     Mask(P          R      mAP50  mAP50-95): 100%|██████████| 45/45 [00:28<00:00,  1.59it/s]\n"
          ]
        },
        {
          "output_type": "stream",
          "name": "stdout",
          "text": [
            "                   all       4286       6776      0.382      0.367      0.347      0.284     0.0295     0.0411    0.00824    0.00202\n",
            "\n",
            "      Epoch    GPU_mem   box_loss   seg_loss   cls_loss   dfl_loss  Instances       Size\n"
          ]
        },
        {
          "output_type": "stream",
          "name": "stderr",
          "text": [
            "     30/100      18.5G      0.807      1.957     0.8928      1.004         83        640: 100%|██████████| 208/208 [01:22<00:00,  2.52it/s]\n",
            "                 Class     Images  Instances      Box(P          R      mAP50  mAP50-95)     Mask(P          R      mAP50  mAP50-95): 100%|██████████| 45/45 [00:28<00:00,  1.59it/s]\n"
          ]
        },
        {
          "output_type": "stream",
          "name": "stdout",
          "text": [
            "                   all       4286       6776      0.348      0.407      0.358      0.295     0.0545     0.0774     0.0237    0.00802\n",
            "\n",
            "      Epoch    GPU_mem   box_loss   seg_loss   cls_loss   dfl_loss  Instances       Size\n"
          ]
        },
        {
          "output_type": "stream",
          "name": "stderr",
          "text": [
            "     31/100      18.5G     0.8068      1.953     0.8895      1.005         58        640: 100%|██████████| 208/208 [01:23<00:00,  2.49it/s]\n",
            "                 Class     Images  Instances      Box(P          R      mAP50  mAP50-95)     Mask(P          R      mAP50  mAP50-95): 100%|██████████| 45/45 [00:28<00:00,  1.58it/s]\n"
          ]
        },
        {
          "output_type": "stream",
          "name": "stdout",
          "text": [
            "                   all       4286       6776      0.345      0.416      0.347      0.284      0.026     0.0446    0.00643    0.00217\n",
            "\n",
            "      Epoch    GPU_mem   box_loss   seg_loss   cls_loss   dfl_loss  Instances       Size\n"
          ]
        },
        {
          "output_type": "stream",
          "name": "stderr",
          "text": [
            "     32/100      18.5G     0.8036      1.949     0.8922      1.002         61        640: 100%|██████████| 208/208 [01:22<00:00,  2.52it/s]\n",
            "                 Class     Images  Instances      Box(P          R      mAP50  mAP50-95)     Mask(P          R      mAP50  mAP50-95): 100%|██████████| 45/45 [00:28<00:00,  1.59it/s]\n"
          ]
        },
        {
          "output_type": "stream",
          "name": "stdout",
          "text": [
            "                   all       4286       6776      0.392      0.355      0.358      0.295     0.0333     0.0597     0.0112    0.00324\n",
            "\n",
            "      Epoch    GPU_mem   box_loss   seg_loss   cls_loss   dfl_loss  Instances       Size\n"
          ]
        },
        {
          "output_type": "stream",
          "name": "stderr",
          "text": [
            "     33/100      18.5G      0.802       1.94     0.8793          1         68        640: 100%|██████████| 208/208 [01:22<00:00,  2.52it/s]\n",
            "                 Class     Images  Instances      Box(P          R      mAP50  mAP50-95)     Mask(P          R      mAP50  mAP50-95): 100%|██████████| 45/45 [00:28<00:00,  1.56it/s]\n"
          ]
        },
        {
          "output_type": "stream",
          "name": "stdout",
          "text": [
            "                   all       4286       6776      0.371      0.401       0.35      0.286     0.0306     0.0646    0.00921     0.0026\n",
            "\n",
            "      Epoch    GPU_mem   box_loss   seg_loss   cls_loss   dfl_loss  Instances       Size\n"
          ]
        },
        {
          "output_type": "stream",
          "name": "stderr",
          "text": [
            "     34/100      18.5G     0.7975      1.919     0.8737     0.9965         49        640: 100%|██████████| 208/208 [01:22<00:00,  2.51it/s]\n",
            "                 Class     Images  Instances      Box(P          R      mAP50  mAP50-95)     Mask(P          R      mAP50  mAP50-95): 100%|██████████| 45/45 [00:28<00:00,  1.58it/s]\n"
          ]
        },
        {
          "output_type": "stream",
          "name": "stdout",
          "text": [
            "                   all       4286       6776      0.423       0.37       0.35      0.288     0.0397     0.0497     0.0105    0.00285\n",
            "\n",
            "      Epoch    GPU_mem   box_loss   seg_loss   cls_loss   dfl_loss  Instances       Size\n"
          ]
        },
        {
          "output_type": "stream",
          "name": "stderr",
          "text": [
            "     35/100      18.5G     0.7915      1.911     0.8538      0.993         66        640: 100%|██████████| 208/208 [01:22<00:00,  2.52it/s]\n",
            "                 Class     Images  Instances      Box(P          R      mAP50  mAP50-95)     Mask(P          R      mAP50  mAP50-95): 100%|██████████| 45/45 [00:29<00:00,  1.55it/s]\n"
          ]
        },
        {
          "output_type": "stream",
          "name": "stdout",
          "text": [
            "                   all       4286       6776      0.461       0.38      0.355      0.293     0.0354     0.0578     0.0109    0.00305\n",
            "\n",
            "      Epoch    GPU_mem   box_loss   seg_loss   cls_loss   dfl_loss  Instances       Size\n"
          ]
        },
        {
          "output_type": "stream",
          "name": "stderr",
          "text": [
            "     36/100      18.5G     0.7959      1.917     0.8689     0.9977         42        640: 100%|██████████| 208/208 [01:21<00:00,  2.56it/s]\n",
            "                 Class     Images  Instances      Box(P          R      mAP50  mAP50-95)     Mask(P          R      mAP50  mAP50-95): 100%|██████████| 45/45 [00:27<00:00,  1.62it/s]\n"
          ]
        },
        {
          "output_type": "stream",
          "name": "stdout",
          "text": [
            "                   all       4286       6776      0.337      0.464      0.365      0.298     0.0353     0.0472     0.0106    0.00305\n",
            "\n",
            "      Epoch    GPU_mem   box_loss   seg_loss   cls_loss   dfl_loss  Instances       Size\n"
          ]
        },
        {
          "output_type": "stream",
          "name": "stderr",
          "text": [
            "     37/100      18.5G     0.7857      1.899     0.8537       0.99         61        640: 100%|██████████| 208/208 [01:21<00:00,  2.55it/s]\n",
            "                 Class     Images  Instances      Box(P          R      mAP50  mAP50-95)     Mask(P          R      mAP50  mAP50-95): 100%|██████████| 45/45 [00:27<00:00,  1.61it/s]\n"
          ]
        },
        {
          "output_type": "stream",
          "name": "stdout",
          "text": [
            "                   all       4286       6776      0.477      0.385      0.352      0.288       0.04     0.0555     0.0108    0.00366\n",
            "\n",
            "      Epoch    GPU_mem   box_loss   seg_loss   cls_loss   dfl_loss  Instances       Size\n"
          ]
        },
        {
          "output_type": "stream",
          "name": "stderr",
          "text": [
            "     38/100      18.5G     0.7863      1.883     0.8426     0.9903         66        640: 100%|██████████| 208/208 [01:21<00:00,  2.55it/s]\n",
            "                 Class     Images  Instances      Box(P          R      mAP50  mAP50-95)     Mask(P          R      mAP50  mAP50-95): 100%|██████████| 45/45 [00:28<00:00,  1.60it/s]\n"
          ]
        },
        {
          "output_type": "stream",
          "name": "stdout",
          "text": [
            "                   all       4286       6776      0.368      0.397      0.354       0.29     0.0251     0.0398    0.00519    0.00184\n",
            "\n",
            "      Epoch    GPU_mem   box_loss   seg_loss   cls_loss   dfl_loss  Instances       Size\n"
          ]
        },
        {
          "output_type": "stream",
          "name": "stderr",
          "text": [
            "     39/100      18.5G     0.7805      1.871     0.8315     0.9882         69        640: 100%|██████████| 208/208 [01:21<00:00,  2.54it/s]\n",
            "                 Class     Images  Instances      Box(P          R      mAP50  mAP50-95)     Mask(P          R      mAP50  mAP50-95): 100%|██████████| 45/45 [00:28<00:00,  1.58it/s]\n"
          ]
        },
        {
          "output_type": "stream",
          "name": "stdout",
          "text": [
            "                   all       4286       6776      0.346      0.454      0.364        0.3     0.0169     0.0405    0.00409    0.00157\n",
            "\n",
            "      Epoch    GPU_mem   box_loss   seg_loss   cls_loss   dfl_loss  Instances       Size\n"
          ]
        },
        {
          "output_type": "stream",
          "name": "stderr",
          "text": [
            "     40/100      18.5G     0.7803      1.873     0.8343     0.9905         66        640: 100%|██████████| 208/208 [01:22<00:00,  2.52it/s]\n",
            "                 Class     Images  Instances      Box(P          R      mAP50  mAP50-95)     Mask(P          R      mAP50  mAP50-95): 100%|██████████| 45/45 [00:28<00:00,  1.61it/s]\n"
          ]
        },
        {
          "output_type": "stream",
          "name": "stdout",
          "text": [
            "                   all       4286       6776      0.375      0.405      0.362      0.299     0.0301      0.044    0.00648     0.0023\n",
            "\n",
            "      Epoch    GPU_mem   box_loss   seg_loss   cls_loss   dfl_loss  Instances       Size\n"
          ]
        },
        {
          "output_type": "stream",
          "name": "stderr",
          "text": [
            "     41/100      18.5G      0.779       1.86     0.8267     0.9861         62        640: 100%|██████████| 208/208 [01:21<00:00,  2.54it/s]\n",
            "                 Class     Images  Instances      Box(P          R      mAP50  mAP50-95)     Mask(P          R      mAP50  mAP50-95): 100%|██████████| 45/45 [00:27<00:00,  1.62it/s]\n"
          ]
        },
        {
          "output_type": "stream",
          "name": "stdout",
          "text": [
            "                   all       4286       6776      0.363      0.423      0.359      0.296      0.029     0.0428    0.00707    0.00275\n",
            "\n",
            "      Epoch    GPU_mem   box_loss   seg_loss   cls_loss   dfl_loss  Instances       Size\n"
          ]
        },
        {
          "output_type": "stream",
          "name": "stderr",
          "text": [
            "     42/100      18.5G     0.7739      1.853     0.8183     0.9817         54        640: 100%|██████████| 208/208 [01:22<00:00,  2.52it/s]\n",
            "                 Class     Images  Instances      Box(P          R      mAP50  mAP50-95)     Mask(P          R      mAP50  mAP50-95): 100%|██████████| 45/45 [00:27<00:00,  1.62it/s]\n"
          ]
        },
        {
          "output_type": "stream",
          "name": "stdout",
          "text": [
            "                   all       4286       6776      0.425      0.381      0.358      0.295     0.0232     0.0336    0.00476    0.00182\n",
            "\n",
            "      Epoch    GPU_mem   box_loss   seg_loss   cls_loss   dfl_loss  Instances       Size\n"
          ]
        },
        {
          "output_type": "stream",
          "name": "stderr",
          "text": [
            "     43/100      18.5G     0.7699      1.852     0.8222     0.9808        370        640:  86%|████████▌ | 178/208 [01:09<00:11,  2.56it/s]\n",
            "ERROR:root:Internal Python error in the inspect module.\n",
            "Below is the traceback from this internal error.\n",
            "\n",
            "ERROR:root:Internal Python error in the inspect module.\n",
            "Below is the traceback from this internal error.\n",
            "\n",
            "ERROR:root:Internal Python error in the inspect module.\n",
            "Below is the traceback from this internal error.\n",
            "\n"
          ]
        },
        {
          "output_type": "stream",
          "name": "stdout",
          "text": [
            "Traceback (most recent call last):\n",
            "  File \"/usr/local/lib/python3.11/dist-packages/IPython/core/interactiveshell.py\", line 3553, in run_code\n",
            "    exec(code_obj, self.user_global_ns, self.user_ns)\n",
            "  File \"<ipython-input-14-449b339b38d6>\", line 1, in <cell line: 0>\n",
            "    model_segmentation.train(data='yoloSeg.yaml', epochs=100, imgsz=640,batch=0.7,optimizer=\"AdamW\",\n",
            "  File \"/usr/local/lib/python3.11/dist-packages/ultralytics/engine/model.py\", line 791, in train\n",
            "    self.trainer.train()\n",
            "  File \"/usr/local/lib/python3.11/dist-packages/ultralytics/engine/trainer.py\", line 211, in train\n",
            "    self._do_train(world_size)\n",
            "  File \"/usr/local/lib/python3.11/dist-packages/ultralytics/engine/trainer.py\", line 367, in _do_train\n",
            "    for i, batch in pbar:\n",
            "  File \"/usr/local/lib/python3.11/dist-packages/tqdm/std.py\", line 1181, in __iter__\n",
            "    for obj in iterable:\n",
            "  File \"/usr/local/lib/python3.11/dist-packages/ultralytics/data/build.py\", line 59, in __iter__\n",
            "    yield next(self.iterator)\n",
            "          ^^^^^^^^^^^^^^^^^^^\n",
            "  File \"/usr/local/lib/python3.11/dist-packages/torch/utils/data/dataloader.py\", line 708, in __next__\n",
            "    data = self._next_data()\n",
            "           ^^^^^^^^^^^^^^^^^\n",
            "  File \"/usr/local/lib/python3.11/dist-packages/torch/utils/data/dataloader.py\", line 1480, in _next_data\n",
            "    return self._process_data(data)\n",
            "           ^^^^^^^^^^^^^^^^^^^^^^^^\n",
            "  File \"/usr/local/lib/python3.11/dist-packages/torch/utils/data/dataloader.py\", line 1505, in _process_data\n",
            "    data.reraise()\n",
            "  File \"/usr/local/lib/python3.11/dist-packages/torch/_utils.py\", line 733, in reraise\n",
            "    raise exception\n",
            "FileNotFoundError: Caught FileNotFoundError in DataLoader worker process 2.\n",
            "Original Traceback (most recent call last):\n",
            "  File \"/usr/local/lib/python3.11/dist-packages/torch/utils/data/_utils/worker.py\", line 349, in _worker_loop\n",
            "    data = fetcher.fetch(index)  # type: ignore[possibly-undefined]\n",
            "           ^^^^^^^^^^^^^^^^^^^^\n",
            "  File \"/usr/local/lib/python3.11/dist-packages/torch/utils/data/_utils/fetch.py\", line 52, in fetch\n",
            "    data = [self.dataset[idx] for idx in possibly_batched_index]\n",
            "           ^^^^^^^^^^^^^^^^^^^^^^^^^^^^^^^^^^^^^^^^^^^^^^^^^^^^^\n",
            "  File \"/usr/local/lib/python3.11/dist-packages/torch/utils/data/_utils/fetch.py\", line 52, in <listcomp>\n",
            "    data = [self.dataset[idx] for idx in possibly_batched_index]\n",
            "            ~~~~~~~~~~~~^^^^^\n",
            "  File \"/usr/local/lib/python3.11/dist-packages/ultralytics/data/base.py\", line 368, in __getitem__\n",
            "    return self.transforms(self.get_image_and_label(index))\n",
            "                           ^^^^^^^^^^^^^^^^^^^^^^^^^^^^^^^\n",
            "  File \"/usr/local/lib/python3.11/dist-packages/ultralytics/data/base.py\", line 382, in get_image_and_label\n",
            "    label[\"img\"], label[\"ori_shape\"], label[\"resized_shape\"] = self.load_image(index)\n",
            "                                                               ^^^^^^^^^^^^^^^^^^^^^^\n",
            "  File \"/usr/local/lib/python3.11/dist-packages/ultralytics/data/base.py\", line 229, in load_image\n",
            "    raise FileNotFoundError(f\"Image Not Found {f}\")\n",
            "FileNotFoundError: Image Not Found /content/drive/MyDrive/3R1CSegmentation/datasets/train_subset/images/003111.jpg\n",
            "\n",
            "\n",
            "During handling of the above exception, another exception occurred:\n",
            "\n",
            "Traceback (most recent call last):\n",
            "  File \"/usr/local/lib/python3.11/dist-packages/IPython/core/interactiveshell.py\", line 2099, in showtraceback\n",
            "    stb = value._render_traceback_()\n",
            "          ^^^^^^^^^^^^^^^^^^^^^^^^\n",
            "AttributeError: 'FileNotFoundError' object has no attribute '_render_traceback_'\n",
            "\n",
            "During handling of the above exception, another exception occurred:\n",
            "\n",
            "Traceback (most recent call last):\n",
            "  File \"/usr/local/lib/python3.11/dist-packages/IPython/core/ultratb.py\", line 1101, in get_records\n",
            "    return _fixed_getinnerframes(etb, number_of_lines_of_context, tb_offset)\n",
            "           ^^^^^^^^^^^^^^^^^^^^^^^^^^^^^^^^^^^^^^^^^^^^^^^^^^^^^^^^^^^^^^^^^\n",
            "  File \"/usr/local/lib/python3.11/dist-packages/IPython/core/ultratb.py\", line 248, in wrapped\n",
            "    return f(*args, **kwargs)\n",
            "           ^^^^^^^^^^^^^^^^^^\n",
            "  File \"/usr/local/lib/python3.11/dist-packages/IPython/core/ultratb.py\", line 281, in _fixed_getinnerframes\n",
            "    records = fix_frame_records_filenames(inspect.getinnerframes(etb, context))\n",
            "                                          ^^^^^^^^^^^^^^^^^^^^^^^^^^^^^^^^^^^^\n",
            "  File \"/usr/lib/python3.11/inspect.py\", line 1739, in getinnerframes\n",
            "    traceback_info = getframeinfo(tb, context)\n",
            "                     ^^^^^^^^^^^^^^^^^^^^^^^^^\n",
            "  File \"/usr/lib/python3.11/inspect.py\", line 1684, in getframeinfo\n",
            "    filename = getsourcefile(frame) or getfile(frame)\n",
            "               ^^^^^^^^^^^^^^^^^^^^\n",
            "  File \"/usr/lib/python3.11/inspect.py\", line 948, in getsourcefile\n",
            "    module = getmodule(object, filename)\n",
            "             ^^^^^^^^^^^^^^^^^^^^^^^^^^^\n",
            "  File \"/usr/lib/python3.11/inspect.py\", line 980, in getmodule\n",
            "    file = getabsfile(object, _filename)\n",
            "           ^^^^^^^^^^^^^^^^^^^^^^^^^^^^^\n",
            "  File \"/usr/lib/python3.11/inspect.py\", line 964, in getabsfile\n",
            "    return os.path.normcase(os.path.abspath(_filename))\n",
            "                            ^^^^^^^^^^^^^^^^^^^^^^^^^^\n",
            "  File \"<frozen posixpath>\", line 404, in abspath\n",
            "OSError: [Errno 107] Transport endpoint is not connected\n",
            "Traceback (most recent call last):\n",
            "  File \"/usr/local/lib/python3.11/dist-packages/IPython/core/interactiveshell.py\", line 3553, in run_code\n",
            "    exec(code_obj, self.user_global_ns, self.user_ns)\n",
            "  File \"<ipython-input-14-449b339b38d6>\", line 1, in <cell line: 0>\n",
            "    model_segmentation.train(data='yoloSeg.yaml', epochs=100, imgsz=640,batch=0.7,optimizer=\"AdamW\",\n",
            "  File \"/usr/local/lib/python3.11/dist-packages/ultralytics/engine/model.py\", line 791, in train\n",
            "    self.trainer.train()\n",
            "  File \"/usr/local/lib/python3.11/dist-packages/ultralytics/engine/trainer.py\", line 211, in train\n",
            "    self._do_train(world_size)\n",
            "  File \"/usr/local/lib/python3.11/dist-packages/ultralytics/engine/trainer.py\", line 367, in _do_train\n",
            "    for i, batch in pbar:\n",
            "  File \"/usr/local/lib/python3.11/dist-packages/tqdm/std.py\", line 1181, in __iter__\n",
            "    for obj in iterable:\n",
            "  File \"/usr/local/lib/python3.11/dist-packages/ultralytics/data/build.py\", line 59, in __iter__\n",
            "    yield next(self.iterator)\n",
            "          ^^^^^^^^^^^^^^^^^^^\n",
            "  File \"/usr/local/lib/python3.11/dist-packages/torch/utils/data/dataloader.py\", line 708, in __next__\n",
            "    data = self._next_data()\n",
            "           ^^^^^^^^^^^^^^^^^\n",
            "  File \"/usr/local/lib/python3.11/dist-packages/torch/utils/data/dataloader.py\", line 1480, in _next_data\n",
            "    return self._process_data(data)\n",
            "           ^^^^^^^^^^^^^^^^^^^^^^^^\n",
            "  File \"/usr/local/lib/python3.11/dist-packages/torch/utils/data/dataloader.py\", line 1505, in _process_data\n",
            "    data.reraise()\n",
            "  File \"/usr/local/lib/python3.11/dist-packages/torch/_utils.py\", line 733, in reraise\n",
            "    raise exception\n",
            "FileNotFoundError: Caught FileNotFoundError in DataLoader worker process 2.\n",
            "Original Traceback (most recent call last):\n",
            "  File \"/usr/local/lib/python3.11/dist-packages/torch/utils/data/_utils/worker.py\", line 349, in _worker_loop\n",
            "    data = fetcher.fetch(index)  # type: ignore[possibly-undefined]\n",
            "           ^^^^^^^^^^^^^^^^^^^^\n",
            "  File \"/usr/local/lib/python3.11/dist-packages/torch/utils/data/_utils/fetch.py\", line 52, in fetch\n",
            "    data = [self.dataset[idx] for idx in possibly_batched_index]\n",
            "           ^^^^^^^^^^^^^^^^^^^^^^^^^^^^^^^^^^^^^^^^^^^^^^^^^^^^^\n",
            "  File \"/usr/local/lib/python3.11/dist-packages/torch/utils/data/_utils/fetch.py\", line 52, in <listcomp>\n",
            "    data = [self.dataset[idx] for idx in possibly_batched_index]\n",
            "            ~~~~~~~~~~~~^^^^^\n",
            "  File \"/usr/local/lib/python3.11/dist-packages/ultralytics/data/base.py\", line 368, in __getitem__\n",
            "    return self.transforms(self.get_image_and_label(index))\n",
            "                           ^^^^^^^^^^^^^^^^^^^^^^^^^^^^^^^\n",
            "  File \"/usr/local/lib/python3.11/dist-packages/ultralytics/data/base.py\", line 382, in get_image_and_label\n",
            "    label[\"img\"], label[\"ori_shape\"], label[\"resized_shape\"] = self.load_image(index)\n",
            "                                                               ^^^^^^^^^^^^^^^^^^^^^^\n",
            "  File \"/usr/local/lib/python3.11/dist-packages/ultralytics/data/base.py\", line 229, in load_image\n",
            "    raise FileNotFoundError(f\"Image Not Found {f}\")\n",
            "FileNotFoundError: Image Not Found /content/drive/MyDrive/3R1CSegmentation/datasets/train_subset/images/003111.jpg\n",
            "\n",
            "\n",
            "During handling of the above exception, another exception occurred:\n",
            "\n",
            "Traceback (most recent call last):\n",
            "  File \"/usr/local/lib/python3.11/dist-packages/IPython/core/interactiveshell.py\", line 2099, in showtraceback\n",
            "    stb = value._render_traceback_()\n",
            "          ^^^^^^^^^^^^^^^^^^^^^^^^\n",
            "AttributeError: 'FileNotFoundError' object has no attribute '_render_traceback_'\n",
            "\n",
            "During handling of the above exception, another exception occurred:\n",
            "\n",
            "Traceback (most recent call last):\n",
            "  File \"/usr/local/lib/python3.11/dist-packages/IPython/core/interactiveshell.py\", line 3473, in run_ast_nodes\n",
            "    if (await self.run_code(code, result,  async_=asy)):\n",
            "        ^^^^^^^^^^^^^^^^^^^^^^^^^^^^^^^^^^^^^^^^^^^^^^\n",
            "  File \"/usr/local/lib/python3.11/dist-packages/IPython/core/interactiveshell.py\", line 3575, in run_code\n",
            "    self.showtraceback(running_compiled_code=True)\n",
            "  File \"/usr/local/lib/python3.11/dist-packages/IPython/core/interactiveshell.py\", line 2101, in showtraceback\n",
            "    stb = self.InteractiveTB.structured_traceback(etype,\n",
            "          ^^^^^^^^^^^^^^^^^^^^^^^^^^^^^^^^^^^^^^^^^^^^^^\n",
            "  File \"/usr/local/lib/python3.11/dist-packages/IPython/core/ultratb.py\", line 1367, in structured_traceback\n",
            "    return FormattedTB.structured_traceback(\n",
            "           ^^^^^^^^^^^^^^^^^^^^^^^^^^^^^^^^^\n",
            "  File \"/usr/local/lib/python3.11/dist-packages/IPython/core/ultratb.py\", line 1267, in structured_traceback\n",
            "    return VerboseTB.structured_traceback(\n",
            "           ^^^^^^^^^^^^^^^^^^^^^^^^^^^^^^^\n",
            "  File \"/usr/local/lib/python3.11/dist-packages/IPython/core/ultratb.py\", line 1124, in structured_traceback\n",
            "    formatted_exception = self.format_exception_as_a_whole(etype, evalue, etb, number_of_lines_of_context,\n",
            "                          ^^^^^^^^^^^^^^^^^^^^^^^^^^^^^^^^^^^^^^^^^^^^^^^^^^^^^^^^^^^^^^^^^^^^^^^^^^^^^^^^\n",
            "  File \"/usr/local/lib/python3.11/dist-packages/IPython/core/ultratb.py\", line 1082, in format_exception_as_a_whole\n",
            "    last_unique, recursion_repeat = find_recursion(orig_etype, evalue, records)\n",
            "                                    ^^^^^^^^^^^^^^^^^^^^^^^^^^^^^^^^^^^^^^^^^^^\n",
            "  File \"/usr/local/lib/python3.11/dist-packages/IPython/core/ultratb.py\", line 382, in find_recursion\n",
            "    return len(records), 0\n",
            "           ^^^^^^^^^^^^\n",
            "TypeError: object of type 'NoneType' has no len()\n",
            "\n",
            "During handling of the above exception, another exception occurred:\n",
            "\n",
            "Traceback (most recent call last):\n",
            "  File \"/usr/local/lib/python3.11/dist-packages/IPython/core/interactiveshell.py\", line 2099, in showtraceback\n",
            "    stb = value._render_traceback_()\n",
            "          ^^^^^^^^^^^^^^^^^^^^^^^^\n",
            "AttributeError: 'TypeError' object has no attribute '_render_traceback_'\n",
            "\n",
            "During handling of the above exception, another exception occurred:\n",
            "\n",
            "Traceback (most recent call last):\n",
            "  File \"/usr/local/lib/python3.11/dist-packages/IPython/core/ultratb.py\", line 1101, in get_records\n",
            "    return _fixed_getinnerframes(etb, number_of_lines_of_context, tb_offset)\n",
            "           ^^^^^^^^^^^^^^^^^^^^^^^^^^^^^^^^^^^^^^^^^^^^^^^^^^^^^^^^^^^^^^^^^\n",
            "  File \"/usr/local/lib/python3.11/dist-packages/IPython/core/ultratb.py\", line 248, in wrapped\n",
            "    return f(*args, **kwargs)\n",
            "           ^^^^^^^^^^^^^^^^^^\n",
            "  File \"/usr/local/lib/python3.11/dist-packages/IPython/core/ultratb.py\", line 281, in _fixed_getinnerframes\n",
            "    records = fix_frame_records_filenames(inspect.getinnerframes(etb, context))\n",
            "                                          ^^^^^^^^^^^^^^^^^^^^^^^^^^^^^^^^^^^^\n",
            "  File \"/usr/lib/python3.11/inspect.py\", line 1739, in getinnerframes\n",
            "    traceback_info = getframeinfo(tb, context)\n",
            "                     ^^^^^^^^^^^^^^^^^^^^^^^^^\n",
            "  File \"/usr/lib/python3.11/inspect.py\", line 1684, in getframeinfo\n",
            "    filename = getsourcefile(frame) or getfile(frame)\n",
            "               ^^^^^^^^^^^^^^^^^^^^\n",
            "  File \"/usr/lib/python3.11/inspect.py\", line 948, in getsourcefile\n",
            "    module = getmodule(object, filename)\n",
            "             ^^^^^^^^^^^^^^^^^^^^^^^^^^^\n",
            "  File \"/usr/lib/python3.11/inspect.py\", line 980, in getmodule\n",
            "    file = getabsfile(object, _filename)\n",
            "           ^^^^^^^^^^^^^^^^^^^^^^^^^^^^^\n",
            "  File \"/usr/lib/python3.11/inspect.py\", line 964, in getabsfile\n",
            "    return os.path.normcase(os.path.abspath(_filename))\n",
            "                            ^^^^^^^^^^^^^^^^^^^^^^^^^^\n",
            "  File \"<frozen posixpath>\", line 404, in abspath\n",
            "OSError: [Errno 107] Transport endpoint is not connected\n",
            "Traceback (most recent call last):\n",
            "  File \"/usr/local/lib/python3.11/dist-packages/IPython/core/interactiveshell.py\", line 3553, in run_code\n",
            "    exec(code_obj, self.user_global_ns, self.user_ns)\n",
            "  File \"<ipython-input-14-449b339b38d6>\", line 1, in <cell line: 0>\n",
            "    model_segmentation.train(data='yoloSeg.yaml', epochs=100, imgsz=640,batch=0.7,optimizer=\"AdamW\",\n",
            "  File \"/usr/local/lib/python3.11/dist-packages/ultralytics/engine/model.py\", line 791, in train\n",
            "    self.trainer.train()\n",
            "  File \"/usr/local/lib/python3.11/dist-packages/ultralytics/engine/trainer.py\", line 211, in train\n",
            "    self._do_train(world_size)\n",
            "  File \"/usr/local/lib/python3.11/dist-packages/ultralytics/engine/trainer.py\", line 367, in _do_train\n",
            "    for i, batch in pbar:\n",
            "  File \"/usr/local/lib/python3.11/dist-packages/tqdm/std.py\", line 1181, in __iter__\n",
            "    for obj in iterable:\n",
            "  File \"/usr/local/lib/python3.11/dist-packages/ultralytics/data/build.py\", line 59, in __iter__\n",
            "    yield next(self.iterator)\n",
            "          ^^^^^^^^^^^^^^^^^^^\n",
            "  File \"/usr/local/lib/python3.11/dist-packages/torch/utils/data/dataloader.py\", line 708, in __next__\n",
            "    data = self._next_data()\n",
            "           ^^^^^^^^^^^^^^^^^\n",
            "  File \"/usr/local/lib/python3.11/dist-packages/torch/utils/data/dataloader.py\", line 1480, in _next_data\n",
            "    return self._process_data(data)\n",
            "           ^^^^^^^^^^^^^^^^^^^^^^^^\n",
            "  File \"/usr/local/lib/python3.11/dist-packages/torch/utils/data/dataloader.py\", line 1505, in _process_data\n",
            "    data.reraise()\n",
            "  File \"/usr/local/lib/python3.11/dist-packages/torch/_utils.py\", line 733, in reraise\n",
            "    raise exception\n",
            "FileNotFoundError: Caught FileNotFoundError in DataLoader worker process 2.\n",
            "Original Traceback (most recent call last):\n",
            "  File \"/usr/local/lib/python3.11/dist-packages/torch/utils/data/_utils/worker.py\", line 349, in _worker_loop\n",
            "    data = fetcher.fetch(index)  # type: ignore[possibly-undefined]\n",
            "           ^^^^^^^^^^^^^^^^^^^^\n",
            "  File \"/usr/local/lib/python3.11/dist-packages/torch/utils/data/_utils/fetch.py\", line 52, in fetch\n",
            "    data = [self.dataset[idx] for idx in possibly_batched_index]\n",
            "           ^^^^^^^^^^^^^^^^^^^^^^^^^^^^^^^^^^^^^^^^^^^^^^^^^^^^^\n",
            "  File \"/usr/local/lib/python3.11/dist-packages/torch/utils/data/_utils/fetch.py\", line 52, in <listcomp>\n",
            "    data = [self.dataset[idx] for idx in possibly_batched_index]\n",
            "            ~~~~~~~~~~~~^^^^^\n",
            "  File \"/usr/local/lib/python3.11/dist-packages/ultralytics/data/base.py\", line 368, in __getitem__\n",
            "    return self.transforms(self.get_image_and_label(index))\n",
            "                           ^^^^^^^^^^^^^^^^^^^^^^^^^^^^^^^\n",
            "  File \"/usr/local/lib/python3.11/dist-packages/ultralytics/data/base.py\", line 382, in get_image_and_label\n",
            "    label[\"img\"], label[\"ori_shape\"], label[\"resized_shape\"] = self.load_image(index)\n",
            "                                                               ^^^^^^^^^^^^^^^^^^^^^^\n",
            "  File \"/usr/local/lib/python3.11/dist-packages/ultralytics/data/base.py\", line 229, in load_image\n",
            "    raise FileNotFoundError(f\"Image Not Found {f}\")\n",
            "FileNotFoundError: Image Not Found /content/drive/MyDrive/3R1CSegmentation/datasets/train_subset/images/003111.jpg\n",
            "\n",
            "\n",
            "During handling of the above exception, another exception occurred:\n",
            "\n",
            "Traceback (most recent call last):\n",
            "  File \"/usr/local/lib/python3.11/dist-packages/IPython/core/interactiveshell.py\", line 2099, in showtraceback\n",
            "    stb = value._render_traceback_()\n",
            "          ^^^^^^^^^^^^^^^^^^^^^^^^\n",
            "AttributeError: 'FileNotFoundError' object has no attribute '_render_traceback_'\n",
            "\n",
            "During handling of the above exception, another exception occurred:\n",
            "\n",
            "Traceback (most recent call last):\n",
            "  File \"/usr/local/lib/python3.11/dist-packages/IPython/core/interactiveshell.py\", line 3473, in run_ast_nodes\n",
            "    if (await self.run_code(code, result,  async_=asy)):\n",
            "        ^^^^^^^^^^^^^^^^^^^^^^^^^^^^^^^^^^^^^^^^^^^^^^\n",
            "  File \"/usr/local/lib/python3.11/dist-packages/IPython/core/interactiveshell.py\", line 3575, in run_code\n",
            "    self.showtraceback(running_compiled_code=True)\n",
            "  File \"/usr/local/lib/python3.11/dist-packages/IPython/core/interactiveshell.py\", line 2101, in showtraceback\n",
            "    stb = self.InteractiveTB.structured_traceback(etype,\n",
            "          ^^^^^^^^^^^^^^^^^^^^^^^^^^^^^^^^^^^^^^^^^^^^^^\n",
            "  File \"/usr/local/lib/python3.11/dist-packages/IPython/core/ultratb.py\", line 1367, in structured_traceback\n",
            "    return FormattedTB.structured_traceback(\n",
            "           ^^^^^^^^^^^^^^^^^^^^^^^^^^^^^^^^^\n",
            "  File \"/usr/local/lib/python3.11/dist-packages/IPython/core/ultratb.py\", line 1267, in structured_traceback\n",
            "    return VerboseTB.structured_traceback(\n",
            "           ^^^^^^^^^^^^^^^^^^^^^^^^^^^^^^^\n",
            "  File \"/usr/local/lib/python3.11/dist-packages/IPython/core/ultratb.py\", line 1124, in structured_traceback\n",
            "    formatted_exception = self.format_exception_as_a_whole(etype, evalue, etb, number_of_lines_of_context,\n",
            "                          ^^^^^^^^^^^^^^^^^^^^^^^^^^^^^^^^^^^^^^^^^^^^^^^^^^^^^^^^^^^^^^^^^^^^^^^^^^^^^^^^\n",
            "  File \"/usr/local/lib/python3.11/dist-packages/IPython/core/ultratb.py\", line 1082, in format_exception_as_a_whole\n",
            "    last_unique, recursion_repeat = find_recursion(orig_etype, evalue, records)\n",
            "                                    ^^^^^^^^^^^^^^^^^^^^^^^^^^^^^^^^^^^^^^^^^^^\n",
            "  File \"/usr/local/lib/python3.11/dist-packages/IPython/core/ultratb.py\", line 382, in find_recursion\n",
            "    return len(records), 0\n",
            "           ^^^^^^^^^^^^\n",
            "TypeError: object of type 'NoneType' has no len()\n",
            "\n",
            "During handling of the above exception, another exception occurred:\n",
            "\n",
            "Traceback (most recent call last):\n",
            "  File \"/usr/local/lib/python3.11/dist-packages/IPython/core/interactiveshell.py\", line 2099, in showtraceback\n",
            "    stb = value._render_traceback_()\n",
            "          ^^^^^^^^^^^^^^^^^^^^^^^^\n",
            "AttributeError: 'TypeError' object has no attribute '_render_traceback_'\n",
            "\n",
            "During handling of the above exception, another exception occurred:\n",
            "\n",
            "Traceback (most recent call last):\n",
            "  File \"/usr/local/lib/python3.11/dist-packages/IPython/core/interactiveshell.py\", line 3030, in _run_cell\n",
            "    return runner(coro)\n",
            "           ^^^^^^^^^^^^\n",
            "  File \"/usr/local/lib/python3.11/dist-packages/IPython/core/async_helpers.py\", line 78, in _pseudo_sync_runner\n",
            "    coro.send(None)\n",
            "  File \"/usr/local/lib/python3.11/dist-packages/IPython/core/interactiveshell.py\", line 3257, in run_cell_async\n",
            "    has_raised = await self.run_ast_nodes(code_ast.body, cell_name,\n",
            "                 ^^^^^^^^^^^^^^^^^^^^^^^^^^^^^^^^^^^^^^^^^^^^^^^^^^\n",
            "  File \"/usr/local/lib/python3.11/dist-packages/IPython/core/interactiveshell.py\", line 3492, in run_ast_nodes\n",
            "    self.showtraceback()\n",
            "  File \"/usr/local/lib/python3.11/dist-packages/IPython/core/interactiveshell.py\", line 2101, in showtraceback\n",
            "    stb = self.InteractiveTB.structured_traceback(etype,\n",
            "          ^^^^^^^^^^^^^^^^^^^^^^^^^^^^^^^^^^^^^^^^^^^^^^\n",
            "  File \"/usr/local/lib/python3.11/dist-packages/IPython/core/ultratb.py\", line 1367, in structured_traceback\n",
            "    return FormattedTB.structured_traceback(\n",
            "           ^^^^^^^^^^^^^^^^^^^^^^^^^^^^^^^^^\n",
            "  File \"/usr/local/lib/python3.11/dist-packages/IPython/core/ultratb.py\", line 1267, in structured_traceback\n",
            "    return VerboseTB.structured_traceback(\n",
            "           ^^^^^^^^^^^^^^^^^^^^^^^^^^^^^^^\n",
            "  File \"/usr/local/lib/python3.11/dist-packages/IPython/core/ultratb.py\", line 1142, in structured_traceback\n",
            "    formatted_exceptions += self.format_exception_as_a_whole(etype, evalue, etb, lines_of_context,\n",
            "                            ^^^^^^^^^^^^^^^^^^^^^^^^^^^^^^^^^^^^^^^^^^^^^^^^^^^^^^^^^^^^^^^^^^^^^^\n",
            "  File \"/usr/local/lib/python3.11/dist-packages/IPython/core/ultratb.py\", line 1082, in format_exception_as_a_whole\n",
            "    last_unique, recursion_repeat = find_recursion(orig_etype, evalue, records)\n",
            "                                    ^^^^^^^^^^^^^^^^^^^^^^^^^^^^^^^^^^^^^^^^^^^\n",
            "  File \"/usr/local/lib/python3.11/dist-packages/IPython/core/ultratb.py\", line 382, in find_recursion\n",
            "    return len(records), 0\n",
            "           ^^^^^^^^^^^^\n",
            "TypeError: object of type 'NoneType' has no len()\n",
            "\n",
            "During handling of the above exception, another exception occurred:\n",
            "\n",
            "Traceback (most recent call last):\n",
            "  File \"/usr/local/lib/python3.11/dist-packages/IPython/core/interactiveshell.py\", line 2099, in showtraceback\n",
            "    stb = value._render_traceback_()\n",
            "          ^^^^^^^^^^^^^^^^^^^^^^^^\n",
            "AttributeError: 'TypeError' object has no attribute '_render_traceback_'\n",
            "\n",
            "During handling of the above exception, another exception occurred:\n",
            "\n",
            "Traceback (most recent call last):\n",
            "  File \"/usr/local/lib/python3.11/dist-packages/IPython/core/ultratb.py\", line 1101, in get_records\n",
            "    return _fixed_getinnerframes(etb, number_of_lines_of_context, tb_offset)\n",
            "           ^^^^^^^^^^^^^^^^^^^^^^^^^^^^^^^^^^^^^^^^^^^^^^^^^^^^^^^^^^^^^^^^^\n",
            "  File \"/usr/local/lib/python3.11/dist-packages/IPython/core/ultratb.py\", line 248, in wrapped\n",
            "    return f(*args, **kwargs)\n",
            "           ^^^^^^^^^^^^^^^^^^\n",
            "  File \"/usr/local/lib/python3.11/dist-packages/IPython/core/ultratb.py\", line 281, in _fixed_getinnerframes\n",
            "    records = fix_frame_records_filenames(inspect.getinnerframes(etb, context))\n",
            "                                          ^^^^^^^^^^^^^^^^^^^^^^^^^^^^^^^^^^^^\n",
            "  File \"/usr/lib/python3.11/inspect.py\", line 1739, in getinnerframes\n",
            "    traceback_info = getframeinfo(tb, context)\n",
            "                     ^^^^^^^^^^^^^^^^^^^^^^^^^\n",
            "  File \"/usr/lib/python3.11/inspect.py\", line 1684, in getframeinfo\n",
            "    filename = getsourcefile(frame) or getfile(frame)\n",
            "               ^^^^^^^^^^^^^^^^^^^^\n",
            "  File \"/usr/lib/python3.11/inspect.py\", line 948, in getsourcefile\n",
            "    module = getmodule(object, filename)\n",
            "             ^^^^^^^^^^^^^^^^^^^^^^^^^^^\n",
            "  File \"/usr/lib/python3.11/inspect.py\", line 980, in getmodule\n",
            "    file = getabsfile(object, _filename)\n",
            "           ^^^^^^^^^^^^^^^^^^^^^^^^^^^^^\n",
            "  File \"/usr/lib/python3.11/inspect.py\", line 964, in getabsfile\n",
            "    return os.path.normcase(os.path.abspath(_filename))\n",
            "                            ^^^^^^^^^^^^^^^^^^^^^^^^^^\n",
            "  File \"<frozen posixpath>\", line 404, in abspath\n",
            "OSError: [Errno 107] Transport endpoint is not connected\n"
          ]
        }
      ]
    },
    {
      "cell_type": "markdown",
      "metadata": {
        "id": "KCEmv8E94hrW"
      },
      "source": [
        "# Evaluate Model Performance\n",
        "Check the generated result.png to evaluate the trained model."
      ]
    },
    {
      "cell_type": "markdown",
      "metadata": {
        "id": "_UMa-4PN4hrW"
      },
      "source": [
        "# Perform Background Removal\n",
        "Implement a pipeline to use the trained segmentation model to remove backgrounds from clothing images."
      ]
    },
    {
      "cell_type": "code",
      "execution_count": null,
      "metadata": {
        "id": "2W-f0b_x4hrX"
      },
      "outputs": [],
      "source": [
        "# Perform Background Removal\n",
        "\n",
        "# Import necessary libraries\n",
        "import cv2\n",
        "import numpy as np\n",
        "from matplotlib import pyplot as plt\n",
        "\n",
        "# Function to remove background using the segmentation model\n",
        "def remove_background(image_path, model):\n",
        "    # Load the image\n",
        "    image = cv2.imread(image_path)\n",
        "    image_rgb = cv2.cvtColor(image, cv2.COLOR_BGR2RGB)\n",
        "\n",
        "    # Preprocess the image for the model\n",
        "    input_image = cv2.resize(image_rgb, (640, 640))\n",
        "    input_image = input_image / 255.0\n",
        "    input_image = np.transpose(input_image, (2, 0, 1))\n",
        "    input_image = np.expand_dims(input_image, axis=0)\n",
        "    input_image = torch.tensor(input_image, dtype=torch.float32).to(device)\n",
        "\n",
        "    # Get the segmentation mask from the model\n",
        "    with torch.no_grad():\n",
        "        output = model(input_image)[0]\n",
        "    mask = torch.argmax(output, dim=1).cpu().numpy()[0]\n",
        "\n",
        "    # Resize the mask to the original image size\n",
        "    mask = cv2.resize(mask, (image.shape[1], image.shape[0]), interpolation=cv2.INTER_NEAREST)\n",
        "\n",
        "    # Create a binary mask\n",
        "    binary_mask = (mask > 0).astype(np.uint8)\n",
        "\n",
        "    # Apply the mask to the image\n",
        "    result = cv2.bitwise_and(image_rgb, image_rgb, mask=binary_mask)\n",
        "\n",
        "    return result\n",
        "\n",
        "# Example usage\n",
        "image_path = 'path_to_your_image.jpg'  # Replace with the path to your image\n",
        "result = remove_background(image_path, model_segmentation)\n",
        "\n",
        "# Display the original image and the result\n",
        "plt.figure(figsize=(10, 5))\n",
        "plt.subplot(1, 2, 1)\n",
        "plt.title('Original Image')\n",
        "plt.imshow(cv2.cvtColor(cv2.imread(image_path), cv2.COLOR_BGR2RGB))\n",
        "plt.axis('off')\n",
        "\n",
        "plt.subplot(1, 2, 2)\n",
        "plt.title('Background Removed')\n",
        "plt.imshow(result)\n",
        "plt.axis('off')\n",
        "\n",
        "plt.show()"
      ]
    },
    {
      "cell_type": "markdown",
      "metadata": {
        "id": "ZDpu9mhO4hrX"
      },
      "source": [
        "# Export and Save the Models\n",
        "Export the trained models in appropriate formats (ONNX, TorchScript, etc.) and save them to Google Drive for future use."
      ]
    },
    {
      "cell_type": "code",
      "execution_count": null,
      "metadata": {
        "id": "jwV0G6x14hrX"
      },
      "outputs": [],
      "source": [
        "# Export and Save the Models\n",
        "\n",
        "# Export the trained classification model to ONNX format\n",
        "classification_onnx_path = os.path.join(project_path, 'yolov8_classification.onnx')\n",
        "model_classification.export(format='onnx', path=classification_onnx_path)\n",
        "print(f'Classification model exported to {classification_onnx_path}')\n",
        "\n",
        "# Export the trained segmentation model to ONNX format\n",
        "segmentation_onnx_path = os.path.join(project_path, 'yolov8_segmentation.onnx')\n",
        "model_segmentation.export(format='onnx', path=segmentation_onnx_path)\n",
        "print(f'Segmentation model exported to {segmentation_onnx_path}')\n",
        "\n",
        "# Save the trained classification model to TorchScript format\n",
        "classification_torchscript_path = os.path.join(project_path, 'yolov8_classification.pt')\n",
        "model_classification.save(path=classification_torchscript_path)\n",
        "print(f'Classification model saved to {classification_torchscript_path}')\n",
        "\n",
        "# Save the trained segmentation model to TorchScript format\n",
        "segmentation_torchscript_path = os.path.join(project_path, 'yolov8_segmentation.pt')\n",
        "model_segmentation.save(path=segmentation_torchscript_path)\n",
        "print(f'Segmentation model saved to {segmentation_torchscript_path}')\n",
        "\n",
        "# Save models to Google Drive\n",
        "drive_classification_onnx_path = '/content/drive/MyDrive/YOLOv8-Clothing-Classification/yolov8_classification.onnx'\n",
        "drive_segmentation_onnx_path = '/content/drive/MyDrive/YOLOv8-Clothing-Classification/yolov8_segmentation.onnx'\n",
        "drive_classification_torchscript_path = '/content/drive/MyDrive/YOLOv8-Clothing-Classification/yolov8_classification.pt'\n",
        "drive_segmentation_torchscript_path = '/content/drive/MyDrive/YOLOv8-Clothing-Classification/yolov8_segmentation.pt'\n",
        "\n",
        "shutil.copy(classification_onnx_path, drive_classification_onnx_path)\n",
        "shutil.copy(segmentation_onnx_path, drive_segmentation_onnx_path)\n",
        "shutil.copy(classification_torchscript_path, drive_classification_torchscript_path)\n",
        "shutil.copy(segmentation_torchscript_path, drive_segmentation_torchscript_path)\n",
        "\n",
        "print('Models saved to Google Drive.')"
      ]
    }
  ],
  "metadata": {
    "accelerator": "GPU",
    "colab": {
      "gpuType": "A100",
      "provenance": [],
      "machine_shape": "hm"
    },
    "kernelspec": {
      "display_name": "Python 3",
      "name": "python3"
    },
    "language_info": {
      "codemirror_mode": {
        "name": "ipython",
        "version": 3
      },
      "file_extension": ".py",
      "mimetype": "text/x-python",
      "name": "python",
      "nbconvert_exporter": "python",
      "pygments_lexer": "ipython3",
      "version": "3.11.1"
    }
  },
  "nbformat": 4,
  "nbformat_minor": 0
}